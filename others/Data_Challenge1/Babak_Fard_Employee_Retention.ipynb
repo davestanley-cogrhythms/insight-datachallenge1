{
 "cells": [
  {
   "cell_type": "markdown",
   "metadata": {},
   "source": [
    "# Data Challenge 1\n",
    "In this challenge, you have a data set with info about the employees and have to predict when employees are going to quit by understanding the main drivers of employee churn.\n",
    "\n",
    "##  Challenge Description\n",
    "We got employee data from a few companies. We have data about all employees who joined from 2011/01/24 to 2015/12/13. For each employee, we also know if they are still at the company as of 2015/12/13 or they have quit. Beside that, we have general info about the employee, such as avg salary during her tenure, dept, and yrs of experience.\n",
    "As said above, the goal is to predict employee retention and understand its main drivers\n",
    "\n",
    "## Hints\n",
    "* What are the main factors that drive employee churn? Do they make sense? Explain your findings.\n",
    "* What might you be able to do for the company to address employee Churn, what would be follow-up actions?\n",
    "* If you could add to this data set just one variable that could help explain employee churn, what would that be?\n",
    "\n",
    "Your output should be in the form of a jupyter notebook and pdf output of a jupyter notebook in which you specify your results and how you got them."
   ]
  },
  {
   "cell_type": "code",
   "execution_count": 2,
   "metadata": {},
   "outputs": [],
   "source": [
    "%load_ext autoreload\n",
    "%autoreload 2\n",
    "\n",
    "%matplotlib inline"
   ]
  },
  {
   "cell_type": "code",
   "execution_count": 3,
   "metadata": {},
   "outputs": [],
   "source": [
    "import pandas as pd\n",
    "import datetime\n",
    "import numpy as np\n",
    "import scipy\n",
    "import seaborn as sns, matplotlib\n",
    "import pickle"
   ]
  },
  {
   "cell_type": "code",
   "execution_count": 4,
   "metadata": {},
   "outputs": [
    {
     "data": {
      "application/vnd.jupyter.widget-view+json": {
       "model_id": "c6de5eb9c6bc4662a29e7d25cb1d82c3",
       "version_major": 2,
       "version_minor": 0
      }
     },
     "metadata": {},
     "output_type": "display_data"
    }
   ],
   "source": [
    "mydateparser = lambda x: pd.datetime.strptime(x, '%Y-%m-%d')\n",
    "df_raw = pd.read_csv('employee_retention_data.csv', parse_dates=[\"join_date\"], date_parser=mydateparser)\n",
    "#df = pd.read_csv(\"employee_retention_data.csv\")\n",
    "df_raw"
   ]
  },
  {
   "cell_type": "markdown",
   "metadata": {},
   "source": [
    "## Preparing Data for Analysis"
   ]
  },
  {
   "cell_type": "code",
   "execution_count": 5,
   "metadata": {},
   "outputs": [
    {
     "name": "stdout",
     "output_type": "stream",
     "text": [
      " Data contains 24702 employees in 12 companies, and the following departemnts:\n",
      "['customer_service' 'marketing' 'data_science' 'engineer' 'sales' 'design']\n"
     ]
    }
   ],
   "source": [
    "employees = len(df_raw)\n",
    "\n",
    "print (f\" Data contains {employees} employees in {len(df_raw['company_id'].unique())} companies, and the following departemnts:\\n{df_raw['dept'].unique()}\")\n",
    "       "
   ]
  },
  {
   "cell_type": "code",
   "execution_count": 6,
   "metadata": {},
   "outputs": [
    {
     "name": "stdout",
     "output_type": "stream",
     "text": [
      "From all dataset 11192 number have quited, which is 0.453080722208728 of all\n"
     ]
    }
   ],
   "source": [
    "quited = df_raw['quit_date'].isnull().sum()\n",
    "print (f\"From all dataset {quited} number have quited, which is {quited/employees} of all\")"
   ]
  },
  {
   "cell_type": "markdown",
   "metadata": {},
   "source": [
    "### Separating nan into test set"
   ]
  },
  {
   "cell_type": "code",
   "execution_count": 117,
   "metadata": {},
   "outputs": [],
   "source": [
    "df_test = df_raw[df_raw['quit_date'].isnull()]\n",
    "df_train = df_raw[~df_raw['quit_date'].isnull()]"
   ]
  },
  {
   "cell_type": "code",
   "execution_count": 118,
   "metadata": {},
   "outputs": [
    {
     "name": "stderr",
     "output_type": "stream",
     "text": [
      "/anaconda3/envs/labx/lib/python3.6/site-packages/ipykernel_launcher.py:1: SettingWithCopyWarning: \n",
      "A value is trying to be set on a copy of a slice from a DataFrame.\n",
      "Try using .loc[row_indexer,col_indexer] = value instead\n",
      "\n",
      "See the caveats in the documentation: http://pandas.pydata.org/pandas-docs/stable/indexing.html#indexing-view-versus-copy\n",
      "  \"\"\"Entry point for launching an IPython kernel.\n"
     ]
    }
   ],
   "source": [
    "df_train['quit_date'] = pd.to_datetime(df_train['quit_date'])   #change quit_time also into datetime"
   ]
  },
  {
   "cell_type": "code",
   "execution_count": 9,
   "metadata": {},
   "outputs": [
    {
     "name": "stderr",
     "output_type": "stream",
     "text": [
      "/anaconda3/envs/labx/lib/python3.6/site-packages/ipykernel_launcher.py:2: SettingWithCopyWarning: \n",
      "A value is trying to be set on a copy of a slice from a DataFrame.\n",
      "Try using .loc[row_indexer,col_indexer] = value instead\n",
      "\n",
      "See the caveats in the documentation: http://pandas.pydata.org/pandas-docs/stable/indexing.html#indexing-view-versus-copy\n",
      "  \n"
     ]
    }
   ],
   "source": [
    "# Calculating the start date based on hours starting from 2011-01-01\n",
    "df_train['start']= (df_train['join_date'] - pd.to_datetime(\"2011-01-01\", format='%Y-%m-%d')).astype('timedelta64[h]')"
   ]
  },
  {
   "cell_type": "code",
   "execution_count": 10,
   "metadata": {},
   "outputs": [
    {
     "name": "stderr",
     "output_type": "stream",
     "text": [
      "/anaconda3/envs/labx/lib/python3.6/site-packages/ipykernel_launcher.py:2: SettingWithCopyWarning: \n",
      "A value is trying to be set on a copy of a slice from a DataFrame.\n",
      "Try using .loc[row_indexer,col_indexer] = value instead\n",
      "\n",
      "See the caveats in the documentation: http://pandas.pydata.org/pandas-docs/stable/indexing.html#indexing-view-versus-copy\n",
      "  \n"
     ]
    }
   ],
   "source": [
    "# Changing departments into integers representing categories\n",
    "df_train['dept_id'] = df_train['dept'].astype('category').cat.codes"
   ]
  },
  {
   "cell_type": "code",
   "execution_count": 11,
   "metadata": {},
   "outputs": [
    {
     "name": "stderr",
     "output_type": "stream",
     "text": [
      "/anaconda3/envs/labx/lib/python3.6/site-packages/ipykernel_launcher.py:2: SettingWithCopyWarning: \n",
      "A value is trying to be set on a copy of a slice from a DataFrame.\n",
      "Try using .loc[row_indexer,col_indexer] = value instead\n",
      "\n",
      "See the caveats in the documentation: http://pandas.pydata.org/pandas-docs/stable/indexing.html#indexing-view-versus-copy\n",
      "  \n"
     ]
    }
   ],
   "source": [
    "# Calculating the quit time from the base time of 2011-01-01 of work on hours\n",
    "df_train['quit'] = (df_train['quit_date']- pd.to_datetime(\"2011-01-01\", format='%Y-%m-%d')).astype('timedelta64[h]')"
   ]
  },
  {
   "cell_type": "code",
   "execution_count": 12,
   "metadata": {},
   "outputs": [
    {
     "data": {
      "application/vnd.jupyter.widget-view+json": {
       "model_id": "6f84071f0e8c436a8bdc6840763df1da",
       "version_major": 2,
       "version_minor": 0
      }
     },
     "metadata": {},
     "output_type": "display_data"
    }
   ],
   "source": [
    "df_train.head(10)"
   ]
  },
  {
   "cell_type": "code",
   "execution_count": 13,
   "metadata": {},
   "outputs": [],
   "source": [
    "# The last step in preparing the model \n",
    "df_train = df_train.drop(['employee_id','dept', 'join_date', 'quit_date'], axis=1)"
   ]
  },
  {
   "cell_type": "markdown",
   "metadata": {},
   "source": [
    "## Exploratory Data Analysis\n",
    "First I looked into the distribution of the work duration in the training data set"
   ]
  },
  {
   "cell_type": "code",
   "execution_count": 39,
   "metadata": {},
   "outputs": [
    {
     "data": {
      "text/plain": [
       "[Text(0, 0.5, 'no. of employees'), Text(0.5, 0, 'Stay Duration (Days)')]"
      ]
     },
     "execution_count": 39,
     "metadata": {},
     "output_type": "execute_result"
    },
    {
     "data": {
      "image/png": "[encoded data removed]",
      "text/plain": [
       "<Figure size 576x360 with 1 Axes>"
      ]
     },
     "metadata": {},
     "output_type": "display_data"
    }
   ],
   "source": [
    "duration = pd.DataFrame({'duration':(df_train['quit'] - df_train['start'])/24}) #to recalibratie into days\n",
    "\n",
    "sns.set(style='whitegrid', palette=\"deep\", font_scale=1.5, rc={\"figure.figsize\": [8, 5]})\n",
    "sns.distplot(duration['duration'], norm_hist=False, kde=False, bins=20, hist_kws={\"alpha\": 1}\n",
    ").set(xlabel='Stay Duration (Days)', ylabel='no. of employees')"
   ]
  },
  {
   "cell_type": "markdown",
   "metadata": {},
   "source": [
    "A large portion of employees have left in one year after starting their job. Also looking into the startpoint may tell some thing."
   ]
  },
  {
   "cell_type": "code",
   "execution_count": 20,
   "metadata": {},
   "outputs": [
    {
     "data": {
      "text/plain": [
       "[Text(0, 0.5, 'Start Date'), Text(0.5, 0, 'no. of employees who quit')]"
      ]
     },
     "execution_count": 20,
     "metadata": {},
     "output_type": "execute_result"
    },
    {
     "data": {
      "image/png": "[encoded data removed]",
      "text/plain": [
       "<Figure size 576x360 with 1 Axes>"
      ]
     },
     "metadata": {},
     "output_type": "display_data"
    }
   ],
   "source": [
    "sns.set(style='whitegrid', palette=\"deep\", font_scale=1.5, rc={\"figure.figsize\": [8, 5]})\n",
    "sns.distplot(df_train['start']/24, norm_hist=False, kde=False, bins=20, hist_kws={\"alpha\": 1}\n",
    ").set(xlabel='no. of employees who quit', ylabel='Start Date')\n"
   ]
  },
  {
   "cell_type": "markdown",
   "metadata": {},
   "source": [
    "The distribution makes sense. It shows that there is no specific constraint about the date of job start that might have caused the termination"
   ]
  },
  {
   "cell_type": "markdown",
   "metadata": {},
   "source": [
    "## Creating the Model\n",
    "The question I figured out to answer is, How long it takes for an employee to quit the job. For this purpose, I considered 'quit' as response variable and other columns as features:"
   ]
  },
  {
   "cell_type": "code",
   "execution_count": 35,
   "metadata": {},
   "outputs": [
    {
     "data": {
      "text/plain": [
       "Index(['company_id', 'seniority', 'salary', 'start', 'dept_id', 'quit'], dtype='object')"
      ]
     },
     "execution_count": 35,
     "metadata": {},
     "output_type": "execute_result"
    }
   ],
   "source": [
    "df_train.columns"
   ]
  },
  {
   "cell_type": "markdown",
   "metadata": {},
   "source": [
    "In the follow, I have tested different linear models and considered MSE to compare their performance"
   ]
  },
  {
   "cell_type": "code",
   "execution_count": 37,
   "metadata": {},
   "outputs": [
    {
     "name": "stdout",
     "output_type": "stream",
     "text": [
      "MSE for Linear regression: -50657047.2925086\n",
      "MSE for Ridge regression: -50657047.210501306\n",
      "MSE for lasso regression: -50656986.37538006\n",
      "MSE for elastic net: -50656561.37671344\n"
     ]
    }
   ],
   "source": [
    "# response variable : quit\n",
    "# covariates : 'company_id', 'seniority', 'salary', 'start', 'dept_id'\n",
    "# Creating a linear regression model\n",
    "\n",
    "# Starting with Linear Regression\n",
    "from sklearn.model_selection import KFold\n",
    "from sklearn.model_selection import cross_val_score\n",
    "from sklearn.linear_model import LinearRegression\n",
    "from sklearn.linear_model import Ridge\n",
    "from sklearn.linear_model import Lasso\n",
    "from sklearn.linear_model import ElasticNet\n",
    "\n",
    "# Defining Kfolds\n",
    "kfold = KFold(n_splits=10, random_state=7)\n",
    "scoring = 'neg_mean_squared_error'\n",
    "\n",
    "# Changing into covariates and response variables\n",
    "all_array = df_train.values\n",
    "X = all_array[:,0:4]\n",
    "Y = all_array[:,5]\n",
    "\n",
    "#### Here starting different models\n",
    "def models(X, Y):\n",
    "    model_1 = LinearRegression()\n",
    "    results_lr = cross_val_score(model_1, X, Y, cv=kfold, scoring=scoring)\n",
    "    print(f\"MSE for Linear regression: {results_lr.mean()}\")\n",
    "\n",
    "    model_2 = Ridge()\n",
    "    results_ridge = cross_val_score(model_2, X, Y, cv=kfold, scoring=scoring)\n",
    "    print(f\"MSE for Ridge regression: {results_ridge.mean()}\")\n",
    "\n",
    "    model_3 = Lasso()\n",
    "    results_lasso = cross_val_score(model_3, X, Y, cv=kfold, scoring=scoring)\n",
    "    print(f\"MSE for lasso regression: {results_lasso.mean()}\")\n",
    "\n",
    "    model_4 = ElasticNet()\n",
    "    results_en = cross_val_score(model_4, X, Y, cv=kfold, scoring=scoring)\n",
    "    print(f\"MSE for elastic net: {results_en.mean()}\")\n",
    "\n",
    "models(X, Y)"
   ]
  },
  {
   "cell_type": "markdown",
   "metadata": {},
   "source": [
    "To explain: The resulted score is negative MSE scores, i.e. negate them and we get the MSE. The thing is that GridSearchCV, by convention, always tries to maximize its score so loss functions like MSE have to be negated."
   ]
  },
  {
   "cell_type": "markdown",
   "metadata": {},
   "source": [
    "The results don't show any meaningful difference between these different linear methods for a 10-fold cross validation"
   ]
  },
  {
   "cell_type": "markdown",
   "metadata": {},
   "source": [
    "### Workaround\n",
    "There is a very big difference in the magnitude and the range for different features, therefore it is a good practice to normalize data in each column of features"
   ]
  },
  {
   "cell_type": "code",
   "execution_count": 78,
   "metadata": {},
   "outputs": [
    {
     "name": "stdout",
     "output_type": "stream",
     "text": [
      "MSE for Linear regression: -50560798.78413293\n",
      "MSE for Ridge regression: -50560795.62042662\n",
      "MSE for lasso regression: -50560809.76597783\n",
      "MSE for elastic net: -54617951.95655833\n"
     ]
    }
   ],
   "source": [
    "# Standardize data (0 mean, 1 stdev)\n",
    "# Centering and scaling happen independently on each feature by computing the relevant statistics on the samples in the training set. \n",
    "# Mean and standard deviation are then stored to be used on later data using the transform method.\n",
    "from sklearn.preprocessing import StandardScaler\n",
    "from numpy import set_printoptions\n",
    "all_array = df_train.values\n",
    "X = all_array[:,0:5]\n",
    "Y = all_array[:,5]\n",
    "\n",
    "scaler = StandardScaler().fit(X)\n",
    "rescaledX = scaler.transform(X)\n",
    "# summarize transformed data\n",
    "#set_printoptions(precision=3)\n",
    "#print(rescaledX[0:30,:])\n",
    "models(rescaledX, Y )\n"
   ]
  },
  {
   "cell_type": "markdown",
   "metadata": {},
   "source": [
    "# Second Thought - Logistic Regression\n",
    "The second approach I considered is to predict if an employee is going to quit or not. Using this approach, I created a boolean column for quit or not, also replaced Nan values in quit_date column with 2015/12/13. Then modeled a logistic regression"
   ]
  },
  {
   "cell_type": "code",
   "execution_count": 74,
   "metadata": {},
   "outputs": [],
   "source": [
    "mydateparser = lambda x: pd.datetime.strptime(x, '%Y-%m-%d')\n",
    "df_2 = pd.read_csv('employee_retention_data.csv', parse_dates=[\"join_date\"], date_parser=mydateparser)\n",
    "\n",
    "# Add the boolean column of quit into the dataframe, in such a way that if quit_date is Nan quit is False\n",
    "# Changing departments into integers representing categories\n",
    "# df_2['dept_id'] = df_2['dept'].astype('category').cat.codes\n",
    "\n",
    "\n",
    "df_2.loc[df_raw['quit_date'].isnull(),'quit_date'] = '2015-12-13'  # Changing all Nan in quit_date into the latest\n",
    "df_2['quit_date'] = pd.to_datetime(df_2['quit_date'])   #change quit_time also into datetime\n",
    "df_2['join_date'] = pd.to_datetime(df_2['join_date'])\n",
    "\n",
    "df_2['start']= (df_2['join_date'] - pd.to_datetime(\"2011-01-01\", format='%Y-%m-%d')).astype('timedelta64[h]')\n",
    "df_2['finish']= (df_2['quit_date'] - pd.to_datetime(\"2011-01-01\", format='%Y-%m-%d')).astype('timedelta64[h]')\n",
    "\n",
    "dummies = pd.get_dummies(df_2['dept']).rename(columns=lambda x: 'dept_' + str(x))\n",
    "df_2 = pd.concat([df_2, dummies], axis=1)\n",
    "\n",
    "dummies = pd.get_dummies(df_2['company_id']).rename(columns=lambda x: 'Company_' + str(x))\n",
    "df_2 = pd.concat([df_2, dummies], axis=1)\n",
    "\n",
    "df_2['quit'] = df_raw['quit_date'].isnull()\n",
    "\n",
    "df_2 = df_2.drop(['employee_id','dept', 'join_date', 'quit_date', 'company_id'], axis=1)\n"
   ]
  },
  {
   "cell_type": "code",
   "execution_count": 76,
   "metadata": {},
   "outputs": [
    {
     "data": {
      "application/vnd.jupyter.widget-view+json": {
       "model_id": "eb3ff61e0f75499daaf17a73d5f14681",
       "version_major": 2,
       "version_minor": 0
      }
     },
     "metadata": {},
     "output_type": "display_data"
    }
   ],
   "source": [
    "df_2.head(5)"
   ]
  },
  {
   "cell_type": "code",
   "execution_count": 101,
   "metadata": {},
   "outputs": [],
   "source": [
    "# Normalizing the first four features\n",
    "X_scale = df_2.iloc[:,0:4].values\n",
    "\n",
    "scaler = StandardScaler().fit(X_scale)\n",
    "rescaledX = scaler.transform(X_scale)\n",
    "\n",
    "# Getting the rest columns of the dataframe\n",
    "rest_X = df_2.iloc[:,4:22].values\n",
    "### Now Concatenate them into the X array\n",
    "X = np.concatenate((rescaledX, rest_X), axis=1)\n",
    "Y = df_2.iloc[:,22].values"
   ]
  },
  {
   "cell_type": "code",
   "execution_count": 112,
   "metadata": {},
   "outputs": [
    {
     "name": "stderr",
     "output_type": "stream",
     "text": [
      "/anaconda3/envs/labx/lib/python3.6/site-packages/sklearn/linear_model/logistic.py:433: FutureWarning: Default solver will be changed to 'lbfgs' in 0.22. Specify a solver to silence this warning.\n",
      "  FutureWarning)\n",
      "/anaconda3/envs/labx/lib/python3.6/site-packages/sklearn/linear_model/logistic.py:433: FutureWarning: Default solver will be changed to 'lbfgs' in 0.22. Specify a solver to silence this warning.\n",
      "  FutureWarning)\n",
      "/anaconda3/envs/labx/lib/python3.6/site-packages/sklearn/linear_model/logistic.py:433: FutureWarning: Default solver will be changed to 'lbfgs' in 0.22. Specify a solver to silence this warning.\n",
      "  FutureWarning)\n",
      "/anaconda3/envs/labx/lib/python3.6/site-packages/sklearn/linear_model/logistic.py:433: FutureWarning: Default solver will be changed to 'lbfgs' in 0.22. Specify a solver to silence this warning.\n",
      "  FutureWarning)\n",
      "/anaconda3/envs/labx/lib/python3.6/site-packages/sklearn/linear_model/logistic.py:433: FutureWarning: Default solver will be changed to 'lbfgs' in 0.22. Specify a solver to silence this warning.\n",
      "  FutureWarning)\n",
      "/anaconda3/envs/labx/lib/python3.6/site-packages/sklearn/linear_model/logistic.py:433: FutureWarning: Default solver will be changed to 'lbfgs' in 0.22. Specify a solver to silence this warning.\n",
      "  FutureWarning)\n",
      "/anaconda3/envs/labx/lib/python3.6/site-packages/sklearn/linear_model/logistic.py:433: FutureWarning: Default solver will be changed to 'lbfgs' in 0.22. Specify a solver to silence this warning.\n",
      "  FutureWarning)\n",
      "/anaconda3/envs/labx/lib/python3.6/site-packages/sklearn/linear_model/logistic.py:433: FutureWarning: Default solver will be changed to 'lbfgs' in 0.22. Specify a solver to silence this warning.\n",
      "  FutureWarning)\n",
      "/anaconda3/envs/labx/lib/python3.6/site-packages/sklearn/linear_model/logistic.py:433: FutureWarning: Default solver will be changed to 'lbfgs' in 0.22. Specify a solver to silence this warning.\n",
      "  FutureWarning)\n"
     ]
    },
    {
     "name": "stdout",
     "output_type": "stream",
     "text": [
      "Accuracy - mean:97.95562123875825, sd: 0.16331786371510318\n"
     ]
    },
    {
     "name": "stderr",
     "output_type": "stream",
     "text": [
      "/anaconda3/envs/labx/lib/python3.6/site-packages/sklearn/linear_model/logistic.py:433: FutureWarning: Default solver will be changed to 'lbfgs' in 0.22. Specify a solver to silence this warning.\n",
      "  FutureWarning)\n"
     ]
    }
   ],
   "source": [
    "# Now creating the Logistic Regression model\n",
    "from sklearn.model_selection import KFold\n",
    "from sklearn.model_selection import cross_val_score\n",
    "from sklearn.linear_model import LogisticRegression\n",
    "\n",
    "num_folds = 10\n",
    "seed = 7\n",
    "kfold = KFold(n_splits=num_folds, random_state=seed)\n",
    "model = LogisticRegression()\n",
    "results = cross_val_score(model, X, Y, cv=kfold)\n",
    "#print(\"Accuracy: %.3f%% (%.3f%%)\") % (results.mean()*100.0, results.std()*100.0)\n",
    "print(f\"Accuracy - mean:{results.mean()*100.0}, sd: {results.std()*100.0}\")"
   ]
  }
 ],
 "metadata": {
  "kernelspec": {
   "display_name": "Python 3",
   "language": "python",
   "name": "python3"
  },
  "language_info": {
   "codemirror_mode": {
    "name": "ipython",
    "version": 3
   },
   "file_extension": ".py",
   "mimetype": "text/x-python",
   "name": "python",
   "nbconvert_exporter": "python",
   "pygments_lexer": "ipython3",
   "version": "3.6.6"
  }
 },
 "nbformat": 4,
 "nbformat_minor": 2
}
