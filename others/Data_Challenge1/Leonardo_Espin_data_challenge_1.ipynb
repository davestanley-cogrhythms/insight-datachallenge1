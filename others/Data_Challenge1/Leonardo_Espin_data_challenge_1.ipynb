{
 "cells": [
  {
   "cell_type": "markdown",
   "metadata": {},
   "source": [
    "## Data Challenge #1\n",
    "\n",
    "**Author:** Leonardo Espin\n",
    "\n",
    "**Date:** February 18, 2018"
   ]
  },
  {
   "cell_type": "code",
   "execution_count": 1,
   "metadata": {},
   "outputs": [],
   "source": [
    "import numpy as np\n",
    "import pandas as pd\n",
    "import matplotlib.pyplot as plt\n",
    "import seaborn as sns\n",
    "%matplotlib inline"
   ]
  },
  {
   "cell_type": "code",
   "execution_count": 2,
   "metadata": {},
   "outputs": [
    {
     "name": "stdout",
     "output_type": "stream",
     "text": [
      "(24702, 7)\n"
     ]
    },
    {
     "data": {
      "text/html": [
       "<div>\n",
       "<style scoped>\n",
       "    .dataframe tbody tr th:only-of-type {\n",
       "        vertical-align: middle;\n",
       "    }\n",
       "\n",
       "    .dataframe tbody tr th {\n",
       "        vertical-align: top;\n",
       "    }\n",
       "\n",
       "    .dataframe thead th {\n",
       "        text-align: right;\n",
       "    }\n",
       "</style>\n",
       "<table border=\"1\" class=\"dataframe\">\n",
       "  <thead>\n",
       "    <tr style=\"text-align: right;\">\n",
       "      <th></th>\n",
       "      <th>employee_id</th>\n",
       "      <th>company_id</th>\n",
       "      <th>dept</th>\n",
       "      <th>seniority</th>\n",
       "      <th>salary</th>\n",
       "      <th>join_date</th>\n",
       "      <th>quit_date</th>\n",
       "    </tr>\n",
       "  </thead>\n",
       "  <tbody>\n",
       "    <tr>\n",
       "      <th>0</th>\n",
       "      <td>13021.0</td>\n",
       "      <td>7</td>\n",
       "      <td>customer_service</td>\n",
       "      <td>28</td>\n",
       "      <td>89000.0</td>\n",
       "      <td>2014-03-24</td>\n",
       "      <td>2015-10-30</td>\n",
       "    </tr>\n",
       "    <tr>\n",
       "      <th>1</th>\n",
       "      <td>825355.0</td>\n",
       "      <td>7</td>\n",
       "      <td>marketing</td>\n",
       "      <td>20</td>\n",
       "      <td>183000.0</td>\n",
       "      <td>2013-04-29</td>\n",
       "      <td>2014-04-04</td>\n",
       "    </tr>\n",
       "    <tr>\n",
       "      <th>2</th>\n",
       "      <td>927315.0</td>\n",
       "      <td>4</td>\n",
       "      <td>marketing</td>\n",
       "      <td>14</td>\n",
       "      <td>101000.0</td>\n",
       "      <td>2014-10-13</td>\n",
       "      <td>NaN</td>\n",
       "    </tr>\n",
       "    <tr>\n",
       "      <th>3</th>\n",
       "      <td>662910.0</td>\n",
       "      <td>7</td>\n",
       "      <td>customer_service</td>\n",
       "      <td>20</td>\n",
       "      <td>115000.0</td>\n",
       "      <td>2012-05-14</td>\n",
       "      <td>2013-06-07</td>\n",
       "    </tr>\n",
       "    <tr>\n",
       "      <th>4</th>\n",
       "      <td>256971.0</td>\n",
       "      <td>2</td>\n",
       "      <td>data_science</td>\n",
       "      <td>23</td>\n",
       "      <td>276000.0</td>\n",
       "      <td>2011-10-17</td>\n",
       "      <td>2014-08-22</td>\n",
       "    </tr>\n",
       "  </tbody>\n",
       "</table>\n",
       "</div>"
      ],
      "text/plain": [
       "   employee_id  company_id              dept  seniority    salary   join_date  \\\n",
       "0      13021.0           7  customer_service         28   89000.0  2014-03-24   \n",
       "1     825355.0           7         marketing         20  183000.0  2013-04-29   \n",
       "2     927315.0           4         marketing         14  101000.0  2014-10-13   \n",
       "3     662910.0           7  customer_service         20  115000.0  2012-05-14   \n",
       "4     256971.0           2      data_science         23  276000.0  2011-10-17   \n",
       "\n",
       "    quit_date  \n",
       "0  2015-10-30  \n",
       "1  2014-04-04  \n",
       "2         NaN  \n",
       "3  2013-06-07  \n",
       "4  2014-08-22  "
      ]
     },
     "execution_count": 2,
     "metadata": {},
     "output_type": "execute_result"
    }
   ],
   "source": [
    "data = pd.read_csv('employee_retention_data.csv')\n",
    "print(data.shape)\n",
    "data.head()"
   ]
  },
  {
   "cell_type": "code",
   "execution_count": 3,
   "metadata": {},
   "outputs": [
    {
     "data": {
      "text/plain": [
       "employee_id    float64\n",
       "company_id       int64\n",
       "dept            object\n",
       "seniority        int64\n",
       "salary         float64\n",
       "join_date       object\n",
       "quit_date       object\n",
       "dtype: object"
      ]
     },
     "execution_count": 3,
     "metadata": {},
     "output_type": "execute_result"
    }
   ],
   "source": [
    "data.dtypes"
   ]
  },
  {
   "cell_type": "code",
   "execution_count": 4,
   "metadata": {},
   "outputs": [
    {
     "data": {
      "text/plain": [
       "11192"
      ]
     },
     "execution_count": 4,
     "metadata": {},
     "output_type": "execute_result"
    }
   ],
   "source": [
    "#not an imbalanced dataset\n",
    "data['quit_date'].isna().sum()"
   ]
  },
  {
   "cell_type": "code",
   "execution_count": 5,
   "metadata": {},
   "outputs": [
    {
     "data": {
      "text/plain": [
       "employee_id        0\n",
       "company_id         0\n",
       "dept               0\n",
       "seniority          0\n",
       "salary             0\n",
       "join_date          0\n",
       "quit_date      11192\n",
       "dtype: int64"
      ]
     },
     "execution_count": 5,
     "metadata": {},
     "output_type": "execute_result"
    }
   ],
   "source": [
    "#check nans, no rows need to be eliminated\n",
    "data.isna().sum()"
   ]
  },
  {
   "cell_type": "code",
   "execution_count": 6,
   "metadata": {},
   "outputs": [
    {
     "data": {
      "text/plain": [
       "employee_id           float64\n",
       "company_id              int64\n",
       "dept                   object\n",
       "seniority               int64\n",
       "salary                float64\n",
       "join_date      datetime64[ns]\n",
       "quit_date      datetime64[ns]\n",
       "dtype: object"
      ]
     },
     "execution_count": 6,
     "metadata": {},
     "output_type": "execute_result"
    }
   ],
   "source": [
    "#convert the dates to the appropriate types \n",
    "data['join_date']=data['join_date'].astype('M')\n",
    "data['quit_date']=data['quit_date'].astype('M')\n",
    "data.dtypes"
   ]
  },
  {
   "cell_type": "code",
   "execution_count": 7,
   "metadata": {},
   "outputs": [
    {
     "data": {
      "text/plain": [
       "11192"
      ]
     },
     "execution_count": 7,
     "metadata": {},
     "output_type": "execute_result"
    }
   ],
   "source": [
    "#check that nans were maintained\n",
    "data['quit_date'].isna().sum()"
   ]
  },
  {
   "cell_type": "code",
   "execution_count": 8,
   "metadata": {},
   "outputs": [],
   "source": [
    "#add a quit column \n",
    "data['quit']=data['quit_date'].notna()"
   ]
  },
  {
   "cell_type": "code",
   "execution_count": 9,
   "metadata": {},
   "outputs": [],
   "source": [
    "#calculate months at company\n",
    "def monthsAtCompany(start,end):\n",
    "    if type(end) == type(pd.NaT):#very tricky comparison to make\n",
    "        period=(pd.to_datetime('2015-12-13', format='%Y-%m-%d')\n",
    "                -start)/np.timedelta64(1, 'M')\n",
    "    else:\n",
    "        period=(end-start)/np.timedelta64(1, 'M')\n",
    "    return period\n",
    "\n",
    "#np.vectorize(monthsAtCompany)(data['join_date'], data['quit_date'])"
   ]
  },
  {
   "cell_type": "code",
   "execution_count": 10,
   "metadata": {},
   "outputs": [
    {
     "data": {
      "text/plain": [
       "13.996180619725251"
      ]
     },
     "execution_count": 10,
     "metadata": {},
     "output_type": "execute_result"
    }
   ],
   "source": [
    "#check that calculation works\n",
    "monthsAtCompany(data['join_date'][2], data['quit_date'][2])"
   ]
  },
  {
   "cell_type": "code",
   "execution_count": 11,
   "metadata": {},
   "outputs": [],
   "source": [
    "#define tenure duration column\n",
    "for i in range(len(data)):\n",
    "    data.loc[i,'tenure']=monthsAtCompany(data['join_date'][i], data['quit_date'][i])"
   ]
  },
  {
   "cell_type": "code",
   "execution_count": 12,
   "metadata": {},
   "outputs": [
    {
     "data": {
      "text/html": [
       "<div>\n",
       "<style scoped>\n",
       "    .dataframe tbody tr th:only-of-type {\n",
       "        vertical-align: middle;\n",
       "    }\n",
       "\n",
       "    .dataframe tbody tr th {\n",
       "        vertical-align: top;\n",
       "    }\n",
       "\n",
       "    .dataframe thead th {\n",
       "        text-align: right;\n",
       "    }\n",
       "</style>\n",
       "<table border=\"1\" class=\"dataframe\">\n",
       "  <thead>\n",
       "    <tr style=\"text-align: right;\">\n",
       "      <th></th>\n",
       "      <th>employee_id</th>\n",
       "      <th>company_id</th>\n",
       "      <th>dept</th>\n",
       "      <th>seniority</th>\n",
       "      <th>salary</th>\n",
       "      <th>join_date</th>\n",
       "      <th>quit_date</th>\n",
       "      <th>quit</th>\n",
       "      <th>tenure</th>\n",
       "    </tr>\n",
       "  </thead>\n",
       "  <tbody>\n",
       "    <tr>\n",
       "      <th>0</th>\n",
       "      <td>13021.0</td>\n",
       "      <td>7</td>\n",
       "      <td>customer_service</td>\n",
       "      <td>28</td>\n",
       "      <td>89000.0</td>\n",
       "      <td>2014-03-24</td>\n",
       "      <td>2015-10-30</td>\n",
       "      <td>True</td>\n",
       "      <td>19.220107</td>\n",
       "    </tr>\n",
       "    <tr>\n",
       "      <th>1</th>\n",
       "      <td>825355.0</td>\n",
       "      <td>7</td>\n",
       "      <td>marketing</td>\n",
       "      <td>20</td>\n",
       "      <td>183000.0</td>\n",
       "      <td>2013-04-29</td>\n",
       "      <td>2014-04-04</td>\n",
       "      <td>True</td>\n",
       "      <td>11.170661</td>\n",
       "    </tr>\n",
       "    <tr>\n",
       "      <th>2</th>\n",
       "      <td>927315.0</td>\n",
       "      <td>4</td>\n",
       "      <td>marketing</td>\n",
       "      <td>14</td>\n",
       "      <td>101000.0</td>\n",
       "      <td>2014-10-13</td>\n",
       "      <td>NaT</td>\n",
       "      <td>False</td>\n",
       "      <td>13.996181</td>\n",
       "    </tr>\n",
       "    <tr>\n",
       "      <th>3</th>\n",
       "      <td>662910.0</td>\n",
       "      <td>7</td>\n",
       "      <td>customer_service</td>\n",
       "      <td>20</td>\n",
       "      <td>115000.0</td>\n",
       "      <td>2012-05-14</td>\n",
       "      <td>2013-06-07</td>\n",
       "      <td>True</td>\n",
       "      <td>12.780550</td>\n",
       "    </tr>\n",
       "    <tr>\n",
       "      <th>4</th>\n",
       "      <td>256971.0</td>\n",
       "      <td>2</td>\n",
       "      <td>data_science</td>\n",
       "      <td>23</td>\n",
       "      <td>276000.0</td>\n",
       "      <td>2011-10-17</td>\n",
       "      <td>2014-08-22</td>\n",
       "      <td>True</td>\n",
       "      <td>34.169079</td>\n",
       "    </tr>\n",
       "  </tbody>\n",
       "</table>\n",
       "</div>"
      ],
      "text/plain": [
       "   employee_id  company_id              dept  seniority    salary  join_date  \\\n",
       "0      13021.0           7  customer_service         28   89000.0 2014-03-24   \n",
       "1     825355.0           7         marketing         20  183000.0 2013-04-29   \n",
       "2     927315.0           4         marketing         14  101000.0 2014-10-13   \n",
       "3     662910.0           7  customer_service         20  115000.0 2012-05-14   \n",
       "4     256971.0           2      data_science         23  276000.0 2011-10-17   \n",
       "\n",
       "   quit_date   quit     tenure  \n",
       "0 2015-10-30   True  19.220107  \n",
       "1 2014-04-04   True  11.170661  \n",
       "2        NaT  False  13.996181  \n",
       "3 2013-06-07   True  12.780550  \n",
       "4 2014-08-22   True  34.169079  "
      ]
     },
     "execution_count": 12,
     "metadata": {},
     "output_type": "execute_result"
    }
   ],
   "source": [
    "#check if tenure seems correct\n",
    "data.head()"
   ]
  },
  {
   "cell_type": "code",
   "execution_count": 13,
   "metadata": {},
   "outputs": [
    {
     "name": "stdout",
     "output_type": "stream",
     "text": [
      "count    24702.000000\n",
      "mean        18.869187\n",
      "std         11.880076\n",
      "min          0.098565\n",
      "25%         10.940676\n",
      "50%         13.930471\n",
      "75%         25.659664\n",
      "max         58.383129\n",
      "Name: tenure, dtype: float64\n"
     ]
    },
    {
     "data": {
      "text/plain": [
       "<matplotlib.axes._subplots.AxesSubplot at 0x7fd0f9fffa20>"
      ]
     },
     "execution_count": 13,
     "metadata": {},
     "output_type": "execute_result"
    },
    {
     "data": {
      "image/png": "[encoded data removed]",
      "text/plain": [
       "<Figure size 576x288 with 1 Axes>"
      ]
     },
     "metadata": {},
     "output_type": "display_data"
    }
   ],
   "source": [
    "print(data['tenure'].describe())\n",
    "data['tenure'].hist(bins=20,figsize=(8, 4))"
   ]
  },
  {
   "cell_type": "code",
   "execution_count": 14,
   "metadata": {},
   "outputs": [
    {
     "data": {
      "text/plain": [
       "<matplotlib.axes._subplots.AxesSubplot at 0x7fd0f6daebe0>"
      ]
     },
     "execution_count": 14,
     "metadata": {},
     "output_type": "execute_result"
    },
    {
     "data": {
      "image/png": "[encoded data removed]",
      "text/plain": [
       "<Figure size 432x288 with 1 Axes>"
      ]
     },
     "metadata": {},
     "output_type": "display_data"
    }
   ],
   "source": [
    "#people in the region below a month at the company\n",
    "data[data['tenure']<1]['tenure'].hist()"
   ]
  },
  {
   "cell_type": "code",
   "execution_count": 15,
   "metadata": {},
   "outputs": [
    {
     "data": {
      "text/plain": [
       "<matplotlib.axes._subplots.AxesSubplot at 0x7fd0f6d33978>"
      ]
     },
     "execution_count": 15,
     "metadata": {},
     "output_type": "execute_result"
    },
    {
     "data": {
      "image/png": "[encoded data removed]",
      "text/plain": [
       "<Figure size 576x216 with 1 Axes>"
      ]
     },
     "metadata": {},
     "output_type": "display_data"
    }
   ],
   "source": [
    "#people in the region near december 2015\n",
    "data[data['quit_date']>pd.to_datetime('2015-12-01', format='%Y-%m-%d')\n",
    "    ]['quit_date'].hist(figsize=(8, 3))"
   ]
  },
  {
   "cell_type": "markdown",
   "metadata": {},
   "source": [
    "* what's tricky about this problem is that we're being asked to predict when an employer is going to quit. \n",
    "* This seems like a regression problem, but in fact mixes two predictions, whether an employee is going to quit (classification problem) and when (regression)\n",
    "* might be simpler to **first attempt a binary classification** on retention and then try to predict the tenure length\n",
    "* afterwards a regressor can be trained, but only by using data on employees that quit. I'm not sure how to then combine both predictions. \n",
    "* **Note:** the relevant dates (join, quit) are in the period between 2011 and 2015 which I think does not overlap with any major economical downturn which could be very important for the analysis (indeed, I confirmed this suspicion below). Also, from the description of the problem **I assume that employees that left, did so by quitting and from being fired**. "
   ]
  },
  {
   "cell_type": "code",
   "execution_count": 16,
   "metadata": {},
   "outputs": [
    {
     "name": "stdout",
     "output_type": "stream",
     "text": [
      "count    24702.000000\n",
      "mean        14.127803\n",
      "std          8.089520\n",
      "min          1.000000\n",
      "25%          7.000000\n",
      "50%         14.000000\n",
      "75%         21.000000\n",
      "max         99.000000\n",
      "Name: seniority, dtype: float64\n"
     ]
    },
    {
     "data": {
      "text/plain": [
       "99       1\n",
       "98       1\n",
       "29     626\n",
       "28     585\n",
       "27     642\n",
       "26     694\n",
       "25     715\n",
       "24     743\n",
       "23     785\n",
       "22     764\n",
       "21     782\n",
       "20     844\n",
       "19     910\n",
       "18     872\n",
       "17     893\n",
       "16     936\n",
       "15     911\n",
       "14     920\n",
       "13     894\n",
       "12     988\n",
       "11     924\n",
       "10     927\n",
       "9      944\n",
       "8     1008\n",
       "7      928\n",
       "6      950\n",
       "5      936\n",
       "4      895\n",
       "3      881\n",
       "2      942\n",
       "1      861\n",
       "Name: seniority, dtype: int64"
      ]
     },
     "execution_count": 16,
     "metadata": {},
     "output_type": "execute_result"
    }
   ],
   "source": [
    "#sanity checks:\n",
    "print(data['seniority'].describe())\n",
    "data['seniority'].value_counts().sort_index(ascending=False)"
   ]
  },
  {
   "cell_type": "code",
   "execution_count": 17,
   "metadata": {},
   "outputs": [
    {
     "data": {
      "text/html": [
       "<div>\n",
       "<style scoped>\n",
       "    .dataframe tbody tr th:only-of-type {\n",
       "        vertical-align: middle;\n",
       "    }\n",
       "\n",
       "    .dataframe tbody tr th {\n",
       "        vertical-align: top;\n",
       "    }\n",
       "\n",
       "    .dataframe thead th {\n",
       "        text-align: right;\n",
       "    }\n",
       "</style>\n",
       "<table border=\"1\" class=\"dataframe\">\n",
       "  <thead>\n",
       "    <tr style=\"text-align: right;\">\n",
       "      <th></th>\n",
       "      <th>employee_id</th>\n",
       "      <th>company_id</th>\n",
       "      <th>dept</th>\n",
       "      <th>seniority</th>\n",
       "      <th>salary</th>\n",
       "      <th>join_date</th>\n",
       "      <th>quit_date</th>\n",
       "      <th>quit</th>\n",
       "      <th>tenure</th>\n",
       "    </tr>\n",
       "  </thead>\n",
       "  <tbody>\n",
       "    <tr>\n",
       "      <th>24700</th>\n",
       "      <td>97289.0</td>\n",
       "      <td>10</td>\n",
       "      <td>engineer</td>\n",
       "      <td>98</td>\n",
       "      <td>266000.0</td>\n",
       "      <td>2011-12-13</td>\n",
       "      <td>2015-01-09</td>\n",
       "      <td>True</td>\n",
       "      <td>36.896035</td>\n",
       "    </tr>\n",
       "    <tr>\n",
       "      <th>24701</th>\n",
       "      <td>604052.0</td>\n",
       "      <td>1</td>\n",
       "      <td>marketing</td>\n",
       "      <td>99</td>\n",
       "      <td>185000.0</td>\n",
       "      <td>2011-07-26</td>\n",
       "      <td>2013-12-06</td>\n",
       "      <td>True</td>\n",
       "      <td>28.386620</td>\n",
       "    </tr>\n",
       "  </tbody>\n",
       "</table>\n",
       "</div>"
      ],
      "text/plain": [
       "       employee_id  company_id       dept  seniority    salary  join_date  \\\n",
       "24700      97289.0          10   engineer         98  266000.0 2011-12-13   \n",
       "24701     604052.0           1  marketing         99  185000.0 2011-07-26   \n",
       "\n",
       "       quit_date  quit     tenure  \n",
       "24700 2015-01-09  True  36.896035  \n",
       "24701 2013-12-06  True  28.386620  "
      ]
     },
     "execution_count": 17,
     "metadata": {},
     "output_type": "execute_result"
    }
   ],
   "source": [
    "#two values are incorrect, so erase them:\n",
    "data[data['seniority']> 30]"
   ]
  },
  {
   "cell_type": "code",
   "execution_count": 18,
   "metadata": {},
   "outputs": [
    {
     "data": {
      "text/plain": [
       "(24700, 9)"
      ]
     },
     "execution_count": 18,
     "metadata": {},
     "output_type": "execute_result"
    }
   ],
   "source": [
    "data.drop([24700,24701],inplace=True)\n",
    "data.shape"
   ]
  },
  {
   "cell_type": "code",
   "execution_count": 19,
   "metadata": {},
   "outputs": [],
   "source": [
    "def convert4prediction(series,inverse=False):\n",
    "    '''\n",
    "    converts a datetime64 pandas data type to a numerical value, by \n",
    "    using unix time (number of nanoseconds since 1970-01-01) as a \n",
    "    reference point:\n",
    "    https://stackoverflow.com/questions/50979873/linear-fit-to-pandas-datetime64-values\n",
    "    The function returns the number of years passed since 2011-01-01\n",
    "    (date from problem statement). \n",
    "    Function can apply the inverse function too by seeting the second\n",
    "    parameter to True.\n",
    "    '''\n",
    "    if inverse:\n",
    "        return pd.to_datetime((series+41)*(1e9 *60*60*24*365))\n",
    "    else:\n",
    "        return pd.to_numeric(series)/(1e9 *60*60*24*365) -41"
   ]
  },
  {
   "cell_type": "code",
   "execution_count": 20,
   "metadata": {},
   "outputs": [
    {
     "name": "stdout",
     "output_type": "stream",
     "text": [
      "['employee_id', 'company_id', 'dept', 'seniority', 'salary', 'join_date', 'quit_date', 'quit', 'tenure']\n"
     ]
    },
    {
     "data": {
      "text/plain": [
       "['company_id',\n",
       " 'dept',\n",
       " 'seniority',\n",
       " 'salary',\n",
       " 'join_date',\n",
       " 'quit_date',\n",
       " 'quit',\n",
       " 'tenure']"
      ]
     },
     "execution_count": 20,
     "metadata": {},
     "output_type": "execute_result"
    }
   ],
   "source": [
    "#remove employee_id from variables\n",
    "variables=data.columns.tolist()\n",
    "print(variables)\n",
    "del variables[0]\n",
    "variables"
   ]
  },
  {
   "cell_type": "code",
   "execution_count": 21,
   "metadata": {},
   "outputs": [
    {
     "data": {
      "text/html": [
       "<div>\n",
       "<style scoped>\n",
       "    .dataframe tbody tr th:only-of-type {\n",
       "        vertical-align: middle;\n",
       "    }\n",
       "\n",
       "    .dataframe tbody tr th {\n",
       "        vertical-align: top;\n",
       "    }\n",
       "\n",
       "    .dataframe thead th {\n",
       "        text-align: right;\n",
       "    }\n",
       "</style>\n",
       "<table border=\"1\" class=\"dataframe\">\n",
       "  <thead>\n",
       "    <tr style=\"text-align: right;\">\n",
       "      <th></th>\n",
       "      <th>company_id</th>\n",
       "      <th>dept</th>\n",
       "      <th>seniority</th>\n",
       "      <th>salary</th>\n",
       "      <th>join_date</th>\n",
       "      <th>quit_date</th>\n",
       "      <th>quit</th>\n",
       "      <th>tenure</th>\n",
       "    </tr>\n",
       "  </thead>\n",
       "  <tbody>\n",
       "    <tr>\n",
       "      <th>0</th>\n",
       "      <td>7</td>\n",
       "      <td>customer_service</td>\n",
       "      <td>28</td>\n",
       "      <td>89000.0</td>\n",
       "      <td>3.254795</td>\n",
       "      <td>4.857534</td>\n",
       "      <td>True</td>\n",
       "      <td>19.220107</td>\n",
       "    </tr>\n",
       "    <tr>\n",
       "      <th>1</th>\n",
       "      <td>7</td>\n",
       "      <td>marketing</td>\n",
       "      <td>20</td>\n",
       "      <td>183000.0</td>\n",
       "      <td>2.353425</td>\n",
       "      <td>3.284932</td>\n",
       "      <td>True</td>\n",
       "      <td>11.170661</td>\n",
       "    </tr>\n",
       "    <tr>\n",
       "      <th>2</th>\n",
       "      <td>4</td>\n",
       "      <td>marketing</td>\n",
       "      <td>14</td>\n",
       "      <td>101000.0</td>\n",
       "      <td>3.810959</td>\n",
       "      <td>NaN</td>\n",
       "      <td>False</td>\n",
       "      <td>13.996181</td>\n",
       "    </tr>\n",
       "    <tr>\n",
       "      <th>3</th>\n",
       "      <td>7</td>\n",
       "      <td>customer_service</td>\n",
       "      <td>20</td>\n",
       "      <td>115000.0</td>\n",
       "      <td>1.394521</td>\n",
       "      <td>2.460274</td>\n",
       "      <td>True</td>\n",
       "      <td>12.780550</td>\n",
       "    </tr>\n",
       "    <tr>\n",
       "      <th>4</th>\n",
       "      <td>2</td>\n",
       "      <td>data_science</td>\n",
       "      <td>23</td>\n",
       "      <td>276000.0</td>\n",
       "      <td>0.819178</td>\n",
       "      <td>3.668493</td>\n",
       "      <td>True</td>\n",
       "      <td>34.169079</td>\n",
       "    </tr>\n",
       "  </tbody>\n",
       "</table>\n",
       "</div>"
      ],
      "text/plain": [
       "   company_id              dept  seniority    salary  join_date  quit_date  \\\n",
       "0           7  customer_service         28   89000.0   3.254795   4.857534   \n",
       "1           7         marketing         20  183000.0   2.353425   3.284932   \n",
       "2           4         marketing         14  101000.0   3.810959        NaN   \n",
       "3           7  customer_service         20  115000.0   1.394521   2.460274   \n",
       "4           2      data_science         23  276000.0   0.819178   3.668493   \n",
       "\n",
       "    quit     tenure  \n",
       "0   True  19.220107  \n",
       "1   True  11.170661  \n",
       "2  False  13.996181  \n",
       "3   True  12.780550  \n",
       "4   True  34.169079  "
      ]
     },
     "execution_count": 21,
     "metadata": {},
     "output_type": "execute_result"
    }
   ],
   "source": [
    "#copy data to new dataframe and convert timestamp colums to numerical\n",
    "df=data[variables].copy()\n",
    "df['join_date']=convert4prediction(data['join_date'])\n",
    "#nan positions preserved because of matching index:\n",
    "df['quit_date']=convert4prediction(data[data['quit']]['quit_date'])\n",
    "df.head()"
   ]
  },
  {
   "cell_type": "code",
   "execution_count": 22,
   "metadata": {},
   "outputs": [
    {
     "data": {
      "text/plain": [
       "customer_service    9180\n",
       "engineer            4612\n",
       "data_science        3190\n",
       "sales               3172\n",
       "marketing           3166\n",
       "design              1380\n",
       "Name: dept, dtype: int64"
      ]
     },
     "execution_count": 22,
     "metadata": {},
     "output_type": "execute_result"
    }
   ],
   "source": [
    "#encode categoricals\n",
    "df['dept'].value_counts()"
   ]
  },
  {
   "cell_type": "code",
   "execution_count": 29,
   "metadata": {},
   "outputs": [
    {
     "data": {
      "text/plain": [
       "1     8485\n",
       "2     4222\n",
       "3     2749\n",
       "4     2062\n",
       "5     1755\n",
       "6     1291\n",
       "7     1224\n",
       "8     1047\n",
       "9      961\n",
       "10     864\n",
       "12      24\n",
       "11      16\n",
       "Name: company_id, dtype: int64"
      ]
     },
     "execution_count": 29,
     "metadata": {},
     "output_type": "execute_result"
    }
   ],
   "source": [
    "data['company_id'].value_counts()"
   ]
  },
  {
   "cell_type": "code",
   "execution_count": 23,
   "metadata": {},
   "outputs": [
    {
     "data": {
      "text/html": [
       "<div>\n",
       "<style scoped>\n",
       "    .dataframe tbody tr th:only-of-type {\n",
       "        vertical-align: middle;\n",
       "    }\n",
       "\n",
       "    .dataframe tbody tr th {\n",
       "        vertical-align: top;\n",
       "    }\n",
       "\n",
       "    .dataframe thead th {\n",
       "        text-align: right;\n",
       "    }\n",
       "</style>\n",
       "<table border=\"1\" class=\"dataframe\">\n",
       "  <thead>\n",
       "    <tr style=\"text-align: right;\">\n",
       "      <th></th>\n",
       "      <th>seniority</th>\n",
       "      <th>salary</th>\n",
       "      <th>join_date</th>\n",
       "      <th>quit_date</th>\n",
       "      <th>quit</th>\n",
       "      <th>tenure</th>\n",
       "      <th>dept_customer_service</th>\n",
       "      <th>dept_data_science</th>\n",
       "      <th>dept_design</th>\n",
       "      <th>dept_engineer</th>\n",
       "      <th>...</th>\n",
       "      <th>company_id_3</th>\n",
       "      <th>company_id_4</th>\n",
       "      <th>company_id_5</th>\n",
       "      <th>company_id_6</th>\n",
       "      <th>company_id_7</th>\n",
       "      <th>company_id_8</th>\n",
       "      <th>company_id_9</th>\n",
       "      <th>company_id_10</th>\n",
       "      <th>company_id_11</th>\n",
       "      <th>company_id_12</th>\n",
       "    </tr>\n",
       "  </thead>\n",
       "  <tbody>\n",
       "    <tr>\n",
       "      <th>0</th>\n",
       "      <td>28</td>\n",
       "      <td>89000.0</td>\n",
       "      <td>3.254795</td>\n",
       "      <td>4.857534</td>\n",
       "      <td>1</td>\n",
       "      <td>19.220107</td>\n",
       "      <td>1</td>\n",
       "      <td>0</td>\n",
       "      <td>0</td>\n",
       "      <td>0</td>\n",
       "      <td>...</td>\n",
       "      <td>0</td>\n",
       "      <td>0</td>\n",
       "      <td>0</td>\n",
       "      <td>0</td>\n",
       "      <td>1</td>\n",
       "      <td>0</td>\n",
       "      <td>0</td>\n",
       "      <td>0</td>\n",
       "      <td>0</td>\n",
       "      <td>0</td>\n",
       "    </tr>\n",
       "    <tr>\n",
       "      <th>1</th>\n",
       "      <td>20</td>\n",
       "      <td>183000.0</td>\n",
       "      <td>2.353425</td>\n",
       "      <td>3.284932</td>\n",
       "      <td>1</td>\n",
       "      <td>11.170661</td>\n",
       "      <td>0</td>\n",
       "      <td>0</td>\n",
       "      <td>0</td>\n",
       "      <td>0</td>\n",
       "      <td>...</td>\n",
       "      <td>0</td>\n",
       "      <td>0</td>\n",
       "      <td>0</td>\n",
       "      <td>0</td>\n",
       "      <td>1</td>\n",
       "      <td>0</td>\n",
       "      <td>0</td>\n",
       "      <td>0</td>\n",
       "      <td>0</td>\n",
       "      <td>0</td>\n",
       "    </tr>\n",
       "    <tr>\n",
       "      <th>2</th>\n",
       "      <td>14</td>\n",
       "      <td>101000.0</td>\n",
       "      <td>3.810959</td>\n",
       "      <td>NaN</td>\n",
       "      <td>0</td>\n",
       "      <td>13.996181</td>\n",
       "      <td>0</td>\n",
       "      <td>0</td>\n",
       "      <td>0</td>\n",
       "      <td>0</td>\n",
       "      <td>...</td>\n",
       "      <td>0</td>\n",
       "      <td>1</td>\n",
       "      <td>0</td>\n",
       "      <td>0</td>\n",
       "      <td>0</td>\n",
       "      <td>0</td>\n",
       "      <td>0</td>\n",
       "      <td>0</td>\n",
       "      <td>0</td>\n",
       "      <td>0</td>\n",
       "    </tr>\n",
       "    <tr>\n",
       "      <th>3</th>\n",
       "      <td>20</td>\n",
       "      <td>115000.0</td>\n",
       "      <td>1.394521</td>\n",
       "      <td>2.460274</td>\n",
       "      <td>1</td>\n",
       "      <td>12.780550</td>\n",
       "      <td>1</td>\n",
       "      <td>0</td>\n",
       "      <td>0</td>\n",
       "      <td>0</td>\n",
       "      <td>...</td>\n",
       "      <td>0</td>\n",
       "      <td>0</td>\n",
       "      <td>0</td>\n",
       "      <td>0</td>\n",
       "      <td>1</td>\n",
       "      <td>0</td>\n",
       "      <td>0</td>\n",
       "      <td>0</td>\n",
       "      <td>0</td>\n",
       "      <td>0</td>\n",
       "    </tr>\n",
       "    <tr>\n",
       "      <th>4</th>\n",
       "      <td>23</td>\n",
       "      <td>276000.0</td>\n",
       "      <td>0.819178</td>\n",
       "      <td>3.668493</td>\n",
       "      <td>1</td>\n",
       "      <td>34.169079</td>\n",
       "      <td>0</td>\n",
       "      <td>1</td>\n",
       "      <td>0</td>\n",
       "      <td>0</td>\n",
       "      <td>...</td>\n",
       "      <td>0</td>\n",
       "      <td>0</td>\n",
       "      <td>0</td>\n",
       "      <td>0</td>\n",
       "      <td>0</td>\n",
       "      <td>0</td>\n",
       "      <td>0</td>\n",
       "      <td>0</td>\n",
       "      <td>0</td>\n",
       "      <td>0</td>\n",
       "    </tr>\n",
       "  </tbody>\n",
       "</table>\n",
       "<p>5 rows × 24 columns</p>\n",
       "</div>"
      ],
      "text/plain": [
       "   seniority    salary  join_date  quit_date  quit     tenure  \\\n",
       "0         28   89000.0   3.254795   4.857534     1  19.220107   \n",
       "1         20  183000.0   2.353425   3.284932     1  11.170661   \n",
       "2         14  101000.0   3.810959        NaN     0  13.996181   \n",
       "3         20  115000.0   1.394521   2.460274     1  12.780550   \n",
       "4         23  276000.0   0.819178   3.668493     1  34.169079   \n",
       "\n",
       "   dept_customer_service  dept_data_science  dept_design  dept_engineer  \\\n",
       "0                      1                  0            0              0   \n",
       "1                      0                  0            0              0   \n",
       "2                      0                  0            0              0   \n",
       "3                      1                  0            0              0   \n",
       "4                      0                  1            0              0   \n",
       "\n",
       "       ...        company_id_3  company_id_4  company_id_5  company_id_6  \\\n",
       "0      ...                   0             0             0             0   \n",
       "1      ...                   0             0             0             0   \n",
       "2      ...                   0             1             0             0   \n",
       "3      ...                   0             0             0             0   \n",
       "4      ...                   0             0             0             0   \n",
       "\n",
       "   company_id_7  company_id_8  company_id_9  company_id_10  company_id_11  \\\n",
       "0             1             0             0              0              0   \n",
       "1             1             0             0              0              0   \n",
       "2             0             0             0              0              0   \n",
       "3             1             0             0              0              0   \n",
       "4             0             0             0              0              0   \n",
       "\n",
       "   company_id_12  \n",
       "0              0  \n",
       "1              0  \n",
       "2              0  \n",
       "3              0  \n",
       "4              0  \n",
       "\n",
       "[5 rows x 24 columns]"
      ]
     },
     "execution_count": 23,
     "metadata": {},
     "output_type": "execute_result"
    }
   ],
   "source": [
    "df = pd.get_dummies(df, columns=['dept'])\n",
    "df = pd.get_dummies(df, columns=['company_id'])\n",
    "df['quit']=df['quit'].map({True:1,False:0})\n",
    "df.head()"
   ]
  },
  {
   "cell_type": "code",
   "execution_count": 24,
   "metadata": {},
   "outputs": [],
   "source": [
    "#separate into train, cv, test:\n",
    "from sklearn import model_selection #for StratifiedKFold, cross_val_score \n",
    "from sklearn.linear_model import LogisticRegression"
   ]
  },
  {
   "cell_type": "code",
   "execution_count": 25,
   "metadata": {},
   "outputs": [],
   "source": [
    "seed=106637\n",
    "train,test = model_selection.train_test_split(df,test_size=0.1,\n",
    "                                        random_state=seed,stratify=df['quit'])"
   ]
  },
  {
   "cell_type": "code",
   "execution_count": 26,
   "metadata": {},
   "outputs": [
    {
     "name": "stderr",
     "output_type": "stream",
     "text": [
      "/home/perro/anaconda3/lib/python3.6/site-packages/matplotlib/axes/_axes.py:6462: UserWarning: The 'normed' kwarg is deprecated, and has been replaced by the 'density' kwarg.\n",
      "  warnings.warn(\"The 'normed' kwarg is deprecated, and has been \"\n",
      "/home/perro/anaconda3/lib/python3.6/site-packages/matplotlib/axes/_axes.py:6462: UserWarning: The 'normed' kwarg is deprecated, and has been replaced by the 'density' kwarg.\n",
      "  warnings.warn(\"The 'normed' kwarg is deprecated, and has been \"\n"
     ]
    },
    {
     "data": {
      "image/png": "[encoded data removed]",
      "text/plain": [
       "<Figure size 648x432 with 1 Axes>"
      ]
     },
     "metadata": {},
     "output_type": "display_data"
    }
   ],
   "source": [
    "#some EDA\n",
    "def distributionPlot(df,col,units,grouping='quit'):\n",
    "    '''conveniently making EDA plots'''\n",
    "    plt.figure(figsize=(9,6))\n",
    "    sns.distplot(df.groupby(grouping)[col].get_group(0),kde=False,rug=False, label=grouping.capitalize()+'=0');\n",
    "    sns.distplot(df.groupby(grouping)[col].get_group(1),kde=False,rug=False, label=grouping.capitalize()+'=1');\n",
    "    plt.xlabel(col.capitalize()+units, fontsize=14)\n",
    "    plt.title(col.capitalize()+' distribution segregated by \\''+grouping+'\\' status', fontsize=16);\n",
    "    plt.legend();\n",
    "    \n",
    "distributionPlot(train,'tenure',' (months)')"
   ]
  },
  {
   "cell_type": "code",
   "execution_count": 27,
   "metadata": {},
   "outputs": [
    {
     "name": "stderr",
     "output_type": "stream",
     "text": [
      "/home/perro/anaconda3/lib/python3.6/site-packages/matplotlib/axes/_axes.py:6462: UserWarning: The 'normed' kwarg is deprecated, and has been replaced by the 'density' kwarg.\n",
      "  warnings.warn(\"The 'normed' kwarg is deprecated, and has been \"\n",
      "/home/perro/anaconda3/lib/python3.6/site-packages/matplotlib/axes/_axes.py:6462: UserWarning: The 'normed' kwarg is deprecated, and has been replaced by the 'density' kwarg.\n",
      "  warnings.warn(\"The 'normed' kwarg is deprecated, and has been \"\n"
     ]
    },
    {
     "data": {
      "image/png": "[encoded data removed]",
      "text/plain": [
       "<Figure size 648x432 with 1 Axes>"
      ]
     },
     "metadata": {},
     "output_type": "display_data"
    }
   ],
   "source": [
    "distributionPlot(train,'salary',' (dollars)')"
   ]
  },
  {
   "cell_type": "code",
   "execution_count": 28,
   "metadata": {},
   "outputs": [
    {
     "name": "stderr",
     "output_type": "stream",
     "text": [
      "/home/perro/anaconda3/lib/python3.6/site-packages/matplotlib/axes/_axes.py:6462: UserWarning: The 'normed' kwarg is deprecated, and has been replaced by the 'density' kwarg.\n",
      "  warnings.warn(\"The 'normed' kwarg is deprecated, and has been \"\n",
      "/home/perro/anaconda3/lib/python3.6/site-packages/matplotlib/axes/_axes.py:6462: UserWarning: The 'normed' kwarg is deprecated, and has been replaced by the 'density' kwarg.\n",
      "  warnings.warn(\"The 'normed' kwarg is deprecated, and has been \"\n"
     ]
    },
    {
     "data": {
      "image/png": "[encoded data removed]",
      "text/plain": [
       "<Figure size 648x432 with 1 Axes>"
      ]
     },
     "metadata": {},
     "output_type": "display_data"
    }
   ],
   "source": [
    "distributionPlot(train,'seniority',' (years)')"
   ]
  },
  {
   "cell_type": "code",
   "execution_count": 42,
   "metadata": {},
   "outputs": [
    {
     "name": "stderr",
     "output_type": "stream",
     "text": [
      "/home/perro/anaconda3/lib/python3.6/site-packages/matplotlib/axes/_axes.py:6462: UserWarning: The 'normed' kwarg is deprecated, and has been replaced by the 'density' kwarg.\n",
      "  warnings.warn(\"The 'normed' kwarg is deprecated, and has been \"\n",
      "/home/perro/anaconda3/lib/python3.6/site-packages/matplotlib/axes/_axes.py:6462: UserWarning: The 'normed' kwarg is deprecated, and has been replaced by the 'density' kwarg.\n",
      "  warnings.warn(\"The 'normed' kwarg is deprecated, and has been \"\n"
     ]
    },
    {
     "data": {
      "image/png": "[encoded data removed]",
      "text/plain": [
       "<Figure size 648x432 with 1 Axes>"
      ]
     },
     "metadata": {},
     "output_type": "display_data"
    }
   ],
   "source": [
    "distributionPlot(train,'join_date',' (years after 2011)')\n",
    "#this is a nice plot :)"
   ]
  },
  {
   "cell_type": "markdown",
   "metadata": {},
   "source": [
    "* data distributions segregated by quitting status show that `salary` and `seniority` do not seem to play an obviously important role\n",
    "* however it seems that **`join_date` is important** for predicting wheter an employee quits or not. Seems that the closest to the 'great recession' the employee joined the company, the longer the he or she stayed at the company. As the economy improved employees were more secure that they will be able to find jobs elsewhere\n",
    "* department and company variables might show good predictive power\n",
    "* I will use the original data to show these two variables (`dept` and `company_id`)"
   ]
  },
  {
   "cell_type": "code",
   "execution_count": 41,
   "metadata": {},
   "outputs": [
    {
     "data": {
      "image/png": "[encoded data removed]",
      "text/plain": [
       "<Figure size 648x432 with 1 Axes>"
      ]
     },
     "metadata": {},
     "output_type": "display_data"
    }
   ],
   "source": [
    "plt.figure(figsize=(9,6))\n",
    "sns.barplot(x='dept',y='quit',data=data)\n",
    "plt.xlabel('\\'company_id\\'', fontsize=14)\n",
    "plt.ylabel('P(quit = True|\\'dept\\')', fontsize=14);\n",
    "#there seems to be some statistically significant differences between departments (i.e engineer and sales or design)"
   ]
  },
  {
   "cell_type": "code",
   "execution_count": 40,
   "metadata": {},
   "outputs": [
    {
     "data": {
      "image/png": "[encoded data removed]",
      "text/plain": [
       "<Figure size 648x432 with 1 Axes>"
      ]
     },
     "metadata": {},
     "output_type": "display_data"
    }
   ],
   "source": [
    "plt.figure(figsize=(9,6))\n",
    "sns.barplot(x='company_id',y='quit',data=data)\n",
    "plt.xlabel('\\'company_id\\'', fontsize=14)\n",
    "plt.ylabel('P(quit = True|\\'company_id\\')', fontsize=14);\n",
    "#the confidence bar sizes are obvious given the sizes of companies 11 and 12\n",
    "#seems that company 2 has a bit of difference with respect to other companies"
   ]
  },
  {
   "cell_type": "markdown",
   "metadata": {},
   "source": [
    "### Let's build a predictive model...\n",
    "(logistic regression has already been loaded)"
   ]
  },
  {
   "cell_type": "code",
   "execution_count": 47,
   "metadata": {},
   "outputs": [
    {
     "data": {
      "text/plain": [
       "['seniority',\n",
       " 'salary',\n",
       " 'join_date',\n",
       " 'quit_date',\n",
       " 'quit',\n",
       " 'tenure',\n",
       " 'dept_customer_service',\n",
       " 'dept_data_science',\n",
       " 'dept_design',\n",
       " 'dept_engineer',\n",
       " 'dept_marketing',\n",
       " 'dept_sales',\n",
       " 'company_id_1',\n",
       " 'company_id_2',\n",
       " 'company_id_3',\n",
       " 'company_id_4',\n",
       " 'company_id_5',\n",
       " 'company_id_6',\n",
       " 'company_id_7',\n",
       " 'company_id_8',\n",
       " 'company_id_9',\n",
       " 'company_id_10',\n",
       " 'company_id_11',\n",
       " 'company_id_12']"
      ]
     },
     "execution_count": 47,
     "metadata": {},
     "output_type": "execute_result"
    }
   ],
   "source": [
    "target='quit'\n",
    "features = df.columns.tolist()\n",
    "features"
   ]
  },
  {
   "cell_type": "code",
   "execution_count": 48,
   "metadata": {},
   "outputs": [
    {
     "data": {
      "text/plain": [
       "['seniority',\n",
       " 'salary',\n",
       " 'join_date',\n",
       " 'tenure',\n",
       " 'dept_customer_service',\n",
       " 'dept_data_science',\n",
       " 'dept_design',\n",
       " 'dept_engineer',\n",
       " 'dept_marketing',\n",
       " 'dept_sales',\n",
       " 'company_id_1',\n",
       " 'company_id_2',\n",
       " 'company_id_3',\n",
       " 'company_id_4',\n",
       " 'company_id_5',\n",
       " 'company_id_6',\n",
       " 'company_id_7',\n",
       " 'company_id_8',\n",
       " 'company_id_9',\n",
       " 'company_id_10',\n",
       " 'company_id_11',\n",
       " 'company_id_12']"
      ]
     },
     "execution_count": 48,
     "metadata": {},
     "output_type": "execute_result"
    }
   ],
   "source": [
    "features.remove('quit') #the target\n",
    "features.remove('quit_date')#will keep tenure which is obtained from join_date and quit_date\n",
    "features"
   ]
  },
  {
   "cell_type": "code",
   "execution_count": 49,
   "metadata": {},
   "outputs": [],
   "source": [
    "model1=LogisticRegression()"
   ]
  },
  {
   "cell_type": "markdown",
   "metadata": {},
   "source": [
    "**scaling the data...**"
   ]
  },
  {
   "cell_type": "code",
   "execution_count": 50,
   "metadata": {},
   "outputs": [],
   "source": [
    "from sklearn.preprocessing import MinMaxScaler\n",
    "scaler = MinMaxScaler()\n",
    "X_train = scaler.fit_transform(train[features])\n",
    "X_test = scaler.transform(test[features])"
   ]
  },
  {
   "cell_type": "code",
   "execution_count": 51,
   "metadata": {},
   "outputs": [
    {
     "name": "stdout",
     "output_type": "stream",
     "text": [
      "Accuracy of Logistic regression classifier on training set: 0.95\n",
      "Accuracy of Logistic regression classifier on test set: 0.94\n"
     ]
    }
   ],
   "source": [
    "model1.fit(X_train, train['quit'])\n",
    "print('Accuracy of Logistic regression classifier on training set: {:.2f}'\n",
    "     .format(model1.score(X_train, train['quit'])))\n",
    "print('Accuracy of Logistic regression classifier on test set: {:.2f}'\n",
    "     .format(model1.score(X_test, test['quit'])))\n",
    "#maybe overfitting?"
   ]
  },
  {
   "cell_type": "markdown",
   "metadata": {},
   "source": [
    "* indeed **`join_date` is the most important feature**. Note that salary is the least important one!!"
   ]
  },
  {
   "cell_type": "code",
   "execution_count": 55,
   "metadata": {},
   "outputs": [
    {
     "data": {
      "text/html": [
       "<div>\n",
       "<style scoped>\n",
       "    .dataframe tbody tr th:only-of-type {\n",
       "        vertical-align: middle;\n",
       "    }\n",
       "\n",
       "    .dataframe tbody tr th {\n",
       "        vertical-align: top;\n",
       "    }\n",
       "\n",
       "    .dataframe thead th {\n",
       "        text-align: right;\n",
       "    }\n",
       "</style>\n",
       "<table border=\"1\" class=\"dataframe\">\n",
       "  <thead>\n",
       "    <tr style=\"text-align: right;\">\n",
       "      <th></th>\n",
       "      <th>feature</th>\n",
       "      <th>coefficient</th>\n",
       "    </tr>\n",
       "  </thead>\n",
       "  <tbody>\n",
       "    <tr>\n",
       "      <th>0</th>\n",
       "      <td>seniority</td>\n",
       "      <td>0.055041</td>\n",
       "    </tr>\n",
       "    <tr>\n",
       "      <th>1</th>\n",
       "      <td>salary</td>\n",
       "      <td>0.006682</td>\n",
       "    </tr>\n",
       "    <tr>\n",
       "      <th>2</th>\n",
       "      <td>join_date</td>\n",
       "      <td>-28.932032</td>\n",
       "    </tr>\n",
       "    <tr>\n",
       "      <th>3</th>\n",
       "      <td>tenure</td>\n",
       "      <td>-26.271436</td>\n",
       "    </tr>\n",
       "    <tr>\n",
       "      <th>4</th>\n",
       "      <td>dept_customer_service</td>\n",
       "      <td>3.481349</td>\n",
       "    </tr>\n",
       "    <tr>\n",
       "      <th>5</th>\n",
       "      <td>dept_data_science</td>\n",
       "      <td>3.420261</td>\n",
       "    </tr>\n",
       "    <tr>\n",
       "      <th>6</th>\n",
       "      <td>dept_design</td>\n",
       "      <td>3.475565</td>\n",
       "    </tr>\n",
       "    <tr>\n",
       "      <th>7</th>\n",
       "      <td>dept_engineer</td>\n",
       "      <td>3.307320</td>\n",
       "    </tr>\n",
       "    <tr>\n",
       "      <th>8</th>\n",
       "      <td>dept_marketing</td>\n",
       "      <td>3.535647</td>\n",
       "    </tr>\n",
       "    <tr>\n",
       "      <th>9</th>\n",
       "      <td>dept_sales</td>\n",
       "      <td>3.521635</td>\n",
       "    </tr>\n",
       "    <tr>\n",
       "      <th>10</th>\n",
       "      <td>company_id_1</td>\n",
       "      <td>1.923724</td>\n",
       "    </tr>\n",
       "    <tr>\n",
       "      <th>11</th>\n",
       "      <td>company_id_2</td>\n",
       "      <td>1.827702</td>\n",
       "    </tr>\n",
       "    <tr>\n",
       "      <th>12</th>\n",
       "      <td>company_id_3</td>\n",
       "      <td>2.021130</td>\n",
       "    </tr>\n",
       "    <tr>\n",
       "      <th>13</th>\n",
       "      <td>company_id_4</td>\n",
       "      <td>2.037103</td>\n",
       "    </tr>\n",
       "    <tr>\n",
       "      <th>14</th>\n",
       "      <td>company_id_5</td>\n",
       "      <td>2.003422</td>\n",
       "    </tr>\n",
       "    <tr>\n",
       "      <th>15</th>\n",
       "      <td>company_id_6</td>\n",
       "      <td>1.902295</td>\n",
       "    </tr>\n",
       "    <tr>\n",
       "      <th>16</th>\n",
       "      <td>company_id_7</td>\n",
       "      <td>1.898818</td>\n",
       "    </tr>\n",
       "    <tr>\n",
       "      <th>17</th>\n",
       "      <td>company_id_8</td>\n",
       "      <td>1.972261</td>\n",
       "    </tr>\n",
       "    <tr>\n",
       "      <th>18</th>\n",
       "      <td>company_id_9</td>\n",
       "      <td>1.995502</td>\n",
       "    </tr>\n",
       "    <tr>\n",
       "      <th>19</th>\n",
       "      <td>company_id_10</td>\n",
       "      <td>1.956661</td>\n",
       "    </tr>\n",
       "    <tr>\n",
       "      <th>20</th>\n",
       "      <td>company_id_11</td>\n",
       "      <td>0.686219</td>\n",
       "    </tr>\n",
       "    <tr>\n",
       "      <th>21</th>\n",
       "      <td>company_id_12</td>\n",
       "      <td>0.516941</td>\n",
       "    </tr>\n",
       "  </tbody>\n",
       "</table>\n",
       "</div>"
      ],
      "text/plain": [
       "                  feature  coefficient\n",
       "0               seniority     0.055041\n",
       "1                  salary     0.006682\n",
       "2               join_date   -28.932032\n",
       "3                  tenure   -26.271436\n",
       "4   dept_customer_service     3.481349\n",
       "5       dept_data_science     3.420261\n",
       "6             dept_design     3.475565\n",
       "7           dept_engineer     3.307320\n",
       "8          dept_marketing     3.535647\n",
       "9              dept_sales     3.521635\n",
       "10           company_id_1     1.923724\n",
       "11           company_id_2     1.827702\n",
       "12           company_id_3     2.021130\n",
       "13           company_id_4     2.037103\n",
       "14           company_id_5     2.003422\n",
       "15           company_id_6     1.902295\n",
       "16           company_id_7     1.898818\n",
       "17           company_id_8     1.972261\n",
       "18           company_id_9     1.995502\n",
       "19          company_id_10     1.956661\n",
       "20          company_id_11     0.686219\n",
       "21          company_id_12     0.516941"
      ]
     },
     "execution_count": 55,
     "metadata": {},
     "output_type": "execute_result"
    }
   ],
   "source": [
    "feat_importance = pd.DataFrame(data={'feature': features, 'coefficient': model1.coef_[0]})\n",
    "feat_importance"
   ]
  },
  {
   "cell_type": "markdown",
   "metadata": {},
   "source": [
    "### Predicting tenure:"
   ]
  },
  {
   "cell_type": "code",
   "execution_count": 62,
   "metadata": {},
   "outputs": [
    {
     "data": {
      "text/html": [
       "<div>\n",
       "<style scoped>\n",
       "    .dataframe tbody tr th:only-of-type {\n",
       "        vertical-align: middle;\n",
       "    }\n",
       "\n",
       "    .dataframe tbody tr th {\n",
       "        vertical-align: top;\n",
       "    }\n",
       "\n",
       "    .dataframe thead th {\n",
       "        text-align: right;\n",
       "    }\n",
       "</style>\n",
       "<table border=\"1\" class=\"dataframe\">\n",
       "  <thead>\n",
       "    <tr style=\"text-align: right;\">\n",
       "      <th></th>\n",
       "      <th>seniority</th>\n",
       "      <th>salary</th>\n",
       "      <th>join_date</th>\n",
       "      <th>quit_date</th>\n",
       "      <th>quit</th>\n",
       "      <th>tenure</th>\n",
       "      <th>dept_customer_service</th>\n",
       "      <th>dept_data_science</th>\n",
       "      <th>dept_design</th>\n",
       "      <th>dept_engineer</th>\n",
       "      <th>...</th>\n",
       "      <th>company_id_3</th>\n",
       "      <th>company_id_4</th>\n",
       "      <th>company_id_5</th>\n",
       "      <th>company_id_6</th>\n",
       "      <th>company_id_7</th>\n",
       "      <th>company_id_8</th>\n",
       "      <th>company_id_9</th>\n",
       "      <th>company_id_10</th>\n",
       "      <th>company_id_11</th>\n",
       "      <th>company_id_12</th>\n",
       "    </tr>\n",
       "  </thead>\n",
       "  <tbody>\n",
       "    <tr>\n",
       "      <th>0</th>\n",
       "      <td>28</td>\n",
       "      <td>89000.0</td>\n",
       "      <td>3.254795</td>\n",
       "      <td>4.857534</td>\n",
       "      <td>1</td>\n",
       "      <td>19.220107</td>\n",
       "      <td>1</td>\n",
       "      <td>0</td>\n",
       "      <td>0</td>\n",
       "      <td>0</td>\n",
       "      <td>...</td>\n",
       "      <td>0</td>\n",
       "      <td>0</td>\n",
       "      <td>0</td>\n",
       "      <td>0</td>\n",
       "      <td>1</td>\n",
       "      <td>0</td>\n",
       "      <td>0</td>\n",
       "      <td>0</td>\n",
       "      <td>0</td>\n",
       "      <td>0</td>\n",
       "    </tr>\n",
       "    <tr>\n",
       "      <th>1</th>\n",
       "      <td>20</td>\n",
       "      <td>183000.0</td>\n",
       "      <td>2.353425</td>\n",
       "      <td>3.284932</td>\n",
       "      <td>1</td>\n",
       "      <td>11.170661</td>\n",
       "      <td>0</td>\n",
       "      <td>0</td>\n",
       "      <td>0</td>\n",
       "      <td>0</td>\n",
       "      <td>...</td>\n",
       "      <td>0</td>\n",
       "      <td>0</td>\n",
       "      <td>0</td>\n",
       "      <td>0</td>\n",
       "      <td>1</td>\n",
       "      <td>0</td>\n",
       "      <td>0</td>\n",
       "      <td>0</td>\n",
       "      <td>0</td>\n",
       "      <td>0</td>\n",
       "    </tr>\n",
       "    <tr>\n",
       "      <th>3</th>\n",
       "      <td>20</td>\n",
       "      <td>115000.0</td>\n",
       "      <td>1.394521</td>\n",
       "      <td>2.460274</td>\n",
       "      <td>1</td>\n",
       "      <td>12.780550</td>\n",
       "      <td>1</td>\n",
       "      <td>0</td>\n",
       "      <td>0</td>\n",
       "      <td>0</td>\n",
       "      <td>...</td>\n",
       "      <td>0</td>\n",
       "      <td>0</td>\n",
       "      <td>0</td>\n",
       "      <td>0</td>\n",
       "      <td>1</td>\n",
       "      <td>0</td>\n",
       "      <td>0</td>\n",
       "      <td>0</td>\n",
       "      <td>0</td>\n",
       "      <td>0</td>\n",
       "    </tr>\n",
       "    <tr>\n",
       "      <th>4</th>\n",
       "      <td>23</td>\n",
       "      <td>276000.0</td>\n",
       "      <td>0.819178</td>\n",
       "      <td>3.668493</td>\n",
       "      <td>1</td>\n",
       "      <td>34.169079</td>\n",
       "      <td>0</td>\n",
       "      <td>1</td>\n",
       "      <td>0</td>\n",
       "      <td>0</td>\n",
       "      <td>...</td>\n",
       "      <td>0</td>\n",
       "      <td>0</td>\n",
       "      <td>0</td>\n",
       "      <td>0</td>\n",
       "      <td>0</td>\n",
       "      <td>0</td>\n",
       "      <td>0</td>\n",
       "      <td>0</td>\n",
       "      <td>0</td>\n",
       "      <td>0</td>\n",
       "    </tr>\n",
       "    <tr>\n",
       "      <th>5</th>\n",
       "      <td>14</td>\n",
       "      <td>165000.0</td>\n",
       "      <td>1.106849</td>\n",
       "      <td>2.690411</td>\n",
       "      <td>1</td>\n",
       "      <td>18.990123</td>\n",
       "      <td>0</td>\n",
       "      <td>1</td>\n",
       "      <td>0</td>\n",
       "      <td>0</td>\n",
       "      <td>...</td>\n",
       "      <td>0</td>\n",
       "      <td>1</td>\n",
       "      <td>0</td>\n",
       "      <td>0</td>\n",
       "      <td>0</td>\n",
       "      <td>0</td>\n",
       "      <td>0</td>\n",
       "      <td>0</td>\n",
       "      <td>0</td>\n",
       "      <td>0</td>\n",
       "    </tr>\n",
       "  </tbody>\n",
       "</table>\n",
       "<p>5 rows × 24 columns</p>\n",
       "</div>"
      ],
      "text/plain": [
       "   seniority    salary  join_date  quit_date  quit     tenure  \\\n",
       "0         28   89000.0   3.254795   4.857534     1  19.220107   \n",
       "1         20  183000.0   2.353425   3.284932     1  11.170661   \n",
       "3         20  115000.0   1.394521   2.460274     1  12.780550   \n",
       "4         23  276000.0   0.819178   3.668493     1  34.169079   \n",
       "5         14  165000.0   1.106849   2.690411     1  18.990123   \n",
       "\n",
       "   dept_customer_service  dept_data_science  dept_design  dept_engineer  \\\n",
       "0                      1                  0            0              0   \n",
       "1                      0                  0            0              0   \n",
       "3                      1                  0            0              0   \n",
       "4                      0                  1            0              0   \n",
       "5                      0                  1            0              0   \n",
       "\n",
       "       ...        company_id_3  company_id_4  company_id_5  company_id_6  \\\n",
       "0      ...                   0             0             0             0   \n",
       "1      ...                   0             0             0             0   \n",
       "3      ...                   0             0             0             0   \n",
       "4      ...                   0             0             0             0   \n",
       "5      ...                   0             1             0             0   \n",
       "\n",
       "   company_id_7  company_id_8  company_id_9  company_id_10  company_id_11  \\\n",
       "0             1             0             0              0              0   \n",
       "1             1             0             0              0              0   \n",
       "3             1             0             0              0              0   \n",
       "4             0             0             0              0              0   \n",
       "5             0             0             0              0              0   \n",
       "\n",
       "   company_id_12  \n",
       "0              0  \n",
       "1              0  \n",
       "3              0  \n",
       "4              0  \n",
       "5              0  \n",
       "\n",
       "[5 rows x 24 columns]"
      ]
     },
     "execution_count": 62,
     "metadata": {},
     "output_type": "execute_result"
    }
   ],
   "source": [
    "reduced=df[df['quit']==1]\n",
    "reduced.head()"
   ]
  },
  {
   "cell_type": "code",
   "execution_count": 59,
   "metadata": {},
   "outputs": [],
   "source": [
    "Rtrain,Rtest = model_selection.train_test_split(reduced,test_size=0.1,random_state=seed)"
   ]
  },
  {
   "cell_type": "code",
   "execution_count": 60,
   "metadata": {},
   "outputs": [],
   "source": [
    "from sklearn.linear_model import LinearRegression\n",
    "model2= LinearRegression()"
   ]
  },
  {
   "cell_type": "code",
   "execution_count": 72,
   "metadata": {},
   "outputs": [
    {
     "data": {
      "text/plain": [
       "['seniority',\n",
       " 'salary',\n",
       " 'join_date',\n",
       " 'quit_date',\n",
       " 'quit',\n",
       " 'tenure',\n",
       " 'dept_customer_service',\n",
       " 'dept_data_science',\n",
       " 'dept_design',\n",
       " 'dept_engineer',\n",
       " 'dept_marketing',\n",
       " 'dept_sales',\n",
       " 'company_id_1',\n",
       " 'company_id_2',\n",
       " 'company_id_3',\n",
       " 'company_id_4',\n",
       " 'company_id_5',\n",
       " 'company_id_6',\n",
       " 'company_id_7',\n",
       " 'company_id_8',\n",
       " 'company_id_9',\n",
       " 'company_id_10',\n",
       " 'company_id_11',\n",
       " 'company_id_12']"
      ]
     },
     "execution_count": 72,
     "metadata": {},
     "output_type": "execute_result"
    }
   ],
   "source": [
    "Rtarget='quit_date'\n",
    "Rfeatures = reduced.columns.tolist()\n",
    "Rfeatures"
   ]
  },
  {
   "cell_type": "code",
   "execution_count": 73,
   "metadata": {},
   "outputs": [
    {
     "data": {
      "text/plain": [
       "['seniority',\n",
       " 'salary',\n",
       " 'join_date',\n",
       " 'dept_customer_service',\n",
       " 'dept_data_science',\n",
       " 'dept_design',\n",
       " 'dept_engineer',\n",
       " 'dept_marketing',\n",
       " 'dept_sales',\n",
       " 'company_id_1',\n",
       " 'company_id_2',\n",
       " 'company_id_3',\n",
       " 'company_id_4',\n",
       " 'company_id_5',\n",
       " 'company_id_6',\n",
       " 'company_id_7',\n",
       " 'company_id_8',\n",
       " 'company_id_9',\n",
       " 'company_id_10',\n",
       " 'company_id_11',\n",
       " 'company_id_12']"
      ]
     },
     "execution_count": 73,
     "metadata": {},
     "output_type": "execute_result"
    }
   ],
   "source": [
    "Rfeatures.remove(Rtarget) #the target\n",
    "Rfeatures.remove('quit')  \n",
    "Rfeatures.remove('tenure') \n",
    "Rfeatures"
   ]
  },
  {
   "cell_type": "code",
   "execution_count": 74,
   "metadata": {},
   "outputs": [],
   "source": [
    "R_train = scaler.fit_transform(Rtrain[Rfeatures])\n",
    "R_test = scaler.transform(Rtest[Rfeatures])"
   ]
  },
  {
   "cell_type": "code",
   "execution_count": 75,
   "metadata": {},
   "outputs": [
    {
     "name": "stdout",
     "output_type": "stream",
     "text": [
      "R^2 of Linear regression on training set: 0.42\n",
      "R^2 of Linear regression on test set: 0.40\n"
     ]
    }
   ],
   "source": [
    "model2.fit(R_train, Rtrain[Rtarget])\n",
    "print('R^2 of Linear regression on training set: {:.2f}'\n",
    "     .format(model2.score(R_train, Rtrain[Rtarget])))\n",
    "print('R^2 of Linear regression on test set: {:.2f}'\n",
    "     .format(model2.score(R_test, Rtest[Rtarget])))\n",
    "#very hard to estimate quit_date"
   ]
  },
  {
   "cell_type": "code",
   "execution_count": 78,
   "metadata": {},
   "outputs": [
    {
     "data": {
      "text/html": [
       "<div>\n",
       "<style scoped>\n",
       "    .dataframe tbody tr th:only-of-type {\n",
       "        vertical-align: middle;\n",
       "    }\n",
       "\n",
       "    .dataframe tbody tr th {\n",
       "        vertical-align: top;\n",
       "    }\n",
       "\n",
       "    .dataframe thead th {\n",
       "        text-align: right;\n",
       "    }\n",
       "</style>\n",
       "<table border=\"1\" class=\"dataframe\">\n",
       "  <thead>\n",
       "    <tr style=\"text-align: right;\">\n",
       "      <th></th>\n",
       "      <th>feature</th>\n",
       "      <th>coefficient</th>\n",
       "    </tr>\n",
       "  </thead>\n",
       "  <tbody>\n",
       "    <tr>\n",
       "      <th>0</th>\n",
       "      <td>seniority</td>\n",
       "      <td>-2.380067e-01</td>\n",
       "    </tr>\n",
       "    <tr>\n",
       "      <th>1</th>\n",
       "      <td>salary</td>\n",
       "      <td>5.859169e-01</td>\n",
       "    </tr>\n",
       "    <tr>\n",
       "      <th>2</th>\n",
       "      <td>join_date</td>\n",
       "      <td>2.647304e+00</td>\n",
       "    </tr>\n",
       "    <tr>\n",
       "      <th>3</th>\n",
       "      <td>dept_customer_service</td>\n",
       "      <td>8.413237e+12</td>\n",
       "    </tr>\n",
       "    <tr>\n",
       "      <th>4</th>\n",
       "      <td>dept_data_science</td>\n",
       "      <td>8.413237e+12</td>\n",
       "    </tr>\n",
       "    <tr>\n",
       "      <th>5</th>\n",
       "      <td>dept_design</td>\n",
       "      <td>8.413237e+12</td>\n",
       "    </tr>\n",
       "    <tr>\n",
       "      <th>6</th>\n",
       "      <td>dept_engineer</td>\n",
       "      <td>8.413237e+12</td>\n",
       "    </tr>\n",
       "    <tr>\n",
       "      <th>7</th>\n",
       "      <td>dept_marketing</td>\n",
       "      <td>8.413237e+12</td>\n",
       "    </tr>\n",
       "    <tr>\n",
       "      <th>8</th>\n",
       "      <td>dept_sales</td>\n",
       "      <td>8.413237e+12</td>\n",
       "    </tr>\n",
       "    <tr>\n",
       "      <th>9</th>\n",
       "      <td>company_id_1</td>\n",
       "      <td>-1.793222e+13</td>\n",
       "    </tr>\n",
       "    <tr>\n",
       "      <th>10</th>\n",
       "      <td>company_id_2</td>\n",
       "      <td>-1.793222e+13</td>\n",
       "    </tr>\n",
       "    <tr>\n",
       "      <th>11</th>\n",
       "      <td>company_id_3</td>\n",
       "      <td>-1.793222e+13</td>\n",
       "    </tr>\n",
       "    <tr>\n",
       "      <th>12</th>\n",
       "      <td>company_id_4</td>\n",
       "      <td>-1.793222e+13</td>\n",
       "    </tr>\n",
       "    <tr>\n",
       "      <th>13</th>\n",
       "      <td>company_id_5</td>\n",
       "      <td>-1.793222e+13</td>\n",
       "    </tr>\n",
       "    <tr>\n",
       "      <th>14</th>\n",
       "      <td>company_id_6</td>\n",
       "      <td>-1.793222e+13</td>\n",
       "    </tr>\n",
       "    <tr>\n",
       "      <th>15</th>\n",
       "      <td>company_id_7</td>\n",
       "      <td>-1.793222e+13</td>\n",
       "    </tr>\n",
       "    <tr>\n",
       "      <th>16</th>\n",
       "      <td>company_id_8</td>\n",
       "      <td>-1.793222e+13</td>\n",
       "    </tr>\n",
       "    <tr>\n",
       "      <th>17</th>\n",
       "      <td>company_id_9</td>\n",
       "      <td>-1.793222e+13</td>\n",
       "    </tr>\n",
       "    <tr>\n",
       "      <th>18</th>\n",
       "      <td>company_id_10</td>\n",
       "      <td>-1.793222e+13</td>\n",
       "    </tr>\n",
       "    <tr>\n",
       "      <th>19</th>\n",
       "      <td>company_id_11</td>\n",
       "      <td>-1.793222e+13</td>\n",
       "    </tr>\n",
       "    <tr>\n",
       "      <th>20</th>\n",
       "      <td>company_id_12</td>\n",
       "      <td>-1.793222e+13</td>\n",
       "    </tr>\n",
       "  </tbody>\n",
       "</table>\n",
       "</div>"
      ],
      "text/plain": [
       "                  feature   coefficient\n",
       "0               seniority -2.380067e-01\n",
       "1                  salary  5.859169e-01\n",
       "2               join_date  2.647304e+00\n",
       "3   dept_customer_service  8.413237e+12\n",
       "4       dept_data_science  8.413237e+12\n",
       "5             dept_design  8.413237e+12\n",
       "6           dept_engineer  8.413237e+12\n",
       "7          dept_marketing  8.413237e+12\n",
       "8              dept_sales  8.413237e+12\n",
       "9            company_id_1 -1.793222e+13\n",
       "10           company_id_2 -1.793222e+13\n",
       "11           company_id_3 -1.793222e+13\n",
       "12           company_id_4 -1.793222e+13\n",
       "13           company_id_5 -1.793222e+13\n",
       "14           company_id_6 -1.793222e+13\n",
       "15           company_id_7 -1.793222e+13\n",
       "16           company_id_8 -1.793222e+13\n",
       "17           company_id_9 -1.793222e+13\n",
       "18          company_id_10 -1.793222e+13\n",
       "19          company_id_11 -1.793222e+13\n",
       "20          company_id_12 -1.793222e+13"
      ]
     },
     "execution_count": 78,
     "metadata": {},
     "output_type": "execute_result"
    }
   ],
   "source": [
    "Rfeat_importance = pd.DataFrame(data={'feature': Rfeatures, 'coefficient': model2.coef_})\n",
    "Rfeat_importance"
   ]
  },
  {
   "cell_type": "code",
   "execution_count": null,
   "metadata": {},
   "outputs": [],
   "source": []
  }
 ],
 "metadata": {
  "kernelspec": {
   "display_name": "Python 3",
   "language": "python",
   "name": "python3"
  },
  "language_info": {
   "codemirror_mode": {
    "name": "ipython",
    "version": 3
   },
   "file_extension": ".py",
   "mimetype": "text/x-python",
   "name": "python",
   "nbconvert_exporter": "python",
   "pygments_lexer": "ipython3",
   "version": "3.6.5"
  }
 },
 "nbformat": 4,
 "nbformat_minor": 2
}
