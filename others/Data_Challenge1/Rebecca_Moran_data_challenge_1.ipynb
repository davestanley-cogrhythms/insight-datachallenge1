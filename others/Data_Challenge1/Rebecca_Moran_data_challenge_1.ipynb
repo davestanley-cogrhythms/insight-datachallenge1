{
 "cells": [
  {
   "cell_type": "markdown",
   "metadata": {},
   "source": [
    "Importing what I may use and reading the data"
   ]
  },
  {
   "cell_type": "code",
   "execution_count": 423,
   "metadata": {},
   "outputs": [],
   "source": [
    "import pandas as pd\n",
    "import numpy as np\n",
    "import sklearn as skl\n",
    "import matplotlib.pyplot as plt\n",
    "from sklearn.model_selection import train_test_split\n",
    "from sklearn.linear_model import LogisticRegression\n",
    "from sklearn import svm\n",
    "from sklearn.ensemble import RandomForestClassifier\n",
    "from sklearn.linear_model import LogisticRegressionCV\n",
    "from sklearn import tree\n",
    "from math import log\n",
    "import datetime"
   ]
  },
  {
   "cell_type": "code",
   "execution_count": 424,
   "metadata": {},
   "outputs": [],
   "source": [
    "df = pd.read_csv('employee_retention_data.csv')"
   ]
  },
  {
   "cell_type": "markdown",
   "metadata": {},
   "source": [
    "Let's take a look at the features"
   ]
  },
  {
   "cell_type": "code",
   "execution_count": 425,
   "metadata": {},
   "outputs": [
    {
     "data": {
      "text/plain": [
       "['employee_id',\n",
       " 'company_id',\n",
       " 'dept',\n",
       " 'seniority',\n",
       " 'salary',\n",
       " 'join_date',\n",
       " 'quit_date']"
      ]
     },
     "execution_count": 425,
     "metadata": {},
     "output_type": "execute_result"
    }
   ],
   "source": [
    "list(df)"
   ]
  },
  {
   "cell_type": "markdown",
   "metadata": {},
   "source": [
    "And now let's do some EDA"
   ]
  },
  {
   "cell_type": "code",
   "execution_count": 426,
   "metadata": {},
   "outputs": [
    {
     "data": {
      "text/plain": [
       "(24702, 7)"
      ]
     },
     "execution_count": 426,
     "metadata": {},
     "output_type": "execute_result"
    }
   ],
   "source": [
    "df.shape"
   ]
  },
  {
   "cell_type": "code",
   "execution_count": 427,
   "metadata": {},
   "outputs": [
    {
     "data": {
      "text/plain": [
       "(array([9.272e+03, 9.092e+03, 6.336e+03, 0.000e+00, 0.000e+00, 0.000e+00,\n",
       "        0.000e+00, 0.000e+00, 0.000e+00, 2.000e+00]),\n",
       " array([ 1. , 10.8, 20.6, 30.4, 40.2, 50. , 59.8, 69.6, 79.4, 89.2, 99. ]),\n",
       " <a list of 10 Patch objects>)"
      ]
     },
     "execution_count": 427,
     "metadata": {},
     "output_type": "execute_result"
    },
    {
     "data": {
      "image/png": "[encoded data removed]",
      "text/plain": [
       "<Figure size 432x288 with 1 Axes>"
      ]
     },
     "metadata": {
      "needs_background": "light"
     },
     "output_type": "display_data"
    }
   ],
   "source": [
    "plt.hist(df.seniority)"
   ]
  },
  {
   "cell_type": "code",
   "execution_count": 428,
   "metadata": {
    "scrolled": false
   },
   "outputs": [
    {
     "data": {
      "text/plain": [
       "(array([2886., 5511., 5388., 3614., 3098., 1788., 1151.,  963.,  286.,\n",
       "          17.]),\n",
       " array([ 17000.,  56100.,  95200., 134300., 173400., 212500., 251600.,\n",
       "        290700., 329800., 368900., 408000.]),\n",
       " <a list of 10 Patch objects>)"
      ]
     },
     "execution_count": 428,
     "metadata": {},
     "output_type": "execute_result"
    },
    {
     "data": {
      "image/png": "[encoded data removed]",
      "text/plain": [
       "<Figure size 432x288 with 1 Axes>"
      ]
     },
     "metadata": {
      "needs_background": "light"
     },
     "output_type": "display_data"
    }
   ],
   "source": [
    "plt.hist(df.salary)"
   ]
  },
  {
   "cell_type": "code",
   "execution_count": 429,
   "metadata": {},
   "outputs": [
    {
     "data": {
      "text/plain": [
       "dept\n",
       "customer_service    9180\n",
       "data_science        3190\n",
       "design              1380\n",
       "engineer            4613\n",
       "marketing           3167\n",
       "sales               3172\n",
       "Name: employee_id, dtype: int64"
      ]
     },
     "execution_count": 429,
     "metadata": {},
     "output_type": "execute_result"
    }
   ],
   "source": [
    "df.groupby('dept')['employee_id'].count()"
   ]
  },
  {
   "cell_type": "code",
   "execution_count": 430,
   "metadata": {},
   "outputs": [
    {
     "data": {
      "text/plain": [
       "company_id\n",
       "1     8486\n",
       "2     4222\n",
       "3     2749\n",
       "4     2062\n",
       "5     1755\n",
       "6     1291\n",
       "7     1224\n",
       "8     1047\n",
       "9      961\n",
       "10     865\n",
       "11      16\n",
       "12      24\n",
       "Name: employee_id, dtype: int64"
      ]
     },
     "execution_count": 430,
     "metadata": {},
     "output_type": "execute_result"
    }
   ],
   "source": [
    "df.groupby('company_id')['employee_id'].count()"
   ]
  },
  {
   "cell_type": "markdown",
   "metadata": {},
   "source": [
    "Want to know how many people quit"
   ]
  },
  {
   "cell_type": "code",
   "execution_count": 431,
   "metadata": {},
   "outputs": [
    {
     "data": {
      "text/plain": [
       "11192"
      ]
     },
     "execution_count": 431,
     "metadata": {},
     "output_type": "execute_result"
    }
   ],
   "source": [
    "df.quit_date.isna().sum()"
   ]
  },
  {
   "cell_type": "markdown",
   "metadata": {},
   "source": [
    "So the percent of people who were hired and quit is"
   ]
  },
  {
   "cell_type": "code",
   "execution_count": 432,
   "metadata": {},
   "outputs": [
    {
     "data": {
      "text/plain": [
       "0.5469192777912719"
      ]
     },
     "execution_count": 432,
     "metadata": {},
     "output_type": "execute_result"
    }
   ],
   "source": [
    "1 - df.quit_date.isna().sum()/df.employee_id.count()"
   ]
  },
  {
   "cell_type": "markdown",
   "metadata": {},
   "source": [
    "Since every row has an employee id (see below)"
   ]
  },
  {
   "cell_type": "code",
   "execution_count": 351,
   "metadata": {},
   "outputs": [
    {
     "data": {
      "text/plain": [
       "0"
      ]
     },
     "execution_count": 351,
     "metadata": {},
     "output_type": "execute_result"
    }
   ],
   "source": [
    "df.employee_id.isna().sum()"
   ]
  },
  {
   "cell_type": "markdown",
   "metadata": {},
   "source": [
    "The classes of quit vs. not quit are pretty balanced if 45% have quit and 55% have not"
   ]
  },
  {
   "cell_type": "markdown",
   "metadata": {},
   "source": [
    "Converting the dates to datetime format"
   ]
  },
  {
   "cell_type": "code",
   "execution_count": 352,
   "metadata": {},
   "outputs": [],
   "source": [
    "df.join_date = pd.to_datetime(df.join_date)"
   ]
  },
  {
   "cell_type": "code",
   "execution_count": 353,
   "metadata": {},
   "outputs": [],
   "source": [
    "df.quit_date = pd.to_datetime(df.quit_date)"
   ]
  },
  {
   "cell_type": "code",
   "execution_count": 354,
   "metadata": {},
   "outputs": [
    {
     "data": {
      "text/plain": [
       "(array([2450., 2485., 2621., 2383., 2544., 2346., 2582., 2337., 2471.,\n",
       "        2483.]),\n",
       " array([734161. , 734339.1, 734517.2, 734695.3, 734873.4, 735051.5,\n",
       "        735229.6, 735407.7, 735585.8, 735763.9, 735942. ]),\n",
       " <a list of 10 Patch objects>)"
      ]
     },
     "execution_count": 354,
     "metadata": {},
     "output_type": "execute_result"
    },
    {
     "data": {
      "image/png": "[encoded data removed]",
      "text/plain": [
       "<Figure size 432x288 with 1 Axes>"
      ]
     },
     "metadata": {
      "needs_background": "light"
     },
     "output_type": "display_data"
    }
   ],
   "source": [
    "plt.hist(df.join_date)"
   ]
  },
  {
   "cell_type": "code",
   "execution_count": 356,
   "metadata": {},
   "outputs": [
    {
     "data": {
      "text/plain": [
       "(array([ 268.,  757.,  866., 1308., 1347., 1476., 1574., 1917., 2021.,\n",
       "        1976.]),\n",
       " array([734423. , 734574.8, 734726.6, 734878.4, 735030.2, 735182. ,\n",
       "        735333.8, 735485.6, 735637.4, 735789.2, 735941. ]),\n",
       " <a list of 10 Patch objects>)"
      ]
     },
     "execution_count": 356,
     "metadata": {},
     "output_type": "execute_result"
    },
    {
     "data": {
      "image/png": "[encoded data removed]",
      "text/plain": [
       "<Figure size 432x288 with 1 Axes>"
      ]
     },
     "metadata": {
      "needs_background": "light"
     },
     "output_type": "display_data"
    }
   ],
   "source": [
    "plt.hist(df.quit_date[~df.quit_date.isna()])"
   ]
  },
  {
   "cell_type": "markdown",
   "metadata": {},
   "source": [
    "Want to know how long they had the job before they quit"
   ]
  },
  {
   "cell_type": "code",
   "execution_count": 357,
   "metadata": {},
   "outputs": [],
   "source": [
    "df['job_length'] = df.quit_date - df.join_date"
   ]
  },
  {
   "cell_type": "markdown",
   "metadata": {},
   "source": [
    "Now converting this to just how many days it is."
   ]
  },
  {
   "cell_type": "code",
   "execution_count": 358,
   "metadata": {},
   "outputs": [],
   "source": [
    "sec = lambda t: t.total_seconds() \n",
    "df.job_length = df.job_length.map(sec)/(60*60*24)"
   ]
  },
  {
   "cell_type": "code",
   "execution_count": 359,
   "metadata": {},
   "outputs": [
    {
     "data": {
      "text/plain": [
       "1726.0"
      ]
     },
     "execution_count": 359,
     "metadata": {},
     "output_type": "execute_result"
    }
   ],
   "source": [
    "df.job_length.max()"
   ]
  },
  {
   "cell_type": "markdown",
   "metadata": {},
   "source": [
    "I decided that, in order to understand employee churn, I should try to predict IF someone will quit and what features are the most important for that classification. Ultimately, I would like to predict WHEN that would be. Perhaps after deciding someone would quit using a classification algorithm I could try to predict when it would be using a regressor? This may need to wait."
   ]
  },
  {
   "cell_type": "markdown",
   "metadata": {},
   "source": [
    "Dealing with the data a little more:"
   ]
  },
  {
   "cell_type": "markdown",
   "metadata": {},
   "source": [
    "I noticed the seniority was very skewed, so let's look at the max values"
   ]
  },
  {
   "cell_type": "code",
   "execution_count": 360,
   "metadata": {},
   "outputs": [
    {
     "data": {
      "text/plain": [
       "[29, 29, 29, 29, 29, 29, 29, 29, 98, 99]"
      ]
     },
     "execution_count": 360,
     "metadata": {},
     "output_type": "execute_result"
    }
   ],
   "source": [
    "sorted(df.seniority)[-10:]"
   ]
  },
  {
   "cell_type": "markdown",
   "metadata": {},
   "source": [
    "Values of 98 or 99 don't make sense, so let's remove them"
   ]
  },
  {
   "cell_type": "code",
   "execution_count": 361,
   "metadata": {},
   "outputs": [],
   "source": [
    "df = df[df.seniority < 50]"
   ]
  },
  {
   "cell_type": "code",
   "execution_count": 362,
   "metadata": {},
   "outputs": [
    {
     "data": {
      "text/plain": [
       "(24700, 8)"
      ]
     },
     "execution_count": 362,
     "metadata": {},
     "output_type": "execute_result"
    }
   ],
   "source": [
    "df.shape"
   ]
  },
  {
   "cell_type": "code",
   "execution_count": 363,
   "metadata": {},
   "outputs": [
    {
     "data": {
      "text/plain": [
       "(array([2684., 2781., 2880., 2839., 1814., 2740., 2626., 2331., 2152.,\n",
       "        1853.]),\n",
       " array([ 1. ,  3.8,  6.6,  9.4, 12.2, 15. , 17.8, 20.6, 23.4, 26.2, 29. ]),\n",
       " <a list of 10 Patch objects>)"
      ]
     },
     "execution_count": 363,
     "metadata": {},
     "output_type": "execute_result"
    },
    {
     "data": {
      "image/png": "[encoded data removed]",
      "text/plain": [
       "<Figure size 432x288 with 1 Axes>"
      ]
     },
     "metadata": {
      "needs_background": "light"
     },
     "output_type": "display_data"
    }
   ],
   "source": [
    "plt.hist(df.seniority)"
   ]
  },
  {
   "cell_type": "markdown",
   "metadata": {},
   "source": [
    "That looks a lot better! I would also like it if the salary were more normal"
   ]
  },
  {
   "cell_type": "code",
   "execution_count": 364,
   "metadata": {},
   "outputs": [
    {
     "data": {
      "text/plain": [
       "(array([2886., 5511., 5388., 3614., 3097., 1788., 1150.,  963.,  286.,\n",
       "          17.]),\n",
       " array([ 17000.,  56100.,  95200., 134300., 173400., 212500., 251600.,\n",
       "        290700., 329800., 368900., 408000.]),\n",
       " <a list of 10 Patch objects>)"
      ]
     },
     "execution_count": 364,
     "metadata": {},
     "output_type": "execute_result"
    },
    {
     "data": {
      "image/png": "[encoded data removed]",
      "text/plain": [
       "<Figure size 432x288 with 1 Axes>"
      ]
     },
     "metadata": {
      "needs_background": "light"
     },
     "output_type": "display_data"
    }
   ],
   "source": [
    "plt.hist(df.salary)"
   ]
  },
  {
   "cell_type": "code",
   "execution_count": 365,
   "metadata": {},
   "outputs": [
    {
     "data": {
      "text/plain": [
       "(array([ 819., 1108., 2292., 3577., 4815., 3998., 3887., 2313., 1634.,\n",
       "         257.]),\n",
       " array([25.71281591, 30.55839385, 35.4039718 , 40.24954975, 45.0951277 ,\n",
       "        49.94070565, 54.78628359, 59.63186154, 64.47743949, 69.32301744,\n",
       "        74.16859539]),\n",
       " <a list of 10 Patch objects>)"
      ]
     },
     "execution_count": 365,
     "metadata": {},
     "output_type": "execute_result"
    },
    {
     "data": {
      "image/png": "[encoded data removed]",
      "text/plain": [
       "<Figure size 432x288 with 1 Axes>"
      ]
     },
     "metadata": {
      "needs_background": "light"
     },
     "output_type": "display_data"
    }
   ],
   "source": [
    "plt.hist(df.salary**(1/3))"
   ]
  },
  {
   "cell_type": "markdown",
   "metadata": {},
   "source": [
    "That's a little better. Let's make it official:"
   ]
  },
  {
   "cell_type": "code",
   "execution_count": 366,
   "metadata": {},
   "outputs": [],
   "source": [
    "df.salary = df.salary**(1/3)"
   ]
  },
  {
   "cell_type": "markdown",
   "metadata": {},
   "source": [
    "Now let's scale salary and seniority"
   ]
  },
  {
   "cell_type": "code",
   "execution_count": 367,
   "metadata": {},
   "outputs": [],
   "source": [
    "sal_mean = df.salary.mean()\n",
    "sal_std = df.salary.std()\n",
    "sen_mean = df.seniority.mean()\n",
    "sen_std = df.seniority.std()"
   ]
  },
  {
   "cell_type": "code",
   "execution_count": 368,
   "metadata": {},
   "outputs": [
    {
     "name": "stdout",
     "output_type": "stream",
     "text": [
      "sal_mean: 49.851674699458314, sal_std: 9.801621996433013, sen_mean: 14.120971659919029, sen_std: 8.0541371816683\n"
     ]
    }
   ],
   "source": [
    "print('sal_mean: {}, sal_std: {}, sen_mean: {}, sen_std: {}'.format(sal_mean, sal_std, sen_mean, sen_std))"
   ]
  },
  {
   "cell_type": "markdown",
   "metadata": {},
   "source": [
    "Let's scale these values and then plot/look at"
   ]
  },
  {
   "cell_type": "code",
   "execution_count": 369,
   "metadata": {},
   "outputs": [],
   "source": [
    "df.salary = (df.salary - sal_mean)/sal_std"
   ]
  },
  {
   "cell_type": "code",
   "execution_count": 370,
   "metadata": {},
   "outputs": [],
   "source": [
    "df.seniority = (df.seniority - sen_mean)/sen_std"
   ]
  },
  {
   "cell_type": "code",
   "execution_count": 371,
   "metadata": {},
   "outputs": [
    {
     "data": {
      "text/plain": [
       "(array([ 819., 1108., 2292., 3577., 4815., 3998., 3887., 2313., 1634.,\n",
       "         257.]),\n",
       " array([-2.46274125, -1.96837634, -1.47401143, -0.97964653, -0.48528162,\n",
       "         0.00908329,  0.50344819,  0.9978131 ,  1.49217801,  1.98654292,\n",
       "         2.48090782]),\n",
       " <a list of 10 Patch objects>)"
      ]
     },
     "execution_count": 371,
     "metadata": {},
     "output_type": "execute_result"
    },
    {
     "data": {
      "image/png": "[encoded data removed]",
      "text/plain": [
       "<Figure size 432x288 with 1 Axes>"
      ]
     },
     "metadata": {
      "needs_background": "light"
     },
     "output_type": "display_data"
    }
   ],
   "source": [
    "plt.hist(df.salary)"
   ]
  },
  {
   "cell_type": "code",
   "execution_count": 372,
   "metadata": {},
   "outputs": [
    {
     "data": {
      "text/plain": [
       "(array([2684., 2781., 2880., 2839., 2725., 1829., 2626., 2331., 2152.,\n",
       "        1853.]),\n",
       " array([-1.62909712, -1.2814497 , -0.93380228, -0.58615486, -0.23850744,\n",
       "         0.10913998,  0.45678739,  0.80443481,  1.15208223,  1.49972965,\n",
       "         1.84737707]),\n",
       " <a list of 10 Patch objects>)"
      ]
     },
     "execution_count": 372,
     "metadata": {},
     "output_type": "execute_result"
    },
    {
     "data": {
      "image/png": "[encoded data removed]",
      "text/plain": [
       "<Figure size 432x288 with 1 Axes>"
      ]
     },
     "metadata": {
      "needs_background": "light"
     },
     "output_type": "display_data"
    }
   ],
   "source": [
    "plt.hist(df.seniority)"
   ]
  },
  {
   "cell_type": "markdown",
   "metadata": {},
   "source": [
    "Alright, those are in a comparable range now!"
   ]
  },
  {
   "cell_type": "markdown",
   "metadata": {},
   "source": [
    "Let's start applying some machine learning algorithms."
   ]
  },
  {
   "cell_type": "markdown",
   "metadata": {},
   "source": [
    "I will look at the F1 score. I am interested in the recall, because I want to make sure the people who quit are identified. However, I do not want to predict that everyone will quit, so I will use F1."
   ]
  },
  {
   "cell_type": "markdown",
   "metadata": {},
   "source": [
    "Adding the T/F quit feature"
   ]
  },
  {
   "cell_type": "code",
   "execution_count": 373,
   "metadata": {},
   "outputs": [],
   "source": [
    "df['quit_job'] = ~df.quit_date.isna()"
   ]
  },
  {
   "cell_type": "code",
   "execution_count": 374,
   "metadata": {},
   "outputs": [],
   "source": [
    "bigdf = df #in case I want this later"
   ]
  },
  {
   "cell_type": "code",
   "execution_count": 375,
   "metadata": {},
   "outputs": [
    {
     "data": {
      "text/plain": [
       "['employee_id',\n",
       " 'company_id',\n",
       " 'dept',\n",
       " 'seniority',\n",
       " 'salary',\n",
       " 'join_date',\n",
       " 'quit_date',\n",
       " 'job_length',\n",
       " 'quit_job']"
      ]
     },
     "execution_count": 375,
     "metadata": {},
     "output_type": "execute_result"
    }
   ],
   "source": [
    "list(df)"
   ]
  },
  {
   "cell_type": "code",
   "execution_count": 376,
   "metadata": {},
   "outputs": [],
   "source": [
    "df = df.drop(columns = ['employee_id', 'join_date',\n",
    " 'quit_date',\n",
    " 'job_length'])"
   ]
  },
  {
   "cell_type": "code",
   "execution_count": 377,
   "metadata": {},
   "outputs": [
    {
     "data": {
      "text/plain": [
       "['company_id', 'dept', 'seniority', 'salary', 'quit_job']"
      ]
     },
     "execution_count": 377,
     "metadata": {},
     "output_type": "execute_result"
    }
   ],
   "source": [
    "list(df)"
   ]
  },
  {
   "cell_type": "markdown",
   "metadata": {},
   "source": [
    "The first time I did this, I did not get dummies for the company id. I am doing that now!"
   ]
  },
  {
   "cell_type": "code",
   "execution_count": 378,
   "metadata": {},
   "outputs": [
    {
     "data": {
      "text/plain": [
       "numpy.int64"
      ]
     },
     "execution_count": 378,
     "metadata": {},
     "output_type": "execute_result"
    }
   ],
   "source": [
    "type(df.company_id.iloc[12])"
   ]
  },
  {
   "cell_type": "code",
   "execution_count": 379,
   "metadata": {},
   "outputs": [],
   "source": [
    "df.company_id = df.company_id.map(str)"
   ]
  },
  {
   "cell_type": "code",
   "execution_count": 380,
   "metadata": {},
   "outputs": [
    {
     "data": {
      "text/plain": [
       "str"
      ]
     },
     "execution_count": 380,
     "metadata": {},
     "output_type": "execute_result"
    }
   ],
   "source": [
    "type(df.company_id.iloc[12])"
   ]
  },
  {
   "cell_type": "code",
   "execution_count": 381,
   "metadata": {},
   "outputs": [],
   "source": [
    "df = pd.get_dummies(df, drop_first = True)"
   ]
  },
  {
   "cell_type": "code",
   "execution_count": 382,
   "metadata": {},
   "outputs": [
    {
     "data": {
      "text/plain": [
       "['seniority',\n",
       " 'salary',\n",
       " 'quit_job',\n",
       " 'company_id_10',\n",
       " 'company_id_11',\n",
       " 'company_id_12',\n",
       " 'company_id_2',\n",
       " 'company_id_3',\n",
       " 'company_id_4',\n",
       " 'company_id_5',\n",
       " 'company_id_6',\n",
       " 'company_id_7',\n",
       " 'company_id_8',\n",
       " 'company_id_9',\n",
       " 'dept_data_science',\n",
       " 'dept_design',\n",
       " 'dept_engineer',\n",
       " 'dept_marketing',\n",
       " 'dept_sales']"
      ]
     },
     "execution_count": 382,
     "metadata": {},
     "output_type": "execute_result"
    }
   ],
   "source": [
    "list(df)"
   ]
  },
  {
   "cell_type": "code",
   "execution_count": 383,
   "metadata": {},
   "outputs": [],
   "source": [
    "X_train, X_test, y_train, y_test = train_test_split(df.drop(columns = ['quit_job']), df.quit_job, test_size=0.2, random_state = 0)"
   ]
  },
  {
   "cell_type": "markdown",
   "metadata": {},
   "source": [
    "First, **Logistic Regression**"
   ]
  },
  {
   "cell_type": "code",
   "execution_count": 384,
   "metadata": {},
   "outputs": [
    {
     "name": "stdout",
     "output_type": "stream",
     "text": [
      "F1 score of 0.7002164502164503 for solver newton-cg with penalty l2\n",
      "F1 score of 0.7002164502164503 for solver lbfgs with penalty l2\n",
      "F1 score of 0.7002164502164503 for solver sag with penalty l2\n",
      "F1 score of 0.7010671349452925 for solver liblinear with penalty l1\n",
      "F1 score of 0.7008916509051607 for solver saga with penalty l1\n",
      "The best logistic regression F1 score I found is 0.7010671349452925 for solver liblinear with penalty l1\n"
     ]
    }
   ],
   "source": [
    "best_F1 = 0\n",
    "best_solver = ''\n",
    "best_LogReg = ''\n",
    "best_pen = ''\n",
    "for s in ['newton-cg', 'lbfgs', 'sag']:\n",
    "    clf = skl.linear_model.LogisticRegression(penalty = 'l2', solver = s).fit(X_train, y_train)\n",
    "    F1 = skl.metrics.f1_score(y_test, clf.predict(X_test))\n",
    "    print('F1 score of {} for solver {} with penalty {}'.format(F1, s, 'l2'))\n",
    "    if F1 > best_F1:\n",
    "        best_F1 = F1\n",
    "        best_solver = s\n",
    "        best_pen = 'l2'\n",
    "        best_LogReg = clf\n",
    "for s in ['liblinear', 'saga']:\n",
    "    clf = skl.linear_model.LogisticRegression(penalty = 'l1', solver = s).fit(X_train, y_train)\n",
    "    F1 = skl.metrics.f1_score(y_test, clf.predict(X_test))\n",
    "    print('F1 score of {} for solver {} with penalty {}'.format(F1, s, 'l1'))\n",
    "    if F1 > best_F1:\n",
    "        best_F1 = F1\n",
    "        best_solver = s\n",
    "        best_pen = 'l1'\n",
    "        best_LogReg = clf\n",
    "print('The best logistic regression F1 score I found is {} for solver {} with penalty {}'.format(best_F1, best_solver, best_pen))\n",
    "    "
   ]
  },
  {
   "cell_type": "markdown",
   "metadata": {},
   "source": [
    "The F1 scores are all pretty comparable, but I will go with the largest (by a little)"
   ]
  },
  {
   "cell_type": "markdown",
   "metadata": {},
   "source": [
    "Need a way to consider the feature importance"
   ]
  },
  {
   "cell_type": "markdown",
   "metadata": {},
   "source": [
    "Let's consider another model. This time, random forest!"
   ]
  },
  {
   "cell_type": "code",
   "execution_count": 385,
   "metadata": {},
   "outputs": [
    {
     "name": "stdout",
     "output_type": "stream",
     "text": [
      "For random forest with 10 trees I have an F1 score of 0.5495529061102832\n",
      "For random forest with 20 trees I have an F1 score of 0.5608058608058608\n"
     ]
    }
   ],
   "source": [
    "RFC_10 = RandomForestClassifier(n_estimators = 10).fit(X_train, y_train)\n",
    "F1 = skl.metrics.f1_score(y_test, RFC_10.predict(X_test))\n",
    "print('For random forest with 10 trees I have an F1 score of {}'.format(F1))\n",
    "RFC_20 = RandomForestClassifier(n_estimators = 20).fit(X_train, y_train)\n",
    "F1 = skl.metrics.f1_score(y_test, RFC_20.predict(X_test))\n",
    "print('For random forest with 20 trees I have an F1 score of {}'.format(F1))"
   ]
  },
  {
   "cell_type": "code",
   "execution_count": 386,
   "metadata": {},
   "outputs": [
    {
     "name": "stdout",
     "output_type": "stream",
     "text": [
      "For random forest with 50 trees I have an F1 score of 0.560757879395154\n"
     ]
    }
   ],
   "source": [
    "RFC_50 = RandomForestClassifier(n_estimators = 50).fit(X_train, y_train)\n",
    "F1 = skl.metrics.f1_score(y_test, RFC_50.predict(X_test))\n",
    "print('For random forest with 50 trees I have an F1 score of {}'.format(F1))"
   ]
  },
  {
   "cell_type": "code",
   "execution_count": 387,
   "metadata": {},
   "outputs": [
    {
     "name": "stdout",
     "output_type": "stream",
     "text": [
      "For random forest with 100 trees I have an F1 score of 0.5555959302325582\n"
     ]
    }
   ],
   "source": [
    "RFC_100 = RandomForestClassifier(n_estimators = 100).fit(X_train, y_train)\n",
    "F1 = skl.metrics.f1_score(y_test, RFC_100.predict(X_test))\n",
    "print('For random forest with 100 trees I have an F1 score of {}'.format(F1))"
   ]
  },
  {
   "cell_type": "markdown",
   "metadata": {},
   "source": [
    "So, RFC_100 is my best random forest, but it is not as good as my logistic regression. I could also have done more hyperparameter tuning."
   ]
  },
  {
   "cell_type": "markdown",
   "metadata": {},
   "source": [
    "Let's look at decision trees now. Should I have done trees before forests? Probably!"
   ]
  },
  {
   "cell_type": "code",
   "execution_count": 388,
   "metadata": {},
   "outputs": [
    {
     "name": "stdout",
     "output_type": "stream",
     "text": [
      "For the default decision tree, I have an F1 score of 0.5282071097372488\n"
     ]
    }
   ],
   "source": [
    "T = tree.DecisionTreeClassifier().fit(X_train, y_train)\n",
    "F1 = skl.metrics.f1_score(y_test, T.predict(X_test))\n",
    "print('For the default decision tree, I have an F1 score of {}'.format(F1))"
   ]
  },
  {
   "cell_type": "markdown",
   "metadata": {},
   "source": [
    "I guess it makes sense that the decision tree wouldn't be as good as a random forest."
   ]
  },
  {
   "cell_type": "markdown",
   "metadata": {},
   "source": [
    "Let's look at one more classifier: SVM."
   ]
  },
  {
   "cell_type": "markdown",
   "metadata": {},
   "source": [
    "I'll play with a few parameters, but I'm not doing cross-validation (I know I should)"
   ]
  },
  {
   "cell_type": "code",
   "execution_count": 389,
   "metadata": {},
   "outputs": [
    {
     "name": "stderr",
     "output_type": "stream",
     "text": [
      "/Users/rebeccamoran/anaconda3/lib/python3.7/site-packages/sklearn/svm/base.py:196: FutureWarning: The default value of gamma will change from 'auto' to 'scale' in version 0.22 to account better for unscaled features. Set gamma explicitly to 'auto' or 'scale' to avoid this warning.\n",
      "  \"avoid this warning.\", FutureWarning)\n"
     ]
    },
    {
     "name": "stdout",
     "output_type": "stream",
     "text": [
      "For the default SVM, I have an F1 score of 0.7027102154273802\n"
     ]
    }
   ],
   "source": [
    "S = skl.svm.SVC().fit(X_train, y_train)\n",
    "F1 = skl.metrics.f1_score(y_test, S.predict(X_test))\n",
    "print('For the default SVM, I have an F1 score of {}'.format(F1))"
   ]
  },
  {
   "cell_type": "code",
   "execution_count": 390,
   "metadata": {},
   "outputs": [
    {
     "name": "stdout",
     "output_type": "stream",
     "text": [
      "For SVC with C = 1 and degree 1, I have an F1 score of 0.7027102154273802\n",
      "For SVC with C = 1 and degree 2, I have an F1 score of 0.7027102154273802\n",
      "For SVC with C = 1 and degree 3, I have an F1 score of 0.7027102154273802\n",
      "For SVC with C = 1 and degree 4, I have an F1 score of 0.7027102154273802\n",
      "For SVC with C = 2 and degree 1, I have an F1 score of 0.7027627377481603\n",
      "For SVC with C = 2 and degree 2, I have an F1 score of 0.7027627377481603\n",
      "For SVC with C = 2 and degree 3, I have an F1 score of 0.7027627377481603\n",
      "For SVC with C = 2 and degree 4, I have an F1 score of 0.7027627377481603\n",
      "For SVC with C = 3 and degree 1, I have an F1 score of 0.699665365309537\n",
      "For SVC with C = 3 and degree 2, I have an F1 score of 0.699665365309537\n",
      "For SVC with C = 3 and degree 3, I have an F1 score of 0.699665365309537\n",
      "For SVC with C = 3 and degree 4, I have an F1 score of 0.699665365309537\n",
      "For SVC with C = 4 and degree 1, I have an F1 score of 0.697943082558467\n",
      "For SVC with C = 4 and degree 2, I have an F1 score of 0.697943082558467\n",
      "For SVC with C = 4 and degree 3, I have an F1 score of 0.697943082558467\n",
      "For SVC with C = 4 and degree 4, I have an F1 score of 0.697943082558467\n"
     ]
    }
   ],
   "source": [
    "best_F1 = 0\n",
    "best_C = -1\n",
    "best_deg = -1\n",
    "for my_C in range(1,5):\n",
    "    for deg in range(1,5):\n",
    "        S = skl.svm.SVC(C = my_C, degree = deg, gamma = 'auto').fit(X_train, y_train) \n",
    "        # gamma = 'auto' to prevent warning from printing\n",
    "        F1 = skl.metrics.f1_score(y_test, S.predict(X_test))\n",
    "        print('For SVC with C = {} and degree {}, I have an F1 score of {}'.format(my_C, deg, F1))\n",
    "        if F1 < best_F1:\n",
    "            best_F1 = F1\n",
    "            best_C = my_C\n",
    "            best_deg = deg\n",
    "            best_SVC = S\n",
    "    "
   ]
  },
  {
   "cell_type": "markdown",
   "metadata": {},
   "source": [
    "I guess changing the degree didn't change anything. Well I'm keeping it here to show I tried adjusting parameters."
   ]
  },
  {
   "cell_type": "markdown",
   "metadata": {},
   "source": [
    "So, I'm done playing with models. The best F1 score I got BEFORE making the company_id categorical was  0.7074 for logistic regression with solver saga and penalty l1. The best score I got AFTER doing that was the default SVC."
   ]
  },
  {
   "cell_type": "markdown",
   "metadata": {},
   "source": [
    "Now I want to figure out what is contributing most to this model. First, for the logistic regression..."
   ]
  },
  {
   "cell_type": "code",
   "execution_count": 391,
   "metadata": {},
   "outputs": [
    {
     "data": {
      "text/plain": [
       "array([[-2.90955482e-02,  4.90655779e-02,  1.07441931e-01,\n",
       "         2.49048128e-01, -2.79984854e-02, -9.02661939e-02,\n",
       "         7.73000159e-02,  9.72979247e-02,  1.06402242e-01,\n",
       "         4.42731212e-02,  1.14382830e-01,  6.76525258e-02,\n",
       "         3.30612871e-02, -1.71855573e-01,  1.20432197e-02,\n",
       "        -2.49704042e-01, -2.59351614e-02, -1.12696046e-04]])"
      ]
     },
     "execution_count": 391,
     "metadata": {},
     "output_type": "execute_result"
    }
   ],
   "source": [
    "best_LogReg.coef_"
   ]
  },
  {
   "cell_type": "code",
   "execution_count": 392,
   "metadata": {},
   "outputs": [
    {
     "data": {
      "text/plain": [
       "['seniority',\n",
       " 'salary',\n",
       " 'quit_job',\n",
       " 'company_id_10',\n",
       " 'company_id_11',\n",
       " 'company_id_12',\n",
       " 'company_id_2',\n",
       " 'company_id_3',\n",
       " 'company_id_4',\n",
       " 'company_id_5',\n",
       " 'company_id_6',\n",
       " 'company_id_7',\n",
       " 'company_id_8',\n",
       " 'company_id_9',\n",
       " 'dept_data_science',\n",
       " 'dept_design',\n",
       " 'dept_engineer',\n",
       " 'dept_marketing',\n",
       " 'dept_sales']"
      ]
     },
     "execution_count": 392,
     "metadata": {},
     "output_type": "execute_result"
    }
   ],
   "source": [
    "list(df)"
   ]
  },
  {
   "cell_type": "code",
   "execution_count": 393,
   "metadata": {},
   "outputs": [
    {
     "data": {
      "text/plain": [
       "seniority            1.000000\n",
       "salary               1.000000\n",
       "quit_job             0.497807\n",
       "company_id_10        0.183732\n",
       "company_id_11        0.025444\n",
       "company_id_12        0.031157\n",
       "company_id_2         0.376456\n",
       "company_id_3         0.314504\n",
       "company_id_4         0.276615\n",
       "company_id_5         0.256918\n",
       "company_id_6         0.222570\n",
       "company_id_7         0.217027\n",
       "company_id_8         0.201478\n",
       "company_id_9         0.193377\n",
       "dept_data_science    0.335372\n",
       "dept_design          0.229676\n",
       "dept_engineer        0.389695\n",
       "dept_marketing       0.334295\n",
       "dept_sales           0.334565\n",
       "dtype: float64"
      ]
     },
     "execution_count": 393,
     "metadata": {},
     "output_type": "execute_result"
    }
   ],
   "source": [
    "df.std()"
   ]
  },
  {
   "cell_type": "code",
   "execution_count": 394,
   "metadata": {},
   "outputs": [
    {
     "data": {
      "text/plain": [
       "seniority           -0.029096\n",
       "salary               0.049066\n",
       "company_id_10        0.019741\n",
       "company_id_11        0.006337\n",
       "company_id_12       -0.000872\n",
       "company_id_2        -0.033981\n",
       "company_id_3         0.024311\n",
       "company_id_4         0.026914\n",
       "company_id_5         0.027337\n",
       "company_id_6         0.009854\n",
       "company_id_7         0.024824\n",
       "company_id_8         0.013631\n",
       "company_id_9         0.006393\n",
       "dept_data_science   -0.057636\n",
       "dept_design          0.002766\n",
       "dept_engineer       -0.097308\n",
       "dept_marketing      -0.008670\n",
       "dept_sales          -0.000038\n",
       "dtype: float64"
      ]
     },
     "execution_count": 394,
     "metadata": {},
     "output_type": "execute_result"
    }
   ],
   "source": [
    "best_LogReg.coef_[0]*df.drop(columns = ['quit_job']).std()"
   ]
  },
  {
   "cell_type": "code",
   "execution_count": 398,
   "metadata": {},
   "outputs": [
    {
     "data": {
      "text/plain": [
       "0.17445400000000003"
      ]
     },
     "execution_count": 398,
     "metadata": {},
     "output_type": "execute_result"
    }
   ],
   "source": [
    "sum([0.006337,\n",
    "0.000872,\n",
    "0.033981,\n",
    "0.024311,\n",
    "0.026914,\n",
    "0.027337,\n",
    "0.009854,\n",
    "0.024824,\n",
    "0.013631,\n",
    "0.006393])"
   ]
  },
  {
   "cell_type": "markdown",
   "metadata": {},
   "source": [
    "The internet makes it sound like a coeffiecient times the std dev of the feature is related to feature importance. If so, it seems like the company has a big influcence on quitting (if you sum the absolute values, as above), and working in DS or DE influences you not to quit. Salary also has an impact."
   ]
  },
  {
   "cell_type": "markdown",
   "metadata": {},
   "source": [
    "**Questions/Answers BASED ON WORK SO FAR** \n",
    "* _What are the main factors that drive employee churn? Do they make sense? Explain your findings._\n",
    "\n",
    "It appears the main factors that drive employee churn are where they work (company), their salary, and if they work in DS or DE (this seems to mean they don't quit). Since salary has a positive coefficient, does that mean an employee with a higher salary is more likely to quit?\n",
    "\n",
    "\n",
    "* _What might you be able to do for the company to address employee Churn, what would be follow-up actions?_\n",
    "\n",
    "There are different companies, aren't there? Are they sub-companies?\n",
    "\n",
    "\n",
    "* _If you could add to this data set just one variable that could help explain employee churn, what would that be?_\n",
    "\n",
    "I would like a variable of the reason an employee gives for leaving. This could be in the form of a survey, or we could use NLP. There may be something we are not considering\n"
   ]
  },
  {
   "cell_type": "markdown",
   "metadata": {},
   "source": [
    "**Other notes**\n",
    "\n",
    "I would have liked to:\n",
    "* Combine features\n",
    "* Hyperparameter tuning with cross validation\n",
    "* Regression. Is that actualy what this problem is about?"
   ]
  },
  {
   "cell_type": "markdown",
   "metadata": {},
   "source": [
    "I don't think this model is actually good, by the way. Look at what it predicts for the test set:"
   ]
  },
  {
   "cell_type": "code",
   "execution_count": 399,
   "metadata": {},
   "outputs": [
    {
     "data": {
      "text/plain": [
       "4697"
      ]
     },
     "execution_count": 399,
     "metadata": {},
     "output_type": "execute_result"
    }
   ],
   "source": [
    "best_LogReg.predict(X_test).sum()"
   ]
  },
  {
   "cell_type": "code",
   "execution_count": 400,
   "metadata": {},
   "outputs": [
    {
     "data": {
      "text/plain": [
       "(4940, 18)"
      ]
     },
     "execution_count": 400,
     "metadata": {},
     "output_type": "execute_result"
    }
   ],
   "source": [
    "X_test.shape"
   ]
  },
  {
   "cell_type": "markdown",
   "metadata": {},
   "source": [
    "It predicts almost everyone as quitting!"
   ]
  },
  {
   "cell_type": "markdown",
   "metadata": {},
   "source": [
    "NOTE TO FUTURE ME: I will need to read through everything and make sure what I wrote makes sense!"
   ]
  },
  {
   "cell_type": "markdown",
   "metadata": {},
   "source": [
    "**BUT WAIT, there's more!**\n",
    "So, I heard someone say they didn't even use a model, so now I'm going to just do some more EDA and see how the quit/didn't quit populations differ"
   ]
  },
  {
   "cell_type": "markdown",
   "metadata": {},
   "source": [
    "Going back to the original df before I scaled some features"
   ]
  },
  {
   "cell_type": "code",
   "execution_count": 406,
   "metadata": {},
   "outputs": [],
   "source": [
    "origdf = pd.read_csv('employee_retention_data.csv')"
   ]
  },
  {
   "cell_type": "code",
   "execution_count": 408,
   "metadata": {},
   "outputs": [],
   "source": [
    "origdf['quit_job'] = ~origdf.quit_date.isna()"
   ]
  },
  {
   "cell_type": "code",
   "execution_count": 448,
   "metadata": {},
   "outputs": [],
   "source": [
    "origdf = origdf[df.seniority < 50]"
   ]
  },
  {
   "cell_type": "markdown",
   "metadata": {},
   "source": [
    "More EDA time!"
   ]
  },
  {
   "cell_type": "code",
   "execution_count": 450,
   "metadata": {},
   "outputs": [
    {
     "data": {
      "text/plain": [
       "135639.1027539236"
      ]
     },
     "execution_count": 450,
     "metadata": {},
     "output_type": "execute_result"
    }
   ],
   "source": [
    "origdf[origdf.quit_job == 1].salary.mean()"
   ]
  },
  {
   "cell_type": "code",
   "execution_count": 451,
   "metadata": {},
   "outputs": [
    {
     "data": {
      "text/plain": [
       "141238.47390993568"
      ]
     },
     "execution_count": 451,
     "metadata": {},
     "output_type": "execute_result"
    }
   ],
   "source": [
    "origdf[origdf.quit_job == 0].salary.mean()"
   ]
  },
  {
   "cell_type": "code",
   "execution_count": 452,
   "metadata": {},
   "outputs": [
    {
     "data": {
      "text/plain": [
       "122000.0"
      ]
     },
     "execution_count": 452,
     "metadata": {},
     "output_type": "execute_result"
    }
   ],
   "source": [
    "origdf[origdf.quit_job == 1].salary.median()"
   ]
  },
  {
   "cell_type": "code",
   "execution_count": 453,
   "metadata": {},
   "outputs": [
    {
     "data": {
      "text/plain": [
       "123000.0"
      ]
     },
     "execution_count": 453,
     "metadata": {},
     "output_type": "execute_result"
    }
   ],
   "source": [
    "origdf[origdf.quit_job == 0].salary.median()"
   ]
  },
  {
   "cell_type": "code",
   "execution_count": 454,
   "metadata": {},
   "outputs": [
    {
     "data": {
      "text/plain": [
       "14.118966538347646"
      ]
     },
     "execution_count": 454,
     "metadata": {},
     "output_type": "execute_result"
    }
   ],
   "source": [
    "origdf[origdf.quit_job == 1].seniority.mean()"
   ]
  },
  {
   "cell_type": "code",
   "execution_count": 455,
   "metadata": {},
   "outputs": [
    {
     "data": {
      "text/plain": [
       "14.123391708363117"
      ]
     },
     "execution_count": 455,
     "metadata": {},
     "output_type": "execute_result"
    }
   ],
   "source": [
    "origdf[origdf.quit_job == 0].seniority.mean()"
   ]
  },
  {
   "cell_type": "code",
   "execution_count": 456,
   "metadata": {},
   "outputs": [
    {
     "data": {
      "text/plain": [
       "14.0"
      ]
     },
     "execution_count": 456,
     "metadata": {},
     "output_type": "execute_result"
    }
   ],
   "source": [
    "origdf[origdf.quit_job == 1].seniority.median()"
   ]
  },
  {
   "cell_type": "code",
   "execution_count": 457,
   "metadata": {},
   "outputs": [
    {
     "data": {
      "text/plain": [
       "14.0"
      ]
     },
     "execution_count": 457,
     "metadata": {},
     "output_type": "execute_result"
    }
   ],
   "source": [
    "origdf[origdf.quit_job == 0].seniority.median()"
   ]
  },
  {
   "cell_type": "markdown",
   "metadata": {},
   "source": [
    "Now, I would like to do hypothesis testing, but my first instinct is that these aren't very different (definitely for seniority)"
   ]
  },
  {
   "cell_type": "markdown",
   "metadata": {},
   "source": [
    "Okay, let's try a hypothesis test in Python for comparing the salaries..."
   ]
  },
  {
   "cell_type": "code",
   "execution_count": 459,
   "metadata": {},
   "outputs": [
    {
     "data": {
      "text/plain": [
       "81174.56552847162"
      ]
     },
     "execution_count": 459,
     "metadata": {},
     "output_type": "execute_result"
    }
   ],
   "source": [
    "np.std(origdf[origdf.quit_job == 0].salary)"
   ]
  },
  {
   "cell_type": "code",
   "execution_count": 460,
   "metadata": {},
   "outputs": [
    {
     "data": {
      "text/plain": [
       "71436.42619012341"
      ]
     },
     "execution_count": 460,
     "metadata": {},
     "output_type": "execute_result"
    }
   ],
   "source": [
    "np.std(origdf[origdf.quit_job == 1].salary)"
   ]
  },
  {
   "cell_type": "code",
   "execution_count": 461,
   "metadata": {},
   "outputs": [],
   "source": [
    "from scipy import stats"
   ]
  },
  {
   "cell_type": "code",
   "execution_count": 462,
   "metadata": {},
   "outputs": [],
   "source": [
    "t, p = stats.ttest_ind(origdf[origdf.quit_job == 1].salary, origdf[origdf.quit_job == 0].salary, equal_var=False)"
   ]
  },
  {
   "cell_type": "code",
   "execution_count": 463,
   "metadata": {},
   "outputs": [
    {
     "name": "stdout",
     "output_type": "stream",
     "text": [
      "-5.695229621683827\n"
     ]
    }
   ],
   "source": [
    "print(t)"
   ]
  },
  {
   "cell_type": "code",
   "execution_count": 464,
   "metadata": {},
   "outputs": [
    {
     "name": "stdout",
     "output_type": "stream",
     "text": [
      "1.2474275862013815e-08\n"
     ]
    }
   ],
   "source": [
    "print(p)"
   ]
  },
  {
   "cell_type": "markdown",
   "metadata": {},
   "source": [
    "Okay, that's a small p-value! So it seems we can reject the null hypothesis that the two populations (quit and not quit) have identical mean salaries."
   ]
  },
  {
   "cell_type": "markdown",
   "metadata": {},
   "source": [
    "So, it looks like the people who quit had lower salaries, so I'm thinking that's a contributor to why they quit. Using statistics but not machine learning."
   ]
  },
  {
   "cell_type": "markdown",
   "metadata": {},
   "source": [
    "Now let's look at the salary divided by seniority (dollars per year of experience). Order: mean (quit, not quit), median (quit, not quit), std dev (quit, not quit)"
   ]
  },
  {
   "cell_type": "code",
   "execution_count": 470,
   "metadata": {},
   "outputs": [
    {
     "data": {
      "text/plain": [
       "12731.507250500646"
      ]
     },
     "execution_count": 470,
     "metadata": {},
     "output_type": "execute_result"
    }
   ],
   "source": [
    "(origdf[origdf.quit_job == 1].salary/origdf[origdf.quit_job == 1].seniority).mean()"
   ]
  },
  {
   "cell_type": "code",
   "execution_count": 471,
   "metadata": {},
   "outputs": [
    {
     "data": {
      "text/plain": [
       "13064.427990716422"
      ]
     },
     "execution_count": 471,
     "metadata": {},
     "output_type": "execute_result"
    }
   ],
   "source": [
    "(origdf[origdf.quit_job == 0].salary/origdf[origdf.quit_job == 0].seniority).mean()"
   ]
  },
  {
   "cell_type": "code",
   "execution_count": 472,
   "metadata": {},
   "outputs": [
    {
     "data": {
      "text/plain": [
       "10133.333333333334"
      ]
     },
     "execution_count": 472,
     "metadata": {},
     "output_type": "execute_result"
    }
   ],
   "source": [
    "(origdf[origdf.quit_job == 1].salary/origdf[origdf.quit_job == 1].seniority).median()"
   ]
  },
  {
   "cell_type": "code",
   "execution_count": 473,
   "metadata": {},
   "outputs": [
    {
     "data": {
      "text/plain": [
       "10609.903381642513"
      ]
     },
     "execution_count": 473,
     "metadata": {},
     "output_type": "execute_result"
    }
   ],
   "source": [
    "(origdf[origdf.quit_job == 0].salary/origdf[origdf.quit_job == 0].seniority).median()"
   ]
  },
  {
   "cell_type": "code",
   "execution_count": 474,
   "metadata": {},
   "outputs": [
    {
     "data": {
      "text/plain": [
       "9646.356682369775"
      ]
     },
     "execution_count": 474,
     "metadata": {},
     "output_type": "execute_result"
    }
   ],
   "source": [
    "(origdf[origdf.quit_job == 1].salary/origdf[origdf.quit_job == 1].seniority).std()"
   ]
  },
  {
   "cell_type": "code",
   "execution_count": 475,
   "metadata": {},
   "outputs": [
    {
     "data": {
      "text/plain": [
       "9833.27173421983"
      ]
     },
     "execution_count": 475,
     "metadata": {},
     "output_type": "execute_result"
    }
   ],
   "source": [
    "(origdf[origdf.quit_job == 0].salary/origdf[origdf.quit_job == 0].seniority).std()"
   ]
  },
  {
   "cell_type": "code",
   "execution_count": 465,
   "metadata": {},
   "outputs": [],
   "source": [
    "t, p = stats.ttest_ind(origdf[origdf.quit_job == 1].salary/origdf[origdf.quit_job == 1].seniority, origdf[origdf.quit_job == 0].seniority, equal_var=False)"
   ]
  },
  {
   "cell_type": "code",
   "execution_count": 466,
   "metadata": {},
   "outputs": [
    {
     "name": "stdout",
     "output_type": "stream",
     "text": [
      "0.0\n"
     ]
    }
   ],
   "source": [
    "print(p)"
   ]
  },
  {
   "cell_type": "code",
   "execution_count": 476,
   "metadata": {},
   "outputs": [],
   "source": [
    "t, p = stats.ttest_ind(origdf[origdf.quit_job == 1].salary/origdf[origdf.quit_job == 1].seniority, origdf[origdf.quit_job == 0].seniority, equal_var=True)"
   ]
  },
  {
   "cell_type": "code",
   "execution_count": 478,
   "metadata": {},
   "outputs": [
    {
     "name": "stdout",
     "output_type": "stream",
     "text": [
      "0.0\n"
     ]
    }
   ],
   "source": [
    "print(p)"
   ]
  },
  {
   "cell_type": "markdown",
   "metadata": {},
   "source": [
    "Okay, so whether or not the standard deviations are the same, we get a small p-value, so the population means are different."
   ]
  },
  {
   "cell_type": "markdown",
   "metadata": {},
   "source": [
    "That is, on average, the people who quit had a lower salary per year of experience than the people who didn't quit."
   ]
  },
  {
   "cell_type": "markdown",
   "metadata": {},
   "source": [
    "Below is what percent of employees from each company quit"
   ]
  },
  {
   "cell_type": "code",
   "execution_count": 482,
   "metadata": {},
   "outputs": [
    {
     "data": {
      "text/plain": [
       "company_id\n",
       "1     0.544490\n",
       "2     0.522501\n",
       "3     0.556930\n",
       "4     0.559166\n",
       "5     0.560114\n",
       "6     0.551510\n",
       "7     0.565359\n",
       "8     0.553009\n",
       "9     0.550468\n",
       "10    0.554398\n",
       "11    0.750000\n",
       "12    0.500000\n",
       "Name: employee_id, dtype: float64"
      ]
     },
     "execution_count": 482,
     "metadata": {},
     "output_type": "execute_result"
    }
   ],
   "source": [
    "origdf[origdf.quit_job == 1].groupby('company_id').employee_id.count()/origdf.groupby('company_id').employee_id.count()"
   ]
  },
  {
   "cell_type": "markdown",
   "metadata": {},
   "source": [
    "It looks like a lot of employees in company 11 are quitting, but it's not a large company (it only has 16 employees):"
   ]
  },
  {
   "cell_type": "code",
   "execution_count": 485,
   "metadata": {},
   "outputs": [
    {
     "data": {
      "text/plain": [
       "16"
      ]
     },
     "execution_count": 485,
     "metadata": {},
     "output_type": "execute_result"
    }
   ],
   "source": [
    "origdf[origdf.company_id == 11].employee_id.count()"
   ]
  },
  {
   "cell_type": "markdown",
   "metadata": {},
   "source": [
    "Below is the percent that quit by department"
   ]
  },
  {
   "cell_type": "code",
   "execution_count": 486,
   "metadata": {},
   "outputs": [
    {
     "data": {
      "text/plain": [
       "dept\n",
       "customer_service    0.554902\n",
       "data_science        0.527273\n",
       "design              0.563768\n",
       "engineer            0.511925\n",
       "marketing           0.562855\n",
       "sales               0.570933\n",
       "Name: employee_id, dtype: float64"
      ]
     },
     "execution_count": 486,
     "metadata": {},
     "output_type": "execute_result"
    }
   ],
   "source": [
    "origdf[origdf.quit_job == 1].groupby('dept').employee_id.count()/origdf.groupby('dept').employee_id.count()"
   ]
  },
  {
   "cell_type": "markdown",
   "metadata": {},
   "source": [
    "Now I should look into this more, but I've already written a lot and I need to stop soon."
   ]
  },
  {
   "cell_type": "markdown",
   "metadata": {},
   "source": [
    "**Questions/Answers UPDATED** \n",
    "* _What are the main factors that drive employee churn? Do they make sense? Explain your findings._\n",
    "\n",
    "Employees who quit have lower salaries and a lower salary per year of experience than those who did not quit. This makes sense. If someone feels undervalued at a company, they may feel encouraged to quit and find a new job.\n",
    "\n",
    "\n",
    "* _What might you be able to do for the company to address employee Churn, what would be follow-up actions?_\n",
    "\n",
    "Make the salaries more standardized.\n",
    "\n",
    "\n",
    "* _If you could add to this data set just one variable that could help explain employee churn, what would that be?_\n",
    "\n",
    "Same as before: I would like a variable of the reason an employee gives for leaving. This could be in the form of a survey, or we could use NLP. There may be something we are not considering"
   ]
  },
  {
   "cell_type": "code",
   "execution_count": null,
   "metadata": {},
   "outputs": [],
   "source": []
  }
 ],
 "metadata": {
  "kernelspec": {
   "display_name": "Python 3",
   "language": "python",
   "name": "python3"
  },
  "language_info": {
   "codemirror_mode": {
    "name": "ipython",
    "version": 3
   },
   "file_extension": ".py",
   "mimetype": "text/x-python",
   "name": "python",
   "nbconvert_exporter": "python",
   "pygments_lexer": "ipython3",
   "version": "3.7.1"
  }
 },
 "nbformat": 4,
 "nbformat_minor": 2
}
