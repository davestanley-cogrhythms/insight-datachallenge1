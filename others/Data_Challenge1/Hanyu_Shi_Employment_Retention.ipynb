{
 "cells": [
  {
   "cell_type": "code",
   "execution_count": 1,
   "metadata": {},
   "outputs": [
    {
     "data": {
      "text/html": [
       "<style>.container { width:100% !important; }</style>"
      ],
      "text/plain": [
       "<IPython.core.display.HTML object>"
      ]
     },
     "metadata": {},
     "output_type": "display_data"
    }
   ],
   "source": [
    "## Pre-setting\n",
    "# automatically adjust the width of the notebook code cell\n",
    "from IPython.core.display import display, HTML\n",
    "display(HTML(\"<style>.container { width:100% !important; }</style>\"))\n",
    "# if one module is changed, this line will automatically reload that module\n",
    "%load_ext autoreload\n",
    "%autoreload 2\n",
    "# display the figure in the notebook\n",
    "%matplotlib inline\n",
    "# To change the font size in acrobat\n",
    "import matplotlib as mpl\n",
    "mpl.rcParams['pdf.fonttype'] = 42"
   ]
  },
  {
   "cell_type": "code",
   "execution_count": 2,
   "metadata": {},
   "outputs": [],
   "source": [
    "import pandas as pd\n",
    "import matplotlib.pyplot as plt\n",
    "import numpy as np"
   ]
  },
  {
   "cell_type": "code",
   "execution_count": null,
   "metadata": {},
   "outputs": [],
   "source": []
  },
  {
   "cell_type": "code",
   "execution_count": null,
   "metadata": {},
   "outputs": [],
   "source": []
  },
  {
   "cell_type": "markdown",
   "metadata": {},
   "source": [
    "## read data"
   ]
  },
  {
   "cell_type": "code",
   "execution_count": 3,
   "metadata": {},
   "outputs": [],
   "source": [
    "import os\n",
    "import sys\n",
    "\n",
    "data_folder = os.path.abspath(os.path.join(os.pardir, 'data'))\n",
    "data_file = 'employee_retention_data.csv'\n",
    "data_folder_file = os.path.join(data_folder, data_file)"
   ]
  },
  {
   "cell_type": "code",
   "execution_count": 4,
   "metadata": {
    "scrolled": true
   },
   "outputs": [
    {
     "data": {
      "text/html": [
       "<div>\n",
       "<style>\n",
       "    .dataframe thead tr:only-child th {\n",
       "        text-align: right;\n",
       "    }\n",
       "\n",
       "    .dataframe thead th {\n",
       "        text-align: left;\n",
       "    }\n",
       "\n",
       "    .dataframe tbody tr th {\n",
       "        vertical-align: top;\n",
       "    }\n",
       "</style>\n",
       "<table border=\"1\" class=\"dataframe\">\n",
       "  <thead>\n",
       "    <tr style=\"text-align: right;\">\n",
       "      <th></th>\n",
       "      <th>employee_id</th>\n",
       "      <th>company_id</th>\n",
       "      <th>dept</th>\n",
       "      <th>seniority</th>\n",
       "      <th>salary</th>\n",
       "      <th>join_date</th>\n",
       "      <th>quit_date</th>\n",
       "    </tr>\n",
       "  </thead>\n",
       "  <tbody>\n",
       "    <tr>\n",
       "      <th>0</th>\n",
       "      <td>13021.0</td>\n",
       "      <td>7</td>\n",
       "      <td>customer_service</td>\n",
       "      <td>28</td>\n",
       "      <td>89000.0</td>\n",
       "      <td>3/24/14</td>\n",
       "      <td>10/30/15</td>\n",
       "    </tr>\n",
       "    <tr>\n",
       "      <th>1</th>\n",
       "      <td>825355.0</td>\n",
       "      <td>7</td>\n",
       "      <td>marketing</td>\n",
       "      <td>20</td>\n",
       "      <td>183000.0</td>\n",
       "      <td>4/29/13</td>\n",
       "      <td>4/4/14</td>\n",
       "    </tr>\n",
       "    <tr>\n",
       "      <th>2</th>\n",
       "      <td>927315.0</td>\n",
       "      <td>4</td>\n",
       "      <td>marketing</td>\n",
       "      <td>14</td>\n",
       "      <td>101000.0</td>\n",
       "      <td>10/13/14</td>\n",
       "      <td>NaN</td>\n",
       "    </tr>\n",
       "    <tr>\n",
       "      <th>3</th>\n",
       "      <td>662910.0</td>\n",
       "      <td>7</td>\n",
       "      <td>customer_service</td>\n",
       "      <td>20</td>\n",
       "      <td>115000.0</td>\n",
       "      <td>5/14/12</td>\n",
       "      <td>6/7/13</td>\n",
       "    </tr>\n",
       "    <tr>\n",
       "      <th>4</th>\n",
       "      <td>256971.0</td>\n",
       "      <td>2</td>\n",
       "      <td>data_science</td>\n",
       "      <td>23</td>\n",
       "      <td>276000.0</td>\n",
       "      <td>10/17/11</td>\n",
       "      <td>8/22/14</td>\n",
       "    </tr>\n",
       "  </tbody>\n",
       "</table>\n",
       "</div>"
      ],
      "text/plain": [
       "   employee_id  company_id              dept  seniority    salary join_date  \\\n",
       "0      13021.0           7  customer_service         28   89000.0   3/24/14   \n",
       "1     825355.0           7         marketing         20  183000.0   4/29/13   \n",
       "2     927315.0           4         marketing         14  101000.0  10/13/14   \n",
       "3     662910.0           7  customer_service         20  115000.0   5/14/12   \n",
       "4     256971.0           2      data_science         23  276000.0  10/17/11   \n",
       "\n",
       "  quit_date  \n",
       "0  10/30/15  \n",
       "1    4/4/14  \n",
       "2       NaN  \n",
       "3    6/7/13  \n",
       "4   8/22/14  "
      ]
     },
     "execution_count": 4,
     "metadata": {},
     "output_type": "execute_result"
    }
   ],
   "source": [
    "raw_data_df = pd.read_csv(data_folder_file)\n",
    "raw_data_df.head()"
   ]
  },
  {
   "cell_type": "code",
   "execution_count": 5,
   "metadata": {},
   "outputs": [
    {
     "data": {
      "text/plain": [
       "0.453080722208728"
      ]
     },
     "execution_count": 5,
     "metadata": {},
     "output_type": "execute_result"
    }
   ],
   "source": [
    "raw_data_df.quit_date.isnull().sum() / (len(raw_data_df.quit_date))"
   ]
  },
  {
   "cell_type": "code",
   "execution_count": 6,
   "metadata": {},
   "outputs": [],
   "source": [
    "# pd.to_datetime(raw_data_df.join_date, format=\"%m/%d/%Y\")\n",
    "raw_data_df.join_date = pd.to_datetime(raw_data_df.join_date, infer_datetime_format=1)\n",
    "raw_data_df.quit_date = pd.to_datetime(raw_data_df.quit_date, infer_datetime_format=1)"
   ]
  },
  {
   "cell_type": "code",
   "execution_count": 7,
   "metadata": {},
   "outputs": [
    {
     "data": {
      "text/html": [
       "<div>\n",
       "<style>\n",
       "    .dataframe thead tr:only-child th {\n",
       "        text-align: right;\n",
       "    }\n",
       "\n",
       "    .dataframe thead th {\n",
       "        text-align: left;\n",
       "    }\n",
       "\n",
       "    .dataframe tbody tr th {\n",
       "        vertical-align: top;\n",
       "    }\n",
       "</style>\n",
       "<table border=\"1\" class=\"dataframe\">\n",
       "  <thead>\n",
       "    <tr style=\"text-align: right;\">\n",
       "      <th></th>\n",
       "      <th>employee_id</th>\n",
       "      <th>company_id</th>\n",
       "      <th>dept</th>\n",
       "      <th>seniority</th>\n",
       "      <th>salary</th>\n",
       "      <th>join_date</th>\n",
       "      <th>quit_date</th>\n",
       "    </tr>\n",
       "  </thead>\n",
       "  <tbody>\n",
       "    <tr>\n",
       "      <th>0</th>\n",
       "      <td>13021.0</td>\n",
       "      <td>7</td>\n",
       "      <td>customer_service</td>\n",
       "      <td>28</td>\n",
       "      <td>89000.0</td>\n",
       "      <td>2014-03-24</td>\n",
       "      <td>2015-10-30</td>\n",
       "    </tr>\n",
       "    <tr>\n",
       "      <th>1</th>\n",
       "      <td>825355.0</td>\n",
       "      <td>7</td>\n",
       "      <td>marketing</td>\n",
       "      <td>20</td>\n",
       "      <td>183000.0</td>\n",
       "      <td>2013-04-29</td>\n",
       "      <td>2014-04-04</td>\n",
       "    </tr>\n",
       "    <tr>\n",
       "      <th>2</th>\n",
       "      <td>927315.0</td>\n",
       "      <td>4</td>\n",
       "      <td>marketing</td>\n",
       "      <td>14</td>\n",
       "      <td>101000.0</td>\n",
       "      <td>2014-10-13</td>\n",
       "      <td>NaT</td>\n",
       "    </tr>\n",
       "    <tr>\n",
       "      <th>3</th>\n",
       "      <td>662910.0</td>\n",
       "      <td>7</td>\n",
       "      <td>customer_service</td>\n",
       "      <td>20</td>\n",
       "      <td>115000.0</td>\n",
       "      <td>2012-05-14</td>\n",
       "      <td>2013-06-07</td>\n",
       "    </tr>\n",
       "    <tr>\n",
       "      <th>4</th>\n",
       "      <td>256971.0</td>\n",
       "      <td>2</td>\n",
       "      <td>data_science</td>\n",
       "      <td>23</td>\n",
       "      <td>276000.0</td>\n",
       "      <td>2011-10-17</td>\n",
       "      <td>2014-08-22</td>\n",
       "    </tr>\n",
       "  </tbody>\n",
       "</table>\n",
       "</div>"
      ],
      "text/plain": [
       "   employee_id  company_id              dept  seniority    salary  join_date  \\\n",
       "0      13021.0           7  customer_service         28   89000.0 2014-03-24   \n",
       "1     825355.0           7         marketing         20  183000.0 2013-04-29   \n",
       "2     927315.0           4         marketing         14  101000.0 2014-10-13   \n",
       "3     662910.0           7  customer_service         20  115000.0 2012-05-14   \n",
       "4     256971.0           2      data_science         23  276000.0 2011-10-17   \n",
       "\n",
       "   quit_date  \n",
       "0 2015-10-30  \n",
       "1 2014-04-04  \n",
       "2        NaT  \n",
       "3 2013-06-07  \n",
       "4 2014-08-22  "
      ]
     },
     "execution_count": 7,
     "metadata": {},
     "output_type": "execute_result"
    }
   ],
   "source": [
    "raw_data_df.head()"
   ]
  },
  {
   "cell_type": "code",
   "execution_count": 8,
   "metadata": {},
   "outputs": [
    {
     "data": {
      "text/plain": [
       "(24702, 7)"
      ]
     },
     "execution_count": 8,
     "metadata": {},
     "output_type": "execute_result"
    }
   ],
   "source": [
    "raw_data_df.shape"
   ]
  },
  {
   "cell_type": "code",
   "execution_count": null,
   "metadata": {},
   "outputs": [],
   "source": []
  },
  {
   "cell_type": "markdown",
   "metadata": {},
   "source": [
    "## play with data"
   ]
  },
  {
   "cell_type": "code",
   "execution_count": 9,
   "metadata": {},
   "outputs": [
    {
     "data": {
      "text/plain": [
       "(24702, 999969.0, 36.0)"
      ]
     },
     "execution_count": 9,
     "metadata": {},
     "output_type": "execute_result"
    }
   ],
   "source": [
    "tmp_array = (raw_data_df.employee_id.unique())\n",
    "len(tmp_array), max(tmp_array), min(tmp_array),"
   ]
  },
  {
   "cell_type": "code",
   "execution_count": null,
   "metadata": {},
   "outputs": [],
   "source": []
  },
  {
   "cell_type": "code",
   "execution_count": 10,
   "metadata": {},
   "outputs": [
    {
     "data": {
      "text/plain": [
       "12"
      ]
     },
     "execution_count": 10,
     "metadata": {},
     "output_type": "execute_result"
    }
   ],
   "source": [
    "len(raw_data_df.company_id.unique())"
   ]
  },
  {
   "cell_type": "code",
   "execution_count": 11,
   "metadata": {},
   "outputs": [
    {
     "data": {
      "text/plain": [
       "6"
      ]
     },
     "execution_count": 11,
     "metadata": {},
     "output_type": "execute_result"
    }
   ],
   "source": [
    "len(raw_data_df.dept.unique())"
   ]
  },
  {
   "cell_type": "code",
   "execution_count": 12,
   "metadata": {},
   "outputs": [
    {
     "data": {
      "text/plain": [
       "(31, 99, 1)"
      ]
     },
     "execution_count": 12,
     "metadata": {},
     "output_type": "execute_result"
    }
   ],
   "source": [
    "tmp_array = (raw_data_df.seniority.unique())\n",
    "len(tmp_array), max(tmp_array), min(tmp_array),"
   ]
  },
  {
   "cell_type": "code",
   "execution_count": 13,
   "metadata": {},
   "outputs": [
    {
     "data": {
      "image/png": "[encoded data removed]",
      "text/plain": [
       "<Figure size 432x288 with 1 Axes>"
      ]
     },
     "metadata": {
      "needs_background": "light"
     },
     "output_type": "display_data"
    }
   ],
   "source": [
    "tmp_array =  raw_data_df.seniority\n",
    "\n",
    "num_bins = 50\n",
    "n, bins, patches = plt.hist(tmp_array, num_bins, facecolor='blue', alpha=0.5)\n",
    "plt.show()"
   ]
  },
  {
   "cell_type": "code",
   "execution_count": 14,
   "metadata": {
    "scrolled": true
   },
   "outputs": [
    {
     "data": {
      "text/plain": [
       "(995,\n",
       " numpy.datetime64('2015-12-10T00:00:00.000000000'),\n",
       " numpy.datetime64('2011-01-24T00:00:00.000000000'))"
      ]
     },
     "execution_count": 14,
     "metadata": {},
     "output_type": "execute_result"
    }
   ],
   "source": [
    "\n",
    "tmp_array_join_date = (raw_data_df.join_date.unique())\n",
    "len(tmp_array_join_date), max(tmp_array_join_date), min(tmp_array_join_date),"
   ]
  },
  {
   "cell_type": "code",
   "execution_count": 15,
   "metadata": {},
   "outputs": [
    {
     "data": {
      "text/html": [
       "<div>\n",
       "<style>\n",
       "    .dataframe thead tr:only-child th {\n",
       "        text-align: right;\n",
       "    }\n",
       "\n",
       "    .dataframe thead th {\n",
       "        text-align: left;\n",
       "    }\n",
       "\n",
       "    .dataframe tbody tr th {\n",
       "        vertical-align: top;\n",
       "    }\n",
       "</style>\n",
       "<table border=\"1\" class=\"dataframe\">\n",
       "  <thead>\n",
       "    <tr style=\"text-align: right;\">\n",
       "      <th></th>\n",
       "      <th>employee_id</th>\n",
       "      <th>company_id</th>\n",
       "      <th>dept</th>\n",
       "      <th>seniority</th>\n",
       "      <th>salary</th>\n",
       "      <th>join_date</th>\n",
       "      <th>quit_date</th>\n",
       "    </tr>\n",
       "  </thead>\n",
       "  <tbody>\n",
       "    <tr>\n",
       "      <th>0</th>\n",
       "      <td>13021.0</td>\n",
       "      <td>7</td>\n",
       "      <td>customer_service</td>\n",
       "      <td>28</td>\n",
       "      <td>89000.0</td>\n",
       "      <td>2014-03-24</td>\n",
       "      <td>2015-10-30</td>\n",
       "    </tr>\n",
       "    <tr>\n",
       "      <th>1</th>\n",
       "      <td>825355.0</td>\n",
       "      <td>7</td>\n",
       "      <td>marketing</td>\n",
       "      <td>20</td>\n",
       "      <td>183000.0</td>\n",
       "      <td>2013-04-29</td>\n",
       "      <td>2014-04-04</td>\n",
       "    </tr>\n",
       "    <tr>\n",
       "      <th>2</th>\n",
       "      <td>927315.0</td>\n",
       "      <td>4</td>\n",
       "      <td>marketing</td>\n",
       "      <td>14</td>\n",
       "      <td>101000.0</td>\n",
       "      <td>2014-10-13</td>\n",
       "      <td>NaT</td>\n",
       "    </tr>\n",
       "    <tr>\n",
       "      <th>3</th>\n",
       "      <td>662910.0</td>\n",
       "      <td>7</td>\n",
       "      <td>customer_service</td>\n",
       "      <td>20</td>\n",
       "      <td>115000.0</td>\n",
       "      <td>2012-05-14</td>\n",
       "      <td>2013-06-07</td>\n",
       "    </tr>\n",
       "    <tr>\n",
       "      <th>4</th>\n",
       "      <td>256971.0</td>\n",
       "      <td>2</td>\n",
       "      <td>data_science</td>\n",
       "      <td>23</td>\n",
       "      <td>276000.0</td>\n",
       "      <td>2011-10-17</td>\n",
       "      <td>2014-08-22</td>\n",
       "    </tr>\n",
       "  </tbody>\n",
       "</table>\n",
       "</div>"
      ],
      "text/plain": [
       "   employee_id  company_id              dept  seniority    salary  join_date  \\\n",
       "0      13021.0           7  customer_service         28   89000.0 2014-03-24   \n",
       "1     825355.0           7         marketing         20  183000.0 2013-04-29   \n",
       "2     927315.0           4         marketing         14  101000.0 2014-10-13   \n",
       "3     662910.0           7  customer_service         20  115000.0 2012-05-14   \n",
       "4     256971.0           2      data_science         23  276000.0 2011-10-17   \n",
       "\n",
       "   quit_date  \n",
       "0 2015-10-30  \n",
       "1 2014-04-04  \n",
       "2        NaT  \n",
       "3 2013-06-07  \n",
       "4 2014-08-22  "
      ]
     },
     "execution_count": 15,
     "metadata": {},
     "output_type": "execute_result"
    }
   ],
   "source": [
    "raw_data_df.head()"
   ]
  },
  {
   "cell_type": "code",
   "execution_count": 16,
   "metadata": {},
   "outputs": [],
   "source": [
    "raw_data_df['join_day'] = (raw_data_df.join_date - min(tmp_array_join_date)).astype('timedelta64[D]') \n",
    "\n",
    "raw_data_df['quit_day'] = (raw_data_df.quit_date - min(tmp_array_join_date)).astype('timedelta64[D]')\n",
    "\n",
    "\n",
    "# raw_data_df['stay_days'] = raw_data_df['quit_days'] - raw_data_df['join_days'] "
   ]
  },
  {
   "cell_type": "code",
   "execution_count": 17,
   "metadata": {},
   "outputs": [],
   "source": [
    "# raw_data_df.quit_day"
   ]
  },
  {
   "cell_type": "code",
   "execution_count": 18,
   "metadata": {},
   "outputs": [],
   "source": [
    "raw_data_df['if_quit'] = -raw_data_df.quit_date.isnull()"
   ]
  },
  {
   "cell_type": "code",
   "execution_count": 19,
   "metadata": {},
   "outputs": [],
   "source": [
    "raw_data_df['last_day'] = raw_data_df.quit_day"
   ]
  },
  {
   "cell_type": "code",
   "execution_count": 20,
   "metadata": {},
   "outputs": [
    {
     "data": {
      "text/html": [
       "<div>\n",
       "<style>\n",
       "    .dataframe thead tr:only-child th {\n",
       "        text-align: right;\n",
       "    }\n",
       "\n",
       "    .dataframe thead th {\n",
       "        text-align: left;\n",
       "    }\n",
       "\n",
       "    .dataframe tbody tr th {\n",
       "        vertical-align: top;\n",
       "    }\n",
       "</style>\n",
       "<table border=\"1\" class=\"dataframe\">\n",
       "  <thead>\n",
       "    <tr style=\"text-align: right;\">\n",
       "      <th></th>\n",
       "      <th>employee_id</th>\n",
       "      <th>company_id</th>\n",
       "      <th>dept</th>\n",
       "      <th>seniority</th>\n",
       "      <th>salary</th>\n",
       "      <th>join_date</th>\n",
       "      <th>quit_date</th>\n",
       "      <th>join_day</th>\n",
       "      <th>quit_day</th>\n",
       "      <th>if_quit</th>\n",
       "      <th>last_day</th>\n",
       "    </tr>\n",
       "  </thead>\n",
       "  <tbody>\n",
       "    <tr>\n",
       "      <th>0</th>\n",
       "      <td>13021.0</td>\n",
       "      <td>7</td>\n",
       "      <td>customer_service</td>\n",
       "      <td>28</td>\n",
       "      <td>89000.0</td>\n",
       "      <td>2014-03-24</td>\n",
       "      <td>2015-10-30</td>\n",
       "      <td>1155.0</td>\n",
       "      <td>1740.0</td>\n",
       "      <td>True</td>\n",
       "      <td>1740.0</td>\n",
       "    </tr>\n",
       "    <tr>\n",
       "      <th>1</th>\n",
       "      <td>825355.0</td>\n",
       "      <td>7</td>\n",
       "      <td>marketing</td>\n",
       "      <td>20</td>\n",
       "      <td>183000.0</td>\n",
       "      <td>2013-04-29</td>\n",
       "      <td>2014-04-04</td>\n",
       "      <td>826.0</td>\n",
       "      <td>1166.0</td>\n",
       "      <td>True</td>\n",
       "      <td>1166.0</td>\n",
       "    </tr>\n",
       "    <tr>\n",
       "      <th>2</th>\n",
       "      <td>927315.0</td>\n",
       "      <td>4</td>\n",
       "      <td>marketing</td>\n",
       "      <td>14</td>\n",
       "      <td>101000.0</td>\n",
       "      <td>2014-10-13</td>\n",
       "      <td>NaT</td>\n",
       "      <td>1358.0</td>\n",
       "      <td>NaN</td>\n",
       "      <td>False</td>\n",
       "      <td>NaN</td>\n",
       "    </tr>\n",
       "    <tr>\n",
       "      <th>3</th>\n",
       "      <td>662910.0</td>\n",
       "      <td>7</td>\n",
       "      <td>customer_service</td>\n",
       "      <td>20</td>\n",
       "      <td>115000.0</td>\n",
       "      <td>2012-05-14</td>\n",
       "      <td>2013-06-07</td>\n",
       "      <td>476.0</td>\n",
       "      <td>865.0</td>\n",
       "      <td>True</td>\n",
       "      <td>865.0</td>\n",
       "    </tr>\n",
       "    <tr>\n",
       "      <th>4</th>\n",
       "      <td>256971.0</td>\n",
       "      <td>2</td>\n",
       "      <td>data_science</td>\n",
       "      <td>23</td>\n",
       "      <td>276000.0</td>\n",
       "      <td>2011-10-17</td>\n",
       "      <td>2014-08-22</td>\n",
       "      <td>266.0</td>\n",
       "      <td>1306.0</td>\n",
       "      <td>True</td>\n",
       "      <td>1306.0</td>\n",
       "    </tr>\n",
       "  </tbody>\n",
       "</table>\n",
       "</div>"
      ],
      "text/plain": [
       "   employee_id  company_id              dept  seniority    salary  join_date  \\\n",
       "0      13021.0           7  customer_service         28   89000.0 2014-03-24   \n",
       "1     825355.0           7         marketing         20  183000.0 2013-04-29   \n",
       "2     927315.0           4         marketing         14  101000.0 2014-10-13   \n",
       "3     662910.0           7  customer_service         20  115000.0 2012-05-14   \n",
       "4     256971.0           2      data_science         23  276000.0 2011-10-17   \n",
       "\n",
       "   quit_date  join_day  quit_day  if_quit  last_day  \n",
       "0 2015-10-30    1155.0    1740.0     True    1740.0  \n",
       "1 2014-04-04     826.0    1166.0     True    1166.0  \n",
       "2        NaT    1358.0       NaN    False       NaN  \n",
       "3 2013-06-07     476.0     865.0     True     865.0  \n",
       "4 2014-08-22     266.0    1306.0     True    1306.0  "
      ]
     },
     "execution_count": 20,
     "metadata": {},
     "output_type": "execute_result"
    }
   ],
   "source": [
    "raw_data_df.head()"
   ]
  },
  {
   "cell_type": "code",
   "execution_count": 21,
   "metadata": {},
   "outputs": [],
   "source": [
    "last_day = (np.datetime64('2015-12-13')-min(tmp_array_join_date)).astype('timedelta64[D]').astype('float')"
   ]
  },
  {
   "cell_type": "code",
   "execution_count": 22,
   "metadata": {},
   "outputs": [],
   "source": [
    "na_dict = {'last_day':last_day}\n",
    "raw_data_df=raw_data_df.fillna(na_dict)"
   ]
  },
  {
   "cell_type": "code",
   "execution_count": 23,
   "metadata": {},
   "outputs": [
    {
     "data": {
      "text/html": [
       "<div>\n",
       "<style>\n",
       "    .dataframe thead tr:only-child th {\n",
       "        text-align: right;\n",
       "    }\n",
       "\n",
       "    .dataframe thead th {\n",
       "        text-align: left;\n",
       "    }\n",
       "\n",
       "    .dataframe tbody tr th {\n",
       "        vertical-align: top;\n",
       "    }\n",
       "</style>\n",
       "<table border=\"1\" class=\"dataframe\">\n",
       "  <thead>\n",
       "    <tr style=\"text-align: right;\">\n",
       "      <th></th>\n",
       "      <th>employee_id</th>\n",
       "      <th>company_id</th>\n",
       "      <th>dept</th>\n",
       "      <th>seniority</th>\n",
       "      <th>salary</th>\n",
       "      <th>join_date</th>\n",
       "      <th>quit_date</th>\n",
       "      <th>join_day</th>\n",
       "      <th>quit_day</th>\n",
       "      <th>if_quit</th>\n",
       "      <th>last_day</th>\n",
       "    </tr>\n",
       "  </thead>\n",
       "  <tbody>\n",
       "    <tr>\n",
       "      <th>0</th>\n",
       "      <td>13021.0</td>\n",
       "      <td>7</td>\n",
       "      <td>customer_service</td>\n",
       "      <td>28</td>\n",
       "      <td>89000.0</td>\n",
       "      <td>2014-03-24</td>\n",
       "      <td>2015-10-30</td>\n",
       "      <td>1155.0</td>\n",
       "      <td>1740.0</td>\n",
       "      <td>True</td>\n",
       "      <td>1740.0</td>\n",
       "    </tr>\n",
       "    <tr>\n",
       "      <th>1</th>\n",
       "      <td>825355.0</td>\n",
       "      <td>7</td>\n",
       "      <td>marketing</td>\n",
       "      <td>20</td>\n",
       "      <td>183000.0</td>\n",
       "      <td>2013-04-29</td>\n",
       "      <td>2014-04-04</td>\n",
       "      <td>826.0</td>\n",
       "      <td>1166.0</td>\n",
       "      <td>True</td>\n",
       "      <td>1166.0</td>\n",
       "    </tr>\n",
       "    <tr>\n",
       "      <th>2</th>\n",
       "      <td>927315.0</td>\n",
       "      <td>4</td>\n",
       "      <td>marketing</td>\n",
       "      <td>14</td>\n",
       "      <td>101000.0</td>\n",
       "      <td>2014-10-13</td>\n",
       "      <td>NaT</td>\n",
       "      <td>1358.0</td>\n",
       "      <td>NaN</td>\n",
       "      <td>False</td>\n",
       "      <td>1784.0</td>\n",
       "    </tr>\n",
       "    <tr>\n",
       "      <th>3</th>\n",
       "      <td>662910.0</td>\n",
       "      <td>7</td>\n",
       "      <td>customer_service</td>\n",
       "      <td>20</td>\n",
       "      <td>115000.0</td>\n",
       "      <td>2012-05-14</td>\n",
       "      <td>2013-06-07</td>\n",
       "      <td>476.0</td>\n",
       "      <td>865.0</td>\n",
       "      <td>True</td>\n",
       "      <td>865.0</td>\n",
       "    </tr>\n",
       "    <tr>\n",
       "      <th>4</th>\n",
       "      <td>256971.0</td>\n",
       "      <td>2</td>\n",
       "      <td>data_science</td>\n",
       "      <td>23</td>\n",
       "      <td>276000.0</td>\n",
       "      <td>2011-10-17</td>\n",
       "      <td>2014-08-22</td>\n",
       "      <td>266.0</td>\n",
       "      <td>1306.0</td>\n",
       "      <td>True</td>\n",
       "      <td>1306.0</td>\n",
       "    </tr>\n",
       "  </tbody>\n",
       "</table>\n",
       "</div>"
      ],
      "text/plain": [
       "   employee_id  company_id              dept  seniority    salary  join_date  \\\n",
       "0      13021.0           7  customer_service         28   89000.0 2014-03-24   \n",
       "1     825355.0           7         marketing         20  183000.0 2013-04-29   \n",
       "2     927315.0           4         marketing         14  101000.0 2014-10-13   \n",
       "3     662910.0           7  customer_service         20  115000.0 2012-05-14   \n",
       "4     256971.0           2      data_science         23  276000.0 2011-10-17   \n",
       "\n",
       "   quit_date  join_day  quit_day  if_quit  last_day  \n",
       "0 2015-10-30    1155.0    1740.0     True    1740.0  \n",
       "1 2014-04-04     826.0    1166.0     True    1166.0  \n",
       "2        NaT    1358.0       NaN    False    1784.0  \n",
       "3 2013-06-07     476.0     865.0     True     865.0  \n",
       "4 2014-08-22     266.0    1306.0     True    1306.0  "
      ]
     },
     "execution_count": 23,
     "metadata": {},
     "output_type": "execute_result"
    }
   ],
   "source": [
    "raw_data_df.head()"
   ]
  },
  {
   "cell_type": "code",
   "execution_count": 24,
   "metadata": {},
   "outputs": [],
   "source": [
    "raw_data_df['stay_days'] = raw_data_df.last_day - raw_data_df.join_day"
   ]
  },
  {
   "cell_type": "code",
   "execution_count": 25,
   "metadata": {},
   "outputs": [
    {
     "data": {
      "text/plain": [
       "(1353, 1777.0, 3.0)"
      ]
     },
     "execution_count": 25,
     "metadata": {},
     "output_type": "execute_result"
    }
   ],
   "source": [
    "tmp_array = (raw_data_df.stay_days.unique())\n",
    "len(tmp_array), max(tmp_array), min(tmp_array),"
   ]
  },
  {
   "cell_type": "code",
   "execution_count": 26,
   "metadata": {
    "scrolled": false
   },
   "outputs": [
    {
     "data": {
      "image/png": "[encoded data removed]",
      "text/plain": [
       "<Figure size 432x288 with 1 Axes>"
      ]
     },
     "metadata": {
      "needs_background": "light"
     },
     "output_type": "display_data"
    }
   ],
   "source": [
    "raw_data_df\n",
    "\n",
    "tmp_array =  raw_data_df.stay_days\n",
    "\n",
    "num_bins = 50\n",
    "n, bins, patches = plt.hist(tmp_array, num_bins, facecolor='blue', alpha=0.5)\n",
    "plt.show()"
   ]
  },
  {
   "cell_type": "code",
   "execution_count": null,
   "metadata": {},
   "outputs": [],
   "source": []
  },
  {
   "cell_type": "markdown",
   "metadata": {},
   "source": [
    "## split into 2 groups: quit & not_quit"
   ]
  },
  {
   "cell_type": "code",
   "execution_count": 27,
   "metadata": {
    "scrolled": true
   },
   "outputs": [
    {
     "data": {
      "text/html": [
       "<div>\n",
       "<style>\n",
       "    .dataframe thead tr:only-child th {\n",
       "        text-align: right;\n",
       "    }\n",
       "\n",
       "    .dataframe thead th {\n",
       "        text-align: left;\n",
       "    }\n",
       "\n",
       "    .dataframe tbody tr th {\n",
       "        vertical-align: top;\n",
       "    }\n",
       "</style>\n",
       "<table border=\"1\" class=\"dataframe\">\n",
       "  <thead>\n",
       "    <tr style=\"text-align: right;\">\n",
       "      <th></th>\n",
       "      <th>employee_id</th>\n",
       "      <th>company_id</th>\n",
       "      <th>dept</th>\n",
       "      <th>seniority</th>\n",
       "      <th>salary</th>\n",
       "      <th>join_date</th>\n",
       "      <th>quit_date</th>\n",
       "      <th>join_day</th>\n",
       "      <th>quit_day</th>\n",
       "      <th>if_quit</th>\n",
       "      <th>last_day</th>\n",
       "      <th>stay_days</th>\n",
       "    </tr>\n",
       "  </thead>\n",
       "  <tbody>\n",
       "    <tr>\n",
       "      <th>0</th>\n",
       "      <td>13021.0</td>\n",
       "      <td>7</td>\n",
       "      <td>customer_service</td>\n",
       "      <td>28</td>\n",
       "      <td>89000.0</td>\n",
       "      <td>2014-03-24</td>\n",
       "      <td>2015-10-30</td>\n",
       "      <td>1155.0</td>\n",
       "      <td>1740.0</td>\n",
       "      <td>True</td>\n",
       "      <td>1740.0</td>\n",
       "      <td>585.0</td>\n",
       "    </tr>\n",
       "    <tr>\n",
       "      <th>1</th>\n",
       "      <td>825355.0</td>\n",
       "      <td>7</td>\n",
       "      <td>marketing</td>\n",
       "      <td>20</td>\n",
       "      <td>183000.0</td>\n",
       "      <td>2013-04-29</td>\n",
       "      <td>2014-04-04</td>\n",
       "      <td>826.0</td>\n",
       "      <td>1166.0</td>\n",
       "      <td>True</td>\n",
       "      <td>1166.0</td>\n",
       "      <td>340.0</td>\n",
       "    </tr>\n",
       "    <tr>\n",
       "      <th>2</th>\n",
       "      <td>927315.0</td>\n",
       "      <td>4</td>\n",
       "      <td>marketing</td>\n",
       "      <td>14</td>\n",
       "      <td>101000.0</td>\n",
       "      <td>2014-10-13</td>\n",
       "      <td>NaT</td>\n",
       "      <td>1358.0</td>\n",
       "      <td>NaN</td>\n",
       "      <td>False</td>\n",
       "      <td>1784.0</td>\n",
       "      <td>426.0</td>\n",
       "    </tr>\n",
       "    <tr>\n",
       "      <th>3</th>\n",
       "      <td>662910.0</td>\n",
       "      <td>7</td>\n",
       "      <td>customer_service</td>\n",
       "      <td>20</td>\n",
       "      <td>115000.0</td>\n",
       "      <td>2012-05-14</td>\n",
       "      <td>2013-06-07</td>\n",
       "      <td>476.0</td>\n",
       "      <td>865.0</td>\n",
       "      <td>True</td>\n",
       "      <td>865.0</td>\n",
       "      <td>389.0</td>\n",
       "    </tr>\n",
       "    <tr>\n",
       "      <th>4</th>\n",
       "      <td>256971.0</td>\n",
       "      <td>2</td>\n",
       "      <td>data_science</td>\n",
       "      <td>23</td>\n",
       "      <td>276000.0</td>\n",
       "      <td>2011-10-17</td>\n",
       "      <td>2014-08-22</td>\n",
       "      <td>266.0</td>\n",
       "      <td>1306.0</td>\n",
       "      <td>True</td>\n",
       "      <td>1306.0</td>\n",
       "      <td>1040.0</td>\n",
       "    </tr>\n",
       "  </tbody>\n",
       "</table>\n",
       "</div>"
      ],
      "text/plain": [
       "   employee_id  company_id              dept  seniority    salary  join_date  \\\n",
       "0      13021.0           7  customer_service         28   89000.0 2014-03-24   \n",
       "1     825355.0           7         marketing         20  183000.0 2013-04-29   \n",
       "2     927315.0           4         marketing         14  101000.0 2014-10-13   \n",
       "3     662910.0           7  customer_service         20  115000.0 2012-05-14   \n",
       "4     256971.0           2      data_science         23  276000.0 2011-10-17   \n",
       "\n",
       "   quit_date  join_day  quit_day  if_quit  last_day  stay_days  \n",
       "0 2015-10-30    1155.0    1740.0     True    1740.0      585.0  \n",
       "1 2014-04-04     826.0    1166.0     True    1166.0      340.0  \n",
       "2        NaT    1358.0       NaN    False    1784.0      426.0  \n",
       "3 2013-06-07     476.0     865.0     True     865.0      389.0  \n",
       "4 2014-08-22     266.0    1306.0     True    1306.0     1040.0  "
      ]
     },
     "execution_count": 27,
     "metadata": {},
     "output_type": "execute_result"
    }
   ],
   "source": [
    "raw_data_df.head()"
   ]
  },
  {
   "cell_type": "code",
   "execution_count": 28,
   "metadata": {},
   "outputs": [],
   "source": [
    "raw_data_df_save = raw_data_df.copy(deep=True)"
   ]
  },
  {
   "cell_type": "code",
   "execution_count": 29,
   "metadata": {
    "scrolled": true
   },
   "outputs": [
    {
     "data": {
      "text/html": [
       "<div>\n",
       "<style>\n",
       "    .dataframe thead tr:only-child th {\n",
       "        text-align: right;\n",
       "    }\n",
       "\n",
       "    .dataframe thead th {\n",
       "        text-align: left;\n",
       "    }\n",
       "\n",
       "    .dataframe tbody tr th {\n",
       "        vertical-align: top;\n",
       "    }\n",
       "</style>\n",
       "<table border=\"1\" class=\"dataframe\">\n",
       "  <thead>\n",
       "    <tr style=\"text-align: right;\">\n",
       "      <th></th>\n",
       "      <th>employee_id</th>\n",
       "      <th>company_id</th>\n",
       "      <th>dept</th>\n",
       "      <th>seniority</th>\n",
       "      <th>salary</th>\n",
       "      <th>join_date</th>\n",
       "      <th>quit_date</th>\n",
       "      <th>join_day</th>\n",
       "      <th>if_quit</th>\n",
       "      <th>last_day</th>\n",
       "      <th>stay_days</th>\n",
       "    </tr>\n",
       "  </thead>\n",
       "  <tbody>\n",
       "    <tr>\n",
       "      <th>0</th>\n",
       "      <td>13021.0</td>\n",
       "      <td>7</td>\n",
       "      <td>customer_service</td>\n",
       "      <td>28</td>\n",
       "      <td>89000.0</td>\n",
       "      <td>2014-03-24</td>\n",
       "      <td>2015-10-30</td>\n",
       "      <td>1155.0</td>\n",
       "      <td>True</td>\n",
       "      <td>1740.0</td>\n",
       "      <td>585.0</td>\n",
       "    </tr>\n",
       "    <tr>\n",
       "      <th>1</th>\n",
       "      <td>825355.0</td>\n",
       "      <td>7</td>\n",
       "      <td>marketing</td>\n",
       "      <td>20</td>\n",
       "      <td>183000.0</td>\n",
       "      <td>2013-04-29</td>\n",
       "      <td>2014-04-04</td>\n",
       "      <td>826.0</td>\n",
       "      <td>True</td>\n",
       "      <td>1166.0</td>\n",
       "      <td>340.0</td>\n",
       "    </tr>\n",
       "    <tr>\n",
       "      <th>2</th>\n",
       "      <td>927315.0</td>\n",
       "      <td>4</td>\n",
       "      <td>marketing</td>\n",
       "      <td>14</td>\n",
       "      <td>101000.0</td>\n",
       "      <td>2014-10-13</td>\n",
       "      <td>NaT</td>\n",
       "      <td>1358.0</td>\n",
       "      <td>False</td>\n",
       "      <td>1784.0</td>\n",
       "      <td>426.0</td>\n",
       "    </tr>\n",
       "    <tr>\n",
       "      <th>3</th>\n",
       "      <td>662910.0</td>\n",
       "      <td>7</td>\n",
       "      <td>customer_service</td>\n",
       "      <td>20</td>\n",
       "      <td>115000.0</td>\n",
       "      <td>2012-05-14</td>\n",
       "      <td>2013-06-07</td>\n",
       "      <td>476.0</td>\n",
       "      <td>True</td>\n",
       "      <td>865.0</td>\n",
       "      <td>389.0</td>\n",
       "    </tr>\n",
       "    <tr>\n",
       "      <th>4</th>\n",
       "      <td>256971.0</td>\n",
       "      <td>2</td>\n",
       "      <td>data_science</td>\n",
       "      <td>23</td>\n",
       "      <td>276000.0</td>\n",
       "      <td>2011-10-17</td>\n",
       "      <td>2014-08-22</td>\n",
       "      <td>266.0</td>\n",
       "      <td>True</td>\n",
       "      <td>1306.0</td>\n",
       "      <td>1040.0</td>\n",
       "    </tr>\n",
       "  </tbody>\n",
       "</table>\n",
       "</div>"
      ],
      "text/plain": [
       "   employee_id  company_id              dept  seniority    salary  join_date  \\\n",
       "0      13021.0           7  customer_service         28   89000.0 2014-03-24   \n",
       "1     825355.0           7         marketing         20  183000.0 2013-04-29   \n",
       "2     927315.0           4         marketing         14  101000.0 2014-10-13   \n",
       "3     662910.0           7  customer_service         20  115000.0 2012-05-14   \n",
       "4     256971.0           2      data_science         23  276000.0 2011-10-17   \n",
       "\n",
       "   quit_date  join_day  if_quit  last_day  stay_days  \n",
       "0 2015-10-30    1155.0     True    1740.0      585.0  \n",
       "1 2014-04-04     826.0     True    1166.0      340.0  \n",
       "2        NaT    1358.0    False    1784.0      426.0  \n",
       "3 2013-06-07     476.0     True     865.0      389.0  \n",
       "4 2014-08-22     266.0     True    1306.0     1040.0  "
      ]
     },
     "execution_count": 29,
     "metadata": {},
     "output_type": "execute_result"
    }
   ],
   "source": [
    "raw_data_df = raw_data_df_save.drop(['quit_day'], axis=1)\n",
    "raw_data_df.head()"
   ]
  },
  {
   "cell_type": "code",
   "execution_count": null,
   "metadata": {},
   "outputs": [],
   "source": []
  },
  {
   "cell_type": "code",
   "execution_count": 30,
   "metadata": {},
   "outputs": [],
   "source": [
    "quit_raw_data_df = raw_data_df[raw_data_df.if_quit == 1]\n",
    "no_quit_raw_data_df = raw_data_df[raw_data_df.if_quit == 0]"
   ]
  },
  {
   "cell_type": "code",
   "execution_count": 31,
   "metadata": {},
   "outputs": [
    {
     "data": {
      "text/plain": [
       "((24702, 11), (13510, 11), (11192, 11))"
      ]
     },
     "execution_count": 31,
     "metadata": {},
     "output_type": "execute_result"
    }
   ],
   "source": [
    "raw_data_df.shape, quit_raw_data_df.shape, no_quit_raw_data_df.shape"
   ]
  },
  {
   "cell_type": "code",
   "execution_count": null,
   "metadata": {},
   "outputs": [],
   "source": []
  },
  {
   "cell_type": "markdown",
   "metadata": {},
   "source": [
    "### Compare quit vs no_quit"
   ]
  },
  {
   "cell_type": "code",
   "execution_count": 32,
   "metadata": {},
   "outputs": [
    {
     "data": {
      "text/plain": [
       "(613.4868245743893, 527.0392244460329)"
      ]
     },
     "execution_count": 32,
     "metadata": {},
     "output_type": "execute_result"
    }
   ],
   "source": [
    "quit_raw_data_df.stay_days.mean(),  no_quit_raw_data_df.stay_days.mean()"
   ]
  },
  {
   "cell_type": "code",
   "execution_count": 33,
   "metadata": {},
   "outputs": [],
   "source": [
    "quit_company_mean = quit_raw_data_df.groupby(['company_id'])['stay_days'].mean().values\n",
    "no_quit_company_mean = no_quit_raw_data_df.groupby(['company_id'])['stay_days'].mean().values\n",
    "company_id = quit_raw_data_df.groupby(['company_id'])['stay_days'].mean().index.values"
   ]
  },
  {
   "cell_type": "code",
   "execution_count": null,
   "metadata": {},
   "outputs": [],
   "source": []
  },
  {
   "cell_type": "markdown",
   "metadata": {},
   "source": [
    "## only use quit_df: try to predict the stay_days"
   ]
  },
  {
   "cell_type": "code",
   "execution_count": 34,
   "metadata": {},
   "outputs": [
    {
     "data": {
      "text/html": [
       "<div>\n",
       "<style>\n",
       "    .dataframe thead tr:only-child th {\n",
       "        text-align: right;\n",
       "    }\n",
       "\n",
       "    .dataframe thead th {\n",
       "        text-align: left;\n",
       "    }\n",
       "\n",
       "    .dataframe tbody tr th {\n",
       "        vertical-align: top;\n",
       "    }\n",
       "</style>\n",
       "<table border=\"1\" class=\"dataframe\">\n",
       "  <thead>\n",
       "    <tr style=\"text-align: right;\">\n",
       "      <th></th>\n",
       "      <th>employee_id</th>\n",
       "      <th>company_id</th>\n",
       "      <th>dept</th>\n",
       "      <th>seniority</th>\n",
       "      <th>salary</th>\n",
       "      <th>join_date</th>\n",
       "      <th>quit_date</th>\n",
       "      <th>join_day</th>\n",
       "      <th>if_quit</th>\n",
       "      <th>last_day</th>\n",
       "      <th>stay_days</th>\n",
       "    </tr>\n",
       "  </thead>\n",
       "  <tbody>\n",
       "    <tr>\n",
       "      <th>0</th>\n",
       "      <td>13021.0</td>\n",
       "      <td>7</td>\n",
       "      <td>customer_service</td>\n",
       "      <td>28</td>\n",
       "      <td>89000.0</td>\n",
       "      <td>2014-03-24</td>\n",
       "      <td>2015-10-30</td>\n",
       "      <td>1155.0</td>\n",
       "      <td>True</td>\n",
       "      <td>1740.0</td>\n",
       "      <td>585.0</td>\n",
       "    </tr>\n",
       "    <tr>\n",
       "      <th>1</th>\n",
       "      <td>825355.0</td>\n",
       "      <td>7</td>\n",
       "      <td>marketing</td>\n",
       "      <td>20</td>\n",
       "      <td>183000.0</td>\n",
       "      <td>2013-04-29</td>\n",
       "      <td>2014-04-04</td>\n",
       "      <td>826.0</td>\n",
       "      <td>True</td>\n",
       "      <td>1166.0</td>\n",
       "      <td>340.0</td>\n",
       "    </tr>\n",
       "    <tr>\n",
       "      <th>3</th>\n",
       "      <td>662910.0</td>\n",
       "      <td>7</td>\n",
       "      <td>customer_service</td>\n",
       "      <td>20</td>\n",
       "      <td>115000.0</td>\n",
       "      <td>2012-05-14</td>\n",
       "      <td>2013-06-07</td>\n",
       "      <td>476.0</td>\n",
       "      <td>True</td>\n",
       "      <td>865.0</td>\n",
       "      <td>389.0</td>\n",
       "    </tr>\n",
       "    <tr>\n",
       "      <th>4</th>\n",
       "      <td>256971.0</td>\n",
       "      <td>2</td>\n",
       "      <td>data_science</td>\n",
       "      <td>23</td>\n",
       "      <td>276000.0</td>\n",
       "      <td>2011-10-17</td>\n",
       "      <td>2014-08-22</td>\n",
       "      <td>266.0</td>\n",
       "      <td>True</td>\n",
       "      <td>1306.0</td>\n",
       "      <td>1040.0</td>\n",
       "    </tr>\n",
       "    <tr>\n",
       "      <th>5</th>\n",
       "      <td>509529.0</td>\n",
       "      <td>4</td>\n",
       "      <td>data_science</td>\n",
       "      <td>14</td>\n",
       "      <td>165000.0</td>\n",
       "      <td>2012-01-30</td>\n",
       "      <td>2013-08-30</td>\n",
       "      <td>371.0</td>\n",
       "      <td>True</td>\n",
       "      <td>949.0</td>\n",
       "      <td>578.0</td>\n",
       "    </tr>\n",
       "  </tbody>\n",
       "</table>\n",
       "</div>"
      ],
      "text/plain": [
       "   employee_id  company_id              dept  seniority    salary  join_date  \\\n",
       "0      13021.0           7  customer_service         28   89000.0 2014-03-24   \n",
       "1     825355.0           7         marketing         20  183000.0 2013-04-29   \n",
       "3     662910.0           7  customer_service         20  115000.0 2012-05-14   \n",
       "4     256971.0           2      data_science         23  276000.0 2011-10-17   \n",
       "5     509529.0           4      data_science         14  165000.0 2012-01-30   \n",
       "\n",
       "   quit_date  join_day  if_quit  last_day  stay_days  \n",
       "0 2015-10-30    1155.0     True    1740.0      585.0  \n",
       "1 2014-04-04     826.0     True    1166.0      340.0  \n",
       "3 2013-06-07     476.0     True     865.0      389.0  \n",
       "4 2014-08-22     266.0     True    1306.0     1040.0  \n",
       "5 2013-08-30     371.0     True     949.0      578.0  "
      ]
     },
     "execution_count": 34,
     "metadata": {},
     "output_type": "execute_result"
    }
   ],
   "source": [
    "quit_raw_data_df.head()"
   ]
  },
  {
   "cell_type": "code",
   "execution_count": 35,
   "metadata": {},
   "outputs": [],
   "source": [
    "drop_column_list = [\n",
    "\n",
    "    'employee_id', 'join_date', 'join_date', 'quit_date',\n",
    "    'if_quit', 'last_day', '', '',\n",
    "    '', '', '', '',\n",
    "]\n",
    "\n",
    "drop_column_list = [i for i in drop_column_list if i is not '']\n",
    "\n",
    "quit_raw_data_df = quit_raw_data_df.drop(drop_column_list, axis=1)"
   ]
  },
  {
   "cell_type": "code",
   "execution_count": 36,
   "metadata": {},
   "outputs": [
    {
     "data": {
      "text/html": [
       "<div>\n",
       "<style>\n",
       "    .dataframe thead tr:only-child th {\n",
       "        text-align: right;\n",
       "    }\n",
       "\n",
       "    .dataframe thead th {\n",
       "        text-align: left;\n",
       "    }\n",
       "\n",
       "    .dataframe tbody tr th {\n",
       "        vertical-align: top;\n",
       "    }\n",
       "</style>\n",
       "<table border=\"1\" class=\"dataframe\">\n",
       "  <thead>\n",
       "    <tr style=\"text-align: right;\">\n",
       "      <th></th>\n",
       "      <th>company_id</th>\n",
       "      <th>dept</th>\n",
       "      <th>seniority</th>\n",
       "      <th>salary</th>\n",
       "      <th>join_day</th>\n",
       "      <th>stay_days</th>\n",
       "    </tr>\n",
       "  </thead>\n",
       "  <tbody>\n",
       "    <tr>\n",
       "      <th>0</th>\n",
       "      <td>7</td>\n",
       "      <td>customer_service</td>\n",
       "      <td>28</td>\n",
       "      <td>89000.0</td>\n",
       "      <td>1155.0</td>\n",
       "      <td>585.0</td>\n",
       "    </tr>\n",
       "    <tr>\n",
       "      <th>1</th>\n",
       "      <td>7</td>\n",
       "      <td>marketing</td>\n",
       "      <td>20</td>\n",
       "      <td>183000.0</td>\n",
       "      <td>826.0</td>\n",
       "      <td>340.0</td>\n",
       "    </tr>\n",
       "    <tr>\n",
       "      <th>3</th>\n",
       "      <td>7</td>\n",
       "      <td>customer_service</td>\n",
       "      <td>20</td>\n",
       "      <td>115000.0</td>\n",
       "      <td>476.0</td>\n",
       "      <td>389.0</td>\n",
       "    </tr>\n",
       "    <tr>\n",
       "      <th>4</th>\n",
       "      <td>2</td>\n",
       "      <td>data_science</td>\n",
       "      <td>23</td>\n",
       "      <td>276000.0</td>\n",
       "      <td>266.0</td>\n",
       "      <td>1040.0</td>\n",
       "    </tr>\n",
       "    <tr>\n",
       "      <th>5</th>\n",
       "      <td>4</td>\n",
       "      <td>data_science</td>\n",
       "      <td>14</td>\n",
       "      <td>165000.0</td>\n",
       "      <td>371.0</td>\n",
       "      <td>578.0</td>\n",
       "    </tr>\n",
       "  </tbody>\n",
       "</table>\n",
       "</div>"
      ],
      "text/plain": [
       "   company_id              dept  seniority    salary  join_day  stay_days\n",
       "0           7  customer_service         28   89000.0    1155.0      585.0\n",
       "1           7         marketing         20  183000.0     826.0      340.0\n",
       "3           7  customer_service         20  115000.0     476.0      389.0\n",
       "4           2      data_science         23  276000.0     266.0     1040.0\n",
       "5           4      data_science         14  165000.0     371.0      578.0"
      ]
     },
     "execution_count": 36,
     "metadata": {},
     "output_type": "execute_result"
    }
   ],
   "source": [
    "quit_raw_data_df.head()"
   ]
  },
  {
   "cell_type": "code",
   "execution_count": 37,
   "metadata": {},
   "outputs": [],
   "source": [
    "categorical=['company_id','dept']\n",
    "quit_raw_data_dummy_df=pd.get_dummies(quit_raw_data_df, columns=categorical)"
   ]
  },
  {
   "cell_type": "code",
   "execution_count": 38,
   "metadata": {
    "scrolled": false
   },
   "outputs": [
    {
     "data": {
      "text/html": [
       "<div>\n",
       "<style>\n",
       "    .dataframe thead tr:only-child th {\n",
       "        text-align: right;\n",
       "    }\n",
       "\n",
       "    .dataframe thead th {\n",
       "        text-align: left;\n",
       "    }\n",
       "\n",
       "    .dataframe tbody tr th {\n",
       "        vertical-align: top;\n",
       "    }\n",
       "</style>\n",
       "<table border=\"1\" class=\"dataframe\">\n",
       "  <thead>\n",
       "    <tr style=\"text-align: right;\">\n",
       "      <th></th>\n",
       "      <th>seniority</th>\n",
       "      <th>salary</th>\n",
       "      <th>join_day</th>\n",
       "      <th>stay_days</th>\n",
       "      <th>company_id_1</th>\n",
       "      <th>company_id_2</th>\n",
       "      <th>company_id_3</th>\n",
       "      <th>company_id_4</th>\n",
       "      <th>company_id_5</th>\n",
       "      <th>company_id_6</th>\n",
       "      <th>...</th>\n",
       "      <th>company_id_9</th>\n",
       "      <th>company_id_10</th>\n",
       "      <th>company_id_11</th>\n",
       "      <th>company_id_12</th>\n",
       "      <th>dept_customer_service</th>\n",
       "      <th>dept_data_science</th>\n",
       "      <th>dept_design</th>\n",
       "      <th>dept_engineer</th>\n",
       "      <th>dept_marketing</th>\n",
       "      <th>dept_sales</th>\n",
       "    </tr>\n",
       "  </thead>\n",
       "  <tbody>\n",
       "    <tr>\n",
       "      <th>0</th>\n",
       "      <td>28</td>\n",
       "      <td>89000.0</td>\n",
       "      <td>1155.0</td>\n",
       "      <td>585.0</td>\n",
       "      <td>0</td>\n",
       "      <td>0</td>\n",
       "      <td>0</td>\n",
       "      <td>0</td>\n",
       "      <td>0</td>\n",
       "      <td>0</td>\n",
       "      <td>...</td>\n",
       "      <td>0</td>\n",
       "      <td>0</td>\n",
       "      <td>0</td>\n",
       "      <td>0</td>\n",
       "      <td>1</td>\n",
       "      <td>0</td>\n",
       "      <td>0</td>\n",
       "      <td>0</td>\n",
       "      <td>0</td>\n",
       "      <td>0</td>\n",
       "    </tr>\n",
       "    <tr>\n",
       "      <th>1</th>\n",
       "      <td>20</td>\n",
       "      <td>183000.0</td>\n",
       "      <td>826.0</td>\n",
       "      <td>340.0</td>\n",
       "      <td>0</td>\n",
       "      <td>0</td>\n",
       "      <td>0</td>\n",
       "      <td>0</td>\n",
       "      <td>0</td>\n",
       "      <td>0</td>\n",
       "      <td>...</td>\n",
       "      <td>0</td>\n",
       "      <td>0</td>\n",
       "      <td>0</td>\n",
       "      <td>0</td>\n",
       "      <td>0</td>\n",
       "      <td>0</td>\n",
       "      <td>0</td>\n",
       "      <td>0</td>\n",
       "      <td>1</td>\n",
       "      <td>0</td>\n",
       "    </tr>\n",
       "    <tr>\n",
       "      <th>3</th>\n",
       "      <td>20</td>\n",
       "      <td>115000.0</td>\n",
       "      <td>476.0</td>\n",
       "      <td>389.0</td>\n",
       "      <td>0</td>\n",
       "      <td>0</td>\n",
       "      <td>0</td>\n",
       "      <td>0</td>\n",
       "      <td>0</td>\n",
       "      <td>0</td>\n",
       "      <td>...</td>\n",
       "      <td>0</td>\n",
       "      <td>0</td>\n",
       "      <td>0</td>\n",
       "      <td>0</td>\n",
       "      <td>1</td>\n",
       "      <td>0</td>\n",
       "      <td>0</td>\n",
       "      <td>0</td>\n",
       "      <td>0</td>\n",
       "      <td>0</td>\n",
       "    </tr>\n",
       "    <tr>\n",
       "      <th>4</th>\n",
       "      <td>23</td>\n",
       "      <td>276000.0</td>\n",
       "      <td>266.0</td>\n",
       "      <td>1040.0</td>\n",
       "      <td>0</td>\n",
       "      <td>1</td>\n",
       "      <td>0</td>\n",
       "      <td>0</td>\n",
       "      <td>0</td>\n",
       "      <td>0</td>\n",
       "      <td>...</td>\n",
       "      <td>0</td>\n",
       "      <td>0</td>\n",
       "      <td>0</td>\n",
       "      <td>0</td>\n",
       "      <td>0</td>\n",
       "      <td>1</td>\n",
       "      <td>0</td>\n",
       "      <td>0</td>\n",
       "      <td>0</td>\n",
       "      <td>0</td>\n",
       "    </tr>\n",
       "    <tr>\n",
       "      <th>5</th>\n",
       "      <td>14</td>\n",
       "      <td>165000.0</td>\n",
       "      <td>371.0</td>\n",
       "      <td>578.0</td>\n",
       "      <td>0</td>\n",
       "      <td>0</td>\n",
       "      <td>0</td>\n",
       "      <td>1</td>\n",
       "      <td>0</td>\n",
       "      <td>0</td>\n",
       "      <td>...</td>\n",
       "      <td>0</td>\n",
       "      <td>0</td>\n",
       "      <td>0</td>\n",
       "      <td>0</td>\n",
       "      <td>0</td>\n",
       "      <td>1</td>\n",
       "      <td>0</td>\n",
       "      <td>0</td>\n",
       "      <td>0</td>\n",
       "      <td>0</td>\n",
       "    </tr>\n",
       "  </tbody>\n",
       "</table>\n",
       "<p>5 rows × 22 columns</p>\n",
       "</div>"
      ],
      "text/plain": [
       "   seniority    salary  join_day  stay_days  company_id_1  company_id_2  \\\n",
       "0         28   89000.0    1155.0      585.0             0             0   \n",
       "1         20  183000.0     826.0      340.0             0             0   \n",
       "3         20  115000.0     476.0      389.0             0             0   \n",
       "4         23  276000.0     266.0     1040.0             0             1   \n",
       "5         14  165000.0     371.0      578.0             0             0   \n",
       "\n",
       "   company_id_3  company_id_4  company_id_5  company_id_6     ...      \\\n",
       "0             0             0             0             0     ...       \n",
       "1             0             0             0             0     ...       \n",
       "3             0             0             0             0     ...       \n",
       "4             0             0             0             0     ...       \n",
       "5             0             1             0             0     ...       \n",
       "\n",
       "   company_id_9  company_id_10  company_id_11  company_id_12  \\\n",
       "0             0              0              0              0   \n",
       "1             0              0              0              0   \n",
       "3             0              0              0              0   \n",
       "4             0              0              0              0   \n",
       "5             0              0              0              0   \n",
       "\n",
       "   dept_customer_service  dept_data_science  dept_design  dept_engineer  \\\n",
       "0                      1                  0            0              0   \n",
       "1                      0                  0            0              0   \n",
       "3                      1                  0            0              0   \n",
       "4                      0                  1            0              0   \n",
       "5                      0                  1            0              0   \n",
       "\n",
       "   dept_marketing  dept_sales  \n",
       "0               0           0  \n",
       "1               1           0  \n",
       "3               0           0  \n",
       "4               0           0  \n",
       "5               0           0  \n",
       "\n",
       "[5 rows x 22 columns]"
      ]
     },
     "execution_count": 38,
     "metadata": {},
     "output_type": "execute_result"
    }
   ],
   "source": [
    "quit_raw_data_dummy_df.head()"
   ]
  },
  {
   "cell_type": "code",
   "execution_count": 39,
   "metadata": {},
   "outputs": [
    {
     "data": {
      "image/png": "[encoded data removed]",
      "text/plain": [
       "<Figure size 432x288 with 1 Axes>"
      ]
     },
     "metadata": {
      "needs_background": "light"
     },
     "output_type": "display_data"
    }
   ],
   "source": [
    "tmp_array =  quit_raw_data_dummy_df.stay_days.values\n",
    "num_bins = 50\n",
    "n, bins, patches = plt.hist(tmp_array, num_bins, facecolor='blue', alpha=0.5)\n",
    "plt.show()"
   ]
  },
  {
   "cell_type": "code",
   "execution_count": 40,
   "metadata": {},
   "outputs": [],
   "source": [
    "tmp_quit_raw_data_dummy_df = quit_raw_data_dummy_df[quit_raw_data_dummy_df.stay_days > 500]"
   ]
  },
  {
   "cell_type": "code",
   "execution_count": 41,
   "metadata": {},
   "outputs": [
    {
     "data": {
      "text/plain": [
       "(6168, 22)"
      ]
     },
     "execution_count": 41,
     "metadata": {},
     "output_type": "execute_result"
    }
   ],
   "source": [
    "tmp_quit_raw_data_dummy_df.shape"
   ]
  },
  {
   "cell_type": "code",
   "execution_count": null,
   "metadata": {},
   "outputs": [],
   "source": []
  },
  {
   "cell_type": "code",
   "execution_count": null,
   "metadata": {},
   "outputs": [],
   "source": []
  },
  {
   "cell_type": "code",
   "execution_count": 42,
   "metadata": {},
   "outputs": [],
   "source": [
    "# Select only numeric data and impute missing values as 0\n",
    "numerics = ['uint8','int16', 'int32', 'int64', 'float16', 'float32', 'float64']\n",
    "quit_raw_data_x=tmp_quit_raw_data_dummy_df.select_dtypes(include=numerics).drop(['stay_days'],axis=1).fillna(0).values\n",
    "# quit_raw_data_y= np.log(tmp_quit_raw_data_dummy_df['stay_days'].values)\n",
    "quit_raw_data_y= (tmp_quit_raw_data_dummy_df['stay_days'].values)\n"
   ]
  },
  {
   "cell_type": "code",
   "execution_count": 48,
   "metadata": {},
   "outputs": [
    {
     "data": {
      "text/plain": [
       "((6168, 21), (6168,))"
      ]
     },
     "execution_count": 48,
     "metadata": {},
     "output_type": "execute_result"
    }
   ],
   "source": [
    "quit_raw_data_x.shape, quit_raw_data_y.shape"
   ]
  },
  {
   "cell_type": "code",
   "execution_count": 44,
   "metadata": {},
   "outputs": [
    {
     "data": {
      "image/png": "[encoded data removed]",
      "text/plain": [
       "<Figure size 432x288 with 1 Axes>"
      ]
     },
     "metadata": {
      "needs_background": "light"
     },
     "output_type": "display_data"
    }
   ],
   "source": [
    "\n",
    "\n",
    "tmp_array =  tmp_quit_raw_data_dummy_df.stay_days.values\n",
    "\n",
    "num_bins = 50\n",
    "n, bins, patches = plt.hist(tmp_array, num_bins, facecolor='blue', alpha=0.5)\n",
    "plt.show()"
   ]
  },
  {
   "cell_type": "code",
   "execution_count": 45,
   "metadata": {},
   "outputs": [],
   "source": [
    "chicago_fair_x = quit_raw_data_x\n",
    "chicago_fair_y = quit_raw_data_y"
   ]
  },
  {
   "cell_type": "code",
   "execution_count": 46,
   "metadata": {},
   "outputs": [
    {
     "name": "stdout",
     "output_type": "stream",
     "text": [
      "0.10678792463002362 0.8768731527244779\n",
      "0.09451203063617564 0.8788859769801973\n",
      "0.10952087205394989 0.8763783989853429\n",
      "0.1254648115312006 0.8747892316469646\n",
      "0.16672615362093368 0.8732542358000932\n"
     ]
    },
    {
     "data": {
      "text/plain": [
       "(0.12060235849445669, 0.8760361992274153)"
      ]
     },
     "execution_count": 46,
     "metadata": {},
     "output_type": "execute_result"
    }
   ],
   "source": [
    "#random forest\n",
    "\n",
    "from sklearn.model_selection import KFold\n",
    "from sklearn.ensemble import RandomForestRegressor\n",
    "from sklearn.metrics import r2_score\n",
    "\n",
    "cv_groups = KFold(n_splits=5, shuffle=True, random_state=0)\n",
    "\n",
    "regr_cv_rf = RandomForestRegressor(random_state = 0, n_estimators = 100)\n",
    "\n",
    "r_2_test_list = []\n",
    "r_2_train_list = []\n",
    "\n",
    "\n",
    "for train_index, test_index in cv_groups.split(chicago_fair_x):\n",
    "    \n",
    "    # Train the model using the training sets\n",
    "    regr_cv_rf.fit(chicago_fair_x[train_index], chicago_fair_y[train_index])\n",
    "    \n",
    "    # Make predictions using the testing set\n",
    "    pred_cv_rf_test = regr_cv_rf.predict(chicago_fair_x[test_index])\n",
    "    \n",
    "    # Make predictions using the testing set\n",
    "    pred_cv_rf_train = regr_cv_rf.predict(chicago_fair_x[train_index])\n",
    "     \n",
    "    r_2_test = r2_score(chicago_fair_y[test_index], pred_cv_rf_test)\n",
    "    r_2_test_list += [r_2_test]\n",
    "    \n",
    "    r_2_train = r2_score(chicago_fair_y[train_index], pred_cv_rf_train)\n",
    "    r_2_train_list += [r_2_train]\n",
    "\n",
    "    print(r_2_test, r_2_train)\n",
    "    \n",
    "np.mean(r_2_test_list), np.mean(r_2_train_list)"
   ]
  },
  {
   "cell_type": "code",
   "execution_count": null,
   "metadata": {},
   "outputs": [],
   "source": []
  },
  {
   "cell_type": "code",
   "execution_count": null,
   "metadata": {},
   "outputs": [],
   "source": []
  },
  {
   "cell_type": "markdown",
   "metadata": {},
   "source": [
    "### test"
   ]
  },
  {
   "cell_type": "code",
   "execution_count": 47,
   "metadata": {},
   "outputs": [
    {
     "data": {
      "text/plain": [
       "1"
      ]
     },
     "execution_count": 47,
     "metadata": {},
     "output_type": "execute_result"
    }
   ],
   "source": [
    "1"
   ]
  },
  {
   "cell_type": "code",
   "execution_count": null,
   "metadata": {},
   "outputs": [],
   "source": []
  }
 ],
 "metadata": {
  "kernelspec": {
   "display_name": "Python 3",
   "language": "python",
   "name": "python3"
  },
  "language_info": {
   "codemirror_mode": {
    "name": "ipython",
    "version": 3
   },
   "file_extension": ".py",
   "mimetype": "text/x-python",
   "name": "python",
   "nbconvert_exporter": "python",
   "pygments_lexer": "ipython3",
   "version": "3.6.2"
  }
 },
 "nbformat": 4,
 "nbformat_minor": 2
}
