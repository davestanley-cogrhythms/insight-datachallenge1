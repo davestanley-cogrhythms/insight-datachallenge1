{
 "cells": [
  {
   "cell_type": "markdown",
   "metadata": {},
   "source": [
    "# Data Challenge 1: Employee Retention"
   ]
  },
  {
   "cell_type": "markdown",
   "metadata": {},
   "source": [
    "## Load Libraries"
   ]
  },
  {
   "cell_type": "code",
   "execution_count": 1,
   "metadata": {},
   "outputs": [],
   "source": [
    "import matplotlib.pyplot as plt\n",
    "import numpy as np\n",
    "import pandas as pd\n",
    "import missingno"
   ]
  },
  {
   "cell_type": "code",
   "execution_count": 2,
   "metadata": {},
   "outputs": [
    {
     "name": "stdout",
     "output_type": "stream",
     "text": [
      "path to dropbox:  ['/home/marcel/Dropbox']\n"
     ]
    }
   ],
   "source": [
    "#add path to my Dropbox \n",
    "#get path to my dropbox directory, assuming jq is install\n",
    "s = !jq -r \".personal.path\" < ~/.dropbox/info.json \n",
    "print(\"path to dropbox: \", s)\n",
    "import sys\n",
    "sys.path.insert(0, s[0])\n",
    "from pytools import data_tools"
   ]
  },
  {
   "cell_type": "markdown",
   "metadata": {},
   "source": [
    "## Load The Data"
   ]
  },
  {
   "cell_type": "code",
   "execution_count": 3,
   "metadata": {},
   "outputs": [],
   "source": [
    "employee = pd.read_csv('data/employee_retention_data.csv')\n",
    "df = employee.copy()"
   ]
  },
  {
   "cell_type": "markdown",
   "metadata": {},
   "source": [
    "## Shape of Data"
   ]
  },
  {
   "cell_type": "code",
   "execution_count": 4,
   "metadata": {},
   "outputs": [
    {
     "name": "stdout",
     "output_type": "stream",
     "text": [
      "Number of sample = 24702 and number of features = 7\n"
     ]
    }
   ],
   "source": [
    "print(\"Number of sample = {} and number of features = {}\".format(df.shape[0], df.shape[1])) "
   ]
  },
  {
   "cell_type": "markdown",
   "metadata": {},
   "source": [
    "## Check Data Types"
   ]
  },
  {
   "cell_type": "code",
   "execution_count": 5,
   "metadata": {},
   "outputs": [
    {
     "data": {
      "text/plain": [
       "employee_id    float64\n",
       "company_id       int64\n",
       "dept            object\n",
       "seniority        int64\n",
       "salary         float64\n",
       "join_date       object\n",
       "quit_date       object\n",
       "dtype: object"
      ]
     },
     "execution_count": 5,
     "metadata": {},
     "output_type": "execute_result"
    }
   ],
   "source": [
    "df.dtypes"
   ]
  },
  {
   "cell_type": "markdown",
   "metadata": {},
   "source": [
    "**Note:**  \n",
    "- **Employee_Id** is currently type float but should be int \n",
    "- **join_date** and **quit_date** are currently objects, but should be datetime"
   ]
  },
  {
   "cell_type": "markdown",
   "metadata": {},
   "source": [
    "## Convert data types to appropriate types"
   ]
  },
  {
   "cell_type": "code",
   "execution_count": 6,
   "metadata": {},
   "outputs": [
    {
     "data": {
      "text/plain": [
       "employee_id             int64\n",
       "company_id             object\n",
       "dept                   object\n",
       "seniority               int64\n",
       "salary                float64\n",
       "join_date      datetime64[ns]\n",
       "quit_date      datetime64[ns]\n",
       "dtype: object"
      ]
     },
     "execution_count": 6,
     "metadata": {},
     "output_type": "execute_result"
    }
   ],
   "source": [
    "df.join_date = pd.to_datetime(df.join_date)\n",
    "df.quit_date = pd.to_datetime(df.quit_date)\n",
    "df.employee_id = df.employee_id.astype(int)\n",
    "df.company_id = df.company_id.astype('object')\n",
    "df.dtypes"
   ]
  },
  {
   "cell_type": "code",
   "execution_count": 7,
   "metadata": {},
   "outputs": [
    {
     "data": {
      "text/html": [
       "<div>\n",
       "<style scoped>\n",
       "    .dataframe tbody tr th:only-of-type {\n",
       "        vertical-align: middle;\n",
       "    }\n",
       "\n",
       "    .dataframe tbody tr th {\n",
       "        vertical-align: top;\n",
       "    }\n",
       "\n",
       "    .dataframe thead th {\n",
       "        text-align: right;\n",
       "    }\n",
       "</style>\n",
       "<table border=\"1\" class=\"dataframe\">\n",
       "  <thead>\n",
       "    <tr style=\"text-align: right;\">\n",
       "      <th></th>\n",
       "      <th>employee_id</th>\n",
       "      <th>company_id</th>\n",
       "      <th>dept</th>\n",
       "      <th>seniority</th>\n",
       "      <th>salary</th>\n",
       "      <th>join_date</th>\n",
       "      <th>quit_date</th>\n",
       "    </tr>\n",
       "  </thead>\n",
       "  <tbody>\n",
       "    <tr>\n",
       "      <th>0</th>\n",
       "      <td>13021</td>\n",
       "      <td>7</td>\n",
       "      <td>customer_service</td>\n",
       "      <td>28</td>\n",
       "      <td>89000.0</td>\n",
       "      <td>2014-03-24</td>\n",
       "      <td>2015-10-30</td>\n",
       "    </tr>\n",
       "    <tr>\n",
       "      <th>1</th>\n",
       "      <td>825355</td>\n",
       "      <td>7</td>\n",
       "      <td>marketing</td>\n",
       "      <td>20</td>\n",
       "      <td>183000.0</td>\n",
       "      <td>2013-04-29</td>\n",
       "      <td>2014-04-04</td>\n",
       "    </tr>\n",
       "    <tr>\n",
       "      <th>2</th>\n",
       "      <td>927315</td>\n",
       "      <td>4</td>\n",
       "      <td>marketing</td>\n",
       "      <td>14</td>\n",
       "      <td>101000.0</td>\n",
       "      <td>2014-10-13</td>\n",
       "      <td>NaT</td>\n",
       "    </tr>\n",
       "    <tr>\n",
       "      <th>3</th>\n",
       "      <td>662910</td>\n",
       "      <td>7</td>\n",
       "      <td>customer_service</td>\n",
       "      <td>20</td>\n",
       "      <td>115000.0</td>\n",
       "      <td>2012-05-14</td>\n",
       "      <td>2013-06-07</td>\n",
       "    </tr>\n",
       "    <tr>\n",
       "      <th>4</th>\n",
       "      <td>256971</td>\n",
       "      <td>2</td>\n",
       "      <td>data_science</td>\n",
       "      <td>23</td>\n",
       "      <td>276000.0</td>\n",
       "      <td>2011-10-17</td>\n",
       "      <td>2014-08-22</td>\n",
       "    </tr>\n",
       "  </tbody>\n",
       "</table>\n",
       "</div>"
      ],
      "text/plain": [
       "   employee_id company_id              dept  seniority    salary  join_date  \\\n",
       "0        13021          7  customer_service         28   89000.0 2014-03-24   \n",
       "1       825355          7         marketing         20  183000.0 2013-04-29   \n",
       "2       927315          4         marketing         14  101000.0 2014-10-13   \n",
       "3       662910          7  customer_service         20  115000.0 2012-05-14   \n",
       "4       256971          2      data_science         23  276000.0 2011-10-17   \n",
       "\n",
       "   quit_date  \n",
       "0 2015-10-30  \n",
       "1 2014-04-04  \n",
       "2        NaT  \n",
       "3 2013-06-07  \n",
       "4 2014-08-22  "
      ]
     },
     "execution_count": 7,
     "metadata": {},
     "output_type": "execute_result"
    }
   ],
   "source": [
    "df.head()"
   ]
  },
  {
   "cell_type": "markdown",
   "metadata": {},
   "source": [
    "## Missing Values"
   ]
  },
  {
   "cell_type": "code",
   "execution_count": 8,
   "metadata": {},
   "outputs": [
    {
     "data": {
      "text/plain": [
       "employee_id        0\n",
       "company_id         0\n",
       "dept               0\n",
       "seniority          0\n",
       "salary             0\n",
       "join_date          0\n",
       "quit_date      11192\n",
       "dtype: int64"
      ]
     },
     "execution_count": 8,
     "metadata": {},
     "output_type": "execute_result"
    }
   ],
   "source": [
    "df.isnull().sum()"
   ]
  },
  {
   "cell_type": "markdown",
   "metadata": {},
   "source": [
    "## Summary "
   ]
  },
  {
   "cell_type": "code",
   "execution_count": 9,
   "metadata": {},
   "outputs": [
    {
     "data": {
      "text/html": [
       "<div>\n",
       "<style scoped>\n",
       "    .dataframe tbody tr th:only-of-type {\n",
       "        vertical-align: middle;\n",
       "    }\n",
       "\n",
       "    .dataframe tbody tr th {\n",
       "        vertical-align: top;\n",
       "    }\n",
       "\n",
       "    .dataframe thead th {\n",
       "        text-align: right;\n",
       "    }\n",
       "</style>\n",
       "<table border=\"1\" class=\"dataframe\">\n",
       "  <thead>\n",
       "    <tr style=\"text-align: right;\">\n",
       "      <th></th>\n",
       "      <th>employee_id</th>\n",
       "      <th>seniority</th>\n",
       "      <th>salary</th>\n",
       "    </tr>\n",
       "  </thead>\n",
       "  <tbody>\n",
       "    <tr>\n",
       "      <th>count</th>\n",
       "      <td>24702.000000</td>\n",
       "      <td>24702.000000</td>\n",
       "      <td>24702.000000</td>\n",
       "    </tr>\n",
       "    <tr>\n",
       "      <th>mean</th>\n",
       "      <td>501604.403530</td>\n",
       "      <td>14.127803</td>\n",
       "      <td>138183.345478</td>\n",
       "    </tr>\n",
       "    <tr>\n",
       "      <th>std</th>\n",
       "      <td>288909.026101</td>\n",
       "      <td>8.089520</td>\n",
       "      <td>76058.184573</td>\n",
       "    </tr>\n",
       "    <tr>\n",
       "      <th>min</th>\n",
       "      <td>36.000000</td>\n",
       "      <td>1.000000</td>\n",
       "      <td>17000.000000</td>\n",
       "    </tr>\n",
       "    <tr>\n",
       "      <th>25%</th>\n",
       "      <td>250133.750000</td>\n",
       "      <td>7.000000</td>\n",
       "      <td>79000.000000</td>\n",
       "    </tr>\n",
       "    <tr>\n",
       "      <th>50%</th>\n",
       "      <td>500793.000000</td>\n",
       "      <td>14.000000</td>\n",
       "      <td>123000.000000</td>\n",
       "    </tr>\n",
       "    <tr>\n",
       "      <th>75%</th>\n",
       "      <td>753137.250000</td>\n",
       "      <td>21.000000</td>\n",
       "      <td>187000.000000</td>\n",
       "    </tr>\n",
       "    <tr>\n",
       "      <th>max</th>\n",
       "      <td>999969.000000</td>\n",
       "      <td>99.000000</td>\n",
       "      <td>408000.000000</td>\n",
       "    </tr>\n",
       "  </tbody>\n",
       "</table>\n",
       "</div>"
      ],
      "text/plain": [
       "         employee_id     seniority         salary\n",
       "count   24702.000000  24702.000000   24702.000000\n",
       "mean   501604.403530     14.127803  138183.345478\n",
       "std    288909.026101      8.089520   76058.184573\n",
       "min        36.000000      1.000000   17000.000000\n",
       "25%    250133.750000      7.000000   79000.000000\n",
       "50%    500793.000000     14.000000  123000.000000\n",
       "75%    753137.250000     21.000000  187000.000000\n",
       "max    999969.000000     99.000000  408000.000000"
      ]
     },
     "execution_count": 9,
     "metadata": {},
     "output_type": "execute_result"
    }
   ],
   "source": [
    "df.describe()"
   ]
  },
  {
   "cell_type": "markdown",
   "metadata": {},
   "source": [
    "We see there is an employee who has worked for 99 years (**seniority**). This does not seem right. Investigate further (there is another with seniority = 98)"
   ]
  },
  {
   "cell_type": "code",
   "execution_count": 10,
   "metadata": {},
   "outputs": [
    {
     "name": "stdout",
     "output_type": "stream",
     "text": [
      "[28 20 14 23 21  4  7 13 17  1 10  6 19 15 26 27  5 18 16 25  9  2 29  3\n",
      "  8 22 24 12 11 98 99]\n"
     ]
    },
    {
     "data": {
      "text/html": [
       "<div>\n",
       "<style scoped>\n",
       "    .dataframe tbody tr th:only-of-type {\n",
       "        vertical-align: middle;\n",
       "    }\n",
       "\n",
       "    .dataframe tbody tr th {\n",
       "        vertical-align: top;\n",
       "    }\n",
       "\n",
       "    .dataframe thead th {\n",
       "        text-align: right;\n",
       "    }\n",
       "</style>\n",
       "<table border=\"1\" class=\"dataframe\">\n",
       "  <thead>\n",
       "    <tr style=\"text-align: right;\">\n",
       "      <th></th>\n",
       "      <th>employee_id</th>\n",
       "      <th>company_id</th>\n",
       "      <th>dept</th>\n",
       "      <th>seniority</th>\n",
       "      <th>salary</th>\n",
       "      <th>join_date</th>\n",
       "      <th>quit_date</th>\n",
       "    </tr>\n",
       "  </thead>\n",
       "  <tbody>\n",
       "    <tr>\n",
       "      <th>24700</th>\n",
       "      <td>97289</td>\n",
       "      <td>10</td>\n",
       "      <td>engineer</td>\n",
       "      <td>98</td>\n",
       "      <td>266000.0</td>\n",
       "      <td>2011-12-13</td>\n",
       "      <td>2015-01-09</td>\n",
       "    </tr>\n",
       "    <tr>\n",
       "      <th>24701</th>\n",
       "      <td>604052</td>\n",
       "      <td>1</td>\n",
       "      <td>marketing</td>\n",
       "      <td>99</td>\n",
       "      <td>185000.0</td>\n",
       "      <td>2011-07-26</td>\n",
       "      <td>2013-12-06</td>\n",
       "    </tr>\n",
       "  </tbody>\n",
       "</table>\n",
       "</div>"
      ],
      "text/plain": [
       "       employee_id company_id       dept  seniority    salary  join_date  \\\n",
       "24700        97289         10   engineer         98  266000.0 2011-12-13   \n",
       "24701       604052          1  marketing         99  185000.0 2011-07-26   \n",
       "\n",
       "       quit_date  \n",
       "24700 2015-01-09  \n",
       "24701 2013-12-06  "
      ]
     },
     "execution_count": 10,
     "metadata": {},
     "output_type": "execute_result"
    }
   ],
   "source": [
    "print(df.seniority.unique())\n",
    "df[(df.seniority == 98) | (df.seniority == 99)]"
   ]
  },
  {
   "cell_type": "code",
   "execution_count": 11,
   "metadata": {},
   "outputs": [],
   "source": [
    "#replace 98 and 99 with 29, the most reasonable highest value\n",
    "df.loc[24700, 'seniority'] = 29\n",
    "df.loc[24701, 'seniority'] = 29"
   ]
  },
  {
   "cell_type": "markdown",
   "metadata": {},
   "source": [
    "## Make sure there is only one entry per employee"
   ]
  },
  {
   "cell_type": "code",
   "execution_count": 12,
   "metadata": {},
   "outputs": [],
   "source": [
    "assert(len(df.employee_id.unique()) == df.shape[0])"
   ]
  },
  {
   "cell_type": "markdown",
   "metadata": {},
   "source": [
    "Given that there is only one entry per employee, employee_id has no predictive value here. We can use it as index for the dataframe. This also means, we can't track employee salary in time, hence will not be able to know if an amployee quitted because their salary remained constant for a long time"
   ]
  },
  {
   "cell_type": "markdown",
   "metadata": {},
   "source": [
    "## Create a boolean column for quited"
   ]
  },
  {
   "cell_type": "code",
   "execution_count": 13,
   "metadata": {},
   "outputs": [
    {
     "data": {
      "text/html": [
       "<div>\n",
       "<style scoped>\n",
       "    .dataframe tbody tr th:only-of-type {\n",
       "        vertical-align: middle;\n",
       "    }\n",
       "\n",
       "    .dataframe tbody tr th {\n",
       "        vertical-align: top;\n",
       "    }\n",
       "\n",
       "    .dataframe thead th {\n",
       "        text-align: right;\n",
       "    }\n",
       "</style>\n",
       "<table border=\"1\" class=\"dataframe\">\n",
       "  <thead>\n",
       "    <tr style=\"text-align: right;\">\n",
       "      <th></th>\n",
       "      <th>company_id</th>\n",
       "      <th>dept</th>\n",
       "      <th>seniority</th>\n",
       "      <th>salary</th>\n",
       "      <th>join_date</th>\n",
       "      <th>quit_date</th>\n",
       "      <th>quited</th>\n",
       "    </tr>\n",
       "    <tr>\n",
       "      <th>employee_id</th>\n",
       "      <th></th>\n",
       "      <th></th>\n",
       "      <th></th>\n",
       "      <th></th>\n",
       "      <th></th>\n",
       "      <th></th>\n",
       "      <th></th>\n",
       "    </tr>\n",
       "  </thead>\n",
       "  <tbody>\n",
       "    <tr>\n",
       "      <th>13021</th>\n",
       "      <td>7</td>\n",
       "      <td>customer_service</td>\n",
       "      <td>28</td>\n",
       "      <td>89000.0</td>\n",
       "      <td>2014-03-24</td>\n",
       "      <td>2015-10-30</td>\n",
       "      <td>1</td>\n",
       "    </tr>\n",
       "    <tr>\n",
       "      <th>825355</th>\n",
       "      <td>7</td>\n",
       "      <td>marketing</td>\n",
       "      <td>20</td>\n",
       "      <td>183000.0</td>\n",
       "      <td>2013-04-29</td>\n",
       "      <td>2014-04-04</td>\n",
       "      <td>1</td>\n",
       "    </tr>\n",
       "    <tr>\n",
       "      <th>927315</th>\n",
       "      <td>4</td>\n",
       "      <td>marketing</td>\n",
       "      <td>14</td>\n",
       "      <td>101000.0</td>\n",
       "      <td>2014-10-13</td>\n",
       "      <td>NaT</td>\n",
       "      <td>0</td>\n",
       "    </tr>\n",
       "    <tr>\n",
       "      <th>662910</th>\n",
       "      <td>7</td>\n",
       "      <td>customer_service</td>\n",
       "      <td>20</td>\n",
       "      <td>115000.0</td>\n",
       "      <td>2012-05-14</td>\n",
       "      <td>2013-06-07</td>\n",
       "      <td>1</td>\n",
       "    </tr>\n",
       "  </tbody>\n",
       "</table>\n",
       "</div>"
      ],
      "text/plain": [
       "            company_id              dept  seniority    salary  join_date  \\\n",
       "employee_id                                                                \n",
       "13021                7  customer_service         28   89000.0 2014-03-24   \n",
       "825355               7         marketing         20  183000.0 2013-04-29   \n",
       "927315               4         marketing         14  101000.0 2014-10-13   \n",
       "662910               7  customer_service         20  115000.0 2012-05-14   \n",
       "\n",
       "             quit_date  quited  \n",
       "employee_id                     \n",
       "13021       2015-10-30       1  \n",
       "825355      2014-04-04       1  \n",
       "927315             NaT       0  \n",
       "662910      2013-06-07       1  "
      ]
     },
     "execution_count": 13,
     "metadata": {},
     "output_type": "execute_result"
    }
   ],
   "source": [
    "# quited = 0 if quit_date missing else 1\n",
    "quit_mask = df.quit_date.isnull() == False\n",
    "df['quited'] = quit_mask.apply(int)\n",
    "df = df.set_index('employee_id', drop=True)\n",
    "df.head(4)"
   ]
  },
  {
   "cell_type": "markdown",
   "metadata": {},
   "source": [
    "## Print some general infos about dataframe "
   ]
  },
  {
   "cell_type": "code",
   "execution_count": 14,
   "metadata": {},
   "outputs": [
    {
     "name": "stdout",
     "output_type": "stream",
     "text": [
      "Dataframe dimensions: (24702, 7)\n",
      "                company_id    dept seniority   salary       join_date  \\\n",
      "column type         object  object     int64  float64  datetime64[ns]   \n",
      "Null values              0       0         0        0               0   \n",
      "Null values (%)          0       0         0        0               0   \n",
      "Number unique           12       6        29      367             995   \n",
      "\n",
      "                      quit_date quited  \n",
      "column type      datetime64[ns]  int64  \n",
      "Null values               11192      0  \n",
      "Null values (%)         45.3081      0  \n",
      "Number unique               664      2  \n"
     ]
    }
   ],
   "source": [
    "data_tools.print_infos(df)"
   ]
  },
  {
   "cell_type": "markdown",
   "metadata": {},
   "source": [
    "## Class Proportions"
   ]
  },
  {
   "cell_type": "code",
   "execution_count": 15,
   "metadata": {},
   "outputs": [
    {
     "data": {
      "image/png": "[encoded data removed]",
      "text/plain": [
       "<matplotlib.figure.Figure at 0x7f9a857a0400>"
      ]
     },
     "metadata": {
      "needs_background": "light"
     },
     "output_type": "display_data"
    }
   ],
   "source": [
    "def plot_class_proportion(labels):\n",
    "    \n",
    "    ratio = labels.value_counts()\n",
    "    ratio.index = ['Retained', 'Churned']\n",
    "    ratio.plot(kind='bar')\n",
    "    #plt.savefig('figures/class_proportions.png')\n",
    "plot_class_proportion(df.quited)"
   ]
  },
  {
   "cell_type": "markdown",
   "metadata": {},
   "source": [
    "# Data Exploration"
   ]
  },
  {
   "cell_type": "code",
   "execution_count": 16,
   "metadata": {},
   "outputs": [],
   "source": [
    "#helper function to perform ztest of proportions\n",
    "def ztest(df, column, group1, group2):\n",
    "    \"\"\"\n",
    "    perform ztest for two groups.\n",
    "    df    : the dataframe\n",
    "    column: the column we are interested in\n",
    "    group1: one of the categories in the column\n",
    "    group2: another category\n",
    "    \"\"\" \n",
    "    import statsmodels.api as sm\n",
    "    \n",
    "    #count the number of positive instance in group1\n",
    "    p0 = len(df[(df[column] == group1) & (df.quited == 1)])\n",
    "    #total number oof instances in group1\n",
    "    n0 = len(df[(df[column] == group1)])\n",
    "    \n",
    "    p1 = len(df[(df[column] == group2) & (df.quited == 1)])\n",
    "    n1 = len(df[(df[column] == group2)])\n",
    "    \n",
    "    z_score, p_value = sm.stats.proportions_ztest(count=[p0, p1], nobs=[n0, n1])\n",
    "    return z_score, p_value\n",
    "\n",
    "def proportion_ztest(df, column, alpha=0.05):\n",
    "    \"\"\"\n",
    "    performs independent ztests on all pairs of groups\n",
    "    \"\"\"\n",
    "    import statsmodels.api as sm\n",
    "    \n",
    "    options = list(df[column].unique())\n",
    "    insignificant = []\n",
    "    significant = []\n",
    "    \n",
    "    #find unique pairs\n",
    "    pairs = []\n",
    "    for i in range(0, len(options)):\n",
    "        for j in range(i+1, len(options)):\n",
    "            pairs.append((options[i], options[j])) \n",
    "    \n",
    "    for pair in pairs:\n",
    "        z_score, p_value = ztest(df, column, pair[0], pair[1])\n",
    "        if p_value < alpha: #reject H_0\n",
    "            insignificant.append((pair, p_value))\n",
    "        else:\n",
    "            significant.append((pair, p_value))\n",
    "    return insignificant, significant"
   ]
  },
  {
   "cell_type": "markdown",
   "metadata": {},
   "source": [
    "### Correlation between target and company_id"
   ]
  },
  {
   "cell_type": "code",
   "execution_count": 17,
   "metadata": {},
   "outputs": [
    {
     "data": {
      "image/png": "[encoded data removed]",
      "text/plain": [
       "<matplotlib.figure.Figure at 0x7f9a857a09e8>"
      ]
     },
     "metadata": {
      "needs_background": "light"
     },
     "output_type": "display_data"
    }
   ],
   "source": [
    "#plt.rcParams.update({'font.size': 12})\n",
    "_ = pd.crosstab(df.company_id, df.quited, normalize=0).plot(kind='bar')"
   ]
  },
  {
   "cell_type": "code",
   "execution_count": 18,
   "metadata": {},
   "outputs": [
    {
     "data": {
      "text/plain": [
       "[((7, 2), 0.008147216455192572),\n",
       " ((4, 2), 0.006220849169380669),\n",
       " ((2, 1), 0.018908302229472415),\n",
       " ((2, 5), 0.007939968967133589),\n",
       " ((2, 3), 0.00484793319183257)]"
      ]
     },
     "execution_count": 18,
     "metadata": {},
     "output_type": "execute_result"
    }
   ],
   "source": [
    "insignificant, significant = proportion_ztest(df, 'company_id')\n",
    "insignificant"
   ]
  },
  {
   "cell_type": "markdown",
   "metadata": {},
   "source": [
    "- Visually, all companies have similar retention rates, except company 11\n",
    "- Company 12 seems to have almost equal ratio of employee who quitted and those who are still present\n",
    "- Maybe then **company_id** can be transformed into 3 categories instead of 12\n",
    "    - one category for company 11\n",
    "    - one category for company 12\n",
    "    - one category for all the rest (since they all look similar in terms of relation to target)\n",
    "- **ztest** suggests that only company 2 might have a significant difference from others in terms of churn proportion\n",
    "- Maybe have only two categories, one for company 2 and one for others "
   ]
  },
  {
   "cell_type": "markdown",
   "metadata": {},
   "source": [
    "### Correlation between target and department"
   ]
  },
  {
   "cell_type": "code",
   "execution_count": 19,
   "metadata": {},
   "outputs": [
    {
     "data": {
      "image/png": "[encoded data removed]",
      "text/plain": [
       "<matplotlib.figure.Figure at 0x7f9a718dbeb8>"
      ]
     },
     "metadata": {
      "needs_background": "light"
     },
     "output_type": "display_data"
    }
   ],
   "source": [
    "_ = pd.crosstab(df.dept, df.quited, normalize=0).plot(kind='bar')"
   ]
  },
  {
   "cell_type": "markdown",
   "metadata": {},
   "source": [
    "## Loking at Salary vs Seniority "
   ]
  },
  {
   "cell_type": "code",
   "execution_count": 20,
   "metadata": {},
   "outputs": [
    {
     "data": {
      "image/png": "[encoded data removed]",
      "text/plain": [
       "<matplotlib.figure.Figure at 0x7f9a71909198>"
      ]
     },
     "metadata": {
      "needs_background": "light"
     },
     "output_type": "display_data"
    }
   ],
   "source": [
    "_ = df[df.dept=='data_science'].plot(x='seniority', y='salary', kind='scatter')"
   ]
  },
  {
   "cell_type": "markdown",
   "metadata": {},
   "source": [
    "**Note:**  \n",
    "\n",
    "It appears that salary increase is incremental with 3 chuck   \n",
    "- 1-5 years fall in thesame seniority category\n",
    "- 5-15 years\n",
    "- 15 years and above"
   ]
  },
  {
   "cell_type": "markdown",
   "metadata": {},
   "source": [
    "### Perform ztest of proportion to see if the difference between departments is significant"
   ]
  },
  {
   "cell_type": "code",
   "execution_count": 21,
   "metadata": {},
   "outputs": [
    {
     "data": {
      "text/plain": [
       "[(('customer_service', 'data_science'), 0.006913411144791306),\n",
       " (('customer_service', 'engineer'), 1.8736125427555084e-06),\n",
       " (('marketing', 'data_science'), 0.004240992230664227),\n",
       " (('marketing', 'engineer'), 9.587221589710114e-06),\n",
       " (('data_science', 'sales'), 0.0004664658059825876),\n",
       " (('data_science', 'design'), 0.023082128137744837),\n",
       " (('engineer', 'sales'), 3.0459598924820376e-07),\n",
       " (('engineer', 'design'), 0.000734738428378415)]"
      ]
     },
     "execution_count": 21,
     "metadata": {},
     "output_type": "execute_result"
    }
   ],
   "source": [
    "insignificant, significant = proportion_ztest(df, 'dept')\n",
    "insignificant"
   ]
  },
  {
   "cell_type": "markdown",
   "metadata": {},
   "source": [
    "<hr>  \n",
    "\n",
    "**Note:**   \n",
    "\n",
    "- The feature **dept** has 5 categories, but can be grouped into 2 main categories according to how the proportions of people who quitted varies between the categories   \n",
    "- **engineer** and **data_science** employee seem to fall in one category  \n",
    "- **customer_service**, **sales**, and **design** can be grouped into one category  "
   ]
  },
  {
   "cell_type": "code",
   "execution_count": 22,
   "metadata": {},
   "outputs": [
    {
     "data": {
      "image/png": "[encoded data removed]",
      "text/plain": [
       "<matplotlib.figure.Figure at 0x7f9a7181b4e0>"
      ]
     },
     "metadata": {
      "needs_background": "light"
     },
     "output_type": "display_data"
    }
   ],
   "source": [
    "_ = pd.crosstab(df.seniority, df.quited, normalize=0).plot(kind='bar')"
   ]
  },
  {
   "cell_type": "code",
   "execution_count": 23,
   "metadata": {},
   "outputs": [],
   "source": [
    "#insignificant, significant = proportion_ztest(df, 'seniority')\n",
    "#len(insignificant)"
   ]
  },
  {
   "cell_type": "code",
   "execution_count": 24,
   "metadata": {},
   "outputs": [
    {
     "data": {
      "image/png": "[encoded data removed]",
      "text/plain": [
       "<matplotlib.figure.Figure at 0x7f9a71793eb8>"
      ]
     },
     "metadata": {
      "needs_background": "light"
     },
     "output_type": "display_data"
    }
   ],
   "source": [
    "import seaborn as sns\n",
    "_ = sns.boxplot(x='quited', y='salary', data=df)"
   ]
  },
  {
   "cell_type": "code",
   "execution_count": 25,
   "metadata": {},
   "outputs": [
    {
     "name": "stdout",
     "output_type": "stream",
     "text": [
      "Test of Normality NormaltestResult(statistic=957.1125738370777, pvalue=1.4643514148823831e-208)\n"
     ]
    },
    {
     "data": {
      "text/plain": [
       "(-5.7498619463708875, 8.93163494288991e-09)"
      ]
     },
     "execution_count": 25,
     "metadata": {},
     "output_type": "execute_result"
    }
   ],
   "source": [
    "import statsmodels\n",
    "import scipy\n",
    "\n",
    "x1 = df[df.quited == 1]['salary']\n",
    "x2 = df[df.quited == 0]['salary']\n",
    "print(\"Test of Normality\", scipy.stats.normaltest(x1))\n",
    "\n",
    "statsmodels.stats.weightstats.ztest(x1, x2)"
   ]
  },
  {
   "cell_type": "markdown",
   "metadata": {},
   "source": [
    "**Note:**  \n",
    "The test of normality shows that the samples from employees who churned and those who are still present do not follow a normal distribution, so the ztest for means is not even appropriate here. "
   ]
  },
  {
   "cell_type": "markdown",
   "metadata": {},
   "source": [
    "# Modeling"
   ]
  },
  {
   "cell_type": "code",
   "execution_count": 26,
   "metadata": {},
   "outputs": [],
   "source": [
    "from sklearn.preprocessing import LabelEncoder, OneHotEncoder\n",
    "from sklearn.linear_model import LogisticRegression, SGDClassifier, SGDRegressor\n",
    "from sklearn.naive_bayes import GaussianNB, BernoulliNB, MultinomialNB\n",
    "from sklearn.neural_network import MLPClassifier, MLPRegressor\n",
    "from sklearn.neighbors import KNeighborsClassifier\n",
    "from sklearn.svm import SVC, LinearSVR, SVR, LinearSVC\n",
    "from sklearn.dummy import DummyClassifier\n",
    "from sklearn.linear_model import LogisticRegression\n",
    "from sklearn.tree import DecisionTreeClassifier\n",
    "from sklearn.ensemble import RandomForestClassifier, RandomForestRegressor\n",
    "from sklearn.metrics import accuracy_score, precision_recall_curve, confusion_matrix\n",
    "from sklearn.model_selection import train_test_split, cross_val_score\n",
    "from sklearn.pipeline import Pipeline, FeatureUnion\n",
    "from sklearn.preprocessing import MinMaxScaler, StandardScaler, Imputer, LabelEncoder\n",
    "from sklearn.base import BaseEstimator, TransformerMixin\n",
    "from sklearn.metrics import classification_report\n",
    "from sklearn.model_selection import GridSearchCV\n",
    "from sklearn.dummy import DummyClassifier\n",
    "\n",
    "from mlencoders.weight_of_evidence_encoder import WeightOfEvidenceEncoder\n",
    "from mlencoders.target_encoder import TargetEncoder\n",
    "import warnings\n",
    "warnings.filterwarnings(\"ignore\") \n",
    "\n",
    "\n",
    "def count_months(join_date, quit_date):\n",
    "    \"\"\"\n",
    "    compute the number of months between join_date and quit_date\n",
    "    input: join_date, quit_date - series\n",
    "    return: list, number of months if employee quited \n",
    "           assume 30 years for missing quit date (employee still around)\n",
    "    \"\"\"\n",
    "    \n",
    "    from dateutil.relativedelta import relativedelta\n",
    "    delta = []\n",
    "    for d1, d2 in zip(join_date, quit_date):\n",
    "        if pd.isnull(d2):\n",
    "            #employee still present, assume 30 * 12 months of service\n",
    "            delta.append(30*12)\n",
    "        else:\n",
    "            #employee quited, caculate number of months\n",
    "            time_dif = relativedelta(d2, d1)\n",
    "            delta.append(time_dif.years*12+time_dif.months)\n",
    "            \n",
    "    return delta\n",
    "\n",
    "class DataFrameSelector(BaseEstimator, TransformerMixin):\n",
    "    \n",
    "    def __init__(self, attribute_names):\n",
    "        self.attribute_names = attribute_names\n",
    "    \n",
    "    def fit(self, X, y=None):\n",
    "        return self\n",
    "    \n",
    "    def transform(self, X):\n",
    "        return X[self.attribute_names].values\n",
    "    \n",
    "class AttributeAdder(BaseEstimator, TransformerMixin):\n",
    "    \n",
    "    def __init__(self, attribute_names=None):\n",
    "        self.attribute_names = attribute_names\n",
    "    \n",
    "    def fit(self, X, y=None):\n",
    "        return self\n",
    "    \n",
    "    def transform(self, X):\n",
    "        group = ['tech_yes' if value in ['data_science', 'engineer'] else 'tech_no' for value in X['dept']]\n",
    "        company = ['company_id_2' if value == 2 else 'company_id_others' for value in X['company_id']]\n",
    "        X['technical'] = group \n",
    "        X['company_2'] = company \n",
    "        \n",
    "        #date components\n",
    "        X['join_year'] = X['join_date'].dt.year\n",
    "        X['join_month'] = X['join_date'].dt.month\n",
    "        X['join_day'] = X['join_date'].dt.day\n",
    "        X['total_months'] = count_months(X['join_date'], X['quit_date'])\n",
    "        \n",
    "        stats = X.groupby('dept')['salary'].agg(['mean', 'max', 'min'])\n",
    "        stats.columns = ['mean_salary_dept', 'max_salary_dept', 'min_salary_dept']\n",
    "\n",
    "        # Merge with the clients dataframe\n",
    "        X = X.merge(stats, left_on = 'dept', right_index=True, how = 'left')\n",
    "      \n",
    "        return X\n",
    "    \n",
    "    \n",
    "class MultiColumnLabelEncoder:\n",
    "    def __init__(self,columns = None):\n",
    "        self.columns = columns # array of column names to encode\n",
    "\n",
    "    def fit(self,X,y=None):\n",
    "        return self # not relevant here\n",
    "\n",
    "    def transform(self,X):\n",
    "        '''\n",
    "        Transforms columns of X specified in self.columns using\n",
    "        LabelEncoder(). If no columns specified, transforms all\n",
    "        columns in X.\n",
    "        '''\n",
    "        output = X.copy()\n",
    "        if self.columns is not None:\n",
    "            for col in self.columns:\n",
    "                output[col] = LabelEncoder().fit_transform(output[col])\n",
    "        else:\n",
    "            for colname,col in output.iteritems():\n",
    "                output[colname] = LabelEncoder().fit_transform(col)\n",
    "        return output\n",
    "\n",
    "    def fit_transform(self,X,y=None):\n",
    "        return self.fit(X,y).transform(X)"
   ]
  },
  {
   "cell_type": "markdown",
   "metadata": {},
   "source": [
    "# Feature Engineering"
   ]
  },
  {
   "cell_type": "markdown",
   "metadata": {},
   "source": [
    "Engineer new features:\n",
    "- **technical :** whether the employee is from a technical department or not\n",
    "- **company_2 :** whether the company has company_id = 2\n",
    "- **join_year**, **join_month**, **join_day**  \n",
    "- **mean_salary_dept:** the average salary per department\n",
    "- **max_salary_dept:** the maximum salary per department\n",
    "- **min_salary_dept:** the minimum salary per department\n",
    "- **total_month** this is a target variable to predict "
   ]
  },
  {
   "cell_type": "code",
   "execution_count": 27,
   "metadata": {},
   "outputs": [
    {
     "data": {
      "text/html": [
       "<div>\n",
       "<style scoped>\n",
       "    .dataframe tbody tr th:only-of-type {\n",
       "        vertical-align: middle;\n",
       "    }\n",
       "\n",
       "    .dataframe tbody tr th {\n",
       "        vertical-align: top;\n",
       "    }\n",
       "\n",
       "    .dataframe thead th {\n",
       "        text-align: right;\n",
       "    }\n",
       "</style>\n",
       "<table border=\"1\" class=\"dataframe\">\n",
       "  <thead>\n",
       "    <tr style=\"text-align: right;\">\n",
       "      <th></th>\n",
       "      <th>technical</th>\n",
       "      <th>company_2</th>\n",
       "      <th>join_year</th>\n",
       "      <th>join_month</th>\n",
       "      <th>join_day</th>\n",
       "      <th>total_months</th>\n",
       "      <th>mean_salary_dept</th>\n",
       "      <th>max_salary_dept</th>\n",
       "      <th>min_salary_dept</th>\n",
       "    </tr>\n",
       "    <tr>\n",
       "      <th>employee_id</th>\n",
       "      <th></th>\n",
       "      <th></th>\n",
       "      <th></th>\n",
       "      <th></th>\n",
       "      <th></th>\n",
       "      <th></th>\n",
       "      <th></th>\n",
       "      <th></th>\n",
       "      <th></th>\n",
       "    </tr>\n",
       "  </thead>\n",
       "  <tbody>\n",
       "    <tr>\n",
       "      <th>13021</th>\n",
       "      <td>tech_no</td>\n",
       "      <td>company_id_others</td>\n",
       "      <td>2014</td>\n",
       "      <td>3</td>\n",
       "      <td>24</td>\n",
       "      <td>19</td>\n",
       "      <td>82245.424837</td>\n",
       "      <td>166000.0</td>\n",
       "      <td>17000.0</td>\n",
       "    </tr>\n",
       "    <tr>\n",
       "      <th>825355</th>\n",
       "      <td>tech_no</td>\n",
       "      <td>company_id_others</td>\n",
       "      <td>2013</td>\n",
       "      <td>4</td>\n",
       "      <td>29</td>\n",
       "      <td>11</td>\n",
       "      <td>135598.042311</td>\n",
       "      <td>262000.0</td>\n",
       "      <td>30000.0</td>\n",
       "    </tr>\n",
       "    <tr>\n",
       "      <th>927315</th>\n",
       "      <td>tech_no</td>\n",
       "      <td>company_id_others</td>\n",
       "      <td>2014</td>\n",
       "      <td>10</td>\n",
       "      <td>13</td>\n",
       "      <td>360</td>\n",
       "      <td>135598.042311</td>\n",
       "      <td>262000.0</td>\n",
       "      <td>30000.0</td>\n",
       "    </tr>\n",
       "    <tr>\n",
       "      <th>662910</th>\n",
       "      <td>tech_no</td>\n",
       "      <td>company_id_others</td>\n",
       "      <td>2012</td>\n",
       "      <td>5</td>\n",
       "      <td>14</td>\n",
       "      <td>12</td>\n",
       "      <td>82245.424837</td>\n",
       "      <td>166000.0</td>\n",
       "      <td>17000.0</td>\n",
       "    </tr>\n",
       "    <tr>\n",
       "      <th>256971</th>\n",
       "      <td>tech_yes</td>\n",
       "      <td>company_id_2</td>\n",
       "      <td>2011</td>\n",
       "      <td>10</td>\n",
       "      <td>17</td>\n",
       "      <td>34</td>\n",
       "      <td>206885.893417</td>\n",
       "      <td>398000.0</td>\n",
       "      <td>44000.0</td>\n",
       "    </tr>\n",
       "  </tbody>\n",
       "</table>\n",
       "</div>"
      ],
      "text/plain": [
       "            technical          company_2  join_year  join_month  join_day  \\\n",
       "employee_id                                                                 \n",
       "13021         tech_no  company_id_others       2014           3        24   \n",
       "825355        tech_no  company_id_others       2013           4        29   \n",
       "927315        tech_no  company_id_others       2014          10        13   \n",
       "662910        tech_no  company_id_others       2012           5        14   \n",
       "256971       tech_yes       company_id_2       2011          10        17   \n",
       "\n",
       "             total_months  mean_salary_dept  max_salary_dept  min_salary_dept  \n",
       "employee_id                                                                    \n",
       "13021                  19      82245.424837         166000.0          17000.0  \n",
       "825355                 11     135598.042311         262000.0          30000.0  \n",
       "927315                360     135598.042311         262000.0          30000.0  \n",
       "662910                 12      82245.424837         166000.0          17000.0  \n",
       "256971                 34     206885.893417         398000.0          44000.0  "
      ]
     },
     "execution_count": 27,
     "metadata": {},
     "output_type": "execute_result"
    }
   ],
   "source": [
    "adder = AttributeAdder()\n",
    "df = adder.fit_transform(df); df[df.columns[7:]].head()"
   ]
  },
  {
   "cell_type": "markdown",
   "metadata": {},
   "source": [
    "# Create Pipelines"
   ]
  },
  {
   "cell_type": "code",
   "execution_count": 28,
   "metadata": {},
   "outputs": [
    {
     "name": "stdout",
     "output_type": "stream",
     "text": [
      "Numeric attributes:\n",
      " ['seniority', 'salary', 'join_year', 'join_month', 'join_day', 'mean_salary_dept', 'max_salary_dept', 'min_salary_dept']\n",
      "\n",
      "Categorical attributes:\n",
      " ['company_id', 'dept', 'technical', 'company_2']\n"
     ]
    }
   ],
   "source": [
    "targets = ['total_months', 'quited']\n",
    "num_attribs, cat_attribs, date_attribs = data_tools.getColumnDataTypes(df.drop(targets, axis=1))\n",
    "#num_attribs = ['join_year', 'salary', 'join_day', 'seniority', 'join_month']\n",
    "#cat_attribs = ['company_id', 'dept']\n",
    "def make_numeric_pipeline(attribs):\n",
    "    num_pipeline = Pipeline([\n",
    "        ('selector', DataFrameSelector(num_attribs)),\n",
    "        ('scaler', StandardScaler()),\n",
    "    ])\n",
    "    return num_pipeline\n",
    "\n",
    "def make_categoric_pipeline(attribs):\n",
    "    cat_pipeline = Pipeline([\n",
    "        ('selector', DataFrameSelector(attribs)),\n",
    "        ('encoder', OneHotEncoder(sparse=False)),\n",
    "        #('encoder', TargetEncoder()),\n",
    "    ])\n",
    "    return cat_pipeline\n",
    "\n",
    "\n",
    "def make_pipeline(num_attribs, cat_attribs):\n",
    "    \n",
    "    num_pipeline = make_numeric_pipeline(num_attribs)\n",
    "    cat_pipeline = make_categoric_pipeline(cat_attribs)\n",
    "\n",
    "    full_pipeline = FeatureUnion(\n",
    "        transformer_list=[\n",
    "            ('num_pipeline', num_pipeline),\n",
    "            ('cat_pipeline', cat_pipeline),\n",
    "        ])\n",
    "    return full_pipeline, num_pipeline, cat_pipeline\n",
    "\n",
    "full_pipeline, num_pipeline, cat_pipeline = make_pipeline(num_attribs, cat_attribs)\n",
    "\n",
    "print(\"Numeric attributes:\\n\", num_attribs)\n",
    "print(\"\\nCategorical attributes:\\n\", cat_attribs)"
   ]
  },
  {
   "cell_type": "code",
   "execution_count": 29,
   "metadata": {},
   "outputs": [],
   "source": [
    "#encoder = MultiColumnLabelEncoder(columns = ['dept'])\n",
    "y = df.quited\n",
    "X = df[num_attribs+cat_attribs]\n",
    "X_train, X_test, y_train, y_test = train_test_split(X, y, test_size=0.2, random_state=11)\n",
    "X_train_encoded = full_pipeline.fit_transform(X_train, y_train)\n",
    "X_test_encoded = full_pipeline.transform(X_test)"
   ]
  },
  {
   "cell_type": "code",
   "execution_count": 30,
   "metadata": {},
   "outputs": [
    {
     "data": {
      "text/plain": [
       "0.5474419310763625"
      ]
     },
     "execution_count": 30,
     "metadata": {},
     "output_type": "execute_result"
    },
    {
     "data": {
      "image/png": "[encoded data removed]",
      "text/plain": [
       "<matplotlib.figure.Figure at 0x7f9a716c0828>"
      ]
     },
     "metadata": {
      "needs_background": "light"
     },
     "output_type": "display_data"
    }
   ],
   "source": [
    "plot_class_proportion(y_train)\n",
    "sum(y_train)/len(y_train)"
   ]
  },
  {
   "cell_type": "code",
   "execution_count": 31,
   "metadata": {},
   "outputs": [
    {
     "data": {
      "image/png": "[encoded data removed]",
      "text/plain": [
       "<matplotlib.figure.Figure at 0x7f9a716da7b8>"
      ]
     },
     "metadata": {
      "needs_background": "light"
     },
     "output_type": "display_data"
    }
   ],
   "source": [
    "plot_class_proportion(y_test)"
   ]
  },
  {
   "cell_type": "code",
   "execution_count": 32,
   "metadata": {},
   "outputs": [
    {
     "name": "stdout",
     "output_type": "stream",
     "text": [
      "Accuracy on test set: 0.5448289819874519\n"
     ]
    }
   ],
   "source": [
    "#https://github.com/scikit-learn/scikit-learn/issues/10786\n",
    "from sklearn.utils import check_X_y\n",
    "\n",
    "model = DummyClassifier(random_state = 0, strategy='most_frequent')\n",
    "X_converted, y_converted = \\\n",
    "                 check_X_y(X=X_train_encoded, y=y_train)\n",
    "model.fit(X=X_converted, y=y_converted)\n",
    "\n",
    "y_pred = model.predict(X_test)\n",
    "\n",
    "accuracy = accuracy_score(y_test, y_pred)\n",
    "print(\"Accuracy on test set:\", accuracy)"
   ]
  },
  {
   "cell_type": "markdown",
   "metadata": {},
   "source": [
    "## Use Random Forest to Select Subset of Important Features"
   ]
  },
  {
   "cell_type": "code",
   "execution_count": 33,
   "metadata": {},
   "outputs": [
    {
     "name": "stdout",
     "output_type": "stream",
     "text": [
      "Accuracy Score Train =  0.8162542381458429\n",
      "Accuracy Score Test =  0.8002428658166363\n"
     ]
    }
   ],
   "source": [
    "model = RandomForestClassifier(random_state = 0, \n",
    "                               max_features = 'auto',\n",
    "                               max_depth = 11,\n",
    "                               min_samples_split= 6, \n",
    "                               n_estimators = 100,\n",
    "                              )\n",
    "\n",
    "model.fit(X_train_encoded, y_train)\n",
    "\n",
    "predictions = model.predict(X_test_encoded)\n",
    "pred_train = model.predict(X_train_encoded)\n",
    "accuracy_train = accuracy_score(y_train, pred_train)\n",
    "accuracy_test = accuracy_score(y_test, predictions)\n",
    "print(\"Accuracy Score Train = \", accuracy_train)\n",
    "print(\"Accuracy Score Test = \", accuracy_test)"
   ]
  },
  {
   "cell_type": "code",
   "execution_count": 34,
   "metadata": {},
   "outputs": [
    {
     "data": {
      "text/plain": [
       "[(0.7716480966306136, 'join_year'),\n",
       " (0.06067520024081901, 'salary'),\n",
       " (0.04169078623991721, 'join_day'),\n",
       " (0.038951856855991736, 'seniority'),\n",
       " (0.03818807844766044, 'join_month'),\n",
       " (0.004284021002916861, 'max_salary_dept'),\n",
       " (0.004211068192215684, 'mean_salary_dept'),\n",
       " (0.0032673897445408416, 1),\n",
       " (0.0032567114344587405, 'min_salary_dept'),\n",
       " (0.0028364438676070063, 3),\n",
       " (0.002700462994969473, 5),\n",
       " (0.0025153628948011964, 8),\n",
       " (0.0025073847568369266, 4),\n",
       " (0.002382772123187257, 9),\n",
       " (0.00232771562740959, 6),\n",
       " (0.0020268442121725975, 2),\n",
       " (0.002008411132209193, 10),\n",
       " (0.0020015006784852418, 7),\n",
       " (0.0018265837614271593, 'company_id_others'),\n",
       " (0.001695154488216629, 'company_id_2'),\n",
       " (0.0012953108317096643, 'marketing'),\n",
       " (0.001282831161356929, 'engineer'),\n",
       " (0.0012283259609048767, 'sales'),\n",
       " (0.0010960170751523571, 'design'),\n",
       " (0.0010221731439846564, 'tech_yes'),\n",
       " (0.0008853800736976744, 'customer_service'),\n",
       " (0.0008586292635060603, 'data_science'),\n",
       " (0.0007827737826581095, 'tech_no'),\n",
       " (0.0003299847706724393, 11),\n",
       " (0.00021672860990043914, 12)]"
      ]
     },
     "execution_count": 34,
     "metadata": {},
     "output_type": "execute_result"
    }
   ],
   "source": [
    "cat_encoder = cat_pipeline.named_steps['encoder']\n",
    "\n",
    "cat_cols = [] \n",
    "#get feature names \n",
    "for i in range(len(cat_encoder.categories_)):\n",
    "    cat_cols += list(cat_encoder.categories_[i])\n",
    "\n",
    "attributes = num_attribs + cat_cols\n",
    "importance = model.feature_importances_\n",
    "sorted(zip(importance, attributes), reverse=True)"
   ]
  },
  {
   "cell_type": "markdown",
   "metadata": {},
   "source": [
    "**Note:**  \n",
    "\n",
    "It looks like the most relevant features are \n",
    "- **join_year**\n",
    "- **salary** \n",
    "- **join_day**\n",
    "- **seniority**\n",
    "- **join_month**\n",
    "\n",
    "We can ignore the other features for the rest of the analysis"
   ]
  },
  {
   "cell_type": "markdown",
   "metadata": {},
   "source": [
    "## How Does Logistic Regression Perform?"
   ]
  },
  {
   "cell_type": "code",
   "execution_count": 35,
   "metadata": {},
   "outputs": [
    {
     "name": "stdout",
     "output_type": "stream",
     "text": [
      "Accuracy Score Train =  0.7921157836141896\n",
      "Accuracy Score Test =  0.7980165958308035\n"
     ]
    }
   ],
   "source": [
    "num_attribs = ['join_year', 'salary', 'join_day', 'seniority', 'join_month']\n",
    "cat_attribs = ['dept']\n",
    "full_pipeline, num_pipeline, cat_pipeline = make_pipeline(num_attribs, cat_attribs)\n",
    "\n",
    "y = df.quited\n",
    "X = df[num_attribs+cat_attribs]\n",
    "X_train, X_test, y_train, y_test = train_test_split(X, y, test_size=0.2, random_state=11)\n",
    "X_train_encoded = full_pipeline.fit_transform(X_train, y_train)\n",
    "X_test_encoded = full_pipeline.transform(X_test)\n",
    "\n",
    "\n",
    "model = LogisticRegression()\n",
    "model.fit(X_train_encoded, y_train)\n",
    "\n",
    "predictions = model.predict(X_test_encoded)\n",
    "pred_train = model.predict(X_train_encoded)\n",
    "accuracy_train = accuracy_score(y_train, pred_train)\n",
    "accuracy_test = accuracy_score(y_test, predictions)\n",
    "print(\"Accuracy Score Train = \", accuracy_train)\n",
    "print(\"Accuracy Score Test = \", accuracy_test)"
   ]
  },
  {
   "cell_type": "markdown",
   "metadata": {},
   "source": [
    "## How About Support Vector Classifier?"
   ]
  },
  {
   "cell_type": "code",
   "execution_count": 36,
   "metadata": {},
   "outputs": [
    {
     "name": "stdout",
     "output_type": "stream",
     "text": [
      "Accuracy Score Train =  0.7952532766560396\n",
      "Accuracy Score Test =  0.7972070431086824\n"
     ]
    }
   ],
   "source": [
    "model = LinearSVC(C=0.1)\n",
    "model = SVC(kernel='rbf', gamma=0.1, C=0.5)\n",
    "model.fit(X_train_encoded, y_train)\n",
    "\n",
    "predictions = model.predict(X_test_encoded)\n",
    "pred_train = model.predict(X_train_encoded)\n",
    "accuracy_train = accuracy_score(y_train, pred_train)\n",
    "accuracy_test = accuracy_score(y_test, predictions)\n",
    "print(\"Accuracy Score Train = \", accuracy_train)\n",
    "print(\"Accuracy Score Test = \", accuracy_test)"
   ]
  },
  {
   "cell_type": "markdown",
   "metadata": {},
   "source": [
    "## Compare a few Classifiers"
   ]
  },
  {
   "cell_type": "code",
   "execution_count": 37,
   "metadata": {},
   "outputs": [],
   "source": [
    "def get_cross_validation_scores(X, y, classifiers):\n",
    "    \"\"\"\n",
    "    create a boxplot of cross validation scores to\n",
    "    visualize how different classifiers perform with \n",
    "    default parameters. Assumes all classifiers have been imported\n",
    "    \n",
    "    args:\n",
    "        X -> numpy array, data to fit\n",
    "        y -> class labels\n",
    "        classifiers -> list of classifiers names (as strings)\n",
    "        \n",
    "    \"\"\"\n",
    "    \n",
    "    cv_scores = {}\n",
    "    train_scores = {}\n",
    "    for name in classifiers:\n",
    "        \n",
    "        model = classifiers[name]\n",
    "        model.fit(X, y)\n",
    "        \n",
    "        y_pred = model.predict(X)\n",
    "\n",
    "        #calculate accuracy score for the cross validation set\n",
    "        train_scores[name] = accuracy_score(y_pred, y)\n",
    "        \n",
    "        #cross validation\n",
    "        cv_scores[name] = cross_val_score(model, X, y, cv=10)\n",
    "    \n",
    "    return train_scores, cv_scores"
   ]
  },
  {
   "cell_type": "code",
   "execution_count": 38,
   "metadata": {},
   "outputs": [],
   "source": [
    "classifiers = {'LogisticRegression': LogisticRegression(), \n",
    "               'SGDClassifier': SGDClassifier() , \n",
    "               'LinearSVC': LinearSVC(), \n",
    "               'GaussianNB': GaussianNB(),\n",
    "               'KNeighborsClassifier': KNeighborsClassifier() , \n",
    "               'DecisionTreeClassifier': DecisionTreeClassifier() ,\n",
    "               'RandomForestClassifier': RandomForestClassifier()  \n",
    "              }\n",
    "\n",
    "X_cv, y_cv = full_pipeline.fit_transform(df), y.values\n",
    "train_scores, cv_scores = get_cross_validation_scores(X_cv, y_cv, classifiers=classifiers)"
   ]
  },
  {
   "cell_type": "code",
   "execution_count": 39,
   "metadata": {},
   "outputs": [],
   "source": [
    "def plot_model_cv_scores(cv_scores):\n",
    "\n",
    "    scores = pd.DataFrame(cv_scores)\n",
    "    fig = plt.figure(figsize=(14,6))\n",
    "    ax1 = fig.add_subplot(111)\n",
    "    ax1.set_ylim([0.6,1.0])\n",
    "    _ = scores.plot(kind='box', showmeans=True, rot=20, ax=ax1, title='Accuracy Score Cross Validation')\n",
    "    #plt.savefig('figures/classifiers.png', dpi=200, bbox_inches='tight', pad_inches=0.2)"
   ]
  },
  {
   "cell_type": "code",
   "execution_count": 40,
   "metadata": {},
   "outputs": [
    {
     "data": {
      "image/png": "[encoded data removed]",
      "text/plain": [
       "<matplotlib.figure.Figure at 0x7f9a6d2c0d68>"
      ]
     },
     "metadata": {
      "needs_background": "light"
     },
     "output_type": "display_data"
    }
   ],
   "source": [
    "plot_model_cv_scores(cv_scores)"
   ]
  },
  {
   "cell_type": "code",
   "execution_count": 41,
   "metadata": {},
   "outputs": [
    {
     "data": {
      "text/plain": [
       "LogisticRegression        0.792891\n",
       "SGDClassifier             0.780220\n",
       "LinearSVC                 0.792486\n",
       "GaussianNB                0.793418\n",
       "KNeighborsClassifier      0.769249\n",
       "DecisionTreeClassifier    0.724921\n",
       "RandomForestClassifier    0.760344\n",
       "dtype: float64"
      ]
     },
     "execution_count": 41,
     "metadata": {},
     "output_type": "execute_result"
    }
   ],
   "source": [
    "pd.DataFrame(cv_scores).mean()"
   ]
  },
  {
   "cell_type": "markdown",
   "metadata": {},
   "source": [
    "## Use GridSearch to find best parameters"
   ]
  },
  {
   "cell_type": "code",
   "execution_count": 42,
   "metadata": {},
   "outputs": [
    {
     "name": "stdout",
     "output_type": "stream",
     "text": [
      "\n"
     ]
    }
   ],
   "source": [
    "\"\"\"\n",
    "estimator = RandomForestClassifier(random_state = 0, \n",
    "                               max_features = 'auto',\n",
    "                               max_depth = 11,\n",
    "                               min_samples_split= 6, \n",
    "                               n_estimators = 50,\n",
    "                              )\n",
    "param_grid = { \n",
    "    'max_depth': [7, 10, 15, 20],\n",
    "    'max_features': ['auto', 'sqrt'],\n",
    "    'min_samples_split': [2, 4, 6, 10],\n",
    "    'n_estimators': [10, 50, 100, 150, 300]\n",
    "}\n",
    "\n",
    "CV_rfc = GridSearchCV(estimator=estimator, param_grid=param_grid, cv= 5)\n",
    "CV_rfc.fit(X_train_encoded, y_train)\n",
    "print(CV_rfc.best_params_)\n",
    "\"\"\"\n",
    "#results: {'max_depth': 7, 'max_features': 'auto', 'min_samples_split': 4, 'n_estimators': 150}\n",
    "print()"
   ]
  },
  {
   "cell_type": "markdown",
   "metadata": {},
   "source": [
    "## Summary for Classification"
   ]
  },
  {
   "cell_type": "markdown",
   "metadata": {},
   "source": [
    "- Two promissing models: \n",
    "    - Logistic Regression achieves accurary of 80% on test set\n",
    "    - Support Vector Machine achieves accurary of 80% on test set\n",
    "    - Random Forest with tuned parameters achieves accuracy of 80% on test set"
   ]
  },
  {
   "cell_type": "markdown",
   "metadata": {},
   "source": [
    "# Predict When Employee will Quit"
   ]
  },
  {
   "cell_type": "code",
   "execution_count": 43,
   "metadata": {},
   "outputs": [],
   "source": [
    "from sklearn.linear_model import LogisticRegression, SGDClassifier, SGDRegressor\n",
    "from sklearn.neural_network import MLPClassifier, MLPRegressor\n",
    "from sklearn.svm import SVC, LinearSVR, SVR\n",
    "from sklearn.tree import DecisionTreeRegressor\n",
    "from sklearn.neural_network import MLPRegressor\n",
    "from sklearn.ensemble import RandomForestClassifier, RandomForestRegressor\n",
    "from sklearn.metrics import mean_absolute_error, mean_squared_error \n",
    "\n",
    "from mlencoders.weight_of_evidence_encoder import WeightOfEvidenceEncoder\n",
    "from mlencoders.target_encoder import TargetEncoder"
   ]
  },
  {
   "cell_type": "code",
   "execution_count": 44,
   "metadata": {},
   "outputs": [
    {
     "data": {
      "text/html": [
       "<div>\n",
       "<style scoped>\n",
       "    .dataframe tbody tr th:only-of-type {\n",
       "        vertical-align: middle;\n",
       "    }\n",
       "\n",
       "    .dataframe tbody tr th {\n",
       "        vertical-align: top;\n",
       "    }\n",
       "\n",
       "    .dataframe thead th {\n",
       "        text-align: right;\n",
       "    }\n",
       "</style>\n",
       "<table border=\"1\" class=\"dataframe\">\n",
       "  <thead>\n",
       "    <tr style=\"text-align: right;\">\n",
       "      <th></th>\n",
       "      <th>company_id</th>\n",
       "      <th>dept</th>\n",
       "      <th>seniority</th>\n",
       "      <th>salary</th>\n",
       "      <th>join_date</th>\n",
       "      <th>quit_date</th>\n",
       "      <th>quited</th>\n",
       "      <th>technical</th>\n",
       "      <th>company_2</th>\n",
       "      <th>join_year</th>\n",
       "      <th>join_month</th>\n",
       "      <th>join_day</th>\n",
       "      <th>total_months</th>\n",
       "      <th>mean_salary_dept</th>\n",
       "      <th>max_salary_dept</th>\n",
       "      <th>min_salary_dept</th>\n",
       "    </tr>\n",
       "    <tr>\n",
       "      <th>employee_id</th>\n",
       "      <th></th>\n",
       "      <th></th>\n",
       "      <th></th>\n",
       "      <th></th>\n",
       "      <th></th>\n",
       "      <th></th>\n",
       "      <th></th>\n",
       "      <th></th>\n",
       "      <th></th>\n",
       "      <th></th>\n",
       "      <th></th>\n",
       "      <th></th>\n",
       "      <th></th>\n",
       "      <th></th>\n",
       "      <th></th>\n",
       "      <th></th>\n",
       "    </tr>\n",
       "  </thead>\n",
       "  <tbody>\n",
       "    <tr>\n",
       "      <th>13021</th>\n",
       "      <td>7</td>\n",
       "      <td>customer_service</td>\n",
       "      <td>28</td>\n",
       "      <td>89000.0</td>\n",
       "      <td>2014-03-24</td>\n",
       "      <td>2015-10-30</td>\n",
       "      <td>1</td>\n",
       "      <td>tech_no</td>\n",
       "      <td>company_id_others</td>\n",
       "      <td>2014</td>\n",
       "      <td>3</td>\n",
       "      <td>24</td>\n",
       "      <td>19</td>\n",
       "      <td>82245.424837</td>\n",
       "      <td>166000.0</td>\n",
       "      <td>17000.0</td>\n",
       "    </tr>\n",
       "    <tr>\n",
       "      <th>825355</th>\n",
       "      <td>7</td>\n",
       "      <td>marketing</td>\n",
       "      <td>20</td>\n",
       "      <td>183000.0</td>\n",
       "      <td>2013-04-29</td>\n",
       "      <td>2014-04-04</td>\n",
       "      <td>1</td>\n",
       "      <td>tech_no</td>\n",
       "      <td>company_id_others</td>\n",
       "      <td>2013</td>\n",
       "      <td>4</td>\n",
       "      <td>29</td>\n",
       "      <td>11</td>\n",
       "      <td>135598.042311</td>\n",
       "      <td>262000.0</td>\n",
       "      <td>30000.0</td>\n",
       "    </tr>\n",
       "    <tr>\n",
       "      <th>927315</th>\n",
       "      <td>4</td>\n",
       "      <td>marketing</td>\n",
       "      <td>14</td>\n",
       "      <td>101000.0</td>\n",
       "      <td>2014-10-13</td>\n",
       "      <td>NaT</td>\n",
       "      <td>0</td>\n",
       "      <td>tech_no</td>\n",
       "      <td>company_id_others</td>\n",
       "      <td>2014</td>\n",
       "      <td>10</td>\n",
       "      <td>13</td>\n",
       "      <td>360</td>\n",
       "      <td>135598.042311</td>\n",
       "      <td>262000.0</td>\n",
       "      <td>30000.0</td>\n",
       "    </tr>\n",
       "    <tr>\n",
       "      <th>662910</th>\n",
       "      <td>7</td>\n",
       "      <td>customer_service</td>\n",
       "      <td>20</td>\n",
       "      <td>115000.0</td>\n",
       "      <td>2012-05-14</td>\n",
       "      <td>2013-06-07</td>\n",
       "      <td>1</td>\n",
       "      <td>tech_no</td>\n",
       "      <td>company_id_others</td>\n",
       "      <td>2012</td>\n",
       "      <td>5</td>\n",
       "      <td>14</td>\n",
       "      <td>12</td>\n",
       "      <td>82245.424837</td>\n",
       "      <td>166000.0</td>\n",
       "      <td>17000.0</td>\n",
       "    </tr>\n",
       "    <tr>\n",
       "      <th>256971</th>\n",
       "      <td>2</td>\n",
       "      <td>data_science</td>\n",
       "      <td>23</td>\n",
       "      <td>276000.0</td>\n",
       "      <td>2011-10-17</td>\n",
       "      <td>2014-08-22</td>\n",
       "      <td>1</td>\n",
       "      <td>tech_yes</td>\n",
       "      <td>company_id_2</td>\n",
       "      <td>2011</td>\n",
       "      <td>10</td>\n",
       "      <td>17</td>\n",
       "      <td>34</td>\n",
       "      <td>206885.893417</td>\n",
       "      <td>398000.0</td>\n",
       "      <td>44000.0</td>\n",
       "    </tr>\n",
       "  </tbody>\n",
       "</table>\n",
       "</div>"
      ],
      "text/plain": [
       "            company_id              dept  seniority    salary  join_date  \\\n",
       "employee_id                                                                \n",
       "13021                7  customer_service         28   89000.0 2014-03-24   \n",
       "825355               7         marketing         20  183000.0 2013-04-29   \n",
       "927315               4         marketing         14  101000.0 2014-10-13   \n",
       "662910               7  customer_service         20  115000.0 2012-05-14   \n",
       "256971               2      data_science         23  276000.0 2011-10-17   \n",
       "\n",
       "             quit_date  quited technical          company_2  join_year  \\\n",
       "employee_id                                                              \n",
       "13021       2015-10-30       1   tech_no  company_id_others       2014   \n",
       "825355      2014-04-04       1   tech_no  company_id_others       2013   \n",
       "927315             NaT       0   tech_no  company_id_others       2014   \n",
       "662910      2013-06-07       1   tech_no  company_id_others       2012   \n",
       "256971      2014-08-22       1  tech_yes       company_id_2       2011   \n",
       "\n",
       "             join_month  join_day  total_months  mean_salary_dept  \\\n",
       "employee_id                                                         \n",
       "13021                 3        24            19      82245.424837   \n",
       "825355                4        29            11     135598.042311   \n",
       "927315               10        13           360     135598.042311   \n",
       "662910                5        14            12      82245.424837   \n",
       "256971               10        17            34     206885.893417   \n",
       "\n",
       "             max_salary_dept  min_salary_dept  \n",
       "employee_id                                    \n",
       "13021               166000.0          17000.0  \n",
       "825355              262000.0          30000.0  \n",
       "927315              262000.0          30000.0  \n",
       "662910              166000.0          17000.0  \n",
       "256971              398000.0          44000.0  "
      ]
     },
     "execution_count": 44,
     "metadata": {},
     "output_type": "execute_result"
    }
   ],
   "source": [
    "df.head()"
   ]
  },
  {
   "cell_type": "code",
   "execution_count": 45,
   "metadata": {},
   "outputs": [],
   "source": [
    "def log_transform(df, cols):\n",
    "    for col in cols:\n",
    "        df[col] = np.log(df[col])\n",
    "    return df\n",
    "\n",
    "num_attribs = ['join_year', \n",
    "               'salary', \n",
    "               'join_day', \n",
    "               'seniority', \n",
    "               'join_month',\n",
    "               'mean_salary_dept',\n",
    "               'max_salary_dept',\n",
    "               'min_salary_dept'\n",
    "              ]\n",
    "\n",
    "cat_attribs = ['dept', 'company_id']\n",
    "full_pipeline, num_pipeline, cat_pipeline = make_pipeline(num_attribs, cat_attribs)\n",
    "\n",
    "df_quited = df[df.quited == 1]\n",
    "df_quited = log_transform(df_quited, num_attribs)\n",
    "y = df_quited.total_months\n",
    "X = df_quited[num_attribs+cat_attribs]\n",
    "X_train, X_test, y_train, y_test = train_test_split(X, y, test_size=0.1, random_state=11)\n",
    "X_train_encoded = full_pipeline.fit_transform(X_train, y_train)\n",
    "X_test_encoded = full_pipeline.transform(X_test)\n",
    "\n",
    "\n",
    "model = RandomForestRegressor(random_state=11, \n",
    "                              max_depth = 11,\n",
    "                              n_estimators=100)\n",
    "#model = LinearSVR(C=100)\n",
    "model.fit(X_train_encoded, y_train)\n",
    "\n",
    "predictions = model.predict(X_test_encoded)\n",
    "pred_train = model.predict(X_train_encoded)\n",
    "baseline_preds = np.array([np.mean(y_test) for value in y_test])"
   ]
  },
  {
   "cell_type": "code",
   "execution_count": 46,
   "metadata": {},
   "outputs": [
    {
     "name": "stdout",
     "output_type": "stream",
     "text": [
      "\n",
      "Mean Square Errors:\n",
      "-----------------------\n",
      "Mean Square Error Train:  8.09\n",
      "Mean Square Error Baseline:  10.97\n",
      "Mean Square Error Test:  9.8\n",
      "Percent Improvement from Baseline: 10.597580629121863\n",
      "Sample Std: 10.783523266427673\n"
     ]
    }
   ],
   "source": [
    "train_rmse = np.sqrt(mean_squared_error(y_train, pred_train))\n",
    "base_rmse = np.sqrt(mean_squared_error(y_test, baseline_preds))\n",
    "test_rmse = np.sqrt(mean_squared_error(y_test, predictions))\n",
    "print('\\nMean Square Errors:')\n",
    "print('-----------------------')\n",
    "print('Mean Square Error Train: ', round(train_rmse, 2))\n",
    "print('Mean Square Error Baseline: ', round(base_rmse, 2))\n",
    "print('Mean Square Error Test: ', round(test_rmse, 2))\n",
    "print('Percent Improvement from Baseline:', 100*(base_rmse-test_rmse)/base_rmse)\n",
    "print('Sample Std:', np.std(y_train))"
   ]
  },
  {
   "cell_type": "code",
   "execution_count": 47,
   "metadata": {},
   "outputs": [
    {
     "data": {
      "text/plain": [
       "[<matplotlib.lines.Line2D at 0x7f9a6d3105c0>]"
      ]
     },
     "execution_count": 47,
     "metadata": {},
     "output_type": "execute_result"
    },
    {
     "data": {
      "image/png": "[encoded data removed]",
      "text/plain": [
       "<matplotlib.figure.Figure at 0x7f9a6d211400>"
      ]
     },
     "metadata": {
      "needs_background": "light"
     },
     "output_type": "display_data"
    }
   ],
   "source": [
    "import matplotlib.pyplot as plt\n",
    "plt.rcParams.update({'font.size': 16})\n",
    "dyfit = test_rmse\n",
    "\n",
    "plt.xlim(0, 100);\n",
    "plt.ylim(0, 100);\n",
    "plt.xlabel('Actual Delays (Days)')\n",
    "plt.ylabel('Predicted Delays (Days)')\n",
    "\n",
    "\n",
    "y_low = y_test - test_rmse\n",
    "y_high= y_test + test_rmse\n",
    "\n",
    "bool_mask = (predictions < y_high) & (predictions > y_low) \n",
    "y_in = predictions[bool_mask]\n",
    "y_out = predictions[~bool_mask]\n",
    "\n",
    "plt.plot(y_test[bool_mask], y_in, 'o', color='blue')\n",
    "plt.plot(y_test[~bool_mask], y_out, 'o', color='red')\n",
    "plt.plot(y_test, y_test, '--', color='blue')\n",
    "plt.plot(y_test, y_test - dyfit, '-', color='gray')\n",
    "plt.plot(y_test, y_test + dyfit, '-', color='gray')\n",
    "\n",
    "\n",
    "#plt.savefig('figures/delay_days_predictions.png', dpi=200, bbox_inches='tight', pad_inches=0.2)\n",
    "#plt.fill_between(y_test, y_test - dyfit, y_test + dyfit, color='gray', alpha=0.6)"
   ]
  },
  {
   "cell_type": "markdown",
   "metadata": {},
   "source": [
    "# Conclusion"
   ]
  },
  {
   "cell_type": "markdown",
   "metadata": {},
   "source": [
    "- Features that are important in predicting which employee will quit are\n",
    "    - **The year when the employee joined** \n",
    "    - **The employee salary** \n",
    "    - **The day when the employee joined** (not very important without the year, can even be ignored.)\n",
    "    - **The seniority level, i.e. the number of years of service**\n",
    "    - **The month when the employee joined** (not very important without the year, can even be ignored)\n",
    " \n",
    "I believe features such as the year when the employee started working as well as the salary make sense. These are all non-academic jobs, and I think people will likely quit their job early in their careers, either because they realize that the first job was not the job they wanted or because they feel like they have gained some experience and would like better opportunities. Also, if salary has been stagnant, people will likely quit. \n",
    " \n",
    "If I could add one feature, I would add I would add the age of the employee because this will determine if the employee is early in their career or a senior. "
   ]
  }
 ],
 "metadata": {
  "kernelspec": {
   "display_name": "Python 3",
   "language": "python",
   "name": "python3"
  },
  "language_info": {
   "codemirror_mode": {
    "name": "ipython",
    "version": 3
   },
   "file_extension": ".py",
   "mimetype": "text/x-python",
   "name": "python",
   "nbconvert_exporter": "python",
   "pygments_lexer": "ipython3",
   "version": "3.6.7"
  }
 },
 "nbformat": 4,
 "nbformat_minor": 2
}
