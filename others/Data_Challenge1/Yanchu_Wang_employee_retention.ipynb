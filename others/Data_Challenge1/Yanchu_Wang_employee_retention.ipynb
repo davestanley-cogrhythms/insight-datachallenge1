{
 "cells": [
  {
   "cell_type": "code",
   "execution_count": 1,
   "metadata": {},
   "outputs": [],
   "source": [
    "import matplotlib.pyplot as plt\n",
    "import numpy as np\n",
    "import pandas as pd"
   ]
  },
  {
   "cell_type": "code",
   "execution_count": 2,
   "metadata": {},
   "outputs": [],
   "source": [
    "df=pd.read_csv('employee_retention_data.csv')"
   ]
  },
  {
   "cell_type": "code",
   "execution_count": 3,
   "metadata": {},
   "outputs": [
    {
     "data": {
      "text/html": [
       "<div>\n",
       "<style scoped>\n",
       "    .dataframe tbody tr th:only-of-type {\n",
       "        vertical-align: middle;\n",
       "    }\n",
       "\n",
       "    .dataframe tbody tr th {\n",
       "        vertical-align: top;\n",
       "    }\n",
       "\n",
       "    .dataframe thead th {\n",
       "        text-align: right;\n",
       "    }\n",
       "</style>\n",
       "<table border=\"1\" class=\"dataframe\">\n",
       "  <thead>\n",
       "    <tr style=\"text-align: right;\">\n",
       "      <th></th>\n",
       "      <th>employee_id</th>\n",
       "      <th>company_id</th>\n",
       "      <th>dept</th>\n",
       "      <th>seniority</th>\n",
       "      <th>salary</th>\n",
       "      <th>join_date</th>\n",
       "      <th>quit_date</th>\n",
       "    </tr>\n",
       "  </thead>\n",
       "  <tbody>\n",
       "    <tr>\n",
       "      <th>0</th>\n",
       "      <td>13021.0</td>\n",
       "      <td>7</td>\n",
       "      <td>customer_service</td>\n",
       "      <td>28</td>\n",
       "      <td>89000.0</td>\n",
       "      <td>2014-03-24</td>\n",
       "      <td>2015-10-30</td>\n",
       "    </tr>\n",
       "    <tr>\n",
       "      <th>1</th>\n",
       "      <td>825355.0</td>\n",
       "      <td>7</td>\n",
       "      <td>marketing</td>\n",
       "      <td>20</td>\n",
       "      <td>183000.0</td>\n",
       "      <td>2013-04-29</td>\n",
       "      <td>2014-04-04</td>\n",
       "    </tr>\n",
       "    <tr>\n",
       "      <th>2</th>\n",
       "      <td>927315.0</td>\n",
       "      <td>4</td>\n",
       "      <td>marketing</td>\n",
       "      <td>14</td>\n",
       "      <td>101000.0</td>\n",
       "      <td>2014-10-13</td>\n",
       "      <td>NaN</td>\n",
       "    </tr>\n",
       "    <tr>\n",
       "      <th>3</th>\n",
       "      <td>662910.0</td>\n",
       "      <td>7</td>\n",
       "      <td>customer_service</td>\n",
       "      <td>20</td>\n",
       "      <td>115000.0</td>\n",
       "      <td>2012-05-14</td>\n",
       "      <td>2013-06-07</td>\n",
       "    </tr>\n",
       "    <tr>\n",
       "      <th>4</th>\n",
       "      <td>256971.0</td>\n",
       "      <td>2</td>\n",
       "      <td>data_science</td>\n",
       "      <td>23</td>\n",
       "      <td>276000.0</td>\n",
       "      <td>2011-10-17</td>\n",
       "      <td>2014-08-22</td>\n",
       "    </tr>\n",
       "  </tbody>\n",
       "</table>\n",
       "</div>"
      ],
      "text/plain": [
       "   employee_id  company_id              dept  seniority    salary   join_date  \\\n",
       "0      13021.0           7  customer_service         28   89000.0  2014-03-24   \n",
       "1     825355.0           7         marketing         20  183000.0  2013-04-29   \n",
       "2     927315.0           4         marketing         14  101000.0  2014-10-13   \n",
       "3     662910.0           7  customer_service         20  115000.0  2012-05-14   \n",
       "4     256971.0           2      data_science         23  276000.0  2011-10-17   \n",
       "\n",
       "    quit_date  \n",
       "0  2015-10-30  \n",
       "1  2014-04-04  \n",
       "2         NaN  \n",
       "3  2013-06-07  \n",
       "4  2014-08-22  "
      ]
     },
     "execution_count": 3,
     "metadata": {},
     "output_type": "execute_result"
    }
   ],
   "source": [
    "df.head()"
   ]
  },
  {
   "cell_type": "code",
   "execution_count": 4,
   "metadata": {},
   "outputs": [
    {
     "data": {
      "text/plain": [
       "employee_id        0\n",
       "company_id         0\n",
       "dept               0\n",
       "seniority          0\n",
       "salary             0\n",
       "join_date          0\n",
       "quit_date      11192\n",
       "dtype: int64"
      ]
     },
     "execution_count": 4,
     "metadata": {},
     "output_type": "execute_result"
    }
   ],
   "source": [
    "df.isnull().sum()"
   ]
  },
  {
   "cell_type": "code",
   "execution_count": 5,
   "metadata": {},
   "outputs": [],
   "source": [
    "df['join_date']=pd.to_datetime(df.join_date)\n",
    "df['quit_date']=pd.to_datetime(df.quit_date)\n",
    "df['joinint']=(df.join_date-pd.datetime(2011,1,23)).dt.days\n",
    "df=df.drop(\"employee_id\",axis=1)"
   ]
  },
  {
   "cell_type": "code",
   "execution_count": 6,
   "metadata": {},
   "outputs": [
    {
     "data": {
      "text/html": [
       "<div>\n",
       "<style scoped>\n",
       "    .dataframe tbody tr th:only-of-type {\n",
       "        vertical-align: middle;\n",
       "    }\n",
       "\n",
       "    .dataframe tbody tr th {\n",
       "        vertical-align: top;\n",
       "    }\n",
       "\n",
       "    .dataframe thead th {\n",
       "        text-align: right;\n",
       "    }\n",
       "</style>\n",
       "<table border=\"1\" class=\"dataframe\">\n",
       "  <thead>\n",
       "    <tr style=\"text-align: right;\">\n",
       "      <th></th>\n",
       "      <th>company_id</th>\n",
       "      <th>dept</th>\n",
       "      <th>seniority</th>\n",
       "      <th>salary</th>\n",
       "      <th>join_date</th>\n",
       "      <th>quit_date</th>\n",
       "      <th>joinint</th>\n",
       "    </tr>\n",
       "  </thead>\n",
       "  <tbody>\n",
       "    <tr>\n",
       "      <th>0</th>\n",
       "      <td>7</td>\n",
       "      <td>customer_service</td>\n",
       "      <td>28</td>\n",
       "      <td>89000.0</td>\n",
       "      <td>2014-03-24</td>\n",
       "      <td>2015-10-30</td>\n",
       "      <td>1156</td>\n",
       "    </tr>\n",
       "    <tr>\n",
       "      <th>1</th>\n",
       "      <td>7</td>\n",
       "      <td>marketing</td>\n",
       "      <td>20</td>\n",
       "      <td>183000.0</td>\n",
       "      <td>2013-04-29</td>\n",
       "      <td>2014-04-04</td>\n",
       "      <td>827</td>\n",
       "    </tr>\n",
       "    <tr>\n",
       "      <th>3</th>\n",
       "      <td>7</td>\n",
       "      <td>customer_service</td>\n",
       "      <td>20</td>\n",
       "      <td>115000.0</td>\n",
       "      <td>2012-05-14</td>\n",
       "      <td>2013-06-07</td>\n",
       "      <td>477</td>\n",
       "    </tr>\n",
       "    <tr>\n",
       "      <th>4</th>\n",
       "      <td>2</td>\n",
       "      <td>data_science</td>\n",
       "      <td>23</td>\n",
       "      <td>276000.0</td>\n",
       "      <td>2011-10-17</td>\n",
       "      <td>2014-08-22</td>\n",
       "      <td>267</td>\n",
       "    </tr>\n",
       "    <tr>\n",
       "      <th>5</th>\n",
       "      <td>4</td>\n",
       "      <td>data_science</td>\n",
       "      <td>14</td>\n",
       "      <td>165000.0</td>\n",
       "      <td>2012-01-30</td>\n",
       "      <td>2013-08-30</td>\n",
       "      <td>372</td>\n",
       "    </tr>\n",
       "  </tbody>\n",
       "</table>\n",
       "</div>"
      ],
      "text/plain": [
       "   company_id              dept  seniority    salary  join_date  quit_date  \\\n",
       "0           7  customer_service         28   89000.0 2014-03-24 2015-10-30   \n",
       "1           7         marketing         20  183000.0 2013-04-29 2014-04-04   \n",
       "3           7  customer_service         20  115000.0 2012-05-14 2013-06-07   \n",
       "4           2      data_science         23  276000.0 2011-10-17 2014-08-22   \n",
       "5           4      data_science         14  165000.0 2012-01-30 2013-08-30   \n",
       "\n",
       "   joinint  \n",
       "0     1156  \n",
       "1      827  \n",
       "3      477  \n",
       "4      267  \n",
       "5      372  "
      ]
     },
     "execution_count": 6,
     "metadata": {},
     "output_type": "execute_result"
    }
   ],
   "source": [
    "quittable=df.dropna()\n",
    "quittable.head()"
   ]
  },
  {
   "cell_type": "code",
   "execution_count": 7,
   "metadata": {},
   "outputs": [
    {
     "data": {
      "text/html": [
       "<div>\n",
       "<style scoped>\n",
       "    .dataframe tbody tr th:only-of-type {\n",
       "        vertical-align: middle;\n",
       "    }\n",
       "\n",
       "    .dataframe tbody tr th {\n",
       "        vertical-align: top;\n",
       "    }\n",
       "\n",
       "    .dataframe thead th {\n",
       "        text-align: right;\n",
       "    }\n",
       "</style>\n",
       "<table border=\"1\" class=\"dataframe\">\n",
       "  <thead>\n",
       "    <tr style=\"text-align: right;\">\n",
       "      <th></th>\n",
       "      <th>company_id</th>\n",
       "      <th>dept</th>\n",
       "      <th>seniority</th>\n",
       "      <th>salary</th>\n",
       "      <th>join_date</th>\n",
       "      <th>joinint</th>\n",
       "    </tr>\n",
       "  </thead>\n",
       "  <tbody>\n",
       "    <tr>\n",
       "      <th>2</th>\n",
       "      <td>4</td>\n",
       "      <td>marketing</td>\n",
       "      <td>14</td>\n",
       "      <td>101000.0</td>\n",
       "      <td>2014-10-13</td>\n",
       "      <td>1359</td>\n",
       "    </tr>\n",
       "    <tr>\n",
       "      <th>6</th>\n",
       "      <td>4</td>\n",
       "      <td>customer_service</td>\n",
       "      <td>21</td>\n",
       "      <td>107000.0</td>\n",
       "      <td>2013-10-21</td>\n",
       "      <td>1002</td>\n",
       "    </tr>\n",
       "    <tr>\n",
       "      <th>7</th>\n",
       "      <td>2</td>\n",
       "      <td>customer_service</td>\n",
       "      <td>4</td>\n",
       "      <td>30000.0</td>\n",
       "      <td>2014-03-05</td>\n",
       "      <td>1137</td>\n",
       "    </tr>\n",
       "    <tr>\n",
       "      <th>9</th>\n",
       "      <td>1</td>\n",
       "      <td>sales</td>\n",
       "      <td>7</td>\n",
       "      <td>104000.0</td>\n",
       "      <td>2012-06-12</td>\n",
       "      <td>506</td>\n",
       "    </tr>\n",
       "    <tr>\n",
       "      <th>11</th>\n",
       "      <td>2</td>\n",
       "      <td>marketing</td>\n",
       "      <td>17</td>\n",
       "      <td>230000.0</td>\n",
       "      <td>2015-05-11</td>\n",
       "      <td>1569</td>\n",
       "    </tr>\n",
       "  </tbody>\n",
       "</table>\n",
       "</div>"
      ],
      "text/plain": [
       "    company_id              dept  seniority    salary  join_date  joinint\n",
       "2            4         marketing         14  101000.0 2014-10-13     1359\n",
       "6            4  customer_service         21  107000.0 2013-10-21     1002\n",
       "7            2  customer_service          4   30000.0 2014-03-05     1137\n",
       "9            1             sales          7  104000.0 2012-06-12      506\n",
       "11           2         marketing         17  230000.0 2015-05-11     1569"
      ]
     },
     "execution_count": 7,
     "metadata": {},
     "output_type": "execute_result"
    }
   ],
   "source": [
    "staytable=df[df.quit_date.isnull()]\n",
    "staytable=staytable.drop('quit_date',axis=1)\n",
    "staytable.head()"
   ]
  },
  {
   "cell_type": "code",
   "execution_count": 8,
   "metadata": {},
   "outputs": [
    {
     "name": "stderr",
     "output_type": "stream",
     "text": [
      "/home/yanchu/miniconda3/lib/python3.6/site-packages/ipykernel_launcher.py:1: SettingWithCopyWarning: \n",
      "A value is trying to be set on a copy of a slice from a DataFrame.\n",
      "Try using .loc[row_indexer,col_indexer] = value instead\n",
      "\n",
      "See the caveats in the documentation: http://pandas.pydata.org/pandas-docs/stable/indexing.html#indexing-view-versus-copy\n",
      "  \"\"\"Entry point for launching an IPython kernel.\n"
     ]
    }
   ],
   "source": [
    "quittable['duration']=(df.quit_date-df.join_date).dt.days"
   ]
  },
  {
   "cell_type": "code",
   "execution_count": 9,
   "metadata": {},
   "outputs": [
    {
     "data": {
      "text/html": [
       "<div>\n",
       "<style scoped>\n",
       "    .dataframe tbody tr th:only-of-type {\n",
       "        vertical-align: middle;\n",
       "    }\n",
       "\n",
       "    .dataframe tbody tr th {\n",
       "        vertical-align: top;\n",
       "    }\n",
       "\n",
       "    .dataframe thead th {\n",
       "        text-align: right;\n",
       "    }\n",
       "</style>\n",
       "<table border=\"1\" class=\"dataframe\">\n",
       "  <thead>\n",
       "    <tr style=\"text-align: right;\">\n",
       "      <th></th>\n",
       "      <th>company_id</th>\n",
       "      <th>dept</th>\n",
       "      <th>seniority</th>\n",
       "      <th>salary</th>\n",
       "      <th>join_date</th>\n",
       "      <th>quit_date</th>\n",
       "      <th>joinint</th>\n",
       "      <th>duration</th>\n",
       "    </tr>\n",
       "  </thead>\n",
       "  <tbody>\n",
       "    <tr>\n",
       "      <th>0</th>\n",
       "      <td>7</td>\n",
       "      <td>customer_service</td>\n",
       "      <td>28</td>\n",
       "      <td>89000.0</td>\n",
       "      <td>2014-03-24</td>\n",
       "      <td>2015-10-30</td>\n",
       "      <td>1156</td>\n",
       "      <td>585.0</td>\n",
       "    </tr>\n",
       "    <tr>\n",
       "      <th>1</th>\n",
       "      <td>7</td>\n",
       "      <td>marketing</td>\n",
       "      <td>20</td>\n",
       "      <td>183000.0</td>\n",
       "      <td>2013-04-29</td>\n",
       "      <td>2014-04-04</td>\n",
       "      <td>827</td>\n",
       "      <td>340.0</td>\n",
       "    </tr>\n",
       "    <tr>\n",
       "      <th>3</th>\n",
       "      <td>7</td>\n",
       "      <td>customer_service</td>\n",
       "      <td>20</td>\n",
       "      <td>115000.0</td>\n",
       "      <td>2012-05-14</td>\n",
       "      <td>2013-06-07</td>\n",
       "      <td>477</td>\n",
       "      <td>389.0</td>\n",
       "    </tr>\n",
       "    <tr>\n",
       "      <th>4</th>\n",
       "      <td>2</td>\n",
       "      <td>data_science</td>\n",
       "      <td>23</td>\n",
       "      <td>276000.0</td>\n",
       "      <td>2011-10-17</td>\n",
       "      <td>2014-08-22</td>\n",
       "      <td>267</td>\n",
       "      <td>1040.0</td>\n",
       "    </tr>\n",
       "    <tr>\n",
       "      <th>5</th>\n",
       "      <td>4</td>\n",
       "      <td>data_science</td>\n",
       "      <td>14</td>\n",
       "      <td>165000.0</td>\n",
       "      <td>2012-01-30</td>\n",
       "      <td>2013-08-30</td>\n",
       "      <td>372</td>\n",
       "      <td>578.0</td>\n",
       "    </tr>\n",
       "  </tbody>\n",
       "</table>\n",
       "</div>"
      ],
      "text/plain": [
       "   company_id              dept  seniority    salary  join_date  quit_date  \\\n",
       "0           7  customer_service         28   89000.0 2014-03-24 2015-10-30   \n",
       "1           7         marketing         20  183000.0 2013-04-29 2014-04-04   \n",
       "3           7  customer_service         20  115000.0 2012-05-14 2013-06-07   \n",
       "4           2      data_science         23  276000.0 2011-10-17 2014-08-22   \n",
       "5           4      data_science         14  165000.0 2012-01-30 2013-08-30   \n",
       "\n",
       "   joinint  duration  \n",
       "0     1156     585.0  \n",
       "1      827     340.0  \n",
       "3      477     389.0  \n",
       "4      267    1040.0  \n",
       "5      372     578.0  "
      ]
     },
     "execution_count": 9,
     "metadata": {},
     "output_type": "execute_result"
    }
   ],
   "source": [
    "quittable.head()"
   ]
  },
  {
   "cell_type": "code",
   "execution_count": 10,
   "metadata": {},
   "outputs": [
    {
     "data": {
      "text/plain": [
       "(array([[  0.,   0.,   3.,   5.,  84., 645., 855., 159.,  15.,  60., 154.,\n",
       "         329., 345., 234., 110.,  87., 119., 137., 159., 146., 123., 118.,\n",
       "         130., 164., 122., 105.,  47.,  31.,  11.],\n",
       "        [  0.,   2.,   4.,   4., 111., 694., 963., 165.,  13.,  61., 172.,\n",
       "         328., 366., 238.,  96.,  95., 113., 169., 180., 137.,  94.,  51.,\n",
       "          39.,  13.,   0.,   0.,   0.,   0.,   0.],\n",
       "        [  0.,   0.,   2.,   4.,  91., 682., 926., 139.,  21.,  75., 177.,\n",
       "         309., 281., 201.,  56.,  40.,  26.,   7.,   0.,   0.,   0.,   0.,\n",
       "           0.,   0.,   0.,   0.,   0.,   0.,   0.],\n",
       "        [  0.,   0.,   2.,   8., 104., 730., 822.,  86.,   6.,  19.,  32.,\n",
       "          21.,   0.,   0.,   0.,   0.,   0.,   0.,   0.,   0.,   0.,   0.,\n",
       "           0.,   0.,   0.,   0.,   0.,   0.,   0.],\n",
       "        [  0.,   0.,   0.,   0.,  20.,  18.,   0.,   0.,   0.,   0.,   0.,\n",
       "           0.,   0.,   0.,   0.,   0.,   0.,   0.,   0.,   0.,   0.,   0.,\n",
       "           0.,   0.,   0.,   0.,   0.,   0.,   0.]]),\n",
       " array([2011, 2012, 2013, 2014, 2015, 2016]),\n",
       " array([   0,   60,  120,  180,  240,  300,  360,  420,  480,  540,  600,\n",
       "         660,  720,  780,  840,  900,  960, 1020, 1080, 1140, 1200, 1260,\n",
       "        1320, 1380, 1440, 1500, 1560, 1620, 1680, 1740]),\n",
       " <matplotlib.collections.QuadMesh at 0x7fa7e7bb0358>)"
      ]
     },
     "execution_count": 10,
     "metadata": {},
     "output_type": "execute_result"
    },
    {
     "data": {
      "image/png": "[encoded data removed]",
      "text/plain": [
       "<Figure size 432x288 with 1 Axes>"
      ]
     },
     "metadata": {
      "needs_background": "light"
     },
     "output_type": "display_data"
    }
   ],
   "source": [
    "plt.hist2d(quittable.join_date.dt.year,quittable.duration,[range(2011,2017),range(0,1800,60)])"
   ]
  },
  {
   "cell_type": "markdown",
   "metadata": {},
   "source": [
    "###### This plot shows that, according to the available data, despite being hired in various years, peole are leaving in the same pattern in terms of \"duration\". A lot of people leave at 1 year."
   ]
  },
  {
   "cell_type": "code",
   "execution_count": 11,
   "metadata": {
    "scrolled": false
   },
   "outputs": [
    {
     "data": {
      "text/plain": [
       "(array([0.000e+00, 0.000e+00, 0.000e+00, 2.000e+00, 3.000e+00, 8.000e+00,\n",
       "        8.000e+00, 1.300e+01, 5.900e+01, 3.510e+02, 9.510e+02, 1.818e+03,\n",
       "        2.396e+03, 1.170e+03, 4.450e+02, 1.040e+02, 2.300e+01, 3.200e+01,\n",
       "        5.400e+01, 1.610e+02, 2.100e+02, 3.250e+02, 4.040e+02, 5.830e+02,\n",
       "        5.360e+02, 4.560e+02, 4.210e+02, 2.520e+02, 1.710e+02, 9.100e+01,\n",
       "        1.110e+02, 1.110e+02, 1.170e+02, 1.410e+02, 1.560e+02, 1.570e+02,\n",
       "        1.600e+02, 1.790e+02, 1.480e+02, 1.350e+02, 1.290e+02, 8.800e+01,\n",
       "        8.000e+01, 8.900e+01, 9.300e+01, 7.600e+01, 8.700e+01, 9.000e+01,\n",
       "        5.900e+01, 6.300e+01, 5.000e+01, 5.500e+01, 2.900e+01, 1.800e+01,\n",
       "        2.100e+01, 1.000e+01, 9.000e+00, 2.000e+00, 0.000e+00]),\n",
       " array([   0,   30,   60,   90,  120,  150,  180,  210,  240,  270,  300,\n",
       "         330,  360,  390,  420,  450,  480,  510,  540,  570,  600,  630,\n",
       "         660,  690,  720,  750,  780,  810,  840,  870,  900,  930,  960,\n",
       "         990, 1020, 1050, 1080, 1110, 1140, 1170, 1200, 1230, 1260, 1290,\n",
       "        1320, 1350, 1380, 1410, 1440, 1470, 1500, 1530, 1560, 1590, 1620,\n",
       "        1650, 1680, 1710, 1740, 1770]),\n",
       " <a list of 59 Patch objects>)"
      ]
     },
     "execution_count": 11,
     "metadata": {},
     "output_type": "execute_result"
    },
    {
     "data": {
      "image/png": "[encoded data removed]",
      "text/plain": [
       "<Figure size 432x288 with 1 Axes>"
      ]
     },
     "metadata": {
      "needs_background": "light"
     },
     "output_type": "display_data"
    }
   ],
   "source": [
    "plt.hist(quittable.duration,range(0,1800,30))"
   ]
  },
  {
   "cell_type": "markdown",
   "metadata": {},
   "source": [
    "###### People are leaving at  1 year, and 2 year to some extent too.\n",
    "###### Actually it's not fair to just look at the general duration distribution, because new employees won't have long durations shown in the data (the duration of people hired in 2014 is capped at 1 years because no post 2015 data, as shown in the 2D hist)\n",
    "###### But since the leaving pattern is similar, we can have a look at the possibility distribution of people hired in 2011"
   ]
  },
  {
   "cell_type": "code",
   "execution_count": 12,
   "metadata": {},
   "outputs": [
    {
     "data": {
      "text/plain": [
       "Text(0, 0.5, 'churn rate')"
      ]
     },
     "execution_count": 12,
     "metadata": {},
     "output_type": "execute_result"
    },
    {
     "data": {
      "image/png": "[encoded data removed]",
      "text/plain": [
       "<Figure size 432x288 with 1 Axes>"
      ]
     },
     "metadata": {
      "needs_background": "light"
     },
     "output_type": "display_data"
    }
   ],
   "source": [
    "weight=(df['join_date']<pd.datetime(2011,12,13)).sum()\n",
    "hist, bins_ = np.histogram(quittable[quittable['join_date']<pd.datetime(2011,12,13)].duration,range(0,1800,30))\n",
    "freq = hist/weight\n",
    "plt.bar(bins_[:-1], freq, align=\"edge\", width=np.diff(bins_))\n",
    "plt.xlabel('days after join')\n",
    "plt.ylabel('churn rate')"
   ]
  },
  {
   "cell_type": "code",
   "execution_count": 13,
   "metadata": {},
   "outputs": [
    {
     "data": {
      "text/plain": [
       "0.95471614755909"
      ]
     },
     "execution_count": 13,
     "metadata": {},
     "output_type": "execute_result"
    }
   ],
   "source": [
    "freq.sum()"
   ]
  },
  {
   "cell_type": "markdown",
   "metadata": {},
   "source": [
    "###### Same conclusion though. and 95% people left in 4 years time"
   ]
  },
  {
   "cell_type": "code",
   "execution_count": 14,
   "metadata": {},
   "outputs": [
    {
     "data": {
      "text/plain": [
       "Text(0.5, 0, 'days after 2011')"
      ]
     },
     "execution_count": 14,
     "metadata": {},
     "output_type": "execute_result"
    },
    {
     "data": {
      "image/png": "[encoded data removed]",
      "text/plain": [
       "<Figure size 432x288 with 1 Axes>"
      ]
     },
     "metadata": {
      "needs_background": "light"
     },
     "output_type": "display_data"
    }
   ],
   "source": [
    "plt.hist(quittable.joinint,range(0,1800,100),alpha = 0.7)\n",
    "plt.hist(staytable.joinint,range(0,1800,100),alpha = 0.7)\n",
    "plt.xlabel('days after 2011')"
   ]
  },
  {
   "cell_type": "markdown",
   "metadata": {},
   "source": [
    "###### safe to assume that everyone will leave in the scale of 4 years' time, so we need a model to predict the duration for employee in the staytable"
   ]
  },
  {
   "cell_type": "code",
   "execution_count": 15,
   "metadata": {},
   "outputs": [
    {
     "data": {
      "text/html": [
       "<div>\n",
       "<style scoped>\n",
       "    .dataframe tbody tr th:only-of-type {\n",
       "        vertical-align: middle;\n",
       "    }\n",
       "\n",
       "    .dataframe tbody tr th {\n",
       "        vertical-align: top;\n",
       "    }\n",
       "\n",
       "    .dataframe thead th {\n",
       "        text-align: right;\n",
       "    }\n",
       "</style>\n",
       "<table border=\"1\" class=\"dataframe\">\n",
       "  <thead>\n",
       "    <tr style=\"text-align: right;\">\n",
       "      <th></th>\n",
       "      <th>seniority</th>\n",
       "      <th>salary</th>\n",
       "      <th>joinint</th>\n",
       "      <th>duration</th>\n",
       "    </tr>\n",
       "    <tr>\n",
       "      <th>company_id</th>\n",
       "      <th></th>\n",
       "      <th></th>\n",
       "      <th></th>\n",
       "      <th></th>\n",
       "    </tr>\n",
       "  </thead>\n",
       "  <tbody>\n",
       "    <tr>\n",
       "      <th>1</th>\n",
       "      <td>14.128544</td>\n",
       "      <td>147846.570006</td>\n",
       "      <td>580.883791</td>\n",
       "      <td>616.148886</td>\n",
       "    </tr>\n",
       "    <tr>\n",
       "      <th>2</th>\n",
       "      <td>14.124660</td>\n",
       "      <td>150018.585675</td>\n",
       "      <td>572.860834</td>\n",
       "      <td>628.699909</td>\n",
       "    </tr>\n",
       "    <tr>\n",
       "      <th>3</th>\n",
       "      <td>14.110385</td>\n",
       "      <td>123304.376225</td>\n",
       "      <td>586.754409</td>\n",
       "      <td>609.625735</td>\n",
       "    </tr>\n",
       "    <tr>\n",
       "      <th>4</th>\n",
       "      <td>13.940156</td>\n",
       "      <td>124025.151778</td>\n",
       "      <td>595.052038</td>\n",
       "      <td>599.630529</td>\n",
       "    </tr>\n",
       "    <tr>\n",
       "      <th>5</th>\n",
       "      <td>14.713123</td>\n",
       "      <td>124281.790437</td>\n",
       "      <td>584.468973</td>\n",
       "      <td>609.303154</td>\n",
       "    </tr>\n",
       "    <tr>\n",
       "      <th>6</th>\n",
       "      <td>14.089888</td>\n",
       "      <td>118827.247191</td>\n",
       "      <td>567.964888</td>\n",
       "      <td>603.494382</td>\n",
       "    </tr>\n",
       "    <tr>\n",
       "      <th>7</th>\n",
       "      <td>14.020231</td>\n",
       "      <td>120765.895954</td>\n",
       "      <td>586.174855</td>\n",
       "      <td>609.856936</td>\n",
       "    </tr>\n",
       "    <tr>\n",
       "      <th>8</th>\n",
       "      <td>13.704663</td>\n",
       "      <td>120436.960276</td>\n",
       "      <td>591.849741</td>\n",
       "      <td>592.962003</td>\n",
       "    </tr>\n",
       "    <tr>\n",
       "      <th>9</th>\n",
       "      <td>13.969754</td>\n",
       "      <td>123890.359168</td>\n",
       "      <td>574.308129</td>\n",
       "      <td>622.141777</td>\n",
       "    </tr>\n",
       "    <tr>\n",
       "      <th>10</th>\n",
       "      <td>14.485417</td>\n",
       "      <td>122389.583333</td>\n",
       "      <td>602.697917</td>\n",
       "      <td>612.668750</td>\n",
       "    </tr>\n",
       "    <tr>\n",
       "      <th>11</th>\n",
       "      <td>15.333333</td>\n",
       "      <td>127750.000000</td>\n",
       "      <td>631.750000</td>\n",
       "      <td>550.416667</td>\n",
       "    </tr>\n",
       "    <tr>\n",
       "      <th>12</th>\n",
       "      <td>11.166667</td>\n",
       "      <td>70750.000000</td>\n",
       "      <td>490.666667</td>\n",
       "      <td>465.166667</td>\n",
       "    </tr>\n",
       "  </tbody>\n",
       "</table>\n",
       "</div>"
      ],
      "text/plain": [
       "            seniority         salary     joinint    duration\n",
       "company_id                                                  \n",
       "1           14.128544  147846.570006  580.883791  616.148886\n",
       "2           14.124660  150018.585675  572.860834  628.699909\n",
       "3           14.110385  123304.376225  586.754409  609.625735\n",
       "4           13.940156  124025.151778  595.052038  599.630529\n",
       "5           14.713123  124281.790437  584.468973  609.303154\n",
       "6           14.089888  118827.247191  567.964888  603.494382\n",
       "7           14.020231  120765.895954  586.174855  609.856936\n",
       "8           13.704663  120436.960276  591.849741  592.962003\n",
       "9           13.969754  123890.359168  574.308129  622.141777\n",
       "10          14.485417  122389.583333  602.697917  612.668750\n",
       "11          15.333333  127750.000000  631.750000  550.416667\n",
       "12          11.166667   70750.000000  490.666667  465.166667"
      ]
     },
     "execution_count": 15,
     "metadata": {},
     "output_type": "execute_result"
    }
   ],
   "source": [
    "quittable.groupby(['company_id']).mean()"
   ]
  },
  {
   "cell_type": "code",
   "execution_count": 16,
   "metadata": {},
   "outputs": [
    {
     "data": {
      "text/plain": [
       "1     4621\n",
       "2     2206\n",
       "3     1531\n",
       "4     1153\n",
       "5      983\n",
       "6      712\n",
       "7      692\n",
       "8      579\n",
       "9      529\n",
       "10     480\n",
       "12      12\n",
       "11      12\n",
       "Name: company_id, dtype: int64"
      ]
     },
     "execution_count": 16,
     "metadata": {},
     "output_type": "execute_result"
    }
   ],
   "source": [
    "quittable['company_id'].value_counts()"
   ]
  },
  {
   "cell_type": "code",
   "execution_count": 17,
   "metadata": {},
   "outputs": [
    {
     "data": {
      "text/html": [
       "<div>\n",
       "<style scoped>\n",
       "    .dataframe tbody tr th:only-of-type {\n",
       "        vertical-align: middle;\n",
       "    }\n",
       "\n",
       "    .dataframe tbody tr th {\n",
       "        vertical-align: top;\n",
       "    }\n",
       "\n",
       "    .dataframe thead th {\n",
       "        text-align: right;\n",
       "    }\n",
       "</style>\n",
       "<table border=\"1\" class=\"dataframe\">\n",
       "  <thead>\n",
       "    <tr style=\"text-align: right;\">\n",
       "      <th></th>\n",
       "      <th>seniority</th>\n",
       "      <th>salary</th>\n",
       "      <th>joinint</th>\n",
       "      <th>duration</th>\n",
       "    </tr>\n",
       "    <tr>\n",
       "      <th>company_id</th>\n",
       "      <th></th>\n",
       "      <th></th>\n",
       "      <th></th>\n",
       "      <th></th>\n",
       "    </tr>\n",
       "  </thead>\n",
       "  <tbody>\n",
       "    <tr>\n",
       "      <th>1</th>\n",
       "      <td>8.099939</td>\n",
       "      <td>76716.482336</td>\n",
       "      <td>384.699275</td>\n",
       "      <td>328.715669</td>\n",
       "    </tr>\n",
       "    <tr>\n",
       "      <th>2</th>\n",
       "      <td>7.880707</td>\n",
       "      <td>76505.409344</td>\n",
       "      <td>385.544454</td>\n",
       "      <td>338.799573</td>\n",
       "    </tr>\n",
       "    <tr>\n",
       "      <th>3</th>\n",
       "      <td>7.898802</td>\n",
       "      <td>63392.532501</td>\n",
       "      <td>392.379894</td>\n",
       "      <td>321.358003</td>\n",
       "    </tr>\n",
       "    <tr>\n",
       "      <th>4</th>\n",
       "      <td>7.774763</td>\n",
       "      <td>64096.012715</td>\n",
       "      <td>387.553443</td>\n",
       "      <td>324.845725</td>\n",
       "    </tr>\n",
       "    <tr>\n",
       "      <th>5</th>\n",
       "      <td>8.005033</td>\n",
       "      <td>62942.081676</td>\n",
       "      <td>393.652163</td>\n",
       "      <td>321.965963</td>\n",
       "    </tr>\n",
       "    <tr>\n",
       "      <th>6</th>\n",
       "      <td>8.126656</td>\n",
       "      <td>60977.085819</td>\n",
       "      <td>380.826383</td>\n",
       "      <td>325.991634</td>\n",
       "    </tr>\n",
       "    <tr>\n",
       "      <th>7</th>\n",
       "      <td>7.775031</td>\n",
       "      <td>61537.301468</td>\n",
       "      <td>371.950575</td>\n",
       "      <td>323.521929</td>\n",
       "    </tr>\n",
       "    <tr>\n",
       "      <th>8</th>\n",
       "      <td>7.829332</td>\n",
       "      <td>62328.941678</td>\n",
       "      <td>399.031748</td>\n",
       "      <td>325.168312</td>\n",
       "    </tr>\n",
       "    <tr>\n",
       "      <th>9</th>\n",
       "      <td>8.269778</td>\n",
       "      <td>66045.003608</td>\n",
       "      <td>381.589094</td>\n",
       "      <td>339.074605</td>\n",
       "    </tr>\n",
       "    <tr>\n",
       "      <th>10</th>\n",
       "      <td>8.657469</td>\n",
       "      <td>62004.379735</td>\n",
       "      <td>385.036173</td>\n",
       "      <td>332.294429</td>\n",
       "    </tr>\n",
       "    <tr>\n",
       "      <th>11</th>\n",
       "      <td>8.998316</td>\n",
       "      <td>68830.655168</td>\n",
       "      <td>358.430702</td>\n",
       "      <td>263.024181</td>\n",
       "    </tr>\n",
       "    <tr>\n",
       "      <th>12</th>\n",
       "      <td>7.234178</td>\n",
       "      <td>48028.637291</td>\n",
       "      <td>367.730962</td>\n",
       "      <td>181.970444</td>\n",
       "    </tr>\n",
       "  </tbody>\n",
       "</table>\n",
       "</div>"
      ],
      "text/plain": [
       "            seniority        salary     joinint    duration\n",
       "company_id                                                 \n",
       "1            8.099939  76716.482336  384.699275  328.715669\n",
       "2            7.880707  76505.409344  385.544454  338.799573\n",
       "3            7.898802  63392.532501  392.379894  321.358003\n",
       "4            7.774763  64096.012715  387.553443  324.845725\n",
       "5            8.005033  62942.081676  393.652163  321.965963\n",
       "6            8.126656  60977.085819  380.826383  325.991634\n",
       "7            7.775031  61537.301468  371.950575  323.521929\n",
       "8            7.829332  62328.941678  399.031748  325.168312\n",
       "9            8.269778  66045.003608  381.589094  339.074605\n",
       "10           8.657469  62004.379735  385.036173  332.294429\n",
       "11           8.998316  68830.655168  358.430702  263.024181\n",
       "12           7.234178  48028.637291  367.730962  181.970444"
      ]
     },
     "execution_count": 17,
     "metadata": {},
     "output_type": "execute_result"
    }
   ],
   "source": [
    "quittable.groupby(['company_id']).std()"
   ]
  },
  {
   "cell_type": "markdown",
   "metadata": {},
   "source": [
    "###### people are more likely to leave in company 11 and 12, they both seem to be small companies, and company_12 has lower average salary, that could be the causes. Other than that, it seems the company ID does not affect much on the duration to be predicted. So let's add \"N_employee_hired\" as a feature"
   ]
  },
  {
   "cell_type": "code",
   "execution_count": 18,
   "metadata": {},
   "outputs": [
    {
     "name": "stderr",
     "output_type": "stream",
     "text": [
      "/home/yanchu/miniconda3/lib/python3.6/site-packages/ipykernel_launcher.py:2: SettingWithCopyWarning: \n",
      "A value is trying to be set on a copy of a slice from a DataFrame.\n",
      "Try using .loc[row_indexer,col_indexer] = value instead\n",
      "\n",
      "See the caveats in the documentation: http://pandas.pydata.org/pandas-docs/stable/indexing.html#indexing-view-versus-copy\n",
      "  \n"
     ]
    }
   ],
   "source": [
    "counts=df.company_id.value_counts()\n",
    "quittable[\"N_employee_hired\"]=quittable.company_id.apply(lambda x:counts[x])\n",
    "staytable[\"N_employee_hired\"]=staytable.company_id.apply(lambda x:counts[x])"
   ]
  },
  {
   "cell_type": "markdown",
   "metadata": {},
   "source": [
    "###### Let's have a look at the correlations"
   ]
  },
  {
   "cell_type": "code",
   "execution_count": 19,
   "metadata": {},
   "outputs": [],
   "source": [
    "Xcolumns=['seniority', 'salary', 'N_employee_hired', 'dept']\n",
    "Ycolumn=['duration']\n",
    "quitX=pd.get_dummies(quittable[Xcolumns],['dept'])\n",
    "stayX=pd.get_dummies(staytable[Xcolumns],['dept'])\n",
    "quitY=quittable[Ycolumn]"
   ]
  },
  {
   "cell_type": "code",
   "execution_count": 20,
   "metadata": {},
   "outputs": [
    {
     "data": {
      "text/plain": [
       "<matplotlib.axes._subplots.AxesSubplot at 0x7fa7e5794668>"
      ]
     },
     "execution_count": 20,
     "metadata": {},
     "output_type": "execute_result"
    },
    {
     "data": {
      "image/png": "[encoded data removed]",
      "text/plain": [
       "<Figure size 432x288 with 2 Axes>"
      ]
     },
     "metadata": {
      "needs_background": "light"
     },
     "output_type": "display_data"
    }
   ],
   "source": [
    "import seaborn as sns\n",
    "sns.heatmap(pd.concat([quitY,quitX],1).corr(), cmap=\"YlGnBu\" )"
   ]
  },
  {
   "cell_type": "code",
   "execution_count": 21,
   "metadata": {},
   "outputs": [
    {
     "name": "stdout",
     "output_type": "stream",
     "text": [
      "seniority \t\t 0.0026232409580239243\n",
      "salary \t\t 0.07816864137441354\n",
      "N_employee_hired \t\t 0.012383464251989358\n",
      "dept_customer_service \t\t -0.026620932443106923\n",
      "dept_data_science \t\t 0.04277440698762898\n",
      "dept_design \t\t -0.008028876087743166\n",
      "dept_engineer \t\t 0.050207586253510385\n",
      "dept_marketing \t\t -0.014991773488803997\n",
      "dept_sales \t\t -0.03917088770051751\n"
     ]
    }
   ],
   "source": [
    "for i in quitX.columns: print(i,'\\t\\t',quitY.duration.corr(quitX[i]))"
   ]
  },
  {
   "cell_type": "markdown",
   "metadata": {},
   "source": [
    "###### No very strong correlation observed between duration and any other features.  Correlated with salary, looks like data science and engineer employees tend to stay longer (higher salary), and slightly correlated with company size (#employee hired), people tend to stay longer in larger companies. \n",
    "\n",
    "A linear regression model probably won't help in this case, but let's give it a try, and also random forest."
   ]
  },
  {
   "cell_type": "markdown",
   "metadata": {},
   "source": [
    "# Now let us build a model "
   ]
  },
  {
   "cell_type": "code",
   "execution_count": 22,
   "metadata": {},
   "outputs": [],
   "source": [
    "from sklearn.model_selection import KFold\n",
    "from sklearn.ensemble import RandomForestRegressor\n",
    "from sklearn.metrics import mean_squared_error\n",
    "from sklearn.linear_model import LinearRegression\n",
    "X,Y=quitX.values,quitY.values.ravel()"
   ]
  },
  {
   "cell_type": "code",
   "execution_count": 23,
   "metadata": {},
   "outputs": [
    {
     "name": "stdout",
     "output_type": "stream",
     "text": [
      "Linear Regression\t 107916.53354405351 104601.51994588667\n",
      "Random Forest\t\t 29057.174144148106 126095.04466471256\n",
      "Linear Regression\t 104788.44684606518 110892.52972371041\n",
      "Random Forest\t\t 28787.398674327793 132684.88431017948\n",
      "Linear Regression\t 107494.13794504198 105402.99670632099\n",
      "Random Forest\t\t 28603.243320140908 130340.8356831868\n"
     ]
    }
   ],
   "source": [
    "kf_3=KFold(n_splits=3, shuffle=True)\n",
    "RF_r=RandomForestRegressor(n_estimators = 100)\n",
    "for train,test in kf_3.split(X):\n",
    "    reg = LinearRegression().fit(X[train],Y[train])\n",
    "    p_train=reg.predict(X[train])\n",
    "    p_test=reg.predict(X[test])\n",
    "    print('Linear Regression\\t',mean_squared_error(Y[train],p_train),mean_squared_error(Y[test],p_test))\n",
    "    RF_r.fit(X[train],Y[train])\n",
    "    p_train=RF_r.predict(X[train])\n",
    "    p_test=RF_r.predict(X[test])\n",
    "    print('Random Forest\\t\\t',mean_squared_error(Y[train],p_train),mean_squared_error(Y[test],p_test))"
   ]
  },
  {
   "cell_type": "code",
   "execution_count": 24,
   "metadata": {},
   "outputs": [
    {
     "data": {
      "text/plain": [
       "107984.82850886558"
      ]
     },
     "execution_count": 24,
     "metadata": {},
     "output_type": "execute_result"
    }
   ],
   "source": [
    "Y.std()**2"
   ]
  },
  {
   "cell_type": "markdown",
   "metadata": {},
   "source": [
    "###### Kinda as expected, both RF and LR performed like they are not even doing anything at all! And RF overfits like hell! I'll have some sleep for now and go on work on it if I have more time tomorrow. But for now it seems impossible to properly model the leaving time because in the data 'duration' is not very dependent on provided features."
   ]
  },
  {
   "cell_type": "markdown",
   "metadata": {},
   "source": [
    "It could be helpful to have some more features, such as \n",
    "    - employee's performance (rating from suervisor maybe?), \n",
    "    - companies' rank in the industry, \n",
    "    - employee's weekly total working time"
   ]
  },
  {
   "cell_type": "code",
   "execution_count": null,
   "metadata": {},
   "outputs": [],
   "source": []
  }
 ],
 "metadata": {
  "kernelspec": {
   "display_name": "Python 3",
   "language": "python",
   "name": "python3"
  },
  "language_info": {
   "codemirror_mode": {
    "name": "ipython",
    "version": 3
   },
   "file_extension": ".py",
   "mimetype": "text/x-python",
   "name": "python",
   "nbconvert_exporter": "python",
   "pygments_lexer": "ipython3",
   "version": "3.6.7"
  }
 },
 "nbformat": 4,
 "nbformat_minor": 2
}
