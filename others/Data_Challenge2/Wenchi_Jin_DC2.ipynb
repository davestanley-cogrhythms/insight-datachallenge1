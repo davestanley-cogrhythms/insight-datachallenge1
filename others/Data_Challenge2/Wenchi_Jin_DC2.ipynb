{
 "cells": [
  {
   "cell_type": "code",
   "execution_count": 1,
   "metadata": {},
   "outputs": [],
   "source": [
    "#read in data\n",
    "import pandas as pd\n",
    "import numpy as np\n",
    "import matplotlib.pyplot as plt\n",
    "import seaborn as sns\n",
    "import datetime as dt\n",
    "from datetime import datetime\n",
    "\n",
    "user = pd.read_csv('C:/Users/jinwe/Desktop/Insight/dc_2/yammer_users.csv')\n",
    "event = pd.read_csv('C:/Users/jinwe/Desktop/Insight/dc_2/yammer_events.csv')\n",
    "email = pd.read_csv('C:/Users/jinwe/Desktop/Insight/dc_2/yammer_emails.csv')\n",
    "period = pd.read_csv('C:/Users/jinwe/Desktop/Insight/dc_2/dimension_rollup_periods.csv')"
   ]
  },
  {
   "cell_type": "code",
   "execution_count": 2,
   "metadata": {},
   "outputs": [
    {
     "data": {
      "text/html": [
       "<div>\n",
       "<style scoped>\n",
       "    .dataframe tbody tr th:only-of-type {\n",
       "        vertical-align: middle;\n",
       "    }\n",
       "\n",
       "    .dataframe tbody tr th {\n",
       "        vertical-align: top;\n",
       "    }\n",
       "\n",
       "    .dataframe thead th {\n",
       "        text-align: right;\n",
       "    }\n",
       "</style>\n",
       "<table border=\"1\" class=\"dataframe\">\n",
       "  <thead>\n",
       "    <tr style=\"text-align: right;\">\n",
       "      <th></th>\n",
       "      <th>user_id</th>\n",
       "      <th>created_at</th>\n",
       "      <th>company_id</th>\n",
       "      <th>language</th>\n",
       "      <th>activated_at</th>\n",
       "      <th>state</th>\n",
       "    </tr>\n",
       "  </thead>\n",
       "  <tbody>\n",
       "    <tr>\n",
       "      <th>0</th>\n",
       "      <td>0.0</td>\n",
       "      <td>2013-01-01 20:59:39</td>\n",
       "      <td>5737.0</td>\n",
       "      <td>english</td>\n",
       "      <td>2013-01-01 21:01:07</td>\n",
       "      <td>active</td>\n",
       "    </tr>\n",
       "    <tr>\n",
       "      <th>1</th>\n",
       "      <td>1.0</td>\n",
       "      <td>2013-01-01 13:07:46</td>\n",
       "      <td>28.0</td>\n",
       "      <td>english</td>\n",
       "      <td>NaN</td>\n",
       "      <td>pending</td>\n",
       "    </tr>\n",
       "    <tr>\n",
       "      <th>2</th>\n",
       "      <td>2.0</td>\n",
       "      <td>2013-01-01 10:59:05</td>\n",
       "      <td>51.0</td>\n",
       "      <td>english</td>\n",
       "      <td>NaN</td>\n",
       "      <td>pending</td>\n",
       "    </tr>\n",
       "    <tr>\n",
       "      <th>3</th>\n",
       "      <td>3.0</td>\n",
       "      <td>2013-01-01 18:40:36</td>\n",
       "      <td>2800.0</td>\n",
       "      <td>german</td>\n",
       "      <td>2013-01-01 18:42:02</td>\n",
       "      <td>active</td>\n",
       "    </tr>\n",
       "    <tr>\n",
       "      <th>4</th>\n",
       "      <td>4.0</td>\n",
       "      <td>2013-01-01 14:37:51</td>\n",
       "      <td>5110.0</td>\n",
       "      <td>indian</td>\n",
       "      <td>2013-01-01 14:39:05</td>\n",
       "      <td>active</td>\n",
       "    </tr>\n",
       "  </tbody>\n",
       "</table>\n",
       "</div>"
      ],
      "text/plain": [
       "   user_id           created_at  company_id language         activated_at  \\\n",
       "0      0.0  2013-01-01 20:59:39      5737.0  english  2013-01-01 21:01:07   \n",
       "1      1.0  2013-01-01 13:07:46        28.0  english                  NaN   \n",
       "2      2.0  2013-01-01 10:59:05        51.0  english                  NaN   \n",
       "3      3.0  2013-01-01 18:40:36      2800.0   german  2013-01-01 18:42:02   \n",
       "4      4.0  2013-01-01 14:37:51      5110.0   indian  2013-01-01 14:39:05   \n",
       "\n",
       "     state  \n",
       "0   active  \n",
       "1  pending  \n",
       "2  pending  \n",
       "3   active  \n",
       "4   active  "
      ]
     },
     "execution_count": 2,
     "metadata": {},
     "output_type": "execute_result"
    }
   ],
   "source": [
    "user.head()"
   ]
  },
  {
   "cell_type": "code",
   "execution_count": 3,
   "metadata": {},
   "outputs": [
    {
     "data": {
      "text/html": [
       "<div>\n",
       "<style scoped>\n",
       "    .dataframe tbody tr th:only-of-type {\n",
       "        vertical-align: middle;\n",
       "    }\n",
       "\n",
       "    .dataframe tbody tr th {\n",
       "        vertical-align: top;\n",
       "    }\n",
       "\n",
       "    .dataframe thead th {\n",
       "        text-align: right;\n",
       "    }\n",
       "</style>\n",
       "<table border=\"1\" class=\"dataframe\">\n",
       "  <thead>\n",
       "    <tr style=\"text-align: right;\">\n",
       "      <th></th>\n",
       "      <th>user_id</th>\n",
       "      <th>company_id</th>\n",
       "    </tr>\n",
       "  </thead>\n",
       "  <tbody>\n",
       "    <tr>\n",
       "      <th>count</th>\n",
       "      <td>19066.000000</td>\n",
       "      <td>19066.000000</td>\n",
       "    </tr>\n",
       "    <tr>\n",
       "      <th>mean</th>\n",
       "      <td>9532.500000</td>\n",
       "      <td>4602.923214</td>\n",
       "    </tr>\n",
       "    <tr>\n",
       "      <th>std</th>\n",
       "      <td>5504.024452</td>\n",
       "      <td>4363.468471</td>\n",
       "    </tr>\n",
       "    <tr>\n",
       "      <th>min</th>\n",
       "      <td>0.000000</td>\n",
       "      <td>1.000000</td>\n",
       "    </tr>\n",
       "    <tr>\n",
       "      <th>25%</th>\n",
       "      <td>4766.250000</td>\n",
       "      <td>109.000000</td>\n",
       "    </tr>\n",
       "    <tr>\n",
       "      <th>50%</th>\n",
       "      <td>9532.500000</td>\n",
       "      <td>3667.500000</td>\n",
       "    </tr>\n",
       "    <tr>\n",
       "      <th>75%</th>\n",
       "      <td>14298.750000</td>\n",
       "      <td>8431.750000</td>\n",
       "    </tr>\n",
       "    <tr>\n",
       "      <th>max</th>\n",
       "      <td>19065.000000</td>\n",
       "      <td>13198.000000</td>\n",
       "    </tr>\n",
       "  </tbody>\n",
       "</table>\n",
       "</div>"
      ],
      "text/plain": [
       "            user_id    company_id\n",
       "count  19066.000000  19066.000000\n",
       "mean    9532.500000   4602.923214\n",
       "std     5504.024452   4363.468471\n",
       "min        0.000000      1.000000\n",
       "25%     4766.250000    109.000000\n",
       "50%     9532.500000   3667.500000\n",
       "75%    14298.750000   8431.750000\n",
       "max    19065.000000  13198.000000"
      ]
     },
     "execution_count": 3,
     "metadata": {},
     "output_type": "execute_result"
    }
   ],
   "source": [
    "user.describe()"
   ]
  },
  {
   "cell_type": "code",
   "execution_count": 4,
   "metadata": {},
   "outputs": [
    {
     "data": {
      "text/html": [
       "<div>\n",
       "<style scoped>\n",
       "    .dataframe tbody tr th:only-of-type {\n",
       "        vertical-align: middle;\n",
       "    }\n",
       "\n",
       "    .dataframe tbody tr th {\n",
       "        vertical-align: top;\n",
       "    }\n",
       "\n",
       "    .dataframe thead th {\n",
       "        text-align: right;\n",
       "    }\n",
       "</style>\n",
       "<table border=\"1\" class=\"dataframe\">\n",
       "  <thead>\n",
       "    <tr style=\"text-align: right;\">\n",
       "      <th></th>\n",
       "      <th>user_id</th>\n",
       "      <th>occurred_at</th>\n",
       "      <th>event_type</th>\n",
       "      <th>event_name</th>\n",
       "      <th>location</th>\n",
       "      <th>device</th>\n",
       "      <th>user_type</th>\n",
       "    </tr>\n",
       "  </thead>\n",
       "  <tbody>\n",
       "    <tr>\n",
       "      <th>0</th>\n",
       "      <td>10522.0</td>\n",
       "      <td>2014-05-02 11:02:39</td>\n",
       "      <td>engagement</td>\n",
       "      <td>login</td>\n",
       "      <td>Japan</td>\n",
       "      <td>dell inspiron notebook</td>\n",
       "      <td>3.0</td>\n",
       "    </tr>\n",
       "    <tr>\n",
       "      <th>1</th>\n",
       "      <td>10522.0</td>\n",
       "      <td>2014-05-02 11:02:53</td>\n",
       "      <td>engagement</td>\n",
       "      <td>home_page</td>\n",
       "      <td>Japan</td>\n",
       "      <td>dell inspiron notebook</td>\n",
       "      <td>3.0</td>\n",
       "    </tr>\n",
       "    <tr>\n",
       "      <th>2</th>\n",
       "      <td>10522.0</td>\n",
       "      <td>2014-05-02 11:03:28</td>\n",
       "      <td>engagement</td>\n",
       "      <td>like_message</td>\n",
       "      <td>Japan</td>\n",
       "      <td>dell inspiron notebook</td>\n",
       "      <td>3.0</td>\n",
       "    </tr>\n",
       "    <tr>\n",
       "      <th>3</th>\n",
       "      <td>10522.0</td>\n",
       "      <td>2014-05-02 11:04:09</td>\n",
       "      <td>engagement</td>\n",
       "      <td>view_inbox</td>\n",
       "      <td>Japan</td>\n",
       "      <td>dell inspiron notebook</td>\n",
       "      <td>3.0</td>\n",
       "    </tr>\n",
       "    <tr>\n",
       "      <th>4</th>\n",
       "      <td>10522.0</td>\n",
       "      <td>2014-05-02 11:03:16</td>\n",
       "      <td>engagement</td>\n",
       "      <td>search_run</td>\n",
       "      <td>Japan</td>\n",
       "      <td>dell inspiron notebook</td>\n",
       "      <td>3.0</td>\n",
       "    </tr>\n",
       "  </tbody>\n",
       "</table>\n",
       "</div>"
      ],
      "text/plain": [
       "   user_id          occurred_at  event_type    event_name location  \\\n",
       "0  10522.0  2014-05-02 11:02:39  engagement         login    Japan   \n",
       "1  10522.0  2014-05-02 11:02:53  engagement     home_page    Japan   \n",
       "2  10522.0  2014-05-02 11:03:28  engagement  like_message    Japan   \n",
       "3  10522.0  2014-05-02 11:04:09  engagement    view_inbox    Japan   \n",
       "4  10522.0  2014-05-02 11:03:16  engagement    search_run    Japan   \n",
       "\n",
       "                   device  user_type  \n",
       "0  dell inspiron notebook        3.0  \n",
       "1  dell inspiron notebook        3.0  \n",
       "2  dell inspiron notebook        3.0  \n",
       "3  dell inspiron notebook        3.0  \n",
       "4  dell inspiron notebook        3.0  "
      ]
     },
     "execution_count": 4,
     "metadata": {},
     "output_type": "execute_result"
    }
   ],
   "source": [
    "event.head()"
   ]
  },
  {
   "cell_type": "code",
   "execution_count": 5,
   "metadata": {},
   "outputs": [
    {
     "data": {
      "text/html": [
       "<div>\n",
       "<style scoped>\n",
       "    .dataframe tbody tr th:only-of-type {\n",
       "        vertical-align: middle;\n",
       "    }\n",
       "\n",
       "    .dataframe tbody tr th {\n",
       "        vertical-align: top;\n",
       "    }\n",
       "\n",
       "    .dataframe thead th {\n",
       "        text-align: right;\n",
       "    }\n",
       "</style>\n",
       "<table border=\"1\" class=\"dataframe\">\n",
       "  <thead>\n",
       "    <tr style=\"text-align: right;\">\n",
       "      <th></th>\n",
       "      <th>user_id</th>\n",
       "      <th>user_type</th>\n",
       "    </tr>\n",
       "  </thead>\n",
       "  <tbody>\n",
       "    <tr>\n",
       "      <th>count</th>\n",
       "      <td>340832.000000</td>\n",
       "      <td>325255.000000</td>\n",
       "    </tr>\n",
       "    <tr>\n",
       "      <th>mean</th>\n",
       "      <td>9983.835758</td>\n",
       "      <td>1.512238</td>\n",
       "    </tr>\n",
       "    <tr>\n",
       "      <th>std</th>\n",
       "      <td>5369.955949</td>\n",
       "      <td>0.754780</td>\n",
       "    </tr>\n",
       "    <tr>\n",
       "      <th>min</th>\n",
       "      <td>4.000000</td>\n",
       "      <td>1.000000</td>\n",
       "    </tr>\n",
       "    <tr>\n",
       "      <th>25%</th>\n",
       "      <td>5224.000000</td>\n",
       "      <td>1.000000</td>\n",
       "    </tr>\n",
       "    <tr>\n",
       "      <th>50%</th>\n",
       "      <td>11069.000000</td>\n",
       "      <td>1.000000</td>\n",
       "    </tr>\n",
       "    <tr>\n",
       "      <th>75%</th>\n",
       "      <td>14412.000000</td>\n",
       "      <td>2.000000</td>\n",
       "    </tr>\n",
       "    <tr>\n",
       "      <th>max</th>\n",
       "      <td>19065.000000</td>\n",
       "      <td>3.000000</td>\n",
       "    </tr>\n",
       "  </tbody>\n",
       "</table>\n",
       "</div>"
      ],
      "text/plain": [
       "             user_id      user_type\n",
       "count  340832.000000  325255.000000\n",
       "mean     9983.835758       1.512238\n",
       "std      5369.955949       0.754780\n",
       "min         4.000000       1.000000\n",
       "25%      5224.000000       1.000000\n",
       "50%     11069.000000       1.000000\n",
       "75%     14412.000000       2.000000\n",
       "max     19065.000000       3.000000"
      ]
     },
     "execution_count": 5,
     "metadata": {},
     "output_type": "execute_result"
    }
   ],
   "source": [
    "event.describe()"
   ]
  },
  {
   "cell_type": "code",
   "execution_count": 6,
   "metadata": {},
   "outputs": [
    {
     "data": {
      "text/html": [
       "<div>\n",
       "<style scoped>\n",
       "    .dataframe tbody tr th:only-of-type {\n",
       "        vertical-align: middle;\n",
       "    }\n",
       "\n",
       "    .dataframe tbody tr th {\n",
       "        vertical-align: top;\n",
       "    }\n",
       "\n",
       "    .dataframe thead th {\n",
       "        text-align: right;\n",
       "    }\n",
       "</style>\n",
       "<table border=\"1\" class=\"dataframe\">\n",
       "  <thead>\n",
       "    <tr style=\"text-align: right;\">\n",
       "      <th></th>\n",
       "      <th>user_id</th>\n",
       "      <th>occurred_at</th>\n",
       "      <th>action</th>\n",
       "      <th>user_type</th>\n",
       "    </tr>\n",
       "  </thead>\n",
       "  <tbody>\n",
       "    <tr>\n",
       "      <th>0</th>\n",
       "      <td>0.0</td>\n",
       "      <td>2014-05-06 09:30:00</td>\n",
       "      <td>sent_weekly_digest</td>\n",
       "      <td>1.0</td>\n",
       "    </tr>\n",
       "    <tr>\n",
       "      <th>1</th>\n",
       "      <td>0.0</td>\n",
       "      <td>2014-05-13 09:30:00</td>\n",
       "      <td>sent_weekly_digest</td>\n",
       "      <td>1.0</td>\n",
       "    </tr>\n",
       "    <tr>\n",
       "      <th>2</th>\n",
       "      <td>0.0</td>\n",
       "      <td>2014-05-20 09:30:00</td>\n",
       "      <td>sent_weekly_digest</td>\n",
       "      <td>1.0</td>\n",
       "    </tr>\n",
       "    <tr>\n",
       "      <th>3</th>\n",
       "      <td>0.0</td>\n",
       "      <td>2014-05-27 09:30:00</td>\n",
       "      <td>sent_weekly_digest</td>\n",
       "      <td>1.0</td>\n",
       "    </tr>\n",
       "    <tr>\n",
       "      <th>4</th>\n",
       "      <td>0.0</td>\n",
       "      <td>2014-06-03 09:30:00</td>\n",
       "      <td>sent_weekly_digest</td>\n",
       "      <td>1.0</td>\n",
       "    </tr>\n",
       "  </tbody>\n",
       "</table>\n",
       "</div>"
      ],
      "text/plain": [
       "   user_id          occurred_at              action  user_type\n",
       "0      0.0  2014-05-06 09:30:00  sent_weekly_digest        1.0\n",
       "1      0.0  2014-05-13 09:30:00  sent_weekly_digest        1.0\n",
       "2      0.0  2014-05-20 09:30:00  sent_weekly_digest        1.0\n",
       "3      0.0  2014-05-27 09:30:00  sent_weekly_digest        1.0\n",
       "4      0.0  2014-06-03 09:30:00  sent_weekly_digest        1.0"
      ]
     },
     "execution_count": 6,
     "metadata": {},
     "output_type": "execute_result"
    }
   ],
   "source": [
    "email.head()"
   ]
  },
  {
   "cell_type": "code",
   "execution_count": 7,
   "metadata": {},
   "outputs": [
    {
     "data": {
      "text/html": [
       "<div>\n",
       "<style scoped>\n",
       "    .dataframe tbody tr th:only-of-type {\n",
       "        vertical-align: middle;\n",
       "    }\n",
       "\n",
       "    .dataframe tbody tr th {\n",
       "        vertical-align: top;\n",
       "    }\n",
       "\n",
       "    .dataframe thead th {\n",
       "        text-align: right;\n",
       "    }\n",
       "</style>\n",
       "<table border=\"1\" class=\"dataframe\">\n",
       "  <thead>\n",
       "    <tr style=\"text-align: right;\">\n",
       "      <th></th>\n",
       "      <th>user_id</th>\n",
       "      <th>user_type</th>\n",
       "    </tr>\n",
       "  </thead>\n",
       "  <tbody>\n",
       "    <tr>\n",
       "      <th>count</th>\n",
       "      <td>90389.000000</td>\n",
       "      <td>90389.000000</td>\n",
       "    </tr>\n",
       "    <tr>\n",
       "      <th>mean</th>\n",
       "      <td>8635.558187</td>\n",
       "      <td>2.097988</td>\n",
       "    </tr>\n",
       "    <tr>\n",
       "      <th>std</th>\n",
       "      <td>4957.734547</td>\n",
       "      <td>0.848892</td>\n",
       "    </tr>\n",
       "    <tr>\n",
       "      <th>min</th>\n",
       "      <td>0.000000</td>\n",
       "      <td>1.000000</td>\n",
       "    </tr>\n",
       "    <tr>\n",
       "      <th>25%</th>\n",
       "      <td>4426.000000</td>\n",
       "      <td>1.000000</td>\n",
       "    </tr>\n",
       "    <tr>\n",
       "      <th>50%</th>\n",
       "      <td>8631.000000</td>\n",
       "      <td>2.000000</td>\n",
       "    </tr>\n",
       "    <tr>\n",
       "      <th>75%</th>\n",
       "      <td>12670.000000</td>\n",
       "      <td>3.000000</td>\n",
       "    </tr>\n",
       "    <tr>\n",
       "      <th>max</th>\n",
       "      <td>19001.000000</td>\n",
       "      <td>3.000000</td>\n",
       "    </tr>\n",
       "  </tbody>\n",
       "</table>\n",
       "</div>"
      ],
      "text/plain": [
       "            user_id     user_type\n",
       "count  90389.000000  90389.000000\n",
       "mean    8635.558187      2.097988\n",
       "std     4957.734547      0.848892\n",
       "min        0.000000      1.000000\n",
       "25%     4426.000000      1.000000\n",
       "50%     8631.000000      2.000000\n",
       "75%    12670.000000      3.000000\n",
       "max    19001.000000      3.000000"
      ]
     },
     "execution_count": 7,
     "metadata": {},
     "output_type": "execute_result"
    }
   ],
   "source": [
    "email.describe()"
   ]
  },
  {
   "cell_type": "code",
   "execution_count": 8,
   "metadata": {},
   "outputs": [
    {
     "data": {
      "text/html": [
       "<div>\n",
       "<style scoped>\n",
       "    .dataframe tbody tr th:only-of-type {\n",
       "        vertical-align: middle;\n",
       "    }\n",
       "\n",
       "    .dataframe tbody tr th {\n",
       "        vertical-align: top;\n",
       "    }\n",
       "\n",
       "    .dataframe thead th {\n",
       "        text-align: right;\n",
       "    }\n",
       "</style>\n",
       "<table border=\"1\" class=\"dataframe\">\n",
       "  <thead>\n",
       "    <tr style=\"text-align: right;\">\n",
       "      <th></th>\n",
       "      <th>period_id</th>\n",
       "      <th>time_id</th>\n",
       "      <th>pst_start</th>\n",
       "      <th>pst_end</th>\n",
       "      <th>utc_start</th>\n",
       "      <th>utc_end</th>\n",
       "    </tr>\n",
       "  </thead>\n",
       "  <tbody>\n",
       "    <tr>\n",
       "      <th>0</th>\n",
       "      <td>1.0</td>\n",
       "      <td>2013-01-01 00:00:00</td>\n",
       "      <td>2013-01-01 00:00:00</td>\n",
       "      <td>2013-01-02 00:00:00</td>\n",
       "      <td>2013-01-01 08:00:00</td>\n",
       "      <td>2013-01-02 08:00:00</td>\n",
       "    </tr>\n",
       "    <tr>\n",
       "      <th>1</th>\n",
       "      <td>1.0</td>\n",
       "      <td>2013-01-02 00:00:00</td>\n",
       "      <td>2013-01-02 00:00:00</td>\n",
       "      <td>2013-01-03 00:00:00</td>\n",
       "      <td>2013-01-02 08:00:00</td>\n",
       "      <td>2013-01-03 08:00:00</td>\n",
       "    </tr>\n",
       "    <tr>\n",
       "      <th>2</th>\n",
       "      <td>1.0</td>\n",
       "      <td>2013-01-03 00:00:00</td>\n",
       "      <td>2013-01-03 00:00:00</td>\n",
       "      <td>2013-01-04 00:00:00</td>\n",
       "      <td>2013-01-03 08:00:00</td>\n",
       "      <td>2013-01-04 08:00:00</td>\n",
       "    </tr>\n",
       "    <tr>\n",
       "      <th>3</th>\n",
       "      <td>1.0</td>\n",
       "      <td>2013-01-04 00:00:00</td>\n",
       "      <td>2013-01-04 00:00:00</td>\n",
       "      <td>2013-01-05 00:00:00</td>\n",
       "      <td>2013-01-04 08:00:00</td>\n",
       "      <td>2013-01-05 08:00:00</td>\n",
       "    </tr>\n",
       "    <tr>\n",
       "      <th>4</th>\n",
       "      <td>1.0</td>\n",
       "      <td>2013-01-05 00:00:00</td>\n",
       "      <td>2013-01-05 00:00:00</td>\n",
       "      <td>2013-01-06 00:00:00</td>\n",
       "      <td>2013-01-05 08:00:00</td>\n",
       "      <td>2013-01-06 08:00:00</td>\n",
       "    </tr>\n",
       "  </tbody>\n",
       "</table>\n",
       "</div>"
      ],
      "text/plain": [
       "   period_id              time_id            pst_start              pst_end  \\\n",
       "0        1.0  2013-01-01 00:00:00  2013-01-01 00:00:00  2013-01-02 00:00:00   \n",
       "1        1.0  2013-01-02 00:00:00  2013-01-02 00:00:00  2013-01-03 00:00:00   \n",
       "2        1.0  2013-01-03 00:00:00  2013-01-03 00:00:00  2013-01-04 00:00:00   \n",
       "3        1.0  2013-01-04 00:00:00  2013-01-04 00:00:00  2013-01-05 00:00:00   \n",
       "4        1.0  2013-01-05 00:00:00  2013-01-05 00:00:00  2013-01-06 00:00:00   \n",
       "\n",
       "             utc_start              utc_end  \n",
       "0  2013-01-01 08:00:00  2013-01-02 08:00:00  \n",
       "1  2013-01-02 08:00:00  2013-01-03 08:00:00  \n",
       "2  2013-01-03 08:00:00  2013-01-04 08:00:00  \n",
       "3  2013-01-04 08:00:00  2013-01-05 08:00:00  \n",
       "4  2013-01-05 08:00:00  2013-01-06 08:00:00  "
      ]
     },
     "execution_count": 8,
     "metadata": {},
     "output_type": "execute_result"
    }
   ],
   "source": [
    "period.head()"
   ]
  },
  {
   "cell_type": "code",
   "execution_count": 9,
   "metadata": {},
   "outputs": [
    {
     "data": {
      "text/html": [
       "<div>\n",
       "<style scoped>\n",
       "    .dataframe tbody tr th:only-of-type {\n",
       "        vertical-align: middle;\n",
       "    }\n",
       "\n",
       "    .dataframe tbody tr th {\n",
       "        vertical-align: top;\n",
       "    }\n",
       "\n",
       "    .dataframe thead th {\n",
       "        text-align: right;\n",
       "    }\n",
       "</style>\n",
       "<table border=\"1\" class=\"dataframe\">\n",
       "  <thead>\n",
       "    <tr style=\"text-align: right;\">\n",
       "      <th></th>\n",
       "      <th>period_id</th>\n",
       "    </tr>\n",
       "  </thead>\n",
       "  <tbody>\n",
       "    <tr>\n",
       "      <th>count</th>\n",
       "      <td>56002.000000</td>\n",
       "    </tr>\n",
       "    <tr>\n",
       "      <th>mean</th>\n",
       "      <td>1920.645227</td>\n",
       "    </tr>\n",
       "    <tr>\n",
       "      <th>std</th>\n",
       "      <td>347.572356</td>\n",
       "    </tr>\n",
       "    <tr>\n",
       "      <th>min</th>\n",
       "      <td>1.000000</td>\n",
       "    </tr>\n",
       "    <tr>\n",
       "      <th>25%</th>\n",
       "      <td>2001.000000</td>\n",
       "    </tr>\n",
       "    <tr>\n",
       "      <th>50%</th>\n",
       "      <td>2001.000000</td>\n",
       "    </tr>\n",
       "    <tr>\n",
       "      <th>75%</th>\n",
       "      <td>2007.000000</td>\n",
       "    </tr>\n",
       "    <tr>\n",
       "      <th>max</th>\n",
       "      <td>2007.000000</td>\n",
       "    </tr>\n",
       "  </tbody>\n",
       "</table>\n",
       "</div>"
      ],
      "text/plain": [
       "          period_id\n",
       "count  56002.000000\n",
       "mean    1920.645227\n",
       "std      347.572356\n",
       "min        1.000000\n",
       "25%     2001.000000\n",
       "50%     2001.000000\n",
       "75%     2007.000000\n",
       "max     2007.000000"
      ]
     },
     "execution_count": 9,
     "metadata": {},
     "output_type": "execute_result"
    }
   ],
   "source": [
    "period.describe()"
   ]
  },
  {
   "cell_type": "code",
   "execution_count": 10,
   "metadata": {},
   "outputs": [
    {
     "data": {
      "text/plain": [
       "<matplotlib.axes._subplots.AxesSubplot at 0x213dabb51d0>"
      ]
     },
     "execution_count": 10,
     "metadata": {},
     "output_type": "execute_result"
    },
    {
     "data": {
      "image/png": "[encoded data removed]",
      "text/plain": [
       "<matplotlib.figure.Figure at 0x213daba29b0>"
      ]
     },
     "metadata": {},
     "output_type": "display_data"
    }
   ],
   "source": [
    "#plot number of users by language\n",
    "from matplotlib import pyplot\n",
    "sns.set_style(\"white\")\n",
    "sns.barplot(x = user['language'].value_counts().index,\n",
    "            y = user['language'].value_counts().values,\n",
    "            palette='muted', errcolor='dimgray')"
   ]
  },
  {
   "cell_type": "markdown",
   "metadata": {},
   "source": [
    "Top five languages spoken by Yammer users are English, Spanish, French, Japanese, and German (in a descending order). Number of English speakers is far higher than that of any other language speakers."
   ]
  },
  {
   "cell_type": "code",
   "execution_count": 11,
   "metadata": {},
   "outputs": [
    {
     "data": {
      "text/plain": [
       "array(['engagement', 'signup_flow'], dtype=object)"
      ]
     },
     "execution_count": 11,
     "metadata": {},
     "output_type": "execute_result"
    }
   ],
   "source": [
    "event.event_type.unique()"
   ]
  },
  {
   "cell_type": "code",
   "execution_count": 12,
   "metadata": {},
   "outputs": [],
   "source": [
    "#drop 'signup_flow' from event dataframe\n",
    "engagement=event[event['event_type']=='engagement']"
   ]
  },
  {
   "cell_type": "code",
   "execution_count": 13,
   "metadata": {},
   "outputs": [
    {
     "data": {
      "text/plain": [
       "location\n",
       "Argentina                1607\n",
       "Australia                7098\n",
       "Austria                  2399\n",
       "Belgium                  2665\n",
       "Brazil                  10607\n",
       "Canada                   8555\n",
       "Chile                    1034\n",
       "Colombia                 1831\n",
       "Denmark                  2067\n",
       "Egypt                    2180\n",
       "Finland                  1832\n",
       "France                  16469\n",
       "Germany                 22304\n",
       "Greece                    899\n",
       "Hong Kong                1434\n",
       "India                    9036\n",
       "Indonesia                5919\n",
       "Iran                     2974\n",
       "Iraq                     1321\n",
       "Ireland                   997\n",
       "Israel                   2016\n",
       "Italy                   11051\n",
       "Japan                   24584\n",
       "Korea                    6756\n",
       "Malaysia                 2407\n",
       "Mexico                   8648\n",
       "Netherlands              4187\n",
       "Nigeria                  1507\n",
       "Norway                   1877\n",
       "Pakistan                  966\n",
       "Philippines              1239\n",
       "Poland                   3628\n",
       "Portugal                 1245\n",
       "Russia                  11561\n",
       "Saudi Arabia             3864\n",
       "Singapore                1396\n",
       "South Africa             2201\n",
       "Spain                    5443\n",
       "Sweden                   3690\n",
       "Switzerland              3548\n",
       "Taiwan                   3457\n",
       "Thailand                 1864\n",
       "Turkey                   2184\n",
       "United Arab Emirates     2231\n",
       "United Kingdom          15590\n",
       "United States           89379\n",
       "Venezuela                1828\n",
       "dtype: int64"
      ]
     },
     "execution_count": 13,
     "metadata": {},
     "output_type": "execute_result"
    }
   ],
   "source": [
    "#count number of engagement events by country\n",
    "engagement.groupby(['location']).size()"
   ]
  },
  {
   "cell_type": "code",
   "execution_count": 14,
   "metadata": {},
   "outputs": [
    {
     "data": {
      "text/plain": [
       "user_id        float64\n",
       "occurred_at     object\n",
       "event_type      object\n",
       "event_name      object\n",
       "location        object\n",
       "device          object\n",
       "user_type      float64\n",
       "dtype: object"
      ]
     },
     "execution_count": 14,
     "metadata": {},
     "output_type": "execute_result"
    }
   ],
   "source": [
    "engagement.head(50)\n",
    "engagement.dtypes"
   ]
  },
  {
   "cell_type": "code",
   "execution_count": 15,
   "metadata": {},
   "outputs": [
    {
     "name": "stderr",
     "output_type": "stream",
     "text": [
      "C:\\Users\\jinwe\\Anaconda3\\lib\\site-packages\\pandas\\core\\frame.py:2540: SettingWithCopyWarning: \n",
      "A value is trying to be set on a copy of a slice from a DataFrame.\n",
      "Try using .loc[row_indexer,col_indexer] = value instead\n",
      "\n",
      "See the caveats in the documentation: http://pandas.pydata.org/pandas-docs/stable/indexing.html#indexing-view-versus-copy\n",
      "  self[k1] = value[k2]\n"
     ]
    },
    {
     "data": {
      "text/plain": [
       "user_id               float64\n",
       "occurred_at    datetime64[ns]\n",
       "event_type             object\n",
       "event_name             object\n",
       "location               object\n",
       "device                 object\n",
       "user_type             float64\n",
       "dtype: object"
      ]
     },
     "execution_count": 15,
     "metadata": {},
     "output_type": "execute_result"
    }
   ],
   "source": [
    "engagement[['occurred_at']]=engagement[['occurred_at']].apply(pd.to_datetime)\n",
    "engagement.dtypes"
   ]
  },
  {
   "cell_type": "code",
   "execution_count": 23,
   "metadata": {},
   "outputs": [
    {
     "data": {
      "text/plain": [
       "46333"
      ]
     },
     "execution_count": 23,
     "metadata": {},
     "output_type": "execute_result"
    }
   ],
   "source": [
    "#define two-week predrop period:July 18 to August 1, 2014\n",
    "pre_engagement=engagement[engagement['occurred_at']>'2014-7-18 00:00:00']\n",
    "pre_engagement=pre_engagement[pre_engagement['occurred_at']<'2014-8-2 00:00:00']\n",
    "len(pre_engagement)"
   ]
  },
  {
   "cell_type": "code",
   "execution_count": 28,
   "metadata": {},
   "outputs": [
    {
     "data": {
      "text/plain": [
       "36850"
      ]
     },
     "execution_count": 28,
     "metadata": {},
     "output_type": "execute_result"
    }
   ],
   "source": [
    "#define two-week postdrop period:August 2 to August 16, 2014\n",
    "post_engagement=engagement[engagement['occurred_at']>'2014-8-2 00:00:00']\n",
    "post_engagement=post_engagement[post_engagement['occurred_at']<'2014-8-17 00:00:00']\n",
    "len(post_engagement)"
   ]
  },
  {
   "cell_type": "code",
   "execution_count": 29,
   "metadata": {},
   "outputs": [
    {
     "data": {
      "text/plain": [
       "9483"
      ]
     },
     "execution_count": 29,
     "metadata": {},
     "output_type": "execute_result"
    }
   ],
   "source": [
    "#Drop in number of dengagement events\n",
    "len(pre_engagement)-len(post_engagement)"
   ]
  },
  {
   "cell_type": "markdown",
   "metadata": {},
   "source": [
    "Hypothesis #1: Five western countries (US, UK, Germany, Italy, France) contributed to most drop in number of dengagement events (likely due to people taking vacation)"
   ]
  },
  {
   "cell_type": "code",
   "execution_count": 37,
   "metadata": {},
   "outputs": [
    {
     "data": {
      "text/plain": [
       "23675"
      ]
     },
     "execution_count": 37,
     "metadata": {},
     "output_type": "execute_result"
    }
   ],
   "source": [
    "west_pre_engagement=pre_engagement.query('location == \"Italy\" or location == \"Germany\" or location == \"France\" or location == \"United Kingdom\"or location == \"United States\"')\n",
    "len(west_pre_engagement)"
   ]
  },
  {
   "cell_type": "code",
   "execution_count": 38,
   "metadata": {},
   "outputs": [
    {
     "data": {
      "text/plain": [
       "17889"
      ]
     },
     "execution_count": 38,
     "metadata": {},
     "output_type": "execute_result"
    }
   ],
   "source": [
    "west_post_engagement=post_engagement.query('location == \"Italy\" or location == \"Germany\" or location == \"France\" or location == \"United Kingdom\"or location == \"United States\"')\n",
    "len(west_post_engagement)"
   ]
  },
  {
   "cell_type": "code",
   "execution_count": 39,
   "metadata": {},
   "outputs": [
    {
     "data": {
      "text/plain": [
       "5786"
      ]
     },
     "execution_count": 39,
     "metadata": {},
     "output_type": "execute_result"
    }
   ],
   "source": [
    "#Drop in number of dengagement events in the fieve western countries\n",
    "len(west_pre_engagement)-len(west_post_engagement)"
   ]
  },
  {
   "cell_type": "code",
   "execution_count": 40,
   "metadata": {},
   "outputs": [
    {
     "data": {
      "text/plain": [
       "0.6101444690498787"
      ]
     },
     "execution_count": 40,
     "metadata": {},
     "output_type": "execute_result"
    }
   ],
   "source": [
    "5786/9483"
   ]
  },
  {
   "cell_type": "code",
   "execution_count": 46,
   "metadata": {},
   "outputs": [
    {
     "data": {
      "text/plain": [
       "3364"
      ]
     },
     "execution_count": 46,
     "metadata": {},
     "output_type": "execute_result"
    }
   ],
   "source": [
    "jp_pre_engagement=pre_engagement.query('location == \"Japan\"')\n",
    "len(jp_pre_engagement)"
   ]
  },
  {
   "cell_type": "code",
   "execution_count": 47,
   "metadata": {},
   "outputs": [
    {
     "data": {
      "text/plain": [
       "2986"
      ]
     },
     "execution_count": 47,
     "metadata": {},
     "output_type": "execute_result"
    }
   ],
   "source": [
    "jp_post_engagement=post_engagement.query('location == \"Japan\"')\n",
    "len(jp_post_engagement)"
   ]
  },
  {
   "cell_type": "code",
   "execution_count": 48,
   "metadata": {},
   "outputs": [
    {
     "data": {
      "text/plain": [
       "378"
      ]
     },
     "execution_count": 48,
     "metadata": {},
     "output_type": "execute_result"
    }
   ],
   "source": [
    "len(jp_pre_engagement)-len(jp_post_engagement)"
   ]
  },
  {
   "cell_type": "code",
   "execution_count": 50,
   "metadata": {},
   "outputs": [
    {
     "name": "stdout",
     "output_type": "stream",
     "text": [
      "0.30781398291679846\n"
     ]
    }
   ],
   "source": [
    "us_pre_engagement=pre_engagement.query('location == \"United States\"')\n",
    "us_post_engagement=post_engagement.query('location == \"United States\"')\n",
    "US=(len(us_pre_engagement)-len(us_post_engagement))/9483\n",
    "print(US)"
   ]
  },
  {
   "cell_type": "code",
   "execution_count": 51,
   "metadata": {},
   "outputs": [
    {
     "name": "stdout",
     "output_type": "stream",
     "text": [
      "0.06422018348623854\n"
     ]
    }
   ],
   "source": [
    "uk_pre_engagement=pre_engagement.query('location == \"United Kingdom\"')\n",
    "uk_post_engagement=post_engagement.query('location == \"United Kingdom\"')\n",
    "UK=(len(uk_pre_engagement)-len(uk_post_engagement))/9483\n",
    "print(UK)"
   ]
  },
  {
   "cell_type": "code",
   "execution_count": 52,
   "metadata": {},
   "outputs": [
    {
     "name": "stdout",
     "output_type": "stream",
     "text": [
      "0.045871559633027525\n"
     ]
    }
   ],
   "source": [
    "ITALY_pre_engagement=pre_engagement.query('location == \"Italy\"')\n",
    "ITALY_post_engagement=post_engagement.query('location == \"Italy\"')\n",
    "ITALY=(len(ITALY_pre_engagement)-len(ITALY_post_engagement))/9483\n",
    "print(ITALY)"
   ]
  },
  {
   "cell_type": "code",
   "execution_count": 53,
   "metadata": {},
   "outputs": [
    {
     "name": "stdout",
     "output_type": "stream",
     "text": [
      "0.10692818728250554\n"
     ]
    }
   ],
   "source": [
    "Germany_pre_engagement=pre_engagement.query('location == \"Germany\"')\n",
    "Germany_post_engagement=post_engagement.query('location == \"Germany\"')\n",
    "Germany=(len(Germany_pre_engagement)-len(Germany_post_engagement))/9483\n",
    "print(Germany)"
   ]
  },
  {
   "cell_type": "code",
   "execution_count": 54,
   "metadata": {},
   "outputs": [
    {
     "name": "stdout",
     "output_type": "stream",
     "text": [
      "0.08531055573130866\n"
     ]
    }
   ],
   "source": [
    "France_pre_engagement=pre_engagement.query('location == \"France\"')\n",
    "France_post_engagement=post_engagement.query('location == \"France\"')\n",
    "France=(len(France_pre_engagement)-len(France_post_engagement))/9483\n",
    "print(France)"
   ]
  },
  {
   "cell_type": "code",
   "execution_count": 55,
   "metadata": {},
   "outputs": [
    {
     "data": {
      "text/html": [
       "<div>\n",
       "<style scoped>\n",
       "    .dataframe tbody tr th:only-of-type {\n",
       "        vertical-align: middle;\n",
       "    }\n",
       "\n",
       "    .dataframe tbody tr th {\n",
       "        vertical-align: top;\n",
       "    }\n",
       "\n",
       "    .dataframe thead th {\n",
       "        text-align: right;\n",
       "    }\n",
       "</style>\n",
       "<table border=\"1\" class=\"dataframe\">\n",
       "  <thead>\n",
       "    <tr style=\"text-align: right;\">\n",
       "      <th></th>\n",
       "      <th>country</th>\n",
       "      <th>percentage of total drop in engagement events</th>\n",
       "    </tr>\n",
       "  </thead>\n",
       "  <tbody>\n",
       "    <tr>\n",
       "      <th>0</th>\n",
       "      <td>US</td>\n",
       "      <td>0.307814</td>\n",
       "    </tr>\n",
       "    <tr>\n",
       "      <th>1</th>\n",
       "      <td>Germany</td>\n",
       "      <td>0.106928</td>\n",
       "    </tr>\n",
       "    <tr>\n",
       "      <th>2</th>\n",
       "      <td>France</td>\n",
       "      <td>0.085311</td>\n",
       "    </tr>\n",
       "    <tr>\n",
       "      <th>3</th>\n",
       "      <td>UK</td>\n",
       "      <td>0.064220</td>\n",
       "    </tr>\n",
       "    <tr>\n",
       "      <th>4</th>\n",
       "      <td>Italy</td>\n",
       "      <td>0.045872</td>\n",
       "    </tr>\n",
       "  </tbody>\n",
       "</table>\n",
       "</div>"
      ],
      "text/plain": [
       "   country  percentage of total drop in engagement events\n",
       "0       US                                       0.307814\n",
       "1  Germany                                       0.106928\n",
       "2   France                                       0.085311\n",
       "3       UK                                       0.064220\n",
       "4    Italy                                       0.045872"
      ]
     },
     "execution_count": 55,
     "metadata": {},
     "output_type": "execute_result"
    }
   ],
   "source": [
    "d={'country':[\"US\", \"Germany\", \"France\", \"UK\",\"Italy\"], 'percentage of total drop in engagement events':[US, Germany, France, UK, ITALY]}\n",
    "drop_percent=pd.DataFrame(data=d)\n",
    "drop_percent"
   ]
  },
  {
   "cell_type": "code",
   "execution_count": 56,
   "metadata": {},
   "outputs": [
    {
     "data": {
      "image/png": "[encoded data removed]",
      "text/plain": [
       "<matplotlib.figure.Figure at 0x213ddc38fd0>"
      ]
     },
     "metadata": {},
     "output_type": "display_data"
    }
   ],
   "source": [
    "import seaborn as sns\n",
    "sns.set(style=\"whitegrid\")\n",
    "ax = sns.barplot(x=\"country\", y=\"percentage of total drop in engagement events\", data=drop_percent)"
   ]
  },
  {
   "cell_type": "markdown",
   "metadata": {},
   "source": [
    "The US contributes to the largest percent drop (more than 30%) in engagement events between the predrop and postdrop periods, followed by Germany, France, UK, and Italy."
   ]
  },
  {
   "cell_type": "code",
   "execution_count": 59,
   "metadata": {},
   "outputs": [
    {
     "data": {
      "text/html": [
       "<div>\n",
       "<style scoped>\n",
       "    .dataframe tbody tr th:only-of-type {\n",
       "        vertical-align: middle;\n",
       "    }\n",
       "\n",
       "    .dataframe tbody tr th {\n",
       "        vertical-align: top;\n",
       "    }\n",
       "\n",
       "    .dataframe thead th {\n",
       "        text-align: right;\n",
       "    }\n",
       "</style>\n",
       "<table border=\"1\" class=\"dataframe\">\n",
       "  <thead>\n",
       "    <tr style=\"text-align: right;\">\n",
       "      <th></th>\n",
       "      <th>user_id</th>\n",
       "      <th>occurred_at</th>\n",
       "      <th>event_type</th>\n",
       "      <th>event_name</th>\n",
       "      <th>location</th>\n",
       "      <th>device</th>\n",
       "      <th>user_type</th>\n",
       "    </tr>\n",
       "  </thead>\n",
       "  <tbody>\n",
       "    <tr>\n",
       "      <th>11092</th>\n",
       "      <td>13317.0</td>\n",
       "      <td>2014-07-20 12:18:05</td>\n",
       "      <td>engagement</td>\n",
       "      <td>login</td>\n",
       "      <td>Italy</td>\n",
       "      <td>lenovo thinkpad</td>\n",
       "      <td>2.0</td>\n",
       "    </tr>\n",
       "    <tr>\n",
       "      <th>11093</th>\n",
       "      <td>13317.0</td>\n",
       "      <td>2014-07-20 12:18:13</td>\n",
       "      <td>engagement</td>\n",
       "      <td>home_page</td>\n",
       "      <td>Italy</td>\n",
       "      <td>lenovo thinkpad</td>\n",
       "      <td>2.0</td>\n",
       "    </tr>\n",
       "    <tr>\n",
       "      <th>11094</th>\n",
       "      <td>13317.0</td>\n",
       "      <td>2014-07-20 12:18:42</td>\n",
       "      <td>engagement</td>\n",
       "      <td>like_message</td>\n",
       "      <td>Italy</td>\n",
       "      <td>lenovo thinkpad</td>\n",
       "      <td>2.0</td>\n",
       "    </tr>\n",
       "    <tr>\n",
       "      <th>11095</th>\n",
       "      <td>13317.0</td>\n",
       "      <td>2014-07-20 12:19:11</td>\n",
       "      <td>engagement</td>\n",
       "      <td>home_page</td>\n",
       "      <td>Italy</td>\n",
       "      <td>lenovo thinkpad</td>\n",
       "      <td>2.0</td>\n",
       "    </tr>\n",
       "    <tr>\n",
       "      <th>11096</th>\n",
       "      <td>13317.0</td>\n",
       "      <td>2014-07-20 12:19:34</td>\n",
       "      <td>engagement</td>\n",
       "      <td>send_message</td>\n",
       "      <td>Italy</td>\n",
       "      <td>lenovo thinkpad</td>\n",
       "      <td>2.0</td>\n",
       "    </tr>\n",
       "  </tbody>\n",
       "</table>\n",
       "</div>"
      ],
      "text/plain": [
       "       user_id         occurred_at  event_type    event_name location  \\\n",
       "11092  13317.0 2014-07-20 12:18:05  engagement         login    Italy   \n",
       "11093  13317.0 2014-07-20 12:18:13  engagement     home_page    Italy   \n",
       "11094  13317.0 2014-07-20 12:18:42  engagement  like_message    Italy   \n",
       "11095  13317.0 2014-07-20 12:19:11  engagement     home_page    Italy   \n",
       "11096  13317.0 2014-07-20 12:19:34  engagement  send_message    Italy   \n",
       "\n",
       "                device  user_type  \n",
       "11092  lenovo thinkpad        2.0  \n",
       "11093  lenovo thinkpad        2.0  \n",
       "11094  lenovo thinkpad        2.0  \n",
       "11095  lenovo thinkpad        2.0  \n",
       "11096  lenovo thinkpad        2.0  "
      ]
     },
     "execution_count": 59,
     "metadata": {},
     "output_type": "execute_result"
    }
   ],
   "source": [
    "pre_engagement.head()"
   ]
  },
  {
   "cell_type": "code",
   "execution_count": 63,
   "metadata": {},
   "outputs": [
    {
     "data": {
      "text/plain": [
       "array(['login', 'home_page', 'like_message', 'send_message', 'search_run',\n",
       "       'view_inbox', 'search_click_result_2', 'search_click_result_5',\n",
       "       'search_click_result_6', 'search_click_result_10',\n",
       "       'search_click_result_4', 'search_click_result_1',\n",
       "       'search_click_result_3', 'search_click_result_9',\n",
       "       'search_autocomplete', 'search_click_result_7',\n",
       "       'search_click_result_8'], dtype=object)"
      ]
     },
     "execution_count": 63,
     "metadata": {},
     "output_type": "execute_result"
    }
   ],
   "source": [
    "pre_engagement.event_name.unique()"
   ]
  },
  {
   "cell_type": "code",
   "execution_count": 61,
   "metadata": {},
   "outputs": [
    {
     "data": {
      "text/plain": [
       "array(['login', 'home_page', 'view_inbox', 'send_message', 'like_message',\n",
       "       'search_autocomplete', 'search_run', 'search_click_result_2',\n",
       "       'search_click_result_5', 'search_click_result_8',\n",
       "       'search_click_result_4', 'search_click_result_6',\n",
       "       'search_click_result_1', 'search_click_result_9',\n",
       "       'search_click_result_10', 'search_click_result_3',\n",
       "       'search_click_result_7'], dtype=object)"
      ]
     },
     "execution_count": 61,
     "metadata": {},
     "output_type": "execute_result"
    }
   ],
   "source": [
    "post_engagement.event_name.unique()"
   ]
  },
  {
   "cell_type": "markdown",
   "metadata": {},
   "source": [
    "Now that we have examined drop of engagement events by country. Not it is time to consider what types of engagement events, e.g., login, contributed more to the total engagement events."
   ]
  },
  {
   "cell_type": "code",
   "execution_count": 72,
   "metadata": {},
   "outputs": [],
   "source": [
    "count_a=pre_engagement.groupby(['event_name']).size()"
   ]
  },
  {
   "cell_type": "code",
   "execution_count": 73,
   "metadata": {},
   "outputs": [],
   "source": [
    "count_b=post_engagement.groupby(['event_name']).size()"
   ]
  },
  {
   "cell_type": "code",
   "execution_count": 93,
   "metadata": {},
   "outputs": [
    {
     "name": "stdout",
     "output_type": "stream",
     "text": [
      "event_name\n",
      "home_page                -2716\n",
      "like_message             -1684\n",
      "login                     -984\n",
      "search_autocomplete       -519\n",
      "search_click_result_1      -64\n",
      "search_click_result_10     -15\n",
      "search_click_result_2      -52\n",
      "search_click_result_3      -24\n",
      "search_click_result_4      -49\n",
      "search_click_result_5      -36\n",
      "search_click_result_6      -22\n",
      "search_click_result_7      -14\n",
      "search_click_result_8      -26\n",
      "search_click_result_9      -28\n",
      "search_run                -510\n",
      "send_message             -1036\n",
      "view_inbox               -1704\n",
      "dtype: int64\n"
     ]
    }
   ],
   "source": [
    "c=count_b-count_a\n",
    "print(c)"
   ]
  },
  {
   "cell_type": "code",
   "execution_count": 90,
   "metadata": {},
   "outputs": [
    {
     "data": {
      "text/plain": [
       "<matplotlib.axes._subplots.AxesSubplot at 0x213dddfa3c8>"
      ]
     },
     "execution_count": 90,
     "metadata": {},
     "output_type": "execute_result"
    },
    {
     "data": {
      "image/png": "[encoded data removed]",
      "text/plain": [
       "<matplotlib.figure.Figure at 0x213ddca3400>"
      ]
     },
     "metadata": {},
     "output_type": "display_data"
    }
   ],
   "source": [
    "c.plot.bar()"
   ]
  },
  {
   "cell_type": "markdown",
   "metadata": {},
   "source": [
    "This figure shows that \"home page\" event drops the most, followed by \"view inbox\" and \"like message\"."
   ]
  },
  {
   "cell_type": "markdown",
   "metadata": {},
   "source": [
    "We have examined change in engagement events. Now let's focus on people."
   ]
  },
  {
   "cell_type": "code",
   "execution_count": 99,
   "metadata": {},
   "outputs": [
    {
     "data": {
      "text/html": [
       "<div>\n",
       "<style scoped>\n",
       "    .dataframe tbody tr th:only-of-type {\n",
       "        vertical-align: middle;\n",
       "    }\n",
       "\n",
       "    .dataframe tbody tr th {\n",
       "        vertical-align: top;\n",
       "    }\n",
       "\n",
       "    .dataframe thead th {\n",
       "        text-align: right;\n",
       "    }\n",
       "</style>\n",
       "<table border=\"1\" class=\"dataframe\">\n",
       "  <thead>\n",
       "    <tr style=\"text-align: right;\">\n",
       "      <th></th>\n",
       "      <th>user_id</th>\n",
       "      <th>occurred_at</th>\n",
       "      <th>event_type</th>\n",
       "      <th>event_name</th>\n",
       "      <th>location</th>\n",
       "      <th>device</th>\n",
       "      <th>user_type</th>\n",
       "    </tr>\n",
       "  </thead>\n",
       "  <tbody>\n",
       "    <tr>\n",
       "      <th>11092</th>\n",
       "      <td>13317.0</td>\n",
       "      <td>2014-07-20 12:18:05</td>\n",
       "      <td>engagement</td>\n",
       "      <td>login</td>\n",
       "      <td>Italy</td>\n",
       "      <td>lenovo thinkpad</td>\n",
       "      <td>2.0</td>\n",
       "    </tr>\n",
       "    <tr>\n",
       "      <th>11093</th>\n",
       "      <td>13317.0</td>\n",
       "      <td>2014-07-20 12:18:13</td>\n",
       "      <td>engagement</td>\n",
       "      <td>home_page</td>\n",
       "      <td>Italy</td>\n",
       "      <td>lenovo thinkpad</td>\n",
       "      <td>2.0</td>\n",
       "    </tr>\n",
       "    <tr>\n",
       "      <th>11094</th>\n",
       "      <td>13317.0</td>\n",
       "      <td>2014-07-20 12:18:42</td>\n",
       "      <td>engagement</td>\n",
       "      <td>like_message</td>\n",
       "      <td>Italy</td>\n",
       "      <td>lenovo thinkpad</td>\n",
       "      <td>2.0</td>\n",
       "    </tr>\n",
       "    <tr>\n",
       "      <th>11095</th>\n",
       "      <td>13317.0</td>\n",
       "      <td>2014-07-20 12:19:11</td>\n",
       "      <td>engagement</td>\n",
       "      <td>home_page</td>\n",
       "      <td>Italy</td>\n",
       "      <td>lenovo thinkpad</td>\n",
       "      <td>2.0</td>\n",
       "    </tr>\n",
       "    <tr>\n",
       "      <th>11096</th>\n",
       "      <td>13317.0</td>\n",
       "      <td>2014-07-20 12:19:34</td>\n",
       "      <td>engagement</td>\n",
       "      <td>send_message</td>\n",
       "      <td>Italy</td>\n",
       "      <td>lenovo thinkpad</td>\n",
       "      <td>2.0</td>\n",
       "    </tr>\n",
       "  </tbody>\n",
       "</table>\n",
       "</div>"
      ],
      "text/plain": [
       "       user_id         occurred_at  event_type    event_name location  \\\n",
       "11092  13317.0 2014-07-20 12:18:05  engagement         login    Italy   \n",
       "11093  13317.0 2014-07-20 12:18:13  engagement     home_page    Italy   \n",
       "11094  13317.0 2014-07-20 12:18:42  engagement  like_message    Italy   \n",
       "11095  13317.0 2014-07-20 12:19:11  engagement     home_page    Italy   \n",
       "11096  13317.0 2014-07-20 12:19:34  engagement  send_message    Italy   \n",
       "\n",
       "                device  user_type  \n",
       "11092  lenovo thinkpad        2.0  \n",
       "11093  lenovo thinkpad        2.0  \n",
       "11094  lenovo thinkpad        2.0  \n",
       "11095  lenovo thinkpad        2.0  \n",
       "11096  lenovo thinkpad        2.0  "
      ]
     },
     "execution_count": 99,
     "metadata": {},
     "output_type": "execute_result"
    }
   ],
   "source": [
    "pre_engagement.head()"
   ]
  },
  {
   "cell_type": "code",
   "execution_count": 104,
   "metadata": {},
   "outputs": [
    {
     "data": {
      "text/plain": [
       "2130"
      ]
     },
     "execution_count": 104,
     "metadata": {},
     "output_type": "execute_result"
    }
   ],
   "source": [
    "pre_engagement['pre_people']=pre_engagement.groupby('user_id').cumcount() == 0\n",
    "pre_people=pre_engagement[pre_engagement['pre_people']==True]\n",
    "len(pre_people)"
   ]
  },
  {
   "cell_type": "code",
   "execution_count": 107,
   "metadata": {},
   "outputs": [
    {
     "name": "stdout",
     "output_type": "stream",
     "text": [
      "location\n",
      "Argentina                10\n",
      "Australia                49\n",
      "Austria                  13\n",
      "Belgium                  22\n",
      "Brazil                   74\n",
      "Canada                   60\n",
      "Chile                    13\n",
      "Colombia                 13\n",
      "Denmark                  13\n",
      "Egypt                    11\n",
      "Finland                  12\n",
      "France                  105\n",
      "Germany                 142\n",
      "Greece                   12\n",
      "Hong Kong                 8\n",
      "India                    59\n",
      "Indonesia                32\n",
      "Iran                     17\n",
      "Iraq                     11\n",
      "Ireland                   6\n",
      "Israel                   15\n",
      "Italy                    80\n",
      "Japan                   165\n",
      "Korea                    43\n",
      "Malaysia                 10\n",
      "Mexico                   46\n",
      "Netherlands              35\n",
      "Nigeria                  13\n",
      "Norway                   11\n",
      "Pakistan                  5\n",
      "Philippines              11\n",
      "Poland                   14\n",
      "Portugal                  5\n",
      "Russia                   74\n",
      "Saudi Arabia             30\n",
      "Singapore                12\n",
      "South Africa             17\n",
      "Spain                    33\n",
      "Sweden                   21\n",
      "Switzerland              22\n",
      "Taiwan                   11\n",
      "Thailand                 16\n",
      "Turkey                   20\n",
      "United Arab Emirates     11\n",
      "United Kingdom          102\n",
      "United States           606\n",
      "Venezuela                20\n",
      "dtype: int64\n"
     ]
    }
   ],
   "source": [
    "pre_count=pre_people.groupby(['location']).size()\n",
    "print(pre_count)"
   ]
  },
  {
   "cell_type": "code",
   "execution_count": 109,
   "metadata": {},
   "outputs": [
    {
     "data": {
      "text/plain": [
       "1828"
      ]
     },
     "execution_count": 109,
     "metadata": {},
     "output_type": "execute_result"
    }
   ],
   "source": [
    "post_engagement['post_people']=post_engagement.groupby('user_id').cumcount() == 0\n",
    "post_people=post_engagement[post_engagement['post_people']==True]\n",
    "len(post_people)"
   ]
  },
  {
   "cell_type": "code",
   "execution_count": 115,
   "metadata": {},
   "outputs": [
    {
     "name": "stdout",
     "output_type": "stream",
     "text": [
      "location\n",
      "Argentina                12\n",
      "Australia                41\n",
      "Austria                  14\n",
      "Belgium                   9\n",
      "Brazil                   66\n",
      "Canada                   41\n",
      "Chile                     7\n",
      "Colombia                 13\n",
      "Denmark                  16\n",
      "Egypt                     9\n",
      "Finland                   9\n",
      "France                   85\n",
      "Germany                 116\n",
      "Greece                    7\n",
      "Hong Kong                 8\n",
      "India                    57\n",
      "Indonesia                27\n",
      "Iran                     17\n",
      "Iraq                      9\n",
      "Ireland                   8\n",
      "Israel                   10\n",
      "Italy                    70\n",
      "Japan                   142\n",
      "Korea                    40\n",
      "Malaysia                 15\n",
      "Mexico                   43\n",
      "Netherlands              30\n",
      "Nigeria                  12\n",
      "Norway                   12\n",
      "Pakistan                  7\n",
      "Philippines              10\n",
      "Poland                   18\n",
      "Portugal                 10\n",
      "Russia                   61\n",
      "Saudi Arabia             19\n",
      "Singapore                 8\n",
      "South Africa             13\n",
      "Spain                    28\n",
      "Sweden                   20\n",
      "Switzerland              21\n",
      "Taiwan                   11\n",
      "Thailand                 13\n",
      "Turkey                   20\n",
      "United Arab Emirates     11\n",
      "United Kingdom           82\n",
      "United States           518\n",
      "Venezuela                13\n",
      "dtype: int64\n"
     ]
    }
   ],
   "source": [
    "post_count=post_people.groupby(['location']).size()\n",
    "print(post_count)"
   ]
  },
  {
   "cell_type": "code",
   "execution_count": 110,
   "metadata": {},
   "outputs": [
    {
     "data": {
      "text/plain": [
       "302"
      ]
     },
     "execution_count": 110,
     "metadata": {},
     "output_type": "execute_result"
    }
   ],
   "source": [
    "len(pre_people)-len(post_people)"
   ]
  },
  {
   "cell_type": "code",
   "execution_count": 116,
   "metadata": {},
   "outputs": [
    {
     "data": {
      "text/plain": [
       "location\n",
       "Argentina                2\n",
       "Australia               -8\n",
       "Austria                  1\n",
       "Belgium                -13\n",
       "Brazil                  -8\n",
       "Canada                 -19\n",
       "Chile                   -6\n",
       "Colombia                 0\n",
       "Denmark                  3\n",
       "Egypt                   -2\n",
       "Finland                 -3\n",
       "France                 -20\n",
       "Germany                -26\n",
       "Greece                  -5\n",
       "Hong Kong                0\n",
       "India                   -2\n",
       "Indonesia               -5\n",
       "Iran                     0\n",
       "Iraq                    -2\n",
       "Ireland                  2\n",
       "Israel                  -5\n",
       "Italy                  -10\n",
       "Japan                  -23\n",
       "Korea                   -3\n",
       "Malaysia                 5\n",
       "Mexico                  -3\n",
       "Netherlands             -5\n",
       "Nigeria                 -1\n",
       "Norway                   1\n",
       "Pakistan                 2\n",
       "Philippines             -1\n",
       "Poland                   4\n",
       "Portugal                 5\n",
       "Russia                 -13\n",
       "Saudi Arabia           -11\n",
       "Singapore               -4\n",
       "South Africa            -4\n",
       "Spain                   -5\n",
       "Sweden                  -1\n",
       "Switzerland             -1\n",
       "Taiwan                   0\n",
       "Thailand                -3\n",
       "Turkey                   0\n",
       "United Arab Emirates     0\n",
       "United Kingdom         -20\n",
       "United States          -88\n",
       "Venezuela               -7\n",
       "dtype: int64"
      ]
     },
     "execution_count": 116,
     "metadata": {},
     "output_type": "execute_result"
    }
   ],
   "source": [
    "diff=post_count-pre_count\n",
    "diff"
   ]
  },
  {
   "cell_type": "code",
   "execution_count": 117,
   "metadata": {},
   "outputs": [
    {
     "data": {
      "text/plain": [
       "<matplotlib.axes._subplots.AxesSubplot at 0x213ddda79b0>"
      ]
     },
     "execution_count": 117,
     "metadata": {},
     "output_type": "execute_result"
    },
    {
     "data": {
      "image/png": "[encoded data removed]",
      "text/plain": [
       "<matplotlib.figure.Figure at 0x213dac5a320>"
      ]
     },
     "metadata": {},
     "output_type": "display_data"
    }
   ],
   "source": [
    "diff.plot.bar()"
   ]
  },
  {
   "cell_type": "markdown",
   "metadata": {},
   "source": [
    "This figure shows that the US sees the largest drop in number of active users, followed by Germany, Japan, UK, France, and Canada. All six countries are developed countries primarily located in northern temperate region. "
   ]
  }
 ],
 "metadata": {
  "kernelspec": {
   "display_name": "Python 3",
   "language": "python",
   "name": "python3"
  },
  "language_info": {
   "codemirror_mode": {
    "name": "ipython",
    "version": 3
   },
   "file_extension": ".py",
   "mimetype": "text/x-python",
   "name": "python",
   "nbconvert_exporter": "python",
   "pygments_lexer": "ipython3",
   "version": "3.6.4"
  }
 },
 "nbformat": 4,
 "nbformat_minor": 2
}
