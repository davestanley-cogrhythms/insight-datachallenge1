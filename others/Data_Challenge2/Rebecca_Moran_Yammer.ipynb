{
 "cells": [
  {
   "cell_type": "markdown",
   "metadata": {},
   "source": [
    "## Table of Contents\n",
    "\n",
    "I. [The Problem](#the_problem)\n",
    "\n",
    "II. [Results Summary](#results_summary)\n",
    "\n",
    "III. [Data Analysis](#the_data)\n",
    "\n",
    "IV. [Appendix](#appendix)"
   ]
  },
  {
   "cell_type": "markdown",
   "metadata": {},
   "source": [
    "<a id='the_problem'></a>\n",
    "**I. Problem**\n",
    "\n",
    "I want to find some insight into the drop in user engagement. After the week beginning July 28, 2014, there is a drop in total unique users who engage with Yammer. User engagement continues to fall until the end of our data (the week beginning August 25)."
   ]
  },
  {
   "cell_type": "markdown",
   "metadata": {},
   "source": [
    "<a id='results_summary'></a>\n",
    "**II. Results Summary**\n",
    "\n",
    "Some results:\n",
    "* In addition to unique active users decreasing, total event engagements by week are decreasing\n",
    "* People are still signing up for the service\n",
    "* Only 63% of users who signed up have engaged with the service otherwise leaving 37% who have not\n",
    "* Most users only use the service a few times\n",
    "* The drops that were the largest compared to the total engagements at the first date were home_page, like_message, and view_inbox \n",
    "\n",
    "However, I have not found any evidence of what has caused the drop in engagement. I explore the above results in the Data Analysis section."
   ]
  },
  {
   "cell_type": "markdown",
   "metadata": {},
   "source": [
    "<a id='the_data'></a>\n",
    "**III. Data Analysis**\n",
    "\n",
    "First, we import some necessary python libraries and import our datasets as pandas dataframes."
   ]
  },
  {
   "cell_type": "code",
   "execution_count": 1,
   "metadata": {},
   "outputs": [],
   "source": [
    "import pandas as pd\n",
    "import numpy as np\n",
    "import sklearn as skl\n",
    "import matplotlib.pyplot as plt\n",
    "import datetime\n",
    "\n",
    "df_users = pd.read_csv('yammer_users.csv')\n",
    "df_events = pd.read_csv('yammer_events.csv')\n",
    "df_emails = pd.read_csv('yammer_emails.csv')\n",
    "df_periods = pd.read_csv('dimension_rollup_periods.csv')"
   ]
  },
  {
   "cell_type": "markdown",
   "metadata": {},
   "source": [
    "Now we convert the event dates to a datetime format"
   ]
  },
  {
   "cell_type": "code",
   "execution_count": 2,
   "metadata": {},
   "outputs": [],
   "source": [
    "df_events.occurred_at = pd.to_datetime(df_events.occurred_at)"
   ]
  },
  {
   "cell_type": "markdown",
   "metadata": {},
   "source": [
    "In order to replicate the graph that concerned my boss, I need to map each event date to the week in which it occurred. I do this by finding the weeks that I want to consider and writing a function that sends each date to the first date of the week."
   ]
  },
  {
   "cell_type": "code",
   "execution_count": 3,
   "metadata": {},
   "outputs": [],
   "source": [
    "weeks = df_periods[df_periods.period_id == 1007].copy() # looks at all 1 week periods\n",
    "weeks.pst_start = pd.to_datetime(weeks.pst_start) # convert string to datetime\n",
    "weeks.pst_end = pd.to_datetime(weeks.pst_end) # convert string to datetime\n",
    "startdate = weeks.pst_start.iloc[489] # The first date we are considering\n",
    "week_lst = []\n",
    "for n in range(18):\n",
    "    week_lst.append(startdate + n*datetime.timedelta(days=7)) # Make a list of all the dates we are considering"
   ]
  },
  {
   "cell_type": "code",
   "execution_count": 6,
   "metadata": {},
   "outputs": [],
   "source": [
    "def whichweek(date,weeklist): # given a date in our time frame, returns the first date of the week\n",
    "    for i in range(len(weeklist)):\n",
    "        if date < weeklist[i]:\n",
    "            return weeklist[i-1] \n",
    "    else: \n",
    "        return weeklist[-1]"
   ]
  },
  {
   "cell_type": "code",
   "execution_count": 7,
   "metadata": {},
   "outputs": [],
   "source": [
    "df_events['weekstart'] = df_events.occurred_at.apply(lambda x: whichweek(x,week_lst)) \n",
    "# map our dates to the first of the week"
   ]
  },
  {
   "cell_type": "markdown",
   "metadata": {},
   "source": [
    "The plot of active users per week, as given to me by my boss is:"
   ]
  },
  {
   "cell_type": "code",
   "execution_count": 8,
   "metadata": {},
   "outputs": [
    {
     "data": {
      "text/plain": [
       "<matplotlib.axes._subplots.AxesSubplot at 0xa22e60160>"
      ]
     },
     "execution_count": 8,
     "metadata": {},
     "output_type": "execute_result"
    },
    {
     "data": {
      "image/png": "[encoded data removed]",
      "text/plain": [
       "<Figure size 432x288 with 1 Axes>"
      ]
     },
     "metadata": {
      "needs_background": "light"
     },
     "output_type": "display_data"
    }
   ],
   "source": [
    "(df_events[df_events.event_type == 'engagement'].groupby('weekstart')['user_id'].nunique()).plot(kind = 'line')"
   ]
  },
  {
   "cell_type": "markdown",
   "metadata": {},
   "source": [
    "Notice that there is a peak in the number of active users in the week of July 28 and then it drops through this week that just ended (week starting August 25)."
   ]
  },
  {
   "cell_type": "markdown",
   "metadata": {},
   "source": [
    "I would like to be able to explain this. I can plot the number of engagement events by week."
   ]
  },
  {
   "cell_type": "code",
   "execution_count": 9,
   "metadata": {},
   "outputs": [],
   "source": [
    "engagement_by_week = df_events[df_events.event_type == 'engagement'].groupby('weekstart').size()"
   ]
  },
  {
   "cell_type": "code",
   "execution_count": 10,
   "metadata": {},
   "outputs": [
    {
     "data": {
      "text/plain": [
       "<matplotlib.axes._subplots.AxesSubplot at 0xa1b53c6d8>"
      ]
     },
     "execution_count": 10,
     "metadata": {},
     "output_type": "execute_result"
    },
    {
     "data": {
      "image/png": "[encoded data removed]",
      "text/plain": [
       "<Figure size 432x288 with 1 Axes>"
      ]
     },
     "metadata": {
      "needs_background": "light"
     },
     "output_type": "display_data"
    }
   ],
   "source": [
    "engagement_by_week.plot(kind='line')"
   ]
  },
  {
   "cell_type": "markdown",
   "metadata": {},
   "source": [
    "We see that the number of engagement events is also dropping."
   ]
  },
  {
   "cell_type": "markdown",
   "metadata": {},
   "source": [
    "Let us see how many users are signing up each week."
   ]
  },
  {
   "cell_type": "code",
   "execution_count": 11,
   "metadata": {},
   "outputs": [],
   "source": [
    "signups_by_week = df_events[df_events.event_type == 'signup_flow'].groupby('weekstart').size()"
   ]
  },
  {
   "cell_type": "code",
   "execution_count": 12,
   "metadata": {},
   "outputs": [
    {
     "data": {
      "text/plain": [
       "<matplotlib.axes._subplots.AxesSubplot at 0xa1b60d828>"
      ]
     },
     "execution_count": 12,
     "metadata": {},
     "output_type": "execute_result"
    },
    {
     "data": {
      "image/png": "[encoded data removed]",
      "text/plain": [
       "<Figure size 432x288 with 1 Axes>"
      ]
     },
     "metadata": {
      "needs_background": "light"
     },
     "output_type": "display_data"
    }
   ],
   "source": [
    "signups_by_week.plot(kind='line')"
   ]
  },
  {
   "cell_type": "markdown",
   "metadata": {},
   "source": [
    "Signups are increasing (with a dip)."
   ]
  },
  {
   "cell_type": "markdown",
   "metadata": {},
   "source": [
    "The percent of users who have signed up AND engaged with the service is"
   ]
  },
  {
   "cell_type": "code",
   "execution_count": 13,
   "metadata": {},
   "outputs": [
    {
     "data": {
      "text/plain": [
       "0.629"
      ]
     },
     "execution_count": 13,
     "metadata": {},
     "output_type": "execute_result"
    }
   ],
   "source": [
    "round(df_events[df_events.event_type == 'engagement'].user_id.unique().shape[0]/df_events.user_id.unique().shape[0], 3)"
   ]
  },
  {
   "cell_type": "markdown",
   "metadata": {},
   "source": [
    "So, about 37% of users have signed up but not engaged."
   ]
  },
  {
   "cell_type": "code",
   "execution_count": 14,
   "metadata": {},
   "outputs": [],
   "source": [
    "df_engagement = df_events.copy()[df_events.event_type == 'engagement']"
   ]
  },
  {
   "cell_type": "markdown",
   "metadata": {},
   "source": [
    "Now I consider how many engagement events there are per user and plot them on a histogram."
   ]
  },
  {
   "cell_type": "code",
   "execution_count": 15,
   "metadata": {},
   "outputs": [],
   "source": [
    "user_engagements = df_engagement.groupby('user_id').size()"
   ]
  },
  {
   "cell_type": "code",
   "execution_count": 16,
   "metadata": {},
   "outputs": [
    {
     "data": {
      "text/plain": [
       "(array([4.675e+03, 8.270e+02, 3.140e+02, 1.670e+02, 9.300e+01, 3.000e+01,\n",
       "        2.300e+01, 1.000e+01, 2.000e+00, 1.000e+00]),\n",
       " array([  2. ,  65.8, 129.6, 193.4, 257.2, 321. , 384.8, 448.6, 512.4,\n",
       "        576.2, 640. ]),\n",
       " <a list of 10 Patch objects>)"
      ]
     },
     "execution_count": 16,
     "metadata": {},
     "output_type": "execute_result"
    },
    {
     "data": {
      "image/png": "[encoded data removed]",
      "text/plain": [
       "<Figure size 432x288 with 1 Axes>"
      ]
     },
     "metadata": {
      "needs_background": "light"
     },
     "output_type": "display_data"
    }
   ],
   "source": [
    "plt.hist(user_engagements)"
   ]
  },
  {
   "cell_type": "markdown",
   "metadata": {},
   "source": [
    "So, most users by far only engage a few times."
   ]
  },
  {
   "cell_type": "markdown",
   "metadata": {},
   "source": [
    "Engagement events on July 28 are in EN1 and the engagement events for August 25 are in EN2:"
   ]
  },
  {
   "cell_type": "code",
   "execution_count": 17,
   "metadata": {},
   "outputs": [],
   "source": [
    "EN1 = df_engagement[df_engagement.weekstart == '2014-07-28T00:00:00.000000000'].groupby('event_name').size()\n",
    "EN2 = df_engagement[df_engagement.weekstart == '2014-08-25T00:00:00.000000000'].groupby('event_name').size()"
   ]
  },
  {
   "cell_type": "markdown",
   "metadata": {},
   "source": [
    "Now we can compare the change from July 28 to August 25 to the number of events in July 28 by the event name."
   ]
  },
  {
   "cell_type": "code",
   "execution_count": 18,
   "metadata": {},
   "outputs": [
    {
     "data": {
      "text/plain": [
       "event_name\n",
       "home_page                 0.071209\n",
       "like_message              0.048715\n",
       "login                     0.023798\n",
       "search_autocomplete       0.006520\n",
       "search_click_result_1     0.001397\n",
       "search_click_result_10    0.001071\n",
       "search_click_result_2     0.001630\n",
       "search_click_result_3     0.001444\n",
       "search_click_result_4     0.000931\n",
       "search_click_result_5     0.000978\n",
       "search_click_result_6     0.001257\n",
       "search_click_result_7     0.001071\n",
       "search_click_result_8     0.000559\n",
       "search_click_result_9     0.001164\n",
       "search_run                0.014531\n",
       "send_message              0.028642\n",
       "view_inbox                0.042194\n",
       "dtype: float64"
      ]
     },
     "execution_count": 18,
     "metadata": {},
     "output_type": "execute_result"
    }
   ],
   "source": [
    "(EN1 - EN2)/sum(EN1)"
   ]
  },
  {
   "cell_type": "markdown",
   "metadata": {},
   "source": [
    "The sum of all the search clicks is 0.011502"
   ]
  },
  {
   "cell_type": "markdown",
   "metadata": {},
   "source": [
    "So, The drops that were the largest compared to the total engagements at the first date were home_page, like_message, and view_inbox."
   ]
  },
  {
   "cell_type": "markdown",
   "metadata": {},
   "source": [
    "<a id='appendix'></a>\n",
    "**IV. Appendix**\n",
    "\n",
    "Tested ideas that didn't go anywhere and I didn't include here:\n",
    "* Did one country lead to a lot of the drop?\n",
    "\n",
    "Untested ideas:\n",
    "* Are the most frequent users a cause of the drop?\n",
    "* Something with the e-mails?\n",
    "* Do people engage more when they fist sign up?"
   ]
  },
  {
   "cell_type": "markdown",
   "metadata": {},
   "source": [
    "We can look at which users have engaged the most."
   ]
  },
  {
   "cell_type": "code",
   "execution_count": 19,
   "metadata": {},
   "outputs": [],
   "source": [
    "engage_by_user = df_events[df_events.event_type == 'engagement'].groupby('user_id').size()"
   ]
  },
  {
   "cell_type": "code",
   "execution_count": 20,
   "metadata": {},
   "outputs": [
    {
     "data": {
      "text/plain": [
       "user_id\n",
       "3390.0     640\n",
       "10276.0    561\n",
       "3774.0     525\n",
       "10498.0    512\n",
       "2419.0     502\n",
       "5633.0     500\n",
       "8733.0     492\n",
       "3720.0     487\n",
       "12389.0    473\n",
       "2398.0     461\n",
       "7510.0     460\n",
       "11906.0    455\n",
       "6074.0     453\n",
       "12670.0    439\n",
       "8258.0     437\n",
       "4626.0     434\n",
       "12995.0    433\n",
       "13247.0    433\n",
       "2940.0     431\n",
       "12034.0    427\n",
       "dtype: int64"
      ]
     },
     "execution_count": 20,
     "metadata": {},
     "output_type": "execute_result"
    }
   ],
   "source": [
    "engage_by_user.sort_values(ascending = False).head(20)"
   ]
  }
 ],
 "metadata": {
  "kernelspec": {
   "display_name": "Python 3",
   "language": "python",
   "name": "python3"
  },
  "language_info": {
   "codemirror_mode": {
    "name": "ipython",
    "version": 3
   },
   "file_extension": ".py",
   "mimetype": "text/x-python",
   "name": "python",
   "nbconvert_exporter": "python",
   "pygments_lexer": "ipython3",
   "version": "3.7.1"
  }
 },
 "nbformat": 4,
 "nbformat_minor": 2
}
