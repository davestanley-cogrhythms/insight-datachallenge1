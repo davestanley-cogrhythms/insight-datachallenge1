{
 "cells": [
  {
   "cell_type": "markdown",
   "metadata": {},
   "source": [
    "# Data Challenge 2\n",
    "## Kendall Hoover\n"
   ]
  },
  {
   "cell_type": "markdown",
   "metadata": {},
   "source": [
    "#### The Problem"
   ]
  },
  {
   "cell_type": "markdown",
   "metadata": {},
   "source": [
    "Yammer is a social network for coworkers to communicate with each other. It is free to use indefinitely, but companies must pay license fees in order to gain access to administrative controls.\n",
    "\n",
    "Every week, the number of engaged users are calculated. By Yammer's definition, __engaged users__ are those who have some type of server call by interacting with the product. Thus, each point on the provided graph is the number of users who have logged at least one engagement event during the week of the starting date. \n",
    "\n",
    "Since April 28, 2014, the number of active users has been increasing. However, there was a significant drop in users on August 4, 2014, which is the week after July 28, 2014, which the date of the maximum number of active users. The number of active users has been decreasing ever since. Did something happen between July 28 and August 4, 2014 to cause a drop in active users?\n",
    "\n",
    "Some potential reasons for a decrease in user engagement could be due to (1) an event that takes users away from being engaged or (2) a broken product feature."
   ]
  },
  {
   "cell_type": "markdown",
   "metadata": {},
   "source": [
    "#### Exploring the Data"
   ]
  },
  {
   "cell_type": "code",
   "execution_count": 1,
   "metadata": {},
   "outputs": [],
   "source": [
    "#Importing packages\n",
    "import pandas as pd\n",
    "import numpy as np\n",
    "import seaborn as sns\n",
    "import datetime as dt\n",
    "import matplotlib.pyplot as plt"
   ]
  },
  {
   "cell_type": "code",
   "execution_count": 2,
   "metadata": {},
   "outputs": [],
   "source": [
    "#Loading the data into a dataframe\n",
    "users=pd.read_csv(\"yammer_users.csv\") #Information about the users\n",
    "events=pd.read_csv(\"yammer_events.csv\") #Engagement events\n",
    "emails=pd.read_csv(\"yammer_emails.csv\") #Events specific to sending emails\n",
    "rollup_periods=pd.read_csv(\"dimension_rollup_periods.csv\") #Creating rolling time periods"
   ]
  },
  {
   "cell_type": "code",
   "execution_count": 3,
   "metadata": {},
   "outputs": [
    {
     "data": {
      "text/html": [
       "<div>\n",
       "<style scoped>\n",
       "    .dataframe tbody tr th:only-of-type {\n",
       "        vertical-align: middle;\n",
       "    }\n",
       "\n",
       "    .dataframe tbody tr th {\n",
       "        vertical-align: top;\n",
       "    }\n",
       "\n",
       "    .dataframe thead th {\n",
       "        text-align: right;\n",
       "    }\n",
       "</style>\n",
       "<table border=\"1\" class=\"dataframe\">\n",
       "  <thead>\n",
       "    <tr style=\"text-align: right;\">\n",
       "      <th></th>\n",
       "      <th>user_id</th>\n",
       "      <th>created_at</th>\n",
       "      <th>company_id</th>\n",
       "      <th>language</th>\n",
       "      <th>activated_at</th>\n",
       "      <th>state</th>\n",
       "    </tr>\n",
       "  </thead>\n",
       "  <tbody>\n",
       "    <tr>\n",
       "      <th>0</th>\n",
       "      <td>0.0</td>\n",
       "      <td>2013-01-01 20:59:39</td>\n",
       "      <td>5737.0</td>\n",
       "      <td>english</td>\n",
       "      <td>2013-01-01 21:01:07</td>\n",
       "      <td>active</td>\n",
       "    </tr>\n",
       "    <tr>\n",
       "      <th>1</th>\n",
       "      <td>1.0</td>\n",
       "      <td>2013-01-01 13:07:46</td>\n",
       "      <td>28.0</td>\n",
       "      <td>english</td>\n",
       "      <td>NaN</td>\n",
       "      <td>pending</td>\n",
       "    </tr>\n",
       "    <tr>\n",
       "      <th>2</th>\n",
       "      <td>2.0</td>\n",
       "      <td>2013-01-01 10:59:05</td>\n",
       "      <td>51.0</td>\n",
       "      <td>english</td>\n",
       "      <td>NaN</td>\n",
       "      <td>pending</td>\n",
       "    </tr>\n",
       "    <tr>\n",
       "      <th>3</th>\n",
       "      <td>3.0</td>\n",
       "      <td>2013-01-01 18:40:36</td>\n",
       "      <td>2800.0</td>\n",
       "      <td>german</td>\n",
       "      <td>2013-01-01 18:42:02</td>\n",
       "      <td>active</td>\n",
       "    </tr>\n",
       "    <tr>\n",
       "      <th>4</th>\n",
       "      <td>4.0</td>\n",
       "      <td>2013-01-01 14:37:51</td>\n",
       "      <td>5110.0</td>\n",
       "      <td>indian</td>\n",
       "      <td>2013-01-01 14:39:05</td>\n",
       "      <td>active</td>\n",
       "    </tr>\n",
       "  </tbody>\n",
       "</table>\n",
       "</div>"
      ],
      "text/plain": [
       "   user_id           created_at  company_id language         activated_at  \\\n",
       "0      0.0  2013-01-01 20:59:39      5737.0  english  2013-01-01 21:01:07   \n",
       "1      1.0  2013-01-01 13:07:46        28.0  english                  NaN   \n",
       "2      2.0  2013-01-01 10:59:05        51.0  english                  NaN   \n",
       "3      3.0  2013-01-01 18:40:36      2800.0   german  2013-01-01 18:42:02   \n",
       "4      4.0  2013-01-01 14:37:51      5110.0   indian  2013-01-01 14:39:05   \n",
       "\n",
       "     state  \n",
       "0   active  \n",
       "1  pending  \n",
       "2  pending  \n",
       "3   active  \n",
       "4   active  "
      ]
     },
     "execution_count": 3,
     "metadata": {},
     "output_type": "execute_result"
    }
   ],
   "source": [
    "users.head()"
   ]
  },
  {
   "cell_type": "code",
   "execution_count": 4,
   "metadata": {},
   "outputs": [
    {
     "data": {
      "text/html": [
       "<div>\n",
       "<style scoped>\n",
       "    .dataframe tbody tr th:only-of-type {\n",
       "        vertical-align: middle;\n",
       "    }\n",
       "\n",
       "    .dataframe tbody tr th {\n",
       "        vertical-align: top;\n",
       "    }\n",
       "\n",
       "    .dataframe thead th {\n",
       "        text-align: right;\n",
       "    }\n",
       "</style>\n",
       "<table border=\"1\" class=\"dataframe\">\n",
       "  <thead>\n",
       "    <tr style=\"text-align: right;\">\n",
       "      <th></th>\n",
       "      <th>user_id</th>\n",
       "      <th>occurred_at</th>\n",
       "      <th>event_type</th>\n",
       "      <th>event_name</th>\n",
       "      <th>location</th>\n",
       "      <th>device</th>\n",
       "      <th>user_type</th>\n",
       "    </tr>\n",
       "  </thead>\n",
       "  <tbody>\n",
       "    <tr>\n",
       "      <th>0</th>\n",
       "      <td>10522.0</td>\n",
       "      <td>2014-05-02 11:02:39</td>\n",
       "      <td>engagement</td>\n",
       "      <td>login</td>\n",
       "      <td>Japan</td>\n",
       "      <td>dell inspiron notebook</td>\n",
       "      <td>3.0</td>\n",
       "    </tr>\n",
       "    <tr>\n",
       "      <th>1</th>\n",
       "      <td>10522.0</td>\n",
       "      <td>2014-05-02 11:02:53</td>\n",
       "      <td>engagement</td>\n",
       "      <td>home_page</td>\n",
       "      <td>Japan</td>\n",
       "      <td>dell inspiron notebook</td>\n",
       "      <td>3.0</td>\n",
       "    </tr>\n",
       "    <tr>\n",
       "      <th>2</th>\n",
       "      <td>10522.0</td>\n",
       "      <td>2014-05-02 11:03:28</td>\n",
       "      <td>engagement</td>\n",
       "      <td>like_message</td>\n",
       "      <td>Japan</td>\n",
       "      <td>dell inspiron notebook</td>\n",
       "      <td>3.0</td>\n",
       "    </tr>\n",
       "    <tr>\n",
       "      <th>3</th>\n",
       "      <td>10522.0</td>\n",
       "      <td>2014-05-02 11:04:09</td>\n",
       "      <td>engagement</td>\n",
       "      <td>view_inbox</td>\n",
       "      <td>Japan</td>\n",
       "      <td>dell inspiron notebook</td>\n",
       "      <td>3.0</td>\n",
       "    </tr>\n",
       "    <tr>\n",
       "      <th>4</th>\n",
       "      <td>10522.0</td>\n",
       "      <td>2014-05-02 11:03:16</td>\n",
       "      <td>engagement</td>\n",
       "      <td>search_run</td>\n",
       "      <td>Japan</td>\n",
       "      <td>dell inspiron notebook</td>\n",
       "      <td>3.0</td>\n",
       "    </tr>\n",
       "  </tbody>\n",
       "</table>\n",
       "</div>"
      ],
      "text/plain": [
       "   user_id          occurred_at  event_type    event_name location  \\\n",
       "0  10522.0  2014-05-02 11:02:39  engagement         login    Japan   \n",
       "1  10522.0  2014-05-02 11:02:53  engagement     home_page    Japan   \n",
       "2  10522.0  2014-05-02 11:03:28  engagement  like_message    Japan   \n",
       "3  10522.0  2014-05-02 11:04:09  engagement    view_inbox    Japan   \n",
       "4  10522.0  2014-05-02 11:03:16  engagement    search_run    Japan   \n",
       "\n",
       "                   device  user_type  \n",
       "0  dell inspiron notebook        3.0  \n",
       "1  dell inspiron notebook        3.0  \n",
       "2  dell inspiron notebook        3.0  \n",
       "3  dell inspiron notebook        3.0  \n",
       "4  dell inspiron notebook        3.0  "
      ]
     },
     "execution_count": 4,
     "metadata": {},
     "output_type": "execute_result"
    }
   ],
   "source": [
    "events.head()"
   ]
  },
  {
   "cell_type": "code",
   "execution_count": 5,
   "metadata": {},
   "outputs": [
    {
     "data": {
      "text/html": [
       "<div>\n",
       "<style scoped>\n",
       "    .dataframe tbody tr th:only-of-type {\n",
       "        vertical-align: middle;\n",
       "    }\n",
       "\n",
       "    .dataframe tbody tr th {\n",
       "        vertical-align: top;\n",
       "    }\n",
       "\n",
       "    .dataframe thead th {\n",
       "        text-align: right;\n",
       "    }\n",
       "</style>\n",
       "<table border=\"1\" class=\"dataframe\">\n",
       "  <thead>\n",
       "    <tr style=\"text-align: right;\">\n",
       "      <th></th>\n",
       "      <th>user_id</th>\n",
       "      <th>occurred_at</th>\n",
       "      <th>action</th>\n",
       "      <th>user_type</th>\n",
       "    </tr>\n",
       "  </thead>\n",
       "  <tbody>\n",
       "    <tr>\n",
       "      <th>0</th>\n",
       "      <td>0.0</td>\n",
       "      <td>2014-05-06 09:30:00</td>\n",
       "      <td>sent_weekly_digest</td>\n",
       "      <td>1.0</td>\n",
       "    </tr>\n",
       "    <tr>\n",
       "      <th>1</th>\n",
       "      <td>0.0</td>\n",
       "      <td>2014-05-13 09:30:00</td>\n",
       "      <td>sent_weekly_digest</td>\n",
       "      <td>1.0</td>\n",
       "    </tr>\n",
       "    <tr>\n",
       "      <th>2</th>\n",
       "      <td>0.0</td>\n",
       "      <td>2014-05-20 09:30:00</td>\n",
       "      <td>sent_weekly_digest</td>\n",
       "      <td>1.0</td>\n",
       "    </tr>\n",
       "    <tr>\n",
       "      <th>3</th>\n",
       "      <td>0.0</td>\n",
       "      <td>2014-05-27 09:30:00</td>\n",
       "      <td>sent_weekly_digest</td>\n",
       "      <td>1.0</td>\n",
       "    </tr>\n",
       "    <tr>\n",
       "      <th>4</th>\n",
       "      <td>0.0</td>\n",
       "      <td>2014-06-03 09:30:00</td>\n",
       "      <td>sent_weekly_digest</td>\n",
       "      <td>1.0</td>\n",
       "    </tr>\n",
       "  </tbody>\n",
       "</table>\n",
       "</div>"
      ],
      "text/plain": [
       "   user_id          occurred_at              action  user_type\n",
       "0      0.0  2014-05-06 09:30:00  sent_weekly_digest        1.0\n",
       "1      0.0  2014-05-13 09:30:00  sent_weekly_digest        1.0\n",
       "2      0.0  2014-05-20 09:30:00  sent_weekly_digest        1.0\n",
       "3      0.0  2014-05-27 09:30:00  sent_weekly_digest        1.0\n",
       "4      0.0  2014-06-03 09:30:00  sent_weekly_digest        1.0"
      ]
     },
     "execution_count": 5,
     "metadata": {},
     "output_type": "execute_result"
    }
   ],
   "source": [
    "emails.head()"
   ]
  },
  {
   "cell_type": "code",
   "execution_count": 6,
   "metadata": {},
   "outputs": [
    {
     "data": {
      "text/html": [
       "<div>\n",
       "<style scoped>\n",
       "    .dataframe tbody tr th:only-of-type {\n",
       "        vertical-align: middle;\n",
       "    }\n",
       "\n",
       "    .dataframe tbody tr th {\n",
       "        vertical-align: top;\n",
       "    }\n",
       "\n",
       "    .dataframe thead th {\n",
       "        text-align: right;\n",
       "    }\n",
       "</style>\n",
       "<table border=\"1\" class=\"dataframe\">\n",
       "  <thead>\n",
       "    <tr style=\"text-align: right;\">\n",
       "      <th></th>\n",
       "      <th>period_id</th>\n",
       "      <th>time_id</th>\n",
       "      <th>pst_start</th>\n",
       "      <th>pst_end</th>\n",
       "      <th>utc_start</th>\n",
       "      <th>utc_end</th>\n",
       "    </tr>\n",
       "  </thead>\n",
       "  <tbody>\n",
       "    <tr>\n",
       "      <th>0</th>\n",
       "      <td>1.0</td>\n",
       "      <td>2013-01-01 00:00:00</td>\n",
       "      <td>2013-01-01 00:00:00</td>\n",
       "      <td>2013-01-02 00:00:00</td>\n",
       "      <td>2013-01-01 08:00:00</td>\n",
       "      <td>2013-01-02 08:00:00</td>\n",
       "    </tr>\n",
       "    <tr>\n",
       "      <th>1</th>\n",
       "      <td>1.0</td>\n",
       "      <td>2013-01-02 00:00:00</td>\n",
       "      <td>2013-01-02 00:00:00</td>\n",
       "      <td>2013-01-03 00:00:00</td>\n",
       "      <td>2013-01-02 08:00:00</td>\n",
       "      <td>2013-01-03 08:00:00</td>\n",
       "    </tr>\n",
       "    <tr>\n",
       "      <th>2</th>\n",
       "      <td>1.0</td>\n",
       "      <td>2013-01-03 00:00:00</td>\n",
       "      <td>2013-01-03 00:00:00</td>\n",
       "      <td>2013-01-04 00:00:00</td>\n",
       "      <td>2013-01-03 08:00:00</td>\n",
       "      <td>2013-01-04 08:00:00</td>\n",
       "    </tr>\n",
       "    <tr>\n",
       "      <th>3</th>\n",
       "      <td>1.0</td>\n",
       "      <td>2013-01-04 00:00:00</td>\n",
       "      <td>2013-01-04 00:00:00</td>\n",
       "      <td>2013-01-05 00:00:00</td>\n",
       "      <td>2013-01-04 08:00:00</td>\n",
       "      <td>2013-01-05 08:00:00</td>\n",
       "    </tr>\n",
       "    <tr>\n",
       "      <th>4</th>\n",
       "      <td>1.0</td>\n",
       "      <td>2013-01-05 00:00:00</td>\n",
       "      <td>2013-01-05 00:00:00</td>\n",
       "      <td>2013-01-06 00:00:00</td>\n",
       "      <td>2013-01-05 08:00:00</td>\n",
       "      <td>2013-01-06 08:00:00</td>\n",
       "    </tr>\n",
       "  </tbody>\n",
       "</table>\n",
       "</div>"
      ],
      "text/plain": [
       "   period_id              time_id            pst_start              pst_end  \\\n",
       "0        1.0  2013-01-01 00:00:00  2013-01-01 00:00:00  2013-01-02 00:00:00   \n",
       "1        1.0  2013-01-02 00:00:00  2013-01-02 00:00:00  2013-01-03 00:00:00   \n",
       "2        1.0  2013-01-03 00:00:00  2013-01-03 00:00:00  2013-01-04 00:00:00   \n",
       "3        1.0  2013-01-04 00:00:00  2013-01-04 00:00:00  2013-01-05 00:00:00   \n",
       "4        1.0  2013-01-05 00:00:00  2013-01-05 00:00:00  2013-01-06 00:00:00   \n",
       "\n",
       "             utc_start              utc_end  \n",
       "0  2013-01-01 08:00:00  2013-01-02 08:00:00  \n",
       "1  2013-01-02 08:00:00  2013-01-03 08:00:00  \n",
       "2  2013-01-03 08:00:00  2013-01-04 08:00:00  \n",
       "3  2013-01-04 08:00:00  2013-01-05 08:00:00  \n",
       "4  2013-01-05 08:00:00  2013-01-06 08:00:00  "
      ]
     },
     "execution_count": 6,
     "metadata": {},
     "output_type": "execute_result"
    }
   ],
   "source": [
    "rollup_periods.head()"
   ]
  },
  {
   "cell_type": "markdown",
   "metadata": {},
   "source": [
    "#### Hypothesis 1: The reduction in engaged users is caused by an event preventing users from being engaged."
   ]
  },
  {
   "cell_type": "markdown",
   "metadata": {},
   "source": [
    "While there is no United States holiday during this time period, there are holidays within this time period in smaller countries, such as Morroco and Peru. It will be important to look at the makeup of the state of the users, as well as more information on the active users."
   ]
  },
  {
   "cell_type": "code",
   "execution_count": 7,
   "metadata": {},
   "outputs": [
    {
     "data": {
      "text/plain": [
       "user_id         9381\n",
       "created_at      9381\n",
       "company_id      9381\n",
       "language        9381\n",
       "activated_at    9381\n",
       "state           9381\n",
       "dtype: int64"
      ]
     },
     "execution_count": 7,
     "metadata": {},
     "output_type": "execute_result"
    }
   ],
   "source": [
    "#Finding the number of active users\n",
    "users.loc[users['state'] == 'active'].count()"
   ]
  },
  {
   "cell_type": "code",
   "execution_count": 8,
   "metadata": {},
   "outputs": [
    {
     "data": {
      "text/plain": [
       "user_id         9685\n",
       "created_at      9685\n",
       "company_id      9685\n",
       "language        9685\n",
       "activated_at       0\n",
       "state           9685\n",
       "dtype: int64"
      ]
     },
     "execution_count": 8,
     "metadata": {},
     "output_type": "execute_result"
    }
   ],
   "source": [
    "#Finding the number of pending users\n",
    "users.loc[users['state'] == 'pending'].count()"
   ]
  },
  {
   "cell_type": "markdown",
   "metadata": {},
   "source": [
    "There are 9381 active users and 9685 pending users. Next, where do the active users live? This will provide insight as to whether there is a national holiday."
   ]
  },
  {
   "cell_type": "code",
   "execution_count": 9,
   "metadata": {},
   "outputs": [
    {
     "data": {
      "image/png": "[encoded data removed]",
      "text/plain": [
       "<Figure size 1080x360 with 1 Axes>"
      ]
     },
     "metadata": {
      "needs_background": "light"
     },
     "output_type": "display_data"
    }
   ],
   "source": [
    "#Finding the number of active users per country\n",
    "users_events = pd.merge(users,\n",
    "                 events[['user_id', 'location']],\n",
    "                 on='user_id')\n",
    "users_events_active = users_events.loc[users_events['state'] == 'active']\n",
    "unique_elements, counts_elements = np.unique(users_events_active['location'], return_counts=True)\n",
    "\n",
    "plt.figure(figsize=(15,5))\n",
    "plt.bar(unique_elements, counts_elements, align='center', alpha=0.5)\n",
    "plt.xticks(rotation=90)\n",
    "plt.ylabel('Number of Active Users')\n",
    "plt.show()"
   ]
  },
  {
   "cell_type": "markdown",
   "metadata": {},
   "source": [
    "Most of the active users (over 8,000) are from the United States. Some other countries with around 2,000 active users are Japan, Germany, and France. There are no national holidays during this week in these countries.\n",
    "\n",
    "However, the end of July/beginning of August is a good time for a vacation in these countries. Next, to determine if the drop in engagement was due to an increase in active users vacationing, we can look at the rate of an activity. What are the activities having to do with emails?"
   ]
  },
  {
   "cell_type": "code",
   "execution_count": 10,
   "metadata": {},
   "outputs": [
    {
     "data": {
      "text/plain": [
       "array(['sent_weekly_digest', 'email_open', 'email_clickthrough',\n",
       "       'sent_reengagement_email'], dtype=object)"
      ]
     },
     "execution_count": 10,
     "metadata": {},
     "output_type": "execute_result"
    }
   ],
   "source": [
    "#Looking at the email activity\n",
    "emails['action'].unique()"
   ]
  },
  {
   "cell_type": "markdown",
   "metadata": {},
   "source": [
    "Out of the action options for email activity, opening emails is a good assessment of email activity of the active users."
   ]
  },
  {
   "cell_type": "code",
   "execution_count": 11,
   "metadata": {},
   "outputs": [
    {
     "name": "stderr",
     "output_type": "stream",
     "text": [
      "/Users/kendallhoover/miniconda3/envs/insightproject/lib/python3.7/site-packages/ipykernel_launcher.py:3: SettingWithCopyWarning: \n",
      "A value is trying to be set on a copy of a slice from a DataFrame.\n",
      "Try using .loc[row_indexer,col_indexer] = value instead\n",
      "\n",
      "See the caveats in the documentation: http://pandas.pydata.org/pandas-docs/stable/indexing.html#indexing-view-versus-copy\n",
      "  This is separate from the ipykernel package so we can avoid doing imports until\n"
     ]
    },
    {
     "data": {
      "text/html": [
       "<div>\n",
       "<style scoped>\n",
       "    .dataframe tbody tr th:only-of-type {\n",
       "        vertical-align: middle;\n",
       "    }\n",
       "\n",
       "    .dataframe tbody tr th {\n",
       "        vertical-align: top;\n",
       "    }\n",
       "\n",
       "    .dataframe thead th {\n",
       "        text-align: right;\n",
       "    }\n",
       "</style>\n",
       "<table border=\"1\" class=\"dataframe\">\n",
       "  <thead>\n",
       "    <tr style=\"text-align: right;\">\n",
       "      <th></th>\n",
       "      <th>count</th>\n",
       "    </tr>\n",
       "    <tr>\n",
       "      <th>occurred_at</th>\n",
       "      <th></th>\n",
       "    </tr>\n",
       "  </thead>\n",
       "  <tbody>\n",
       "    <tr>\n",
       "      <th>2014-06-03 09:30:25</th>\n",
       "      <td>1</td>\n",
       "    </tr>\n",
       "    <tr>\n",
       "      <th>2014-06-10 09:30:24</th>\n",
       "      <td>1</td>\n",
       "    </tr>\n",
       "    <tr>\n",
       "      <th>2014-06-17 09:30:23</th>\n",
       "      <td>1</td>\n",
       "    </tr>\n",
       "    <tr>\n",
       "      <th>2014-07-29 09:30:35</th>\n",
       "      <td>1</td>\n",
       "    </tr>\n",
       "    <tr>\n",
       "      <th>2014-08-19 09:30:38</th>\n",
       "      <td>1</td>\n",
       "    </tr>\n",
       "  </tbody>\n",
       "</table>\n",
       "</div>"
      ],
      "text/plain": [
       "                     count\n",
       "occurred_at               \n",
       "2014-06-03 09:30:25      1\n",
       "2014-06-10 09:30:24      1\n",
       "2014-06-17 09:30:23      1\n",
       "2014-07-29 09:30:35      1\n",
       "2014-08-19 09:30:38      1"
      ]
     },
     "execution_count": 11,
     "metadata": {},
     "output_type": "execute_result"
    }
   ],
   "source": [
    "#Creating a new table of opening email activity\n",
    "email_open = emails.loc[emails['action'] == 'email_open']\n",
    "email_open['occurred_at'] = pd.to_datetime(email_open['occurred_at'])\n",
    "email_open = email_open.set_index(['occurred_at'])\n",
    "email_open = email_open.drop(['user_id','action','user_type'], axis=1)\n",
    "email_open['count']=1\n",
    "email_open.head()"
   ]
  },
  {
   "cell_type": "code",
   "execution_count": 12,
   "metadata": {},
   "outputs": [
    {
     "name": "stderr",
     "output_type": "stream",
     "text": [
      "/Users/kendallhoover/miniconda3/envs/insightproject/lib/python3.7/site-packages/ipykernel_launcher.py:2: FutureWarning: how in .resample() is deprecated\n",
      "the new syntax is .resample(...).sum()\n",
      "  \n"
     ]
    }
   ],
   "source": [
    "#Resampling the table of email openings weekly\n",
    "email_open = email_open['count'].resample('W', how='sum')"
   ]
  },
  {
   "cell_type": "code",
   "execution_count": 13,
   "metadata": {},
   "outputs": [
    {
     "data": {
      "text/plain": [
       "occurred_at\n",
       "2014-05-04     332\n",
       "2014-05-11     919\n",
       "2014-05-18     971\n",
       "2014-05-25     995\n",
       "2014-06-01    1026\n",
       "Freq: W-SUN, Name: count, dtype: int64"
      ]
     },
     "execution_count": 13,
     "metadata": {},
     "output_type": "execute_result"
    }
   ],
   "source": [
    "email_open.head()"
   ]
  },
  {
   "cell_type": "code",
   "execution_count": 14,
   "metadata": {},
   "outputs": [
    {
     "data": {
      "text/plain": [
       "Text(0, 0.5, 'Number of Emails Opened')"
      ]
     },
     "execution_count": 14,
     "metadata": {},
     "output_type": "execute_result"
    },
    {
     "data": {
      "image/png": "[encoded data removed]",
      "text/plain": [
       "<Figure size 1080x360 with 1 Axes>"
      ]
     },
     "metadata": {
      "needs_background": "light"
     },
     "output_type": "display_data"
    }
   ],
   "source": [
    "#Plotting the number of emails opened over time\n",
    "plt.figure(figsize=(15,5))\n",
    "email_open.plot.line()\n",
    "plt.xlabel('Date')\n",
    "plt.ylabel('Number of Emails Opened')"
   ]
  },
  {
   "cell_type": "markdown",
   "metadata": {},
   "source": [
    "Interestingly, email opening activity was on the rise during this time period. This is opposite to what most likely happens when many users go on vacation."
   ]
  },
  {
   "cell_type": "markdown",
   "metadata": {},
   "source": [
    "#### Hypothesis 2: The decrease in engaged users is due to a feature failure or system break."
   ]
  },
  {
   "cell_type": "markdown",
   "metadata": {},
   "source": [
    "To determine if this decrease in engaged users is due to a feature failure, it is important to look at the other activity of the active users. Email clickthrough is another activity of engaged users."
   ]
  },
  {
   "cell_type": "code",
   "execution_count": 15,
   "metadata": {},
   "outputs": [
    {
     "name": "stderr",
     "output_type": "stream",
     "text": [
      "/Users/kendallhoover/miniconda3/envs/insightproject/lib/python3.7/site-packages/ipykernel_launcher.py:3: SettingWithCopyWarning: \n",
      "A value is trying to be set on a copy of a slice from a DataFrame.\n",
      "Try using .loc[row_indexer,col_indexer] = value instead\n",
      "\n",
      "See the caveats in the documentation: http://pandas.pydata.org/pandas-docs/stable/indexing.html#indexing-view-versus-copy\n",
      "  This is separate from the ipykernel package so we can avoid doing imports until\n"
     ]
    },
    {
     "data": {
      "text/html": [
       "<div>\n",
       "<style scoped>\n",
       "    .dataframe tbody tr th:only-of-type {\n",
       "        vertical-align: middle;\n",
       "    }\n",
       "\n",
       "    .dataframe tbody tr th {\n",
       "        vertical-align: top;\n",
       "    }\n",
       "\n",
       "    .dataframe thead th {\n",
       "        text-align: right;\n",
       "    }\n",
       "</style>\n",
       "<table border=\"1\" class=\"dataframe\">\n",
       "  <thead>\n",
       "    <tr style=\"text-align: right;\">\n",
       "      <th></th>\n",
       "      <th>count</th>\n",
       "    </tr>\n",
       "    <tr>\n",
       "      <th>occurred_at</th>\n",
       "      <th></th>\n",
       "    </tr>\n",
       "  </thead>\n",
       "  <tbody>\n",
       "    <tr>\n",
       "      <th>2014-05-13 09:31:07</th>\n",
       "      <td>1</td>\n",
       "    </tr>\n",
       "    <tr>\n",
       "      <th>2014-05-20 09:31:00</th>\n",
       "      <td>1</td>\n",
       "    </tr>\n",
       "    <tr>\n",
       "      <th>2014-06-24 09:31:06</th>\n",
       "      <td>1</td>\n",
       "    </tr>\n",
       "    <tr>\n",
       "      <th>2014-07-01 09:30:41</th>\n",
       "      <td>1</td>\n",
       "    </tr>\n",
       "    <tr>\n",
       "      <th>2014-07-29 09:30:53</th>\n",
       "      <td>1</td>\n",
       "    </tr>\n",
       "  </tbody>\n",
       "</table>\n",
       "</div>"
      ],
      "text/plain": [
       "                     count\n",
       "occurred_at               \n",
       "2014-05-13 09:31:07      1\n",
       "2014-05-20 09:31:00      1\n",
       "2014-06-24 09:31:06      1\n",
       "2014-07-01 09:30:41      1\n",
       "2014-07-29 09:30:53      1"
      ]
     },
     "execution_count": 15,
     "metadata": {},
     "output_type": "execute_result"
    }
   ],
   "source": [
    "#Creating a new table of email clickthrough\n",
    "clickthrough = emails.loc[emails['action'] == 'email_clickthrough']\n",
    "clickthrough['occurred_at'] = pd.to_datetime(clickthrough['occurred_at'])\n",
    "clickthrough = clickthrough.set_index(['occurred_at'])\n",
    "clickthrough = clickthrough.drop(['user_id','action','user_type'], axis=1)\n",
    "clickthrough['count']=1\n",
    "clickthrough.head()"
   ]
  },
  {
   "cell_type": "code",
   "execution_count": 16,
   "metadata": {},
   "outputs": [],
   "source": [
    "#Resampling the table of email clickthroughs weekly\n",
    "clickthrough = clickthrough['count'].resample('W').sum()"
   ]
  },
  {
   "cell_type": "code",
   "execution_count": 17,
   "metadata": {},
   "outputs": [
    {
     "data": {
      "text/plain": [
       "Text(0, 0.5, 'Number of Email Clickthroughs')"
      ]
     },
     "execution_count": 17,
     "metadata": {},
     "output_type": "execute_result"
    },
    {
     "data": {
      "image/png": "[encoded data removed]",
      "text/plain": [
       "<Figure size 1080x360 with 1 Axes>"
      ]
     },
     "metadata": {
      "needs_background": "light"
     },
     "output_type": "display_data"
    }
   ],
   "source": [
    "#Plotting the number of emails opened over time\n",
    "plt.figure(figsize=(15,5))\n",
    "clickthrough.plot.line()\n",
    "plt.xlabel('Date')\n",
    "plt.ylabel('Number of Email Clickthroughs')"
   ]
  },
  {
   "cell_type": "markdown",
   "metadata": {},
   "source": [
    "The user email clickthroughs also decreased during this time period of user engagement decrease. It is important to next analyze specific events more closely."
   ]
  },
  {
   "cell_type": "code",
   "execution_count": 18,
   "metadata": {},
   "outputs": [
    {
     "name": "stderr",
     "output_type": "stream",
     "text": [
      "/Users/kendallhoover/miniconda3/envs/insightproject/lib/python3.7/site-packages/ipykernel_launcher.py:3: SettingWithCopyWarning: \n",
      "A value is trying to be set on a copy of a slice from a DataFrame.\n",
      "Try using .loc[row_indexer,col_indexer] = value instead\n",
      "\n",
      "See the caveats in the documentation: http://pandas.pydata.org/pandas-docs/stable/indexing.html#indexing-view-versus-copy\n",
      "  This is separate from the ipykernel package so we can avoid doing imports until\n"
     ]
    },
    {
     "data": {
      "text/html": [
       "<div>\n",
       "<style scoped>\n",
       "    .dataframe tbody tr th:only-of-type {\n",
       "        vertical-align: middle;\n",
       "    }\n",
       "\n",
       "    .dataframe tbody tr th {\n",
       "        vertical-align: top;\n",
       "    }\n",
       "\n",
       "    .dataframe thead th {\n",
       "        text-align: right;\n",
       "    }\n",
       "</style>\n",
       "<table border=\"1\" class=\"dataframe\">\n",
       "  <thead>\n",
       "    <tr style=\"text-align: right;\">\n",
       "      <th></th>\n",
       "      <th>event_name</th>\n",
       "      <th>count</th>\n",
       "    </tr>\n",
       "    <tr>\n",
       "      <th>occurred_at</th>\n",
       "      <th></th>\n",
       "      <th></th>\n",
       "    </tr>\n",
       "  </thead>\n",
       "  <tbody>\n",
       "    <tr>\n",
       "      <th>2014-05-02 11:02:39</th>\n",
       "      <td>login</td>\n",
       "      <td>1</td>\n",
       "    </tr>\n",
       "    <tr>\n",
       "      <th>2014-05-02 11:02:53</th>\n",
       "      <td>home_page</td>\n",
       "      <td>1</td>\n",
       "    </tr>\n",
       "    <tr>\n",
       "      <th>2014-05-02 11:03:28</th>\n",
       "      <td>like_message</td>\n",
       "      <td>1</td>\n",
       "    </tr>\n",
       "    <tr>\n",
       "      <th>2014-05-02 11:04:09</th>\n",
       "      <td>view_inbox</td>\n",
       "      <td>1</td>\n",
       "    </tr>\n",
       "    <tr>\n",
       "      <th>2014-05-02 11:03:16</th>\n",
       "      <td>search_run</td>\n",
       "      <td>1</td>\n",
       "    </tr>\n",
       "  </tbody>\n",
       "</table>\n",
       "</div>"
      ],
      "text/plain": [
       "                       event_name  count\n",
       "occurred_at                             \n",
       "2014-05-02 11:02:39         login      1\n",
       "2014-05-02 11:02:53     home_page      1\n",
       "2014-05-02 11:03:28  like_message      1\n",
       "2014-05-02 11:04:09    view_inbox      1\n",
       "2014-05-02 11:03:16    search_run      1"
      ]
     },
     "execution_count": 18,
     "metadata": {},
     "output_type": "execute_result"
    }
   ],
   "source": [
    "#Creating a new table of events\n",
    "new_events = events.loc[events['event_type'] == 'engagement']\n",
    "new_events['occurred_at'] = pd.to_datetime(new_events['occurred_at'])\n",
    "new_events = new_events.set_index(['occurred_at'])\n",
    "new_events = new_events.drop(['user_id','event_type','location','device','user_type'], axis=1)\n",
    "new_events['count']=1\n",
    "new_events.head()"
   ]
  },
  {
   "cell_type": "code",
   "execution_count": 19,
   "metadata": {},
   "outputs": [
    {
     "data": {
      "text/plain": [
       "array(['login', 'home_page', 'like_message', 'view_inbox', 'search_run',\n",
       "       'send_message', 'search_autocomplete', 'search_click_result_10',\n",
       "       'search_click_result_7', 'search_click_result_8',\n",
       "       'search_click_result_1', 'search_click_result_3',\n",
       "       'search_click_result_2', 'search_click_result_5',\n",
       "       'search_click_result_6', 'search_click_result_9',\n",
       "       'search_click_result_4'], dtype=object)"
      ]
     },
     "execution_count": 19,
     "metadata": {},
     "output_type": "execute_result"
    }
   ],
   "source": [
    "new_events.event_name.unique()"
   ]
  },
  {
   "cell_type": "code",
   "execution_count": 20,
   "metadata": {},
   "outputs": [],
   "source": [
    "#Splitting events table into smaller events tables\n",
    "new_events_login = new_events.loc[new_events['event_name'] == 'login']\n",
    "new_events_home_page = new_events.loc[new_events['event_name'] == 'home_page']\n",
    "new_events_like_message = new_events.loc[new_events['event_name'] == 'like_message']\n",
    "new_events_view_inbox = new_events.loc[new_events['event_name'] == 'view_inbox']\n",
    "new_events_search_run = new_events.loc[new_events['event_name'] == 'search_run']\n",
    "new_events_search_autocomplete = new_events.loc[new_events['event_name'] == 'search_autocomplete']\n",
    "new_events_search_click_result_1 = new_events.loc[new_events['event_name'] == 'search_click_result_1']\n",
    "new_events_search_click_result_2 = new_events.loc[new_events['event_name'] == 'search_click_result_2']\n",
    "new_events_search_click_result_3 = new_events.loc[new_events['event_name'] == 'search_click_result_3']\n",
    "new_events_search_click_result_4 = new_events.loc[new_events['event_name'] == 'search_click_result_4']\n",
    "new_events_search_click_result_5 = new_events.loc[new_events['event_name'] == 'search_click_result_5']\n",
    "new_events_search_click_result_6 = new_events.loc[new_events['event_name'] == 'search_click_result_6']\n",
    "new_events_search_click_result_7 = new_events.loc[new_events['event_name'] == 'search_click_result_7']\n",
    "new_events_search_click_result_8 = new_events.loc[new_events['event_name'] == 'search_click_result_8']\n",
    "new_events_search_click_result_9 = new_events.loc[new_events['event_name'] == 'search_click_result_9']\n",
    "new_events_search_click_result_10 = new_events.loc[new_events['event_name'] == 'search_click_result_10']"
   ]
  },
  {
   "cell_type": "code",
   "execution_count": 21,
   "metadata": {},
   "outputs": [],
   "source": [
    "#Resampling these new events tables weekly\n",
    "new_events_login = new_events_login['count'].resample('W').sum()\n",
    "new_events_home_page = new_events_home_page['count'].resample('W').sum()\n",
    "new_events_like_message = new_events_like_message['count'].resample('W').sum()\n",
    "new_events_view_inbox = new_events_view_inbox['count'].resample('W').sum()\n",
    "new_events_search_run = new_events_search_run['count'].resample('W').sum()\n",
    "new_events_search_autocomplete = new_events_search_autocomplete['count'].resample('W').sum()\n",
    "new_events_search_click_result_1 = new_events_search_click_result_1['count'].resample('W').sum()\n",
    "new_events_search_click_result_2 = new_events_search_click_result_2['count'].resample('W').sum()\n",
    "new_events_search_click_result_3 = new_events_search_click_result_3['count'].resample('W').sum()\n",
    "new_events_search_click_result_4 = new_events_search_click_result_4['count'].resample('W').sum()\n",
    "new_events_search_click_result_5 = new_events_search_click_result_5['count'].resample('W').sum()\n",
    "new_events_search_click_result_6 = new_events_search_click_result_6['count'].resample('W').sum()\n",
    "new_events_search_click_result_7 = new_events_search_click_result_7['count'].resample('W').sum()\n",
    "new_events_search_click_result_8 = new_events_search_click_result_8['count'].resample('W').sum()\n",
    "new_events_search_click_result_9 = new_events_search_click_result_9['count'].resample('W').sum()\n",
    "new_events_search_click_result_10 = new_events_search_click_result_10['count'].resample('W').sum()"
   ]
  },
  {
   "cell_type": "code",
   "execution_count": 22,
   "metadata": {},
   "outputs": [
    {
     "data": {
      "text/plain": [
       "<matplotlib.legend.Legend at 0x1a2c59ba90>"
      ]
     },
     "execution_count": 22,
     "metadata": {},
     "output_type": "execute_result"
    },
    {
     "data": {
      "image/png": "[encoded data removed]",
      "text/plain": [
       "<Figure size 1080x360 with 1 Axes>"
      ]
     },
     "metadata": {
      "needs_background": "light"
     },
     "output_type": "display_data"
    }
   ],
   "source": [
    "#Plotting the number of various email activities over time\n",
    "plt.figure(figsize=(15,5))\n",
    "new_events_login.plot.line(label='logins')\n",
    "new_events_home_page.plot.line(label='home page loads')\n",
    "new_events_like_message.plot.line(label='message likes')\n",
    "new_events_view_inbox.plot.line(label='inbox viewings')\n",
    "new_events_search_run.plot.line(label='search queries')\n",
    "new_events_search_autocomplete.plot.line(label='autocomplete search result clicks')\n",
    "new_events_search_click_result_1.plot.line(label='search result #1 clicks')\n",
    "new_events_search_click_result_2.plot.line(label='search result #2 clicks')\n",
    "new_events_search_click_result_3.plot.line(label='search result #3 clicks')\n",
    "new_events_search_click_result_4.plot.line(label='search result #4 clicks')\n",
    "new_events_search_click_result_5.plot.line(label='search result #5 clicks')\n",
    "new_events_search_click_result_6.plot.line(label='search result #6 clicks')\n",
    "new_events_search_click_result_7.plot.line(label='search result #7 clicks')\n",
    "new_events_search_click_result_8.plot.line(label='search result #8 clicks')\n",
    "new_events_search_click_result_9.plot.line(label='search result #9 clicks')\n",
    "new_events_search_click_result_10.plot.line(label='search result #10 clicks')\n",
    "\n",
    "\n",
    "plt.xlabel('Date')\n",
    "plt.ylabel('Number of Events')\n",
    "plt.legend(loc='upper left')"
   ]
  },
  {
   "cell_type": "markdown",
   "metadata": {},
   "source": [
    "Looking at this data, there is a decrease in the following events during the timeframe of interest: loading of the home page, logging into Yammer, viewing email inboxes, liking a message, performing a search query, and clicking on the 9th search result. Thus, the decrease in the email clickthrough rates is a cause of a decrease in user engagement. \n",
    "\n",
    "__I recommend that we look into these email links to ensure there are not any issues.__"
   ]
  }
 ],
 "metadata": {
  "kernelspec": {
   "display_name": "insightproject",
   "language": "python",
   "name": "insightproject"
  },
  "language_info": {
   "codemirror_mode": {
    "name": "ipython",
    "version": 3
   },
   "file_extension": ".py",
   "mimetype": "text/x-python",
   "name": "python",
   "nbconvert_exporter": "python",
   "pygments_lexer": "ipython3",
   "version": "3.7.2"
  }
 },
 "nbformat": 4,
 "nbformat_minor": 2
}
