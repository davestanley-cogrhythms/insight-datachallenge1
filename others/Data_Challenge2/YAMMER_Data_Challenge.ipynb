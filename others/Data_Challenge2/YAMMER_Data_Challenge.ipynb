{
 "cells": [
  {
   "cell_type": "markdown",
   "metadata": {},
   "source": [
    "# Yammer\n",
    "## Pouya Sharifi"
   ]
  },
  {
   "cell_type": "code",
   "execution_count": 1,
   "metadata": {},
   "outputs": [],
   "source": [
    "## import libraries\n",
    "import pandas as pd\n",
    "import numpy as np\n",
    "import matplotlib.pyplot as plt\n",
    "import seaborn as sns\n",
    "import datetime as dt\n",
    "import scipy\n",
    "\n",
    "%matplotlib inline"
   ]
  },
  {
   "cell_type": "markdown",
   "metadata": {},
   "source": [
    "## import data"
   ]
  },
  {
   "cell_type": "code",
   "execution_count": 2,
   "metadata": {},
   "outputs": [
    {
     "data": {
      "text/html": [
       "<div>\n",
       "<style scoped>\n",
       "    .dataframe tbody tr th:only-of-type {\n",
       "        vertical-align: middle;\n",
       "    }\n",
       "\n",
       "    .dataframe tbody tr th {\n",
       "        vertical-align: top;\n",
       "    }\n",
       "\n",
       "    .dataframe thead th {\n",
       "        text-align: right;\n",
       "    }\n",
       "</style>\n",
       "<table border=\"1\" class=\"dataframe\">\n",
       "  <thead>\n",
       "    <tr style=\"text-align: right;\">\n",
       "      <th></th>\n",
       "      <th>user_id</th>\n",
       "      <th>occurred_at</th>\n",
       "      <th>action</th>\n",
       "      <th>user_type</th>\n",
       "    </tr>\n",
       "  </thead>\n",
       "  <tbody>\n",
       "    <tr>\n",
       "      <th>0</th>\n",
       "      <td>0.0</td>\n",
       "      <td>2014-05-06 09:30:00</td>\n",
       "      <td>sent_weekly_digest</td>\n",
       "      <td>1.0</td>\n",
       "    </tr>\n",
       "    <tr>\n",
       "      <th>1</th>\n",
       "      <td>0.0</td>\n",
       "      <td>2014-05-13 09:30:00</td>\n",
       "      <td>sent_weekly_digest</td>\n",
       "      <td>1.0</td>\n",
       "    </tr>\n",
       "    <tr>\n",
       "      <th>2</th>\n",
       "      <td>0.0</td>\n",
       "      <td>2014-05-20 09:30:00</td>\n",
       "      <td>sent_weekly_digest</td>\n",
       "      <td>1.0</td>\n",
       "    </tr>\n",
       "    <tr>\n",
       "      <th>3</th>\n",
       "      <td>0.0</td>\n",
       "      <td>2014-05-27 09:30:00</td>\n",
       "      <td>sent_weekly_digest</td>\n",
       "      <td>1.0</td>\n",
       "    </tr>\n",
       "    <tr>\n",
       "      <th>4</th>\n",
       "      <td>0.0</td>\n",
       "      <td>2014-06-03 09:30:00</td>\n",
       "      <td>sent_weekly_digest</td>\n",
       "      <td>1.0</td>\n",
       "    </tr>\n",
       "  </tbody>\n",
       "</table>\n",
       "</div>"
      ],
      "text/plain": [
       "   user_id          occurred_at              action  user_type\n",
       "0      0.0  2014-05-06 09:30:00  sent_weekly_digest        1.0\n",
       "1      0.0  2014-05-13 09:30:00  sent_weekly_digest        1.0\n",
       "2      0.0  2014-05-20 09:30:00  sent_weekly_digest        1.0\n",
       "3      0.0  2014-05-27 09:30:00  sent_weekly_digest        1.0\n",
       "4      0.0  2014-06-03 09:30:00  sent_weekly_digest        1.0"
      ]
     },
     "execution_count": 2,
     "metadata": {},
     "output_type": "execute_result"
    }
   ],
   "source": [
    "email = pd.read_csv(\"yammer_emails.csv\")\n",
    "email.head()"
   ]
  },
  {
   "cell_type": "code",
   "execution_count": 3,
   "metadata": {},
   "outputs": [
    {
     "data": {
      "text/plain": [
       "array(['sent_weekly_digest', 'email_open', 'email_clickthrough',\n",
       "       'sent_reengagement_email'], dtype=object)"
      ]
     },
     "execution_count": 3,
     "metadata": {},
     "output_type": "execute_result"
    }
   ],
   "source": [
    "email['action'].unique()"
   ]
  },
  {
   "cell_type": "code",
   "execution_count": 4,
   "metadata": {},
   "outputs": [
    {
     "data": {
      "text/html": [
       "<div>\n",
       "<style scoped>\n",
       "    .dataframe tbody tr th:only-of-type {\n",
       "        vertical-align: middle;\n",
       "    }\n",
       "\n",
       "    .dataframe tbody tr th {\n",
       "        vertical-align: top;\n",
       "    }\n",
       "\n",
       "    .dataframe thead th {\n",
       "        text-align: right;\n",
       "    }\n",
       "</style>\n",
       "<table border=\"1\" class=\"dataframe\">\n",
       "  <thead>\n",
       "    <tr style=\"text-align: right;\">\n",
       "      <th></th>\n",
       "      <th>user_id</th>\n",
       "      <th>occurred_at</th>\n",
       "      <th>event_type</th>\n",
       "      <th>event_name</th>\n",
       "      <th>location</th>\n",
       "      <th>device</th>\n",
       "      <th>user_type</th>\n",
       "    </tr>\n",
       "  </thead>\n",
       "  <tbody>\n",
       "    <tr>\n",
       "      <th>0</th>\n",
       "      <td>10522.0</td>\n",
       "      <td>2014-05-02 11:02:39</td>\n",
       "      <td>engagement</td>\n",
       "      <td>login</td>\n",
       "      <td>Japan</td>\n",
       "      <td>dell inspiron notebook</td>\n",
       "      <td>3.0</td>\n",
       "    </tr>\n",
       "    <tr>\n",
       "      <th>1</th>\n",
       "      <td>10522.0</td>\n",
       "      <td>2014-05-02 11:02:53</td>\n",
       "      <td>engagement</td>\n",
       "      <td>home_page</td>\n",
       "      <td>Japan</td>\n",
       "      <td>dell inspiron notebook</td>\n",
       "      <td>3.0</td>\n",
       "    </tr>\n",
       "    <tr>\n",
       "      <th>2</th>\n",
       "      <td>10522.0</td>\n",
       "      <td>2014-05-02 11:03:28</td>\n",
       "      <td>engagement</td>\n",
       "      <td>like_message</td>\n",
       "      <td>Japan</td>\n",
       "      <td>dell inspiron notebook</td>\n",
       "      <td>3.0</td>\n",
       "    </tr>\n",
       "    <tr>\n",
       "      <th>3</th>\n",
       "      <td>10522.0</td>\n",
       "      <td>2014-05-02 11:04:09</td>\n",
       "      <td>engagement</td>\n",
       "      <td>view_inbox</td>\n",
       "      <td>Japan</td>\n",
       "      <td>dell inspiron notebook</td>\n",
       "      <td>3.0</td>\n",
       "    </tr>\n",
       "    <tr>\n",
       "      <th>4</th>\n",
       "      <td>10522.0</td>\n",
       "      <td>2014-05-02 11:03:16</td>\n",
       "      <td>engagement</td>\n",
       "      <td>search_run</td>\n",
       "      <td>Japan</td>\n",
       "      <td>dell inspiron notebook</td>\n",
       "      <td>3.0</td>\n",
       "    </tr>\n",
       "  </tbody>\n",
       "</table>\n",
       "</div>"
      ],
      "text/plain": [
       "   user_id          occurred_at  event_type    event_name location  \\\n",
       "0  10522.0  2014-05-02 11:02:39  engagement         login    Japan   \n",
       "1  10522.0  2014-05-02 11:02:53  engagement     home_page    Japan   \n",
       "2  10522.0  2014-05-02 11:03:28  engagement  like_message    Japan   \n",
       "3  10522.0  2014-05-02 11:04:09  engagement    view_inbox    Japan   \n",
       "4  10522.0  2014-05-02 11:03:16  engagement    search_run    Japan   \n",
       "\n",
       "                   device  user_type  \n",
       "0  dell inspiron notebook        3.0  \n",
       "1  dell inspiron notebook        3.0  \n",
       "2  dell inspiron notebook        3.0  \n",
       "3  dell inspiron notebook        3.0  \n",
       "4  dell inspiron notebook        3.0  "
      ]
     },
     "execution_count": 4,
     "metadata": {},
     "output_type": "execute_result"
    }
   ],
   "source": [
    "events = pd.read_csv(\"yammer_events.csv\")\n",
    "events.head()"
   ]
  },
  {
   "cell_type": "code",
   "execution_count": 6,
   "metadata": {},
   "outputs": [
    {
     "data": {
      "text/html": [
       "<div>\n",
       "<style scoped>\n",
       "    .dataframe tbody tr th:only-of-type {\n",
       "        vertical-align: middle;\n",
       "    }\n",
       "\n",
       "    .dataframe tbody tr th {\n",
       "        vertical-align: top;\n",
       "    }\n",
       "\n",
       "    .dataframe thead th {\n",
       "        text-align: right;\n",
       "    }\n",
       "</style>\n",
       "<table border=\"1\" class=\"dataframe\">\n",
       "  <thead>\n",
       "    <tr style=\"text-align: right;\">\n",
       "      <th></th>\n",
       "      <th>user_id</th>\n",
       "      <th>created_at</th>\n",
       "      <th>company_id</th>\n",
       "      <th>language</th>\n",
       "      <th>activated_at</th>\n",
       "      <th>state</th>\n",
       "    </tr>\n",
       "  </thead>\n",
       "  <tbody>\n",
       "    <tr>\n",
       "      <th>0</th>\n",
       "      <td>0.0</td>\n",
       "      <td>2013-01-01 20:59:39</td>\n",
       "      <td>5737.0</td>\n",
       "      <td>english</td>\n",
       "      <td>2013-01-01 21:01:07</td>\n",
       "      <td>active</td>\n",
       "    </tr>\n",
       "    <tr>\n",
       "      <th>1</th>\n",
       "      <td>1.0</td>\n",
       "      <td>2013-01-01 13:07:46</td>\n",
       "      <td>28.0</td>\n",
       "      <td>english</td>\n",
       "      <td>NaN</td>\n",
       "      <td>pending</td>\n",
       "    </tr>\n",
       "    <tr>\n",
       "      <th>2</th>\n",
       "      <td>2.0</td>\n",
       "      <td>2013-01-01 10:59:05</td>\n",
       "      <td>51.0</td>\n",
       "      <td>english</td>\n",
       "      <td>NaN</td>\n",
       "      <td>pending</td>\n",
       "    </tr>\n",
       "    <tr>\n",
       "      <th>3</th>\n",
       "      <td>3.0</td>\n",
       "      <td>2013-01-01 18:40:36</td>\n",
       "      <td>2800.0</td>\n",
       "      <td>german</td>\n",
       "      <td>2013-01-01 18:42:02</td>\n",
       "      <td>active</td>\n",
       "    </tr>\n",
       "    <tr>\n",
       "      <th>4</th>\n",
       "      <td>4.0</td>\n",
       "      <td>2013-01-01 14:37:51</td>\n",
       "      <td>5110.0</td>\n",
       "      <td>indian</td>\n",
       "      <td>2013-01-01 14:39:05</td>\n",
       "      <td>active</td>\n",
       "    </tr>\n",
       "  </tbody>\n",
       "</table>\n",
       "</div>"
      ],
      "text/plain": [
       "   user_id           created_at  company_id language         activated_at  \\\n",
       "0      0.0  2013-01-01 20:59:39      5737.0  english  2013-01-01 21:01:07   \n",
       "1      1.0  2013-01-01 13:07:46        28.0  english                  NaN   \n",
       "2      2.0  2013-01-01 10:59:05        51.0  english                  NaN   \n",
       "3      3.0  2013-01-01 18:40:36      2800.0   german  2013-01-01 18:42:02   \n",
       "4      4.0  2013-01-01 14:37:51      5110.0   indian  2013-01-01 14:39:05   \n",
       "\n",
       "     state  \n",
       "0   active  \n",
       "1  pending  \n",
       "2  pending  \n",
       "3   active  \n",
       "4   active  "
      ]
     },
     "execution_count": 6,
     "metadata": {},
     "output_type": "execute_result"
    }
   ],
   "source": [
    "users = pd.read_csv(\"yammer_users.csv\")\n",
    "users.head()"
   ]
  },
  {
   "cell_type": "code",
   "execution_count": 7,
   "metadata": {},
   "outputs": [
    {
     "data": {
      "text/plain": [
       "(9760, 19066, 6179)"
      ]
     },
     "execution_count": 7,
     "metadata": {},
     "output_type": "execute_result"
    }
   ],
   "source": [
    "events[\"user_id\"].nunique(), users[\"user_id\"].nunique(), email[\"user_id\"].nunique()"
   ]
  },
  {
   "cell_type": "code",
   "execution_count": 10,
   "metadata": {},
   "outputs": [
    {
     "data": {
      "text/plain": [
       "engagement     321575\n",
       "signup_flow     19257\n",
       "Name: event_type, dtype: int64"
      ]
     },
     "execution_count": 10,
     "metadata": {},
     "output_type": "execute_result"
    }
   ],
   "source": [
    "events['event_type'].value_counts()"
   ]
  },
  {
   "cell_type": "code",
   "execution_count": 11,
   "metadata": {},
   "outputs": [
    {
     "data": {
      "text/html": [
       "<div>\n",
       "<style scoped>\n",
       "    .dataframe tbody tr th:only-of-type {\n",
       "        vertical-align: middle;\n",
       "    }\n",
       "\n",
       "    .dataframe tbody tr th {\n",
       "        vertical-align: top;\n",
       "    }\n",
       "\n",
       "    .dataframe thead th {\n",
       "        text-align: right;\n",
       "    }\n",
       "</style>\n",
       "<table border=\"1\" class=\"dataframe\">\n",
       "  <thead>\n",
       "    <tr style=\"text-align: right;\">\n",
       "      <th></th>\n",
       "      <th>user_id</th>\n",
       "      <th>occurred_at</th>\n",
       "      <th>event_type</th>\n",
       "      <th>event_name</th>\n",
       "      <th>location</th>\n",
       "      <th>device</th>\n",
       "      <th>user_type</th>\n",
       "    </tr>\n",
       "  </thead>\n",
       "  <tbody>\n",
       "    <tr>\n",
       "      <th>0</th>\n",
       "      <td>10522.0</td>\n",
       "      <td>2014-05-02 11:02:39</td>\n",
       "      <td>engagement</td>\n",
       "      <td>login</td>\n",
       "      <td>Japan</td>\n",
       "      <td>dell inspiron notebook</td>\n",
       "      <td>3.0</td>\n",
       "    </tr>\n",
       "    <tr>\n",
       "      <th>1</th>\n",
       "      <td>10522.0</td>\n",
       "      <td>2014-05-02 11:02:53</td>\n",
       "      <td>engagement</td>\n",
       "      <td>home_page</td>\n",
       "      <td>Japan</td>\n",
       "      <td>dell inspiron notebook</td>\n",
       "      <td>3.0</td>\n",
       "    </tr>\n",
       "    <tr>\n",
       "      <th>2</th>\n",
       "      <td>10522.0</td>\n",
       "      <td>2014-05-02 11:03:28</td>\n",
       "      <td>engagement</td>\n",
       "      <td>like_message</td>\n",
       "      <td>Japan</td>\n",
       "      <td>dell inspiron notebook</td>\n",
       "      <td>3.0</td>\n",
       "    </tr>\n",
       "    <tr>\n",
       "      <th>3</th>\n",
       "      <td>10522.0</td>\n",
       "      <td>2014-05-02 11:04:09</td>\n",
       "      <td>engagement</td>\n",
       "      <td>view_inbox</td>\n",
       "      <td>Japan</td>\n",
       "      <td>dell inspiron notebook</td>\n",
       "      <td>3.0</td>\n",
       "    </tr>\n",
       "    <tr>\n",
       "      <th>4</th>\n",
       "      <td>10522.0</td>\n",
       "      <td>2014-05-02 11:03:16</td>\n",
       "      <td>engagement</td>\n",
       "      <td>search_run</td>\n",
       "      <td>Japan</td>\n",
       "      <td>dell inspiron notebook</td>\n",
       "      <td>3.0</td>\n",
       "    </tr>\n",
       "  </tbody>\n",
       "</table>\n",
       "</div>"
      ],
      "text/plain": [
       "   user_id          occurred_at  event_type    event_name location  \\\n",
       "0  10522.0  2014-05-02 11:02:39  engagement         login    Japan   \n",
       "1  10522.0  2014-05-02 11:02:53  engagement     home_page    Japan   \n",
       "2  10522.0  2014-05-02 11:03:28  engagement  like_message    Japan   \n",
       "3  10522.0  2014-05-02 11:04:09  engagement    view_inbox    Japan   \n",
       "4  10522.0  2014-05-02 11:03:16  engagement    search_run    Japan   \n",
       "\n",
       "                   device  user_type  \n",
       "0  dell inspiron notebook        3.0  \n",
       "1  dell inspiron notebook        3.0  \n",
       "2  dell inspiron notebook        3.0  \n",
       "3  dell inspiron notebook        3.0  \n",
       "4  dell inspiron notebook        3.0  "
      ]
     },
     "execution_count": 11,
     "metadata": {},
     "output_type": "execute_result"
    }
   ],
   "source": [
    "events.head()"
   ]
  },
  {
   "cell_type": "code",
   "execution_count": 12,
   "metadata": {},
   "outputs": [],
   "source": [
    "events['occurred_at'] = pd.to_datetime(events['occurred_at'])"
   ]
  },
  {
   "cell_type": "code",
   "execution_count": 13,
   "metadata": {},
   "outputs": [],
   "source": [
    "events['week'] = events['occurred_at'].dt.week\n",
    "events['month'] = events['occurred_at'].dt.month"
   ]
  },
  {
   "cell_type": "code",
   "execution_count": 14,
   "metadata": {},
   "outputs": [
    {
     "data": {
      "text/plain": [
       "321575"
      ]
     },
     "execution_count": 14,
     "metadata": {},
     "output_type": "execute_result"
    }
   ],
   "source": [
    "sum(events['event_type']=='engagement')"
   ]
  },
  {
   "cell_type": "code",
   "execution_count": null,
   "metadata": {},
   "outputs": [],
   "source": []
  },
  {
   "cell_type": "code",
   "execution_count": 15,
   "metadata": {},
   "outputs": [],
   "source": [
    "aggregation = {'user_id':{'total_users':lambda x:x.nunique()}}\n",
    "user_id_gb = events[events['event_type']=='engagement'].groupby(by=['user_id', 'week']).agg(aggregation)\n",
    "week_gb = events[events['event_type']=='engagement'].groupby(by='week').agg(aggregation)\n",
    "week_gb['week']= week_gb.index\n",
    "week_gb['users'] = week_gb.iloc[:,0]\n",
    "week_gb"
   ]
  },
  {
   "cell_type": "code",
   "execution_count": 133,
   "metadata": {},
   "outputs": [
    {
     "data": {
      "text/plain": [
       "([<matplotlib.axis.XTick at 0x204bc7d7f60>,\n",
       "  <matplotlib.axis.XTick at 0x204bc7d7438>,\n",
       "  <matplotlib.axis.XTick at 0x204bc7d7198>,\n",
       "  <matplotlib.axis.XTick at 0x204b92d76a0>,\n",
       "  <matplotlib.axis.XTick at 0x204bc7ddd30>,\n",
       "  <matplotlib.axis.XTick at 0x204bad6e0b8>,\n",
       "  <matplotlib.axis.XTick at 0x204bad600b8>,\n",
       "  <matplotlib.axis.XTick at 0x204bad4ada0>,\n",
       "  <matplotlib.axis.XTick at 0x204bc7b6e48>,\n",
       "  <matplotlib.axis.XTick at 0x204bb65d358>,\n",
       "  <matplotlib.axis.XTick at 0x204bb65d828>,\n",
       "  <matplotlib.axis.XTick at 0x204bb65dcf8>,\n",
       "  <matplotlib.axis.XTick at 0x204bb656208>,\n",
       "  <matplotlib.axis.XTick at 0x204bb6566d8>,\n",
       "  <matplotlib.axis.XTick at 0x204bb65d438>,\n",
       "  <matplotlib.axis.XTick at 0x204bad43860>,\n",
       "  <matplotlib.axis.XTick at 0x204bb6561d0>,\n",
       "  <matplotlib.axis.XTick at 0x204bb656cf8>],\n",
       " <a list of 18 Text xticklabel objects>)"
      ]
     },
     "execution_count": 133,
     "metadata": {},
     "output_type": "execute_result"
    },
    {
     "data": {
      "image/png": "[encoded data removed]",
      "text/plain": [
       "<Figure size 936x576 with 1 Axes>"
      ]
     },
     "metadata": {
      "needs_background": "light"
     },
     "output_type": "display_data"
    }
   ],
   "source": [
    "plt.figure(figsize=(13,8))\n",
    "plt.plot(week_gb['week'], week_gb['users'])\n",
    "plt.xlabel('Week Number')\n",
    "plt.ylabel('Total Engagement')\n",
    "plt.xticks(range(18,36))"
   ]
  },
  {
   "cell_type": "markdown",
   "metadata": {},
   "source": [
    "### So as we see in the plot above, there is a drop on people engagement after week 31 (start of AUG). Now, we want to test if this drop is significantly high compared to the previous weeks.\n",
    "### I did one way t test to see if the number of engagements after week 31 is significantly lower than the number of engagements the month before August.\n",
    "\n",
    "### $H_0$ : $\\mu_0 \\leq \\mu_1$\n",
    "### $H_1$ : $\\mu_0 > \\mu_1$"
   ]
  },
  {
   "cell_type": "code",
   "execution_count": 134,
   "metadata": {},
   "outputs": [],
   "source": [
    "mod1= week_gb[(week_gb['week']<=31) & (week_gb['week']>=27)]\n",
    "mod2 = week_gb[week_gb['week']>31]"
   ]
  },
  {
   "cell_type": "code",
   "execution_count": 138,
   "metadata": {},
   "outputs": [
    {
     "name": "stdout",
     "output_type": "stream",
     "text": [
      "We reject h null, which we conclude that there is a significant drop after week 31\n"
     ]
    }
   ],
   "source": [
    "scipy.stats.ttest_ind(mod1['users'], mod2['users'], equal_var=True)\n",
    "result = scipy.stats.ttest_ind(mod1['users'], mod2['users'])[0]\n",
    "p_value = scipy.stats.ttest_ind(mod1['users'], mod2['users'])[1]\n",
    "\n",
    "if (result>0) and (p_value/2 < 0.05):\n",
    "    print('We reject h null, which we conclude that there is a significant drop after week 31')\n",
    "else:\n",
    "    print('We accept h_null')"
   ]
  },
  {
   "cell_type": "markdown",
   "metadata": {},
   "source": [
    "### Conclusion: we conclude that there is drop in employees' engagement."
   ]
  },
  {
   "cell_type": "markdown",
   "metadata": {},
   "source": []
  },
  {
   "cell_type": "code",
   "execution_count": 28,
   "metadata": {},
   "outputs": [],
   "source": [
    "aggregation = {'user_id':{'total_users':lambda x:x.nunique()}}"
   ]
  },
  {
   "cell_type": "code",
   "execution_count": 29,
   "metadata": {},
   "outputs": [
    {
     "name": "stderr",
     "output_type": "stream",
     "text": [
      "C:\\Users\\pouya\\Anaconda3\\lib\\site-packages\\pandas\\core\\groupby\\groupby.py:4656: FutureWarning: using a dict with renaming is deprecated and will be removed in a future version\n",
      "  return super(DataFrameGroupBy, self).aggregate(arg, *args, **kwargs)\n"
     ]
    }
   ],
   "source": [
    "month_gb = events[events['event_type']=='engagement'].groupby(by='month').agg(aggregation)"
   ]
  },
  {
   "cell_type": "code",
   "execution_count": 30,
   "metadata": {},
   "outputs": [],
   "source": [
    "month_gb['month'] = ['May', 'June', 'July', 'Aug']\n",
    "month_gb['num_activity'] = month_gb.iloc[:,0]"
   ]
  },
  {
   "cell_type": "code",
   "execution_count": 31,
   "metadata": {},
   "outputs": [
    {
     "data": {
      "text/html": [
       "<div>\n",
       "<style scoped>\n",
       "    .dataframe tbody tr th:only-of-type {\n",
       "        vertical-align: middle;\n",
       "    }\n",
       "\n",
       "    .dataframe tbody tr th {\n",
       "        vertical-align: top;\n",
       "    }\n",
       "\n",
       "    .dataframe thead tr th {\n",
       "        text-align: left;\n",
       "    }\n",
       "\n",
       "    .dataframe thead tr:last-of-type th {\n",
       "        text-align: right;\n",
       "    }\n",
       "</style>\n",
       "<table border=\"1\" class=\"dataframe\">\n",
       "  <thead>\n",
       "    <tr>\n",
       "      <th></th>\n",
       "      <th>user_id</th>\n",
       "      <th>month</th>\n",
       "      <th>num_activity</th>\n",
       "    </tr>\n",
       "    <tr>\n",
       "      <th></th>\n",
       "      <th>total_users</th>\n",
       "      <th></th>\n",
       "      <th></th>\n",
       "    </tr>\n",
       "    <tr>\n",
       "      <th>month</th>\n",
       "      <th></th>\n",
       "      <th></th>\n",
       "      <th></th>\n",
       "    </tr>\n",
       "  </thead>\n",
       "  <tbody>\n",
       "    <tr>\n",
       "      <th>5</th>\n",
       "      <td>2361.0</td>\n",
       "      <td>May</td>\n",
       "      <td>2361.0</td>\n",
       "    </tr>\n",
       "    <tr>\n",
       "      <th>6</th>\n",
       "      <td>2605.0</td>\n",
       "      <td>June</td>\n",
       "      <td>2605.0</td>\n",
       "    </tr>\n",
       "    <tr>\n",
       "      <th>7</th>\n",
       "      <td>3058.0</td>\n",
       "      <td>July</td>\n",
       "      <td>3058.0</td>\n",
       "    </tr>\n",
       "    <tr>\n",
       "      <th>8</th>\n",
       "      <td>2795.0</td>\n",
       "      <td>Aug</td>\n",
       "      <td>2795.0</td>\n",
       "    </tr>\n",
       "  </tbody>\n",
       "</table>\n",
       "</div>"
      ],
      "text/plain": [
       "          user_id month num_activity\n",
       "      total_users                   \n",
       "month                               \n",
       "5          2361.0   May       2361.0\n",
       "6          2605.0  June       2605.0\n",
       "7          3058.0  July       3058.0\n",
       "8          2795.0   Aug       2795.0"
      ]
     },
     "execution_count": 31,
     "metadata": {},
     "output_type": "execute_result"
    }
   ],
   "source": [
    "month_gb"
   ]
  },
  {
   "cell_type": "code",
   "execution_count": 32,
   "metadata": {},
   "outputs": [
    {
     "data": {
      "text/plain": [
       "<matplotlib.collections.PathCollection at 0x204b8169f28>"
      ]
     },
     "execution_count": 32,
     "metadata": {},
     "output_type": "execute_result"
    },
    {
     "data": {
      "image/png": "[encoded data removed]",
      "text/plain": [
       "<Figure size 432x288 with 1 Axes>"
      ]
     },
     "metadata": {
      "needs_background": "light"
     },
     "output_type": "display_data"
    }
   ],
   "source": [
    "plt.scatter(month_gb['month'], month_gb['num_activity'])"
   ]
  },
  {
   "cell_type": "code",
   "execution_count": 33,
   "metadata": {},
   "outputs": [],
   "source": [
    "mod1_month = month_gb[month_gb['month']=='July']\n",
    "mod2_month = month_gb[month_gb['month']=='Aug']"
   ]
  },
  {
   "cell_type": "code",
   "execution_count": null,
   "metadata": {},
   "outputs": [],
   "source": []
  },
  {
   "cell_type": "code",
   "execution_count": null,
   "metadata": {},
   "outputs": [],
   "source": []
  },
  {
   "cell_type": "code",
   "execution_count": null,
   "metadata": {},
   "outputs": [],
   "source": []
  },
  {
   "cell_type": "markdown",
   "metadata": {},
   "source": [
    "## Now let's take a look at the ratio of number of engaged users to number of activated users"
   ]
  },
  {
   "cell_type": "code",
   "execution_count": 140,
   "metadata": {},
   "outputs": [
    {
     "data": {
      "text/html": [
       "<div>\n",
       "<style scoped>\n",
       "    .dataframe tbody tr th:only-of-type {\n",
       "        vertical-align: middle;\n",
       "    }\n",
       "\n",
       "    .dataframe tbody tr th {\n",
       "        vertical-align: top;\n",
       "    }\n",
       "\n",
       "    .dataframe thead th {\n",
       "        text-align: right;\n",
       "    }\n",
       "</style>\n",
       "<table border=\"1\" class=\"dataframe\">\n",
       "  <thead>\n",
       "    <tr style=\"text-align: right;\">\n",
       "      <th></th>\n",
       "      <th>user_id</th>\n",
       "      <th>created_at</th>\n",
       "      <th>company_id</th>\n",
       "      <th>language</th>\n",
       "      <th>activated_at</th>\n",
       "      <th>state</th>\n",
       "      <th>week_activated</th>\n",
       "      <th>week_created</th>\n",
       "    </tr>\n",
       "  </thead>\n",
       "  <tbody>\n",
       "    <tr>\n",
       "      <th>0</th>\n",
       "      <td>0.0</td>\n",
       "      <td>2013-01-01 20:59:39</td>\n",
       "      <td>5737.0</td>\n",
       "      <td>english</td>\n",
       "      <td>2013-01-01 21:01:07</td>\n",
       "      <td>active</td>\n",
       "      <td>1.0</td>\n",
       "      <td>1</td>\n",
       "    </tr>\n",
       "    <tr>\n",
       "      <th>1</th>\n",
       "      <td>1.0</td>\n",
       "      <td>2013-01-01 13:07:46</td>\n",
       "      <td>28.0</td>\n",
       "      <td>english</td>\n",
       "      <td>NaT</td>\n",
       "      <td>pending</td>\n",
       "      <td>NaN</td>\n",
       "      <td>1</td>\n",
       "    </tr>\n",
       "    <tr>\n",
       "      <th>2</th>\n",
       "      <td>2.0</td>\n",
       "      <td>2013-01-01 10:59:05</td>\n",
       "      <td>51.0</td>\n",
       "      <td>english</td>\n",
       "      <td>NaT</td>\n",
       "      <td>pending</td>\n",
       "      <td>NaN</td>\n",
       "      <td>1</td>\n",
       "    </tr>\n",
       "    <tr>\n",
       "      <th>3</th>\n",
       "      <td>3.0</td>\n",
       "      <td>2013-01-01 18:40:36</td>\n",
       "      <td>2800.0</td>\n",
       "      <td>german</td>\n",
       "      <td>2013-01-01 18:42:02</td>\n",
       "      <td>active</td>\n",
       "      <td>1.0</td>\n",
       "      <td>1</td>\n",
       "    </tr>\n",
       "    <tr>\n",
       "      <th>4</th>\n",
       "      <td>4.0</td>\n",
       "      <td>2013-01-01 14:37:51</td>\n",
       "      <td>5110.0</td>\n",
       "      <td>indian</td>\n",
       "      <td>2013-01-01 14:39:05</td>\n",
       "      <td>active</td>\n",
       "      <td>1.0</td>\n",
       "      <td>1</td>\n",
       "    </tr>\n",
       "  </tbody>\n",
       "</table>\n",
       "</div>"
      ],
      "text/plain": [
       "   user_id          created_at  company_id language        activated_at  \\\n",
       "0      0.0 2013-01-01 20:59:39      5737.0  english 2013-01-01 21:01:07   \n",
       "1      1.0 2013-01-01 13:07:46        28.0  english                 NaT   \n",
       "2      2.0 2013-01-01 10:59:05        51.0  english                 NaT   \n",
       "3      3.0 2013-01-01 18:40:36      2800.0   german 2013-01-01 18:42:02   \n",
       "4      4.0 2013-01-01 14:37:51      5110.0   indian 2013-01-01 14:39:05   \n",
       "\n",
       "     state  week_activated  week_created  \n",
       "0   active             1.0             1  \n",
       "1  pending             NaN             1  \n",
       "2  pending             NaN             1  \n",
       "3   active             1.0             1  \n",
       "4   active             1.0             1  "
      ]
     },
     "execution_count": 140,
     "metadata": {},
     "output_type": "execute_result"
    }
   ],
   "source": [
    "users.head()"
   ]
  },
  {
   "cell_type": "code",
   "execution_count": 35,
   "metadata": {},
   "outputs": [],
   "source": [
    "users['activated_at'] = pd.to_datetime(users['activated_at'])\n",
    "users['created_at'] = pd.to_datetime(users['created_at'])\n",
    "users['week_activated'] = users['activated_at'].dt.week\n",
    "users['week_created'] = users['created_at'].dt.week"
   ]
  },
  {
   "cell_type": "code",
   "execution_count": 141,
   "metadata": {},
   "outputs": [],
   "source": [
    "aggregation = {'user_id':{'total_users':lambda x:x.nunique()}}"
   ]
  },
  {
   "cell_type": "code",
   "execution_count": 142,
   "metadata": {},
   "outputs": [
    {
     "name": "stderr",
     "output_type": "stream",
     "text": [
      "C:\\Users\\pouya\\Anaconda3\\lib\\site-packages\\pandas\\core\\groupby\\groupby.py:4656: FutureWarning: using a dict with renaming is deprecated and will be removed in a future version\n",
      "  return super(DataFrameGroupBy, self).aggregate(arg, *args, **kwargs)\n"
     ]
    }
   ],
   "source": [
    "user_week_activated = users[(users['week_activated']<=35)].groupby(by='week_activated').agg(aggregation)"
   ]
  },
  {
   "cell_type": "code",
   "execution_count": 143,
   "metadata": {
    "scrolled": true
   },
   "outputs": [],
   "source": [
    "user_week_activated = user_week_activated[user_week_activated.index>=18]"
   ]
  },
  {
   "cell_type": "code",
   "execution_count": 144,
   "metadata": {},
   "outputs": [
    {
     "data": {
      "text/plain": [
       "([<matplotlib.axis.XTick at 0x204bc894c50>,\n",
       "  <matplotlib.axis.XTick at 0x204bb68b0b8>,\n",
       "  <matplotlib.axis.XTick at 0x204bc7dcef0>,\n",
       "  <matplotlib.axis.XTick at 0x204bc87dcf8>,\n",
       "  <matplotlib.axis.XTick at 0x204bc8731d0>,\n",
       "  <matplotlib.axis.XTick at 0x204bc8736a0>,\n",
       "  <matplotlib.axis.XTick at 0x204bc873b70>,\n",
       "  <matplotlib.axis.XTick at 0x204bc86e0f0>,\n",
       "  <matplotlib.axis.XTick at 0x204bc86e550>,\n",
       "  <matplotlib.axis.XTick at 0x204bc8739e8>,\n",
       "  <matplotlib.axis.XTick at 0x204bc87dc50>,\n",
       "  <matplotlib.axis.XTick at 0x204bc86e4a8>,\n",
       "  <matplotlib.axis.XTick at 0x204bc863160>,\n",
       "  <matplotlib.axis.XTick at 0x204bc8635c0>,\n",
       "  <matplotlib.axis.XTick at 0x204bc863a90>,\n",
       "  <matplotlib.axis.XTick at 0x204bc863f60>,\n",
       "  <matplotlib.axis.XTick at 0x204bc81c470>,\n",
       "  <matplotlib.axis.XTick at 0x204bc81c940>],\n",
       " <a list of 18 Text xticklabel objects>)"
      ]
     },
     "execution_count": 144,
     "metadata": {},
     "output_type": "execute_result"
    },
    {
     "data": {
      "image/png": "[encoded data removed]",
      "text/plain": [
       "<Figure size 1008x720 with 1 Axes>"
      ]
     },
     "metadata": {
      "needs_background": "light"
     },
     "output_type": "display_data"
    }
   ],
   "source": [
    "plt.figure(figsize=(14,10))\n",
    "plt.plot(user_week_activated)\n",
    "plt.xticks(range(18,36))"
   ]
  },
  {
   "cell_type": "markdown",
   "metadata": {},
   "source": [
    "### As seen in the plot above, the number of people who created and activated their account decreases on week 32. That might be one of the reasons for engagement drops"
   ]
  },
  {
   "cell_type": "code",
   "execution_count": null,
   "metadata": {},
   "outputs": [],
   "source": []
  },
  {
   "cell_type": "markdown",
   "metadata": {},
   "source": [
    "## Now let's take a look at the ratio of number of engaged users to number of activated users\n",
    "\n",
    "ratio = $ numEngagedUsers / numActiveUsers$\n",
    "\n",
    "### Hypothesis: \n",
    "## $\\mu_{July} > \\mu_{Aug}$"
   ]
  },
  {
   "cell_type": "code",
   "execution_count": 145,
   "metadata": {},
   "outputs": [],
   "source": [
    "user_week_activated['week'] = user_week_activated.index\n",
    "user_week_activated['num_active'] = user_week_activated.iloc[:,0]\n",
    "user_week_activated['num_active'] = user_week_activated['num_active'].cumsum()"
   ]
  },
  {
   "cell_type": "code",
   "execution_count": 147,
   "metadata": {},
   "outputs": [
    {
     "data": {
      "text/plain": [
       "week_activated\n",
       "18.0     220.0\n",
       "19.0     425.0\n",
       "20.0     666.0\n",
       "21.0     884.0\n",
       "22.0    1119.0\n",
       "23.0    1367.0\n",
       "24.0    1616.0\n",
       "25.0    1884.0\n",
       "26.0    2151.0\n",
       "27.0    2407.0\n",
       "28.0    2682.0\n",
       "29.0    2968.0\n",
       "30.0    3262.0\n",
       "31.0    3565.0\n",
       "32.0    3820.0\n",
       "33.0    4143.0\n",
       "34.0    4472.0\n",
       "35.0    4818.0\n",
       "Name: num_active, dtype: float64"
      ]
     },
     "execution_count": 147,
     "metadata": {},
     "output_type": "execute_result"
    }
   ],
   "source": [
    "user_week_activated['num_active']"
   ]
  },
  {
   "cell_type": "code",
   "execution_count": 153,
   "metadata": {},
   "outputs": [],
   "source": [
    "group1 = user_week_activated[(user_week_activated['week']<=31) & (user_week_activated['week']>=27)]\n",
    "group2 = user_week_activated[user_week_activated['week']>31]\n",
    "mod11 = mod1['users']/group1['num_active']\n",
    "mod22 = mod2['users']/group2['num_active']"
   ]
  },
  {
   "cell_type": "code",
   "execution_count": 154,
   "metadata": {},
   "outputs": [
    {
     "data": {
      "text/plain": [
       "Ttest_indResult(statistic=5.608641942320349, pvalue=0.0008086093569188335)"
      ]
     },
     "execution_count": 154,
     "metadata": {},
     "output_type": "execute_result"
    }
   ],
   "source": [
    "scipy.stats.ttest_ind(mod11, mod22)"
   ]
  },
  {
   "cell_type": "markdown",
   "metadata": {},
   "source": [
    "### Here the conclusion is that by looking at the number of active users, the t test becomes more powerful in rejecting the null hypothesis. Thus, There is a significant drop in number of engagements"
   ]
  },
  {
   "cell_type": "code",
   "execution_count": null,
   "metadata": {},
   "outputs": [],
   "source": []
  },
  {
   "cell_type": "markdown",
   "metadata": {},
   "source": [
    "## ASSUMPTION: I assume that people who activate their account are more likely to be engaged more during the first weeks\n",
    "\n",
    "## Let's take a look at the engagement of people who activated their account on week 18"
   ]
  },
  {
   "cell_type": "code",
   "execution_count": 155,
   "metadata": {},
   "outputs": [
    {
     "name": "stderr",
     "output_type": "stream",
     "text": [
      "C:\\Users\\pouya\\Anaconda3\\lib\\site-packages\\pandas\\core\\groupby\\groupby.py:4656: FutureWarning: using a dict with renaming is deprecated and will be removed in a future version\n",
      "  return super(DataFrameGroupBy, self).aggregate(arg, *args, **kwargs)\n"
     ]
    }
   ],
   "source": [
    "week_18_activated = users[users['week_activated'] == 18]['user_id']\n",
    "week_18_engaged = [i for i in set(events['user_id']) if i in list(week_18_activated.index)]\n",
    "aggregation = {'event_type':{'engagement':'count'}}\n",
    "week18_engagedin_week18 = events[events['user_id'].isin(week_18_engaged)].groupby(by=['week']).agg(aggregation)"
   ]
  },
  {
   "cell_type": "code",
   "execution_count": 162,
   "metadata": {
    "scrolled": true
   },
   "outputs": [
    {
     "data": {
      "text/plain": [
       "Text(0.5, 1.0, 'Enagement of employees who activated on week 18')"
      ]
     },
     "execution_count": 162,
     "metadata": {},
     "output_type": "execute_result"
    },
    {
     "data": {
      "image/png": "[encoded data removed]",
      "text/plain": [
       "<Figure size 432x288 with 1 Axes>"
      ]
     },
     "metadata": {
      "needs_background": "light"
     },
     "output_type": "display_data"
    }
   ],
   "source": [
    "plt.plot(week18_engagedin_week18)\n",
    "plt.ylabel('Total enagement')\n",
    "plt.xlabel('Week Number')\n",
    "plt.title('Enagement of employees who activated on week 18')"
   ]
  },
  {
   "cell_type": "markdown",
   "metadata": {},
   "source": [
    "## let's take a look at people who activated on week 20"
   ]
  },
  {
   "cell_type": "code",
   "execution_count": 157,
   "metadata": {},
   "outputs": [],
   "source": [
    "week_20_activated = users[users['week_activated'] == 20]['user_id']\n",
    "week_20_engaged = [i for i in set(events['user_id']) if i in list(week_20_activated.index)]\n",
    "week20_engagedin_weeks = events[(events['user_id'].isin(week_20_engaged)) & (events['week']>=20)].groupby(by=['week']).agg(aggregation)"
   ]
  },
  {
   "cell_type": "code",
   "execution_count": 165,
   "metadata": {},
   "outputs": [
    {
     "data": {
      "text/plain": [
       "Text(0.5, 1.0, 'Enagement of employees who activated on week 20')"
      ]
     },
     "execution_count": 165,
     "metadata": {},
     "output_type": "execute_result"
    },
    {
     "data": {
      "image/png": "[encoded data removed]",
      "text/plain": [
       "<Figure size 432x288 with 1 Axes>"
      ]
     },
     "metadata": {
      "needs_background": "light"
     },
     "output_type": "display_data"
    }
   ],
   "source": [
    "plt.plot(week20_engagedin_weeks)\n",
    "plt.xlabel('Week Number')\n",
    "plt.ylabel('Total Engagement')\n",
    "plt.title('Enagement of employees who activated on week 20')"
   ]
  },
  {
   "cell_type": "markdown",
   "metadata": {},
   "source": [
    "## week 27"
   ]
  },
  {
   "cell_type": "code",
   "execution_count": 159,
   "metadata": {},
   "outputs": [],
   "source": [
    "week_27_activated = users[users['week_activated'] == 27]['user_id']\n",
    "week_27_engaged = [i for i in set(events['user_id']) if i in list(week_27_activated.index)]\n",
    "week27_engagedin_weeks = events[(events['user_id'].isin(week_27_engaged)) & (events['week']>=27)].groupby(by=['week']).agg(aggregation)"
   ]
  },
  {
   "cell_type": "code",
   "execution_count": 166,
   "metadata": {},
   "outputs": [
    {
     "data": {
      "text/plain": [
       "Text(0.5, 1.0, 'Enagement of employees who activated on week 27')"
      ]
     },
     "execution_count": 166,
     "metadata": {},
     "output_type": "execute_result"
    },
    {
     "data": {
      "image/png": "[encoded data removed]",
      "text/plain": [
       "<Figure size 432x288 with 1 Axes>"
      ]
     },
     "metadata": {
      "needs_background": "light"
     },
     "output_type": "display_data"
    }
   ],
   "source": [
    "plt.plot(week27_engagedin_weeks)\n",
    "plt.xlabel('Week Number')\n",
    "plt.ylabel('Total engagement')\n",
    "plt.title('Enagement of employees who activated on week 27')"
   ]
  },
  {
   "cell_type": "markdown",
   "metadata": {},
   "source": [
    "#### Conclusion: These plots show that the engagement of people drops significantly in time after they activate their account\n",
    "#### with that being said, one of the reasons for low engagement can be the drop of activation on the first week of AUG"
   ]
  },
  {
   "cell_type": "code",
   "execution_count": null,
   "metadata": {},
   "outputs": [],
   "source": []
  },
  {
   "cell_type": "code",
   "execution_count": 169,
   "metadata": {},
   "outputs": [],
   "source": [
    "df = pd.merge(events, users, how='inner', on='user_id')\n",
    "df2= pd.merge(df, email, on='user_id')"
   ]
  },
  {
   "cell_type": "code",
   "execution_count": 173,
   "metadata": {},
   "outputs": [
    {
     "data": {
      "text/html": [
       "<div>\n",
       "<style scoped>\n",
       "    .dataframe tbody tr th:only-of-type {\n",
       "        vertical-align: middle;\n",
       "    }\n",
       "\n",
       "    .dataframe tbody tr th {\n",
       "        vertical-align: top;\n",
       "    }\n",
       "\n",
       "    .dataframe thead th {\n",
       "        text-align: right;\n",
       "    }\n",
       "</style>\n",
       "<table border=\"1\" class=\"dataframe\">\n",
       "  <thead>\n",
       "    <tr style=\"text-align: right;\">\n",
       "      <th></th>\n",
       "      <th>user_id</th>\n",
       "      <th>occurred_at_x</th>\n",
       "      <th>event_type</th>\n",
       "      <th>event_name</th>\n",
       "      <th>location</th>\n",
       "      <th>device</th>\n",
       "      <th>user_type_x</th>\n",
       "      <th>week</th>\n",
       "      <th>month</th>\n",
       "      <th>created_at</th>\n",
       "      <th>company_id</th>\n",
       "      <th>language</th>\n",
       "      <th>activated_at</th>\n",
       "      <th>state</th>\n",
       "      <th>week_activated</th>\n",
       "      <th>week_created</th>\n",
       "      <th>occurred_at_y</th>\n",
       "      <th>action</th>\n",
       "      <th>user_type_y</th>\n",
       "    </tr>\n",
       "  </thead>\n",
       "  <tbody>\n",
       "    <tr>\n",
       "      <th>0</th>\n",
       "      <td>10522.0</td>\n",
       "      <td>2014-05-02 11:02:39</td>\n",
       "      <td>engagement</td>\n",
       "      <td>login</td>\n",
       "      <td>Japan</td>\n",
       "      <td>dell inspiron notebook</td>\n",
       "      <td>3.0</td>\n",
       "      <td>18</td>\n",
       "      <td>5</td>\n",
       "      <td>2014-04-04 16:48:03</td>\n",
       "      <td>1147.0</td>\n",
       "      <td>japanese</td>\n",
       "      <td>2014-04-04 16:49:36</td>\n",
       "      <td>active</td>\n",
       "      <td>14.0</td>\n",
       "      <td>14</td>\n",
       "      <td>2014-05-02 09:30:00</td>\n",
       "      <td>sent_weekly_digest</td>\n",
       "      <td>3.0</td>\n",
       "    </tr>\n",
       "    <tr>\n",
       "      <th>1</th>\n",
       "      <td>10522.0</td>\n",
       "      <td>2014-05-02 11:02:39</td>\n",
       "      <td>engagement</td>\n",
       "      <td>login</td>\n",
       "      <td>Japan</td>\n",
       "      <td>dell inspiron notebook</td>\n",
       "      <td>3.0</td>\n",
       "      <td>18</td>\n",
       "      <td>5</td>\n",
       "      <td>2014-04-04 16:48:03</td>\n",
       "      <td>1147.0</td>\n",
       "      <td>japanese</td>\n",
       "      <td>2014-04-04 16:49:36</td>\n",
       "      <td>active</td>\n",
       "      <td>14.0</td>\n",
       "      <td>14</td>\n",
       "      <td>2014-05-02 09:30:29</td>\n",
       "      <td>email_open</td>\n",
       "      <td>3.0</td>\n",
       "    </tr>\n",
       "    <tr>\n",
       "      <th>2</th>\n",
       "      <td>10522.0</td>\n",
       "      <td>2014-05-02 11:02:39</td>\n",
       "      <td>engagement</td>\n",
       "      <td>login</td>\n",
       "      <td>Japan</td>\n",
       "      <td>dell inspiron notebook</td>\n",
       "      <td>3.0</td>\n",
       "      <td>18</td>\n",
       "      <td>5</td>\n",
       "      <td>2014-04-04 16:48:03</td>\n",
       "      <td>1147.0</td>\n",
       "      <td>japanese</td>\n",
       "      <td>2014-04-04 16:49:36</td>\n",
       "      <td>active</td>\n",
       "      <td>14.0</td>\n",
       "      <td>14</td>\n",
       "      <td>2014-05-09 09:30:00</td>\n",
       "      <td>sent_weekly_digest</td>\n",
       "      <td>3.0</td>\n",
       "    </tr>\n",
       "    <tr>\n",
       "      <th>3</th>\n",
       "      <td>10522.0</td>\n",
       "      <td>2014-05-02 11:02:39</td>\n",
       "      <td>engagement</td>\n",
       "      <td>login</td>\n",
       "      <td>Japan</td>\n",
       "      <td>dell inspiron notebook</td>\n",
       "      <td>3.0</td>\n",
       "      <td>18</td>\n",
       "      <td>5</td>\n",
       "      <td>2014-04-04 16:48:03</td>\n",
       "      <td>1147.0</td>\n",
       "      <td>japanese</td>\n",
       "      <td>2014-04-04 16:49:36</td>\n",
       "      <td>active</td>\n",
       "      <td>14.0</td>\n",
       "      <td>14</td>\n",
       "      <td>2014-05-16 09:30:00</td>\n",
       "      <td>sent_weekly_digest</td>\n",
       "      <td>3.0</td>\n",
       "    </tr>\n",
       "    <tr>\n",
       "      <th>4</th>\n",
       "      <td>10522.0</td>\n",
       "      <td>2014-05-02 11:02:39</td>\n",
       "      <td>engagement</td>\n",
       "      <td>login</td>\n",
       "      <td>Japan</td>\n",
       "      <td>dell inspiron notebook</td>\n",
       "      <td>3.0</td>\n",
       "      <td>18</td>\n",
       "      <td>5</td>\n",
       "      <td>2014-04-04 16:48:03</td>\n",
       "      <td>1147.0</td>\n",
       "      <td>japanese</td>\n",
       "      <td>2014-04-04 16:49:36</td>\n",
       "      <td>active</td>\n",
       "      <td>14.0</td>\n",
       "      <td>14</td>\n",
       "      <td>2014-05-23 09:30:00</td>\n",
       "      <td>sent_weekly_digest</td>\n",
       "      <td>3.0</td>\n",
       "    </tr>\n",
       "  </tbody>\n",
       "</table>\n",
       "</div>"
      ],
      "text/plain": [
       "   user_id       occurred_at_x  event_type event_name location  \\\n",
       "0  10522.0 2014-05-02 11:02:39  engagement      login    Japan   \n",
       "1  10522.0 2014-05-02 11:02:39  engagement      login    Japan   \n",
       "2  10522.0 2014-05-02 11:02:39  engagement      login    Japan   \n",
       "3  10522.0 2014-05-02 11:02:39  engagement      login    Japan   \n",
       "4  10522.0 2014-05-02 11:02:39  engagement      login    Japan   \n",
       "\n",
       "                   device  user_type_x  week  month          created_at  \\\n",
       "0  dell inspiron notebook          3.0    18      5 2014-04-04 16:48:03   \n",
       "1  dell inspiron notebook          3.0    18      5 2014-04-04 16:48:03   \n",
       "2  dell inspiron notebook          3.0    18      5 2014-04-04 16:48:03   \n",
       "3  dell inspiron notebook          3.0    18      5 2014-04-04 16:48:03   \n",
       "4  dell inspiron notebook          3.0    18      5 2014-04-04 16:48:03   \n",
       "\n",
       "   company_id  language        activated_at   state  week_activated  \\\n",
       "0      1147.0  japanese 2014-04-04 16:49:36  active            14.0   \n",
       "1      1147.0  japanese 2014-04-04 16:49:36  active            14.0   \n",
       "2      1147.0  japanese 2014-04-04 16:49:36  active            14.0   \n",
       "3      1147.0  japanese 2014-04-04 16:49:36  active            14.0   \n",
       "4      1147.0  japanese 2014-04-04 16:49:36  active            14.0   \n",
       "\n",
       "   week_created        occurred_at_y              action  user_type_y  \n",
       "0            14  2014-05-02 09:30:00  sent_weekly_digest          3.0  \n",
       "1            14  2014-05-02 09:30:29          email_open          3.0  \n",
       "2            14  2014-05-09 09:30:00  sent_weekly_digest          3.0  \n",
       "3            14  2014-05-16 09:30:00  sent_weekly_digest          3.0  \n",
       "4            14  2014-05-23 09:30:00  sent_weekly_digest          3.0  "
      ]
     },
     "execution_count": 173,
     "metadata": {},
     "output_type": "execute_result"
    }
   ],
   "source": [
    "df2.head()"
   ]
  },
  {
   "cell_type": "code",
   "execution_count": null,
   "metadata": {},
   "outputs": [],
   "source": [
    "aggregation = {'user_id':{'total_engagement':lambda x:x.nunique()},\n",
    "              'location':{'location':lambda x:x.value_counts().index[0]},\n",
    "               'device':{'device': lambda x:x.value_counts().index[0]},\n",
    "              'company_id':{'company': lambda x:x.value_counts().index[0]}}"
   ]
  },
  {
   "cell_type": "code",
   "execution_count": null,
   "metadata": {},
   "outputs": [],
   "source": []
  },
  {
   "cell_type": "code",
   "execution_count": null,
   "metadata": {},
   "outputs": [],
   "source": []
  },
  {
   "cell_type": "code",
   "execution_count": 177,
   "metadata": {},
   "outputs": [],
   "source": [
    "aggregation = {'user_id':{'total_engagement':lambda x:x.nunique()},\n",
    "              'location':{'location':lambda x:x.value_counts().index[0]},\n",
    "               'device':{'device': lambda x:x.value_counts().index[0]},\n",
    "              'company_id':{'company': lambda x:x.value_counts().index[0]}}\n",
    "\n",
    "week_gb = df2[df2['event_type']=='engagement'].groupby(by='week').agg(aggregation)"
   ]
  },
  {
   "cell_type": "code",
   "execution_count": 178,
   "metadata": {},
   "outputs": [
    {
     "data": {
      "text/html": [
       "<div>\n",
       "<style scoped>\n",
       "    .dataframe tbody tr th:only-of-type {\n",
       "        vertical-align: middle;\n",
       "    }\n",
       "\n",
       "    .dataframe tbody tr th {\n",
       "        vertical-align: top;\n",
       "    }\n",
       "\n",
       "    .dataframe thead tr th {\n",
       "        text-align: left;\n",
       "    }\n",
       "\n",
       "    .dataframe thead tr:last-of-type th {\n",
       "        text-align: right;\n",
       "    }\n",
       "</style>\n",
       "<table border=\"1\" class=\"dataframe\">\n",
       "  <thead>\n",
       "    <tr>\n",
       "      <th></th>\n",
       "      <th>user_id</th>\n",
       "      <th>location</th>\n",
       "      <th>device</th>\n",
       "      <th>company_id</th>\n",
       "    </tr>\n",
       "    <tr>\n",
       "      <th></th>\n",
       "      <th>total_engagement</th>\n",
       "      <th>location</th>\n",
       "      <th>device</th>\n",
       "      <th>company</th>\n",
       "    </tr>\n",
       "    <tr>\n",
       "      <th>week</th>\n",
       "      <th></th>\n",
       "      <th></th>\n",
       "      <th></th>\n",
       "      <th></th>\n",
       "    </tr>\n",
       "  </thead>\n",
       "  <tbody>\n",
       "    <tr>\n",
       "      <th>18</th>\n",
       "      <td>616.0</td>\n",
       "      <td>United States</td>\n",
       "      <td>macbook pro</td>\n",
       "      <td>1.0</td>\n",
       "    </tr>\n",
       "    <tr>\n",
       "      <th>19</th>\n",
       "      <td>967.0</td>\n",
       "      <td>United States</td>\n",
       "      <td>macbook pro</td>\n",
       "      <td>1.0</td>\n",
       "    </tr>\n",
       "    <tr>\n",
       "      <th>20</th>\n",
       "      <td>1033.0</td>\n",
       "      <td>United States</td>\n",
       "      <td>macbook pro</td>\n",
       "      <td>1.0</td>\n",
       "    </tr>\n",
       "    <tr>\n",
       "      <th>21</th>\n",
       "      <td>1113.0</td>\n",
       "      <td>United States</td>\n",
       "      <td>macbook pro</td>\n",
       "      <td>1.0</td>\n",
       "    </tr>\n",
       "    <tr>\n",
       "      <th>22</th>\n",
       "      <td>1096.0</td>\n",
       "      <td>United States</td>\n",
       "      <td>macbook pro</td>\n",
       "      <td>1.0</td>\n",
       "    </tr>\n",
       "    <tr>\n",
       "      <th>23</th>\n",
       "      <td>1164.0</td>\n",
       "      <td>United States</td>\n",
       "      <td>macbook pro</td>\n",
       "      <td>1.0</td>\n",
       "    </tr>\n",
       "    <tr>\n",
       "      <th>24</th>\n",
       "      <td>1215.0</td>\n",
       "      <td>United States</td>\n",
       "      <td>macbook pro</td>\n",
       "      <td>1.0</td>\n",
       "    </tr>\n",
       "    <tr>\n",
       "      <th>25</th>\n",
       "      <td>1261.0</td>\n",
       "      <td>United States</td>\n",
       "      <td>macbook pro</td>\n",
       "      <td>1.0</td>\n",
       "    </tr>\n",
       "    <tr>\n",
       "      <th>26</th>\n",
       "      <td>1248.0</td>\n",
       "      <td>United States</td>\n",
       "      <td>macbook pro</td>\n",
       "      <td>1.0</td>\n",
       "    </tr>\n",
       "    <tr>\n",
       "      <th>27</th>\n",
       "      <td>1270.0</td>\n",
       "      <td>United States</td>\n",
       "      <td>macbook pro</td>\n",
       "      <td>1.0</td>\n",
       "    </tr>\n",
       "    <tr>\n",
       "      <th>28</th>\n",
       "      <td>1355.0</td>\n",
       "      <td>United States</td>\n",
       "      <td>macbook pro</td>\n",
       "      <td>1.0</td>\n",
       "    </tr>\n",
       "    <tr>\n",
       "      <th>29</th>\n",
       "      <td>1345.0</td>\n",
       "      <td>United States</td>\n",
       "      <td>macbook pro</td>\n",
       "      <td>1.0</td>\n",
       "    </tr>\n",
       "    <tr>\n",
       "      <th>30</th>\n",
       "      <td>1363.0</td>\n",
       "      <td>United States</td>\n",
       "      <td>macbook pro</td>\n",
       "      <td>1.0</td>\n",
       "    </tr>\n",
       "    <tr>\n",
       "      <th>31</th>\n",
       "      <td>1443.0</td>\n",
       "      <td>United States</td>\n",
       "      <td>macbook pro</td>\n",
       "      <td>1.0</td>\n",
       "    </tr>\n",
       "    <tr>\n",
       "      <th>32</th>\n",
       "      <td>1266.0</td>\n",
       "      <td>United States</td>\n",
       "      <td>macbook pro</td>\n",
       "      <td>1.0</td>\n",
       "    </tr>\n",
       "    <tr>\n",
       "      <th>33</th>\n",
       "      <td>1215.0</td>\n",
       "      <td>United States</td>\n",
       "      <td>macbook pro</td>\n",
       "      <td>1.0</td>\n",
       "    </tr>\n",
       "    <tr>\n",
       "      <th>34</th>\n",
       "      <td>1203.0</td>\n",
       "      <td>United States</td>\n",
       "      <td>macbook pro</td>\n",
       "      <td>1.0</td>\n",
       "    </tr>\n",
       "    <tr>\n",
       "      <th>35</th>\n",
       "      <td>1076.0</td>\n",
       "      <td>United States</td>\n",
       "      <td>macbook pro</td>\n",
       "      <td>1.0</td>\n",
       "    </tr>\n",
       "  </tbody>\n",
       "</table>\n",
       "</div>"
      ],
      "text/plain": [
       "              user_id       location       device company_id\n",
       "     total_engagement       location       device    company\n",
       "week                                                        \n",
       "18              616.0  United States  macbook pro        1.0\n",
       "19              967.0  United States  macbook pro        1.0\n",
       "20             1033.0  United States  macbook pro        1.0\n",
       "21             1113.0  United States  macbook pro        1.0\n",
       "22             1096.0  United States  macbook pro        1.0\n",
       "23             1164.0  United States  macbook pro        1.0\n",
       "24             1215.0  United States  macbook pro        1.0\n",
       "25             1261.0  United States  macbook pro        1.0\n",
       "26             1248.0  United States  macbook pro        1.0\n",
       "27             1270.0  United States  macbook pro        1.0\n",
       "28             1355.0  United States  macbook pro        1.0\n",
       "29             1345.0  United States  macbook pro        1.0\n",
       "30             1363.0  United States  macbook pro        1.0\n",
       "31             1443.0  United States  macbook pro        1.0\n",
       "32             1266.0  United States  macbook pro        1.0\n",
       "33             1215.0  United States  macbook pro        1.0\n",
       "34             1203.0  United States  macbook pro        1.0\n",
       "35             1076.0  United States  macbook pro        1.0"
      ]
     },
     "execution_count": 178,
     "metadata": {},
     "output_type": "execute_result"
    }
   ],
   "source": [
    "week_gb"
   ]
  },
  {
   "cell_type": "code",
   "execution_count": null,
   "metadata": {},
   "outputs": [],
   "source": []
  }
 ],
 "metadata": {
  "kernelspec": {
   "display_name": "Python 3",
   "language": "python",
   "name": "python3"
  },
  "language_info": {
   "codemirror_mode": {
    "name": "ipython",
    "version": 3
   },
   "file_extension": ".py",
   "mimetype": "text/x-python",
   "name": "python",
   "nbconvert_exporter": "python",
   "pygments_lexer": "ipython3",
   "version": "3.7.1"
  }
 },
 "nbformat": 4,
 "nbformat_minor": 2
}
