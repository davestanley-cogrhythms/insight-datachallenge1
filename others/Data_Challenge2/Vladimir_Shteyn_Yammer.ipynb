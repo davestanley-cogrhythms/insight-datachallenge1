{
 "cells": [
  {
   "cell_type": "code",
   "execution_count": 1,
   "metadata": {},
   "outputs": [],
   "source": [
    "import matplotlib.pyplot as plt\n",
    "import numpy as np\n",
    "import os\n",
    "import pandas as pd\n",
    "\n",
    "from insight_datachallenges.week2 import DATADIR"
   ]
  },
  {
   "cell_type": "markdown",
   "metadata": {},
   "source": [
    "Overall approach\n",
    "------\n",
    "I was provided with a chart showing user engagement over calendar time, as well as server log data on each user. I noticed right away that user engagement dropped at the end of July. Is this drop significant? And, what could be the reason for it?\n",
    "\n",
    "Conclusion\n",
    "------------\n",
    "Vacation time in Europe is the likely cause of the decrease in user engagement."
   ]
  },
  {
   "cell_type": "code",
   "execution_count": 2,
   "metadata": {},
   "outputs": [],
   "source": [
    "events_csv_filename = os.path.join(DATADIR, 'yammer_events.csv')\n",
    "events = pd.read_csv(events_csv_filename)"
   ]
  },
  {
   "cell_type": "markdown",
   "metadata": {},
   "source": [
    "I wasn't sure whether user engagement events were logged by user's local time or a time of day at the server's location. To infer this, I plotted the number of users signing up for Yammer as a function of time of day. If events were logged user-local time, I'd expect them to be distributed during typical waking hours. (This assumes a uniform distribution of users across the world)."
   ]
  },
  {
   "cell_type": "code",
   "execution_count": 3,
   "metadata": {},
   "outputs": [],
   "source": [
    "events['occurred_at'] = pd.to_datetime(events['occurred_at'])\n",
    "events['occurred_at_date'] = events['occurred_at'].apply(lambda x: x.date())\n",
    "events['time_of_day'] = events['occurred_at'].apply(lambda x: x.hour)"
   ]
  },
  {
   "cell_type": "code",
   "execution_count": 4,
   "metadata": {},
   "outputs": [],
   "source": [
    "engagement_mask = events['event_type'] == 'signup_flow'"
   ]
  },
  {
   "cell_type": "code",
   "execution_count": 5,
   "metadata": {},
   "outputs": [],
   "source": [
    "event_time_groupby = events.loc[engagement_mask, :].groupby(['time_of_day'])"
   ]
  },
  {
   "cell_type": "code",
   "execution_count": 6,
   "metadata": {},
   "outputs": [
    {
     "data": {
      "text/html": [
       "<div>\n",
       "<style scoped>\n",
       "    .dataframe tbody tr th:only-of-type {\n",
       "        vertical-align: middle;\n",
       "    }\n",
       "\n",
       "    .dataframe tbody tr th {\n",
       "        vertical-align: top;\n",
       "    }\n",
       "\n",
       "    .dataframe thead th {\n",
       "        text-align: right;\n",
       "    }\n",
       "</style>\n",
       "<table border=\"1\" class=\"dataframe\">\n",
       "  <thead>\n",
       "    <tr style=\"text-align: right;\">\n",
       "      <th></th>\n",
       "      <th>user_id</th>\n",
       "      <th>occurred_at</th>\n",
       "      <th>event_type</th>\n",
       "      <th>event_name</th>\n",
       "      <th>location</th>\n",
       "      <th>device</th>\n",
       "      <th>user_type</th>\n",
       "      <th>occurred_at_date</th>\n",
       "      <th>time_of_day</th>\n",
       "    </tr>\n",
       "  </thead>\n",
       "  <tbody>\n",
       "    <tr>\n",
       "      <th>0</th>\n",
       "      <td>10522.0</td>\n",
       "      <td>2014-05-02 11:02:39</td>\n",
       "      <td>engagement</td>\n",
       "      <td>login</td>\n",
       "      <td>Japan</td>\n",
       "      <td>dell inspiron notebook</td>\n",
       "      <td>3.0</td>\n",
       "      <td>2014-05-02</td>\n",
       "      <td>11</td>\n",
       "    </tr>\n",
       "    <tr>\n",
       "      <th>1</th>\n",
       "      <td>10522.0</td>\n",
       "      <td>2014-05-02 11:02:53</td>\n",
       "      <td>engagement</td>\n",
       "      <td>home_page</td>\n",
       "      <td>Japan</td>\n",
       "      <td>dell inspiron notebook</td>\n",
       "      <td>3.0</td>\n",
       "      <td>2014-05-02</td>\n",
       "      <td>11</td>\n",
       "    </tr>\n",
       "    <tr>\n",
       "      <th>2</th>\n",
       "      <td>10522.0</td>\n",
       "      <td>2014-05-02 11:03:28</td>\n",
       "      <td>engagement</td>\n",
       "      <td>like_message</td>\n",
       "      <td>Japan</td>\n",
       "      <td>dell inspiron notebook</td>\n",
       "      <td>3.0</td>\n",
       "      <td>2014-05-02</td>\n",
       "      <td>11</td>\n",
       "    </tr>\n",
       "    <tr>\n",
       "      <th>3</th>\n",
       "      <td>10522.0</td>\n",
       "      <td>2014-05-02 11:04:09</td>\n",
       "      <td>engagement</td>\n",
       "      <td>view_inbox</td>\n",
       "      <td>Japan</td>\n",
       "      <td>dell inspiron notebook</td>\n",
       "      <td>3.0</td>\n",
       "      <td>2014-05-02</td>\n",
       "      <td>11</td>\n",
       "    </tr>\n",
       "    <tr>\n",
       "      <th>4</th>\n",
       "      <td>10522.0</td>\n",
       "      <td>2014-05-02 11:03:16</td>\n",
       "      <td>engagement</td>\n",
       "      <td>search_run</td>\n",
       "      <td>Japan</td>\n",
       "      <td>dell inspiron notebook</td>\n",
       "      <td>3.0</td>\n",
       "      <td>2014-05-02</td>\n",
       "      <td>11</td>\n",
       "    </tr>\n",
       "  </tbody>\n",
       "</table>\n",
       "</div>"
      ],
      "text/plain": [
       "   user_id         occurred_at  event_type    event_name location  \\\n",
       "0  10522.0 2014-05-02 11:02:39  engagement         login    Japan   \n",
       "1  10522.0 2014-05-02 11:02:53  engagement     home_page    Japan   \n",
       "2  10522.0 2014-05-02 11:03:28  engagement  like_message    Japan   \n",
       "3  10522.0 2014-05-02 11:04:09  engagement    view_inbox    Japan   \n",
       "4  10522.0 2014-05-02 11:03:16  engagement    search_run    Japan   \n",
       "\n",
       "                   device  user_type occurred_at_date  time_of_day  \n",
       "0  dell inspiron notebook        3.0       2014-05-02           11  \n",
       "1  dell inspiron notebook        3.0       2014-05-02           11  \n",
       "2  dell inspiron notebook        3.0       2014-05-02           11  \n",
       "3  dell inspiron notebook        3.0       2014-05-02           11  \n",
       "4  dell inspiron notebook        3.0       2014-05-02           11  "
      ]
     },
     "execution_count": 6,
     "metadata": {},
     "output_type": "execute_result"
    }
   ],
   "source": [
    "# a peek a the data (sanity check)\n",
    "events.head()"
   ]
  },
  {
   "cell_type": "markdown",
   "metadata": {},
   "source": [
    "From the plot below, it's clear sign ups occur during normal waking hours, so the `occurred_at` column is indeed user local time."
   ]
  },
  {
   "cell_type": "code",
   "execution_count": 7,
   "metadata": {},
   "outputs": [
    {
     "data": {
      "text/plain": [
       "<matplotlib.axes._subplots.AxesSubplot at 0x7f87aed75470>"
      ]
     },
     "execution_count": 7,
     "metadata": {},
     "output_type": "execute_result"
    },
    {
     "data": {
      "image/png": "[encoded data removed]",
      "text/plain": [
       "<Figure size 576x576 with 1 Axes>"
      ]
     },
     "metadata": {
      "needs_background": "light"
     },
     "output_type": "display_data"
    }
   ],
   "source": [
    "counts_time_of_day = event_time_groupby.agg('count')\n",
    "# df = counts_time_of_day.unstack(level=0)\n",
    "fig, ax = plt.subplots(1, 1, figsize=(8, 8))\n",
    "ax.set_ylabel('count', fontsize=18)\n",
    "ax.set_xlabel('time of day (24 hour scale)', fontsize=18)\n",
    "counts_time_of_day.loc[:, 'user_id'].plot(ax=ax)"
   ]
  },
  {
   "cell_type": "markdown",
   "metadata": {},
   "source": [
    "Let's just confirm the assumption that users are evenly distributed around the world. Below I've printed out the number of user events for each country."
   ]
  },
  {
   "cell_type": "code",
   "execution_count": 8,
   "metadata": {},
   "outputs": [
    {
     "data": {
      "text/plain": [
       "location\n",
       "Argentina                1717\n",
       "Australia                7494\n",
       "Austria                  2494\n",
       "Belgium                  2822\n",
       "Brazil                  11240\n",
       "Canada                   9126\n",
       "Chile                    1092\n",
       "Colombia                 1945\n",
       "Denmark                  2191\n",
       "Egypt                    2258\n",
       "Finland                  1926\n",
       "France                  17364\n",
       "Germany                 23524\n",
       "Greece                    989\n",
       "Hong Kong                1525\n",
       "India                    9620\n",
       "Indonesia                6224\n",
       "Iran                     3122\n",
       "Iraq                     1400\n",
       "Ireland                  1073\n",
       "Israel                   2130\n",
       "Italy                   11790\n",
       "Japan                   26046\n",
       "Korea                    7180\n",
       "Malaysia                 2529\n",
       "Mexico                   9106\n",
       "Netherlands              4494\n",
       "Nigeria                  1642\n",
       "Norway                   2020\n",
       "Pakistan                 1035\n",
       "Philippines              1373\n",
       "Poland                   3803\n",
       "Portugal                 1336\n",
       "Russia                  12226\n",
       "Saudi Arabia             4104\n",
       "Singapore                1497\n",
       "South Africa             2324\n",
       "Spain                    5874\n",
       "Sweden                   3901\n",
       "Switzerland              3760\n",
       "Taiwan                   3600\n",
       "Thailand                 2008\n",
       "Turkey                   2432\n",
       "United Arab Emirates     2343\n",
       "United Kingdom          16475\n",
       "United States           94728\n",
       "Venezuela                1930\n",
       "Name: user_id, dtype: int64"
      ]
     },
     "execution_count": 8,
     "metadata": {},
     "output_type": "execute_result"
    }
   ],
   "source": [
    "location_groupby = events.groupby('location')\n",
    "location_groupby.agg('count')['user_id']"
   ]
  },
  {
   "cell_type": "markdown",
   "metadata": {},
   "source": [
    "It looks like most users are from Europe, which suggests the end-of-July drop in engagement is due to Europeans going on holiday the month of August."
   ]
  },
  {
   "cell_type": "code",
   "execution_count": null,
   "metadata": {},
   "outputs": [],
   "source": []
  }
 ],
 "metadata": {
  "kernelspec": {
   "display_name": "Python (datachallenges)",
   "language": "python",
   "name": "datachallenges"
  },
  "language_info": {
   "codemirror_mode": {
    "name": "ipython",
    "version": 3
   },
   "file_extension": ".py",
   "mimetype": "text/x-python",
   "name": "python",
   "nbconvert_exporter": "python",
   "pygments_lexer": "ipython3",
   "version": "3.6.7"
  }
 },
 "nbformat": 4,
 "nbformat_minor": 2
}
